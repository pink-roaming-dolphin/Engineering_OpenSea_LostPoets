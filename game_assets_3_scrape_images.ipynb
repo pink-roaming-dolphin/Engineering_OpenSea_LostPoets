{
 "cells": [
  {
   "cell_type": "code",
   "execution_count": 14,
   "id": "1d798c3f",
   "metadata": {},
   "outputs": [],
   "source": [
    "import pandas as pd\n",
    "import requests\n",
    "import time"
   ]
  },
  {
   "cell_type": "markdown",
   "id": "6a4e8134",
   "metadata": {},
   "source": [
    "Let's load the data in, get the image_url's and scrape the images."
   ]
  },
  {
   "cell_type": "code",
   "execution_count": 11,
   "id": "3d769345",
   "metadata": {},
   "outputs": [
    {
     "data": {
      "text/html": [
       "<div>\n",
       "<style scoped>\n",
       "    .dataframe tbody tr th:only-of-type {\n",
       "        vertical-align: middle;\n",
       "    }\n",
       "\n",
       "    .dataframe tbody tr th {\n",
       "        vertical-align: top;\n",
       "    }\n",
       "\n",
       "    .dataframe thead th {\n",
       "        text-align: right;\n",
       "    }\n",
       "</style>\n",
       "<table border=\"1\" class=\"dataframe\">\n",
       "  <thead>\n",
       "    <tr style=\"text-align: right;\">\n",
       "      <th></th>\n",
       "      <th>token_id</th>\n",
       "      <th>num_sales</th>\n",
       "      <th>image_url</th>\n",
       "      <th>image_original_url</th>\n",
       "      <th>name</th>\n",
       "      <th>description</th>\n",
       "      <th>permalink</th>\n",
       "      <th>creator</th>\n",
       "      <th>traits</th>\n",
       "      <th>owner_username</th>\n",
       "      <th>owner_address</th>\n",
       "    </tr>\n",
       "  </thead>\n",
       "  <tbody>\n",
       "    <tr>\n",
       "      <th>0</th>\n",
       "      <td>1</td>\n",
       "      <td>0</td>\n",
       "      <td>https://lh3.googleusercontent.com/ulT6Iu_7798l...</td>\n",
       "      <td>https://d1xxei964ioe0z.cloudfront.net/full/a16...</td>\n",
       "      <td>I</td>\n",
       "      <td>No Description Yet</td>\n",
       "      <td>https://opensea.io/assets/0x4b3406a41399c7fd2b...</td>\n",
       "      <td>NaN</td>\n",
       "      <td>[{'trait_type': 'Named', 'value': 'True', 'dis...</td>\n",
       "      <td>pak</td>\n",
       "      <td>0x2ce780d7c743a57791b835a9d6f998b15bbba5a4</td>\n",
       "    </tr>\n",
       "    <tr>\n",
       "      <th>1</th>\n",
       "      <td>2</td>\n",
       "      <td>0</td>\n",
       "      <td>https://lh3.googleusercontent.com/gtvCMMER8xEL...</td>\n",
       "      <td>https://d1xxei964ioe0z.cloudfront.net/full/622...</td>\n",
       "      <td>Origin #7THK</td>\n",
       "      <td>No Description Yet</td>\n",
       "      <td>https://opensea.io/assets/0x4b3406a41399c7fd2b...</td>\n",
       "      <td>NaN</td>\n",
       "      <td>[{'trait_type': 'Origin', 'value': '7THK', 'di...</td>\n",
       "      <td>NaN</td>\n",
       "      <td>0x984de65b9f9499dfb166889f0e9e15f6d779a1a7</td>\n",
       "    </tr>\n",
       "    <tr>\n",
       "      <th>2</th>\n",
       "      <td>3</td>\n",
       "      <td>0</td>\n",
       "      <td>https://lh3.googleusercontent.com/xgxBi9sL8ZOT...</td>\n",
       "      <td>https://d1xxei964ioe0z.cloudfront.net/full/304...</td>\n",
       "      <td>Origin #6AF2</td>\n",
       "      <td>No Description Yet</td>\n",
       "      <td>https://opensea.io/assets/0x4b3406a41399c7fd2b...</td>\n",
       "      <td>NaN</td>\n",
       "      <td>[{'trait_type': 'Origin', 'value': '6AF2', 'di...</td>\n",
       "      <td>LordTruffington_Vault</td>\n",
       "      <td>0x247c87f0705a82fc75811d04d01a5a22f736bbb3</td>\n",
       "    </tr>\n",
       "  </tbody>\n",
       "</table>\n",
       "</div>"
      ],
      "text/plain": [
       "   token_id  num_sales                                          image_url  \\\n",
       "0         1          0  https://lh3.googleusercontent.com/ulT6Iu_7798l...   \n",
       "1         2          0  https://lh3.googleusercontent.com/gtvCMMER8xEL...   \n",
       "2         3          0  https://lh3.googleusercontent.com/xgxBi9sL8ZOT...   \n",
       "\n",
       "                                  image_original_url          name  \\\n",
       "0  https://d1xxei964ioe0z.cloudfront.net/full/a16...             I   \n",
       "1  https://d1xxei964ioe0z.cloudfront.net/full/622...  Origin #7THK   \n",
       "2  https://d1xxei964ioe0z.cloudfront.net/full/304...  Origin #6AF2   \n",
       "\n",
       "          description                                          permalink  \\\n",
       "0  No Description Yet  https://opensea.io/assets/0x4b3406a41399c7fd2b...   \n",
       "1  No Description Yet  https://opensea.io/assets/0x4b3406a41399c7fd2b...   \n",
       "2  No Description Yet  https://opensea.io/assets/0x4b3406a41399c7fd2b...   \n",
       "\n",
       "  creator                                             traits  \\\n",
       "0     NaN  [{'trait_type': 'Named', 'value': 'True', 'dis...   \n",
       "1     NaN  [{'trait_type': 'Origin', 'value': '7THK', 'di...   \n",
       "2     NaN  [{'trait_type': 'Origin', 'value': '6AF2', 'di...   \n",
       "\n",
       "          owner_username                               owner_address  \n",
       "0                    pak  0x2ce780d7c743a57791b835a9d6f998b15bbba5a4  \n",
       "1                    NaN  0x984de65b9f9499dfb166889f0e9e15f6d779a1a7  \n",
       "2  LordTruffington_Vault  0x247c87f0705a82fc75811d04d01a5a22f736bbb3  "
      ]
     },
     "execution_count": 11,
     "metadata": {},
     "output_type": "execute_result"
    }
   ],
   "source": [
    "poets_df = pd.read_csv('../poets_clean.csv')\n",
    "poets_df.head(3)"
   ]
  },
  {
   "cell_type": "code",
   "execution_count": 12,
   "id": "f42d34ab",
   "metadata": {},
   "outputs": [
    {
     "data": {
      "text/plain": [
       "['https://lh3.googleusercontent.com/ulT6Iu_7798lvdulT253Ubtgoi3JYYnn5fo_tQ4A5l2NFFIkLAfqjRm5o8W9UMffMg8a6CMDmU7IZ9rFnPbSPnZ7YPdKBM8AnWMJ',\n",
       " 'https://lh3.googleusercontent.com/gtvCMMER8xELDeXX66KBnT8Wt-o8Bwee36FJxiLvcAQSJAe-qdd-BQ8si11hlAQYNRsjoSkzvV3a_LItK6YBPjPhWOQytIJUIC1g7R8',\n",
       " 'https://lh3.googleusercontent.com/xgxBi9sL8ZOTkImbTf13DZCr-8GdLOYe_W0wYnwZt6X6Q3LQ59xwtlezmsA4mbicElf7M_HOrBwHXArkD6c5qdojO-4unGvB9AtD']"
      ]
     },
     "execution_count": 12,
     "metadata": {},
     "output_type": "execute_result"
    }
   ],
   "source": [
    "url_list = poets_df.image_url.to_list()\n",
    "url_list[:3]"
   ]
  },
  {
   "cell_type": "code",
   "execution_count": 15,
   "id": "f2cc6056",
   "metadata": {},
   "outputs": [],
   "source": [
    "index = 0 \n",
    "for url in url_list: \n",
    "    response = requests.get(url)\n",
    "    file = open(f\"{poets_df.token_id.iloc[index]}.png\", \"wb\")\n",
    "    file.write(response.content)\n",
    "    file.close()\n",
    "    index +=1\n",
    "    if (index %10 == 0): \n",
    "        time.sleep(2)"
   ]
  },
  {
   "cell_type": "code",
   "execution_count": null,
   "id": "a3ababf5",
   "metadata": {},
   "outputs": [],
   "source": []
  },
  {
   "cell_type": "code",
   "execution_count": null,
   "id": "7f30ad6e",
   "metadata": {},
   "outputs": [],
   "source": []
  }
 ],
 "metadata": {
  "kernelspec": {
   "display_name": "Python 3 (ipykernel)",
   "language": "python",
   "name": "python3"
  },
  "language_info": {
   "codemirror_mode": {
    "name": "ipython",
    "version": 3
   },
   "file_extension": ".py",
   "mimetype": "text/x-python",
   "name": "python",
   "nbconvert_exporter": "python",
   "pygments_lexer": "ipython3",
   "version": "3.8.5"
  }
 },
 "nbformat": 4,
 "nbformat_minor": 5
}
