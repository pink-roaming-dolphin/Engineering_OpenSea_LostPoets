{
 "cells": [
  {
   "cell_type": "code",
   "execution_count": 1,
   "id": "cd96e687",
   "metadata": {},
   "outputs": [],
   "source": [
    "# import libaries for getting data from database\n",
    "from pymongo import MongoClient\n",
    "\n",
    "# EDA\n",
    "import pandas as pd"
   ]
  },
  {
   "cell_type": "markdown",
   "id": "4fe4289e",
   "metadata": {},
   "source": [
    "We'll first pull the data from the MongoDB into a Pandas dataframe and do EDA."
   ]
  },
  {
   "cell_type": "markdown",
   "id": "6e0445c1",
   "metadata": {},
   "source": [
    "EDA will consist of: \n",
    "\n",
    "1. Initial look\n",
    "2. Drop null columns, drop columns with all entries the same (such as the creater of the collection, which is 1 artist)\n",
    "3. Examine datatypes & look at certain rows & entries in detail; specifically look at entries that are of type dictionary and pull out necessary values and add them as columns to our DF. The columns with the dictionary values that we will look in detail are: \n",
    "    - a. payment_token\n",
    "    - b. asset \n",
    "    - c. transaction\n",
    "    - d. seller \n",
    "    - f. winner_account \n",
    "4. Lastly, look at columns that have few non-nulls\n",
    "    - a. asset & asset_bundle (there are only 3 that are asset_bundles so let's merge these two columns) \n",
    "    - b. to_account\n",
    "    - c. dev_fee_payment_event\n",
    "    - d. from_account\n",
    "    - e. is_private\n",
    "    - f. transaction_from_account_username\n",
    "    - g. seller_username\n",
    "    - h. winner_account_username"
   ]
  },
  {
   "cell_type": "markdown",
   "id": "b3d659dc",
   "metadata": {},
   "source": [
    "## Get Data from DB"
   ]
  },
  {
   "cell_type": "code",
   "execution_count": 2,
   "id": "17ce75ef",
   "metadata": {},
   "outputs": [],
   "source": [
    "client = MongoClient()"
   ]
  },
  {
   "cell_type": "code",
   "execution_count": 3,
   "id": "ac871268",
   "metadata": {},
   "outputs": [
    {
     "data": {
      "text/plain": [
       "['admin', 'books', 'config', 'events', 'local', 'outings', 'pak']"
      ]
     },
     "execution_count": 3,
     "metadata": {},
     "output_type": "execute_result"
    }
   ],
   "source": [
    "client.list_database_names()"
   ]
  },
  {
   "cell_type": "code",
   "execution_count": 4,
   "id": "92349da0",
   "metadata": {},
   "outputs": [],
   "source": [
    "db = client.pak\n",
    "salesPoets = db.salesPoets"
   ]
  },
  {
   "cell_type": "code",
   "execution_count": 5,
   "id": "0ef85586",
   "metadata": {},
   "outputs": [
    {
     "data": {
      "text/plain": [
       "10050"
      ]
     },
     "execution_count": 5,
     "metadata": {},
     "output_type": "execute_result"
    }
   ],
   "source": [
    "cursor = db.salesPoets.find({})\n",
    "len(list(cursor))"
   ]
  },
  {
   "cell_type": "code",
   "execution_count": 6,
   "id": "1538be8d",
   "metadata": {},
   "outputs": [
    {
     "data": {
      "text/html": [
       "<div>\n",
       "<style scoped>\n",
       "    .dataframe tbody tr th:only-of-type {\n",
       "        vertical-align: middle;\n",
       "    }\n",
       "\n",
       "    .dataframe tbody tr th {\n",
       "        vertical-align: top;\n",
       "    }\n",
       "\n",
       "    .dataframe thead th {\n",
       "        text-align: right;\n",
       "    }\n",
       "</style>\n",
       "<table border=\"1\" class=\"dataframe\">\n",
       "  <thead>\n",
       "    <tr style=\"text-align: right;\">\n",
       "      <th></th>\n",
       "      <th>_id</th>\n",
       "      <th>approved_account</th>\n",
       "      <th>asset</th>\n",
       "      <th>asset_bundle</th>\n",
       "      <th>auction_type</th>\n",
       "      <th>bid_amount</th>\n",
       "      <th>collection_slug</th>\n",
       "      <th>contract_address</th>\n",
       "      <th>created_date</th>\n",
       "      <th>custom_event_name</th>\n",
       "      <th>...</th>\n",
       "      <th>is_private</th>\n",
       "      <th>owner_account</th>\n",
       "      <th>payment_token</th>\n",
       "      <th>quantity</th>\n",
       "      <th>seller</th>\n",
       "      <th>starting_price</th>\n",
       "      <th>to_account</th>\n",
       "      <th>total_price</th>\n",
       "      <th>transaction</th>\n",
       "      <th>winner_account</th>\n",
       "    </tr>\n",
       "  </thead>\n",
       "  <tbody>\n",
       "    <tr>\n",
       "      <th>0</th>\n",
       "      <td>61b41aebd6ab32dbd9a84ea0</td>\n",
       "      <td>None</td>\n",
       "      <td>{'id': 44596334, 'token_id': '1', 'num_sales':...</td>\n",
       "      <td>None</td>\n",
       "      <td>None</td>\n",
       "      <td>None</td>\n",
       "      <td>lostpoets</td>\n",
       "      <td>0x7be8076f4ea4a4ad08075c2508e481d6c946d12b</td>\n",
       "      <td>2021-12-11T03:27:23.942099</td>\n",
       "      <td>None</td>\n",
       "      <td>...</td>\n",
       "      <td>False</td>\n",
       "      <td>None</td>\n",
       "      <td>{'id': 1, 'symbol': 'ETH', 'address': '0x00000...</td>\n",
       "      <td>1</td>\n",
       "      <td>{'user': {'username': '0xBub'}, 'profile_img_u...</td>\n",
       "      <td>None</td>\n",
       "      <td>None</td>\n",
       "      <td>365000000000000000</td>\n",
       "      <td>{'block_hash': '0x180bac5e21b88d73f73d41a27bed...</td>\n",
       "      <td>{'user': {'username': 'nikolas17'}, 'profile_i...</td>\n",
       "    </tr>\n",
       "    <tr>\n",
       "      <th>1</th>\n",
       "      <td>61b41aebd6ab32dbd9a84ea1</td>\n",
       "      <td>None</td>\n",
       "      <td>{'id': 59286920, 'token_id': '5594', 'num_sale...</td>\n",
       "      <td>None</td>\n",
       "      <td>None</td>\n",
       "      <td>None</td>\n",
       "      <td>lostpoets</td>\n",
       "      <td>0x7be8076f4ea4a4ad08075c2508e481d6c946d12b</td>\n",
       "      <td>2021-12-11T03:20:03.826890</td>\n",
       "      <td>None</td>\n",
       "      <td>...</td>\n",
       "      <td>None</td>\n",
       "      <td>None</td>\n",
       "      <td>{'id': 2, 'symbol': 'WETH', 'address': '0xc02a...</td>\n",
       "      <td>1</td>\n",
       "      <td>{'user': {'username': 'adamludwin'}, 'profile_...</td>\n",
       "      <td>None</td>\n",
       "      <td>None</td>\n",
       "      <td>500000000000000000</td>\n",
       "      <td>{'block_hash': '0xce55c3a9e03678eb14230114a239...</td>\n",
       "      <td>{'user': {'username': '858'}, 'profile_img_url...</td>\n",
       "    </tr>\n",
       "    <tr>\n",
       "      <th>2</th>\n",
       "      <td>61b41aebd6ab32dbd9a84ea2</td>\n",
       "      <td>None</td>\n",
       "      <td>{'id': 59336121, 'token_id': '8839', 'num_sale...</td>\n",
       "      <td>None</td>\n",
       "      <td>None</td>\n",
       "      <td>None</td>\n",
       "      <td>lostpoets</td>\n",
       "      <td>0x7be8076f4ea4a4ad08075c2508e481d6c946d12b</td>\n",
       "      <td>2021-12-11T02:47:15.343322</td>\n",
       "      <td>None</td>\n",
       "      <td>...</td>\n",
       "      <td>False</td>\n",
       "      <td>None</td>\n",
       "      <td>{'id': 1, 'symbol': 'ETH', 'address': '0x00000...</td>\n",
       "      <td>1</td>\n",
       "      <td>{'user': {'username': 'DirtySderty'}, 'profile...</td>\n",
       "      <td>None</td>\n",
       "      <td>None</td>\n",
       "      <td>1000000000000000000</td>\n",
       "      <td>{'block_hash': '0x24bd21c21379fd46e5cc513b939d...</td>\n",
       "      <td>{'user': {'username': 'Iamchef'}, 'profile_img...</td>\n",
       "    </tr>\n",
       "  </tbody>\n",
       "</table>\n",
       "<p>3 rows × 27 columns</p>\n",
       "</div>"
      ],
      "text/plain": [
       "                        _id approved_account  \\\n",
       "0  61b41aebd6ab32dbd9a84ea0             None   \n",
       "1  61b41aebd6ab32dbd9a84ea1             None   \n",
       "2  61b41aebd6ab32dbd9a84ea2             None   \n",
       "\n",
       "                                               asset asset_bundle  \\\n",
       "0  {'id': 44596334, 'token_id': '1', 'num_sales':...         None   \n",
       "1  {'id': 59286920, 'token_id': '5594', 'num_sale...         None   \n",
       "2  {'id': 59336121, 'token_id': '8839', 'num_sale...         None   \n",
       "\n",
       "  auction_type bid_amount collection_slug  \\\n",
       "0         None       None       lostpoets   \n",
       "1         None       None       lostpoets   \n",
       "2         None       None       lostpoets   \n",
       "\n",
       "                             contract_address                created_date  \\\n",
       "0  0x7be8076f4ea4a4ad08075c2508e481d6c946d12b  2021-12-11T03:27:23.942099   \n",
       "1  0x7be8076f4ea4a4ad08075c2508e481d6c946d12b  2021-12-11T03:20:03.826890   \n",
       "2  0x7be8076f4ea4a4ad08075c2508e481d6c946d12b  2021-12-11T02:47:15.343322   \n",
       "\n",
       "  custom_event_name  ... is_private  owner_account  \\\n",
       "0              None  ...      False           None   \n",
       "1              None  ...       None           None   \n",
       "2              None  ...      False           None   \n",
       "\n",
       "                                       payment_token quantity  \\\n",
       "0  {'id': 1, 'symbol': 'ETH', 'address': '0x00000...        1   \n",
       "1  {'id': 2, 'symbol': 'WETH', 'address': '0xc02a...        1   \n",
       "2  {'id': 1, 'symbol': 'ETH', 'address': '0x00000...        1   \n",
       "\n",
       "                                              seller starting_price  \\\n",
       "0  {'user': {'username': '0xBub'}, 'profile_img_u...           None   \n",
       "1  {'user': {'username': 'adamludwin'}, 'profile_...           None   \n",
       "2  {'user': {'username': 'DirtySderty'}, 'profile...           None   \n",
       "\n",
       "   to_account          total_price  \\\n",
       "0        None   365000000000000000   \n",
       "1        None   500000000000000000   \n",
       "2        None  1000000000000000000   \n",
       "\n",
       "                                         transaction  \\\n",
       "0  {'block_hash': '0x180bac5e21b88d73f73d41a27bed...   \n",
       "1  {'block_hash': '0xce55c3a9e03678eb14230114a239...   \n",
       "2  {'block_hash': '0x24bd21c21379fd46e5cc513b939d...   \n",
       "\n",
       "                                      winner_account  \n",
       "0  {'user': {'username': 'nikolas17'}, 'profile_i...  \n",
       "1  {'user': {'username': '858'}, 'profile_img_url...  \n",
       "2  {'user': {'username': 'Iamchef'}, 'profile_img...  \n",
       "\n",
       "[3 rows x 27 columns]"
      ]
     },
     "execution_count": 6,
     "metadata": {},
     "output_type": "execute_result"
    }
   ],
   "source": [
    "salesPoets_data = salesPoets.find()\n",
    "sales_df = pd.DataFrame(salesPoets_data)\n",
    "sales_df.head(3)"
   ]
  },
  {
   "cell_type": "markdown",
   "id": "dfdde85c",
   "metadata": {},
   "source": [
    "## EDA"
   ]
  },
  {
   "cell_type": "markdown",
   "id": "a59119a6",
   "metadata": {},
   "source": [
    "### 1. Initial look"
   ]
  },
  {
   "cell_type": "code",
   "execution_count": 7,
   "id": "9f57fe06",
   "metadata": {},
   "outputs": [
    {
     "data": {
      "text/plain": [
       "Index(['_id', 'approved_account', 'asset', 'asset_bundle', 'auction_type',\n",
       "       'bid_amount', 'collection_slug', 'contract_address', 'created_date',\n",
       "       'custom_event_name', 'dev_fee_payment_event',\n",
       "       'dev_seller_fee_basis_points', 'duration', 'ending_price', 'event_type',\n",
       "       'from_account', 'id', 'is_private', 'owner_account', 'payment_token',\n",
       "       'quantity', 'seller', 'starting_price', 'to_account', 'total_price',\n",
       "       'transaction', 'winner_account'],\n",
       "      dtype='object')"
      ]
     },
     "execution_count": 7,
     "metadata": {},
     "output_type": "execute_result"
    }
   ],
   "source": [
    "sales_df.columns"
   ]
  },
  {
   "cell_type": "code",
   "execution_count": 8,
   "id": "a973f152",
   "metadata": {},
   "outputs": [
    {
     "name": "stdout",
     "output_type": "stream",
     "text": [
      "<class 'pandas.core.frame.DataFrame'>\n",
      "RangeIndex: 10050 entries, 0 to 10049\n",
      "Data columns (total 27 columns):\n",
      " #   Column                       Non-Null Count  Dtype \n",
      "---  ------                       --------------  ----- \n",
      " 0   _id                          10050 non-null  object\n",
      " 1   approved_account             0 non-null      object\n",
      " 2   asset                        10047 non-null  object\n",
      " 3   asset_bundle                 3 non-null      object\n",
      " 4   auction_type                 0 non-null      object\n",
      " 5   bid_amount                   0 non-null      object\n",
      " 6   collection_slug              10050 non-null  object\n",
      " 7   contract_address             10050 non-null  object\n",
      " 8   created_date                 10050 non-null  object\n",
      " 9   custom_event_name            0 non-null      object\n",
      " 10  dev_fee_payment_event        9637 non-null   object\n",
      " 11  dev_seller_fee_basis_points  10050 non-null  int64 \n",
      " 12  duration                     0 non-null      object\n",
      " 13  ending_price                 0 non-null      object\n",
      " 14  event_type                   10050 non-null  object\n",
      " 15  from_account                 6 non-null      object\n",
      " 16  id                           10050 non-null  int64 \n",
      " 17  is_private                   8423 non-null   object\n",
      " 18  owner_account                0 non-null      object\n",
      " 19  payment_token                10050 non-null  object\n",
      " 20  quantity                     10050 non-null  object\n",
      " 21  seller                       10050 non-null  object\n",
      " 22  starting_price               0 non-null      object\n",
      " 23  to_account                   6 non-null      object\n",
      " 24  total_price                  10050 non-null  object\n",
      " 25  transaction                  10050 non-null  object\n",
      " 26  winner_account               10050 non-null  object\n",
      "dtypes: int64(2), object(25)\n",
      "memory usage: 2.1+ MB\n"
     ]
    }
   ],
   "source": [
    "sales_df.info()"
   ]
  },
  {
   "cell_type": "markdown",
   "id": "c0735456",
   "metadata": {},
   "source": [
    "## 2. Drop null columns, drop columns with all entries the same"
   ]
  },
  {
   "cell_type": "markdown",
   "id": "2c20ddac",
   "metadata": {},
   "source": [
    "OK, great let's drop the null columns so that we can see a bit better."
   ]
  },
  {
   "cell_type": "code",
   "execution_count": 9,
   "id": "ef8a2736",
   "metadata": {},
   "outputs": [],
   "source": [
    "sales_df.dropna(axis = 1, how='all', inplace = True)"
   ]
  },
  {
   "cell_type": "code",
   "execution_count": 10,
   "id": "21ee922f",
   "metadata": {},
   "outputs": [
    {
     "name": "stdout",
     "output_type": "stream",
     "text": [
      "<class 'pandas.core.frame.DataFrame'>\n",
      "RangeIndex: 10050 entries, 0 to 10049\n",
      "Data columns (total 19 columns):\n",
      " #   Column                       Non-Null Count  Dtype \n",
      "---  ------                       --------------  ----- \n",
      " 0   _id                          10050 non-null  object\n",
      " 1   asset                        10047 non-null  object\n",
      " 2   asset_bundle                 3 non-null      object\n",
      " 3   collection_slug              10050 non-null  object\n",
      " 4   contract_address             10050 non-null  object\n",
      " 5   created_date                 10050 non-null  object\n",
      " 6   dev_fee_payment_event        9637 non-null   object\n",
      " 7   dev_seller_fee_basis_points  10050 non-null  int64 \n",
      " 8   event_type                   10050 non-null  object\n",
      " 9   from_account                 6 non-null      object\n",
      " 10  id                           10050 non-null  int64 \n",
      " 11  is_private                   8423 non-null   object\n",
      " 12  payment_token                10050 non-null  object\n",
      " 13  quantity                     10050 non-null  object\n",
      " 14  seller                       10050 non-null  object\n",
      " 15  to_account                   6 non-null      object\n",
      " 16  total_price                  10050 non-null  object\n",
      " 17  transaction                  10050 non-null  object\n",
      " 18  winner_account               10050 non-null  object\n",
      "dtypes: int64(2), object(17)\n",
      "memory usage: 1.5+ MB\n"
     ]
    }
   ],
   "source": [
    "sales_df.info()"
   ]
  },
  {
   "cell_type": "markdown",
   "id": "f7890ccb",
   "metadata": {},
   "source": [
    "Let's find the columns where the value is the same and drop those as well."
   ]
  },
  {
   "cell_type": "code",
   "execution_count": 11,
   "id": "3fff5ee6",
   "metadata": {},
   "outputs": [
    {
     "data": {
      "text/plain": [
       "1"
      ]
     },
     "execution_count": 11,
     "metadata": {},
     "output_type": "execute_result"
    }
   ],
   "source": [
    "sales_df.contract_address.nunique()"
   ]
  },
  {
   "cell_type": "code",
   "execution_count": 12,
   "id": "1d08009b",
   "metadata": {},
   "outputs": [
    {
     "data": {
      "text/plain": [
       "10050"
      ]
     },
     "execution_count": 12,
     "metadata": {},
     "output_type": "execute_result"
    }
   ],
   "source": [
    "sales_df._id.nunique()"
   ]
  },
  {
   "cell_type": "code",
   "execution_count": 13,
   "id": "a2fc9817",
   "metadata": {},
   "outputs": [
    {
     "data": {
      "text/plain": [
       "1"
      ]
     },
     "execution_count": 13,
     "metadata": {},
     "output_type": "execute_result"
    }
   ],
   "source": [
    "sales_df.collection_slug.nunique()"
   ]
  },
  {
   "cell_type": "code",
   "execution_count": 14,
   "id": "106645ba",
   "metadata": {},
   "outputs": [
    {
     "data": {
      "text/plain": [
       "10050"
      ]
     },
     "execution_count": 14,
     "metadata": {},
     "output_type": "execute_result"
    }
   ],
   "source": [
    "sales_df.created_date.nunique()"
   ]
  },
  {
   "cell_type": "code",
   "execution_count": 15,
   "id": "0d4494bb",
   "metadata": {},
   "outputs": [
    {
     "data": {
      "text/plain": [
       "1"
      ]
     },
     "execution_count": 15,
     "metadata": {},
     "output_type": "execute_result"
    }
   ],
   "source": [
    "sales_df.dev_seller_fee_basis_points.nunique()"
   ]
  },
  {
   "cell_type": "code",
   "execution_count": 16,
   "id": "2218012e",
   "metadata": {},
   "outputs": [
    {
     "data": {
      "text/plain": [
       "1000"
      ]
     },
     "execution_count": 16,
     "metadata": {},
     "output_type": "execute_result"
    }
   ],
   "source": [
    "sales_df.dev_seller_fee_basis_points.iloc[0]"
   ]
  },
  {
   "cell_type": "code",
   "execution_count": 17,
   "id": "a7fbe28c",
   "metadata": {},
   "outputs": [
    {
     "data": {
      "text/plain": [
       "1"
      ]
     },
     "execution_count": 17,
     "metadata": {},
     "output_type": "execute_result"
    }
   ],
   "source": [
    "sales_df.event_type.nunique()"
   ]
  },
  {
   "cell_type": "code",
   "execution_count": 18,
   "id": "749eb8e6",
   "metadata": {},
   "outputs": [
    {
     "data": {
      "text/plain": [
       "'successful'"
      ]
     },
     "execution_count": 18,
     "metadata": {},
     "output_type": "execute_result"
    }
   ],
   "source": [
    "sales_df.event_type.iloc[0]"
   ]
  },
  {
   "cell_type": "code",
   "execution_count": 19,
   "id": "4a7f0eff",
   "metadata": {},
   "outputs": [
    {
     "data": {
      "text/plain": [
       "10050"
      ]
     },
     "execution_count": 19,
     "metadata": {},
     "output_type": "execute_result"
    }
   ],
   "source": [
    "sales_df.id.nunique()"
   ]
  },
  {
   "cell_type": "code",
   "execution_count": 20,
   "id": "4b781749",
   "metadata": {},
   "outputs": [
    {
     "data": {
      "text/plain": [
       "array([False, None, True], dtype=object)"
      ]
     },
     "execution_count": 20,
     "metadata": {},
     "output_type": "execute_result"
    }
   ],
   "source": [
    "sales_df.is_private.unique()"
   ]
  },
  {
   "cell_type": "code",
   "execution_count": 21,
   "id": "0181e6b2",
   "metadata": {},
   "outputs": [
    {
     "data": {
      "text/plain": [
       "array(['1', '2', '5', '3', '8', '14', '4', '50', '10', '12', '7', '30',\n",
       "       '6', '20', '16', '40', '27', '9', '11'], dtype=object)"
      ]
     },
     "execution_count": 21,
     "metadata": {},
     "output_type": "execute_result"
    }
   ],
   "source": [
    "sales_df.quantity.unique()"
   ]
  },
  {
   "cell_type": "code",
   "execution_count": 22,
   "id": "1557141f",
   "metadata": {},
   "outputs": [
    {
     "data": {
      "text/plain": [
       "1383"
      ]
     },
     "execution_count": 22,
     "metadata": {},
     "output_type": "execute_result"
    }
   ],
   "source": [
    "sales_df.total_price.nunique()"
   ]
  },
  {
   "cell_type": "code",
   "execution_count": 23,
   "id": "6c50f4af",
   "metadata": {},
   "outputs": [],
   "source": [
    "(sales_df.drop(['event_type', 'dev_seller_fee_basis_points', \n",
    "                'collection_slug', 'contract_address' ], axis = 1, inplace = True))"
   ]
  },
  {
   "cell_type": "code",
   "execution_count": 24,
   "id": "86b359ed",
   "metadata": {},
   "outputs": [
    {
     "name": "stdout",
     "output_type": "stream",
     "text": [
      "<class 'pandas.core.frame.DataFrame'>\n",
      "RangeIndex: 10050 entries, 0 to 10049\n",
      "Data columns (total 15 columns):\n",
      " #   Column                 Non-Null Count  Dtype \n",
      "---  ------                 --------------  ----- \n",
      " 0   _id                    10050 non-null  object\n",
      " 1   asset                  10047 non-null  object\n",
      " 2   asset_bundle           3 non-null      object\n",
      " 3   created_date           10050 non-null  object\n",
      " 4   dev_fee_payment_event  9637 non-null   object\n",
      " 5   from_account           6 non-null      object\n",
      " 6   id                     10050 non-null  int64 \n",
      " 7   is_private             8423 non-null   object\n",
      " 8   payment_token          10050 non-null  object\n",
      " 9   quantity               10050 non-null  object\n",
      " 10  seller                 10050 non-null  object\n",
      " 11  to_account             6 non-null      object\n",
      " 12  total_price            10050 non-null  object\n",
      " 13  transaction            10050 non-null  object\n",
      " 14  winner_account         10050 non-null  object\n",
      "dtypes: int64(1), object(14)\n",
      "memory usage: 1.2+ MB\n"
     ]
    }
   ],
   "source": [
    "sales_df.info()"
   ]
  },
  {
   "cell_type": "markdown",
   "id": "d138953e",
   "metadata": {},
   "source": [
    "## 3. Examine datatypes & specific columns/values"
   ]
  },
  {
   "cell_type": "markdown",
   "id": "c5a6a4cb",
   "metadata": {},
   "source": [
    "We look at created_date to do sanity check on the scrape."
   ]
  },
  {
   "cell_type": "code",
   "execution_count": 25,
   "id": "013efba7",
   "metadata": {},
   "outputs": [
    {
     "data": {
      "text/plain": [
       "'2021-12-09T06:13:07.671768'"
      ]
     },
     "execution_count": 25,
     "metadata": {},
     "output_type": "execute_result"
    }
   ],
   "source": [
    "sales_df.created_date.iloc[103]"
   ]
  },
  {
   "cell_type": "code",
   "execution_count": 26,
   "id": "0429991e",
   "metadata": {},
   "outputs": [
    {
     "data": {
      "text/plain": [
       "str"
      ]
     },
     "execution_count": 26,
     "metadata": {},
     "output_type": "execute_result"
    }
   ],
   "source": [
    "type(sales_df.created_date.iloc[0])"
   ]
  },
  {
   "cell_type": "markdown",
   "id": "194a10b6",
   "metadata": {},
   "source": [
    "Now, let's look at a couple of rows & specific entries in detail.\n",
    "\n",
    "The entries we are going to be at are for the columns that have a dictionary associated with them, which means we can extract more detail from them. "
   ]
  },
  {
   "cell_type": "code",
   "execution_count": 27,
   "id": "ff90f539",
   "metadata": {},
   "outputs": [
    {
     "data": {
      "text/plain": [
       "_id                                               61b41aebd6ab32dbd9a84ea0\n",
       "asset                    {'id': 44596334, 'token_id': '1', 'num_sales':...\n",
       "asset_bundle                                                          None\n",
       "created_date                                    2021-12-11T03:27:23.942099\n",
       "dev_fee_payment_event                                                 None\n",
       "from_account                                                          None\n",
       "id                                                              2427455930\n",
       "is_private                                                           False\n",
       "payment_token            {'id': 1, 'symbol': 'ETH', 'address': '0x00000...\n",
       "quantity                                                                 1\n",
       "seller                   {'user': {'username': '0xBub'}, 'profile_img_u...\n",
       "to_account                                                            None\n",
       "total_price                                             365000000000000000\n",
       "transaction              {'block_hash': '0x180bac5e21b88d73f73d41a27bed...\n",
       "winner_account           {'user': {'username': 'nikolas17'}, 'profile_i...\n",
       "Name: 0, dtype: object"
      ]
     },
     "execution_count": 27,
     "metadata": {},
     "output_type": "execute_result"
    }
   ],
   "source": [
    "sales_df.iloc[0]"
   ]
  },
  {
   "cell_type": "markdown",
   "id": "ddf06744",
   "metadata": {},
   "source": [
    "**a. payment_token**"
   ]
  },
  {
   "cell_type": "code",
   "execution_count": 28,
   "id": "1b769f15",
   "metadata": {},
   "outputs": [
    {
     "data": {
      "text/plain": [
       "{'id': 1,\n",
       " 'symbol': 'ETH',\n",
       " 'address': '0x0000000000000000000000000000000000000000',\n",
       " 'image_url': 'https://storage.opensea.io/files/6f8e2979d428180222796ff4a33ab929.svg',\n",
       " 'name': 'Ether',\n",
       " 'decimals': 18,\n",
       " 'eth_price': '1.000000000000000',\n",
       " 'usd_price': '3983.769999999999982000'}"
      ]
     },
     "execution_count": 28,
     "metadata": {},
     "output_type": "execute_result"
    }
   ],
   "source": [
    "sales_df.payment_token.iloc[5]"
   ]
  },
  {
   "cell_type": "markdown",
   "id": "27c2a97a",
   "metadata": {},
   "source": [
    "We want the symbol and the usd_price out of this dictionary & as new columns, then we can drop the payment_token column. "
   ]
  },
  {
   "cell_type": "code",
   "execution_count": 29,
   "id": "ce849c18",
   "metadata": {},
   "outputs": [],
   "source": [
    "sales_df['payment_token_symbol'] = (sales_df.payment_token.apply(lambda x: 'unknown'\n",
    "                              if (pd.isnull(x)) else x['symbol']))"
   ]
  },
  {
   "cell_type": "code",
   "execution_count": 30,
   "id": "765946d5",
   "metadata": {},
   "outputs": [],
   "source": [
    "sales_df['payment_token_usd_price'] = (sales_df.payment_token.apply(lambda x: 'unknown'\n",
    "                              if (pd.isnull(x)) else x['usd_price']))"
   ]
  },
  {
   "cell_type": "code",
   "execution_count": 31,
   "id": "9bf8c67b",
   "metadata": {},
   "outputs": [
    {
     "data": {
      "text/html": [
       "<div>\n",
       "<style scoped>\n",
       "    .dataframe tbody tr th:only-of-type {\n",
       "        vertical-align: middle;\n",
       "    }\n",
       "\n",
       "    .dataframe tbody tr th {\n",
       "        vertical-align: top;\n",
       "    }\n",
       "\n",
       "    .dataframe thead th {\n",
       "        text-align: right;\n",
       "    }\n",
       "</style>\n",
       "<table border=\"1\" class=\"dataframe\">\n",
       "  <thead>\n",
       "    <tr style=\"text-align: right;\">\n",
       "      <th></th>\n",
       "      <th>_id</th>\n",
       "      <th>asset</th>\n",
       "      <th>asset_bundle</th>\n",
       "      <th>created_date</th>\n",
       "      <th>dev_fee_payment_event</th>\n",
       "      <th>from_account</th>\n",
       "      <th>id</th>\n",
       "      <th>is_private</th>\n",
       "      <th>payment_token</th>\n",
       "      <th>quantity</th>\n",
       "      <th>seller</th>\n",
       "      <th>to_account</th>\n",
       "      <th>total_price</th>\n",
       "      <th>transaction</th>\n",
       "      <th>winner_account</th>\n",
       "      <th>payment_token_symbol</th>\n",
       "      <th>payment_token_usd_price</th>\n",
       "    </tr>\n",
       "  </thead>\n",
       "  <tbody>\n",
       "    <tr>\n",
       "      <th>0</th>\n",
       "      <td>61b41aebd6ab32dbd9a84ea0</td>\n",
       "      <td>{'id': 44596334, 'token_id': '1', 'num_sales':...</td>\n",
       "      <td>None</td>\n",
       "      <td>2021-12-11T03:27:23.942099</td>\n",
       "      <td>None</td>\n",
       "      <td>None</td>\n",
       "      <td>2427455930</td>\n",
       "      <td>False</td>\n",
       "      <td>{'id': 1, 'symbol': 'ETH', 'address': '0x00000...</td>\n",
       "      <td>1</td>\n",
       "      <td>{'user': {'username': '0xBub'}, 'profile_img_u...</td>\n",
       "      <td>None</td>\n",
       "      <td>365000000000000000</td>\n",
       "      <td>{'block_hash': '0x180bac5e21b88d73f73d41a27bed...</td>\n",
       "      <td>{'user': {'username': 'nikolas17'}, 'profile_i...</td>\n",
       "      <td>ETH</td>\n",
       "      <td>3983.769999999999982000</td>\n",
       "    </tr>\n",
       "  </tbody>\n",
       "</table>\n",
       "</div>"
      ],
      "text/plain": [
       "                        _id  \\\n",
       "0  61b41aebd6ab32dbd9a84ea0   \n",
       "\n",
       "                                               asset asset_bundle  \\\n",
       "0  {'id': 44596334, 'token_id': '1', 'num_sales':...         None   \n",
       "\n",
       "                 created_date dev_fee_payment_event from_account          id  \\\n",
       "0  2021-12-11T03:27:23.942099                  None         None  2427455930   \n",
       "\n",
       "  is_private                                      payment_token quantity  \\\n",
       "0      False  {'id': 1, 'symbol': 'ETH', 'address': '0x00000...        1   \n",
       "\n",
       "                                              seller to_account  \\\n",
       "0  {'user': {'username': '0xBub'}, 'profile_img_u...       None   \n",
       "\n",
       "          total_price                                        transaction  \\\n",
       "0  365000000000000000  {'block_hash': '0x180bac5e21b88d73f73d41a27bed...   \n",
       "\n",
       "                                      winner_account payment_token_symbol  \\\n",
       "0  {'user': {'username': 'nikolas17'}, 'profile_i...                  ETH   \n",
       "\n",
       "   payment_token_usd_price  \n",
       "0  3983.769999999999982000  "
      ]
     },
     "execution_count": 31,
     "metadata": {},
     "output_type": "execute_result"
    }
   ],
   "source": [
    "sales_df.head(1)"
   ]
  },
  {
   "cell_type": "code",
   "execution_count": 32,
   "id": "58704c24",
   "metadata": {},
   "outputs": [],
   "source": [
    "(sales_df.drop(['payment_token'], axis = 1, inplace = True))"
   ]
  },
  {
   "cell_type": "markdown",
   "id": "e5d17bd5",
   "metadata": {},
   "source": [
    "**b. asset**"
   ]
  },
  {
   "cell_type": "code",
   "execution_count": 33,
   "id": "90b498f6",
   "metadata": {
    "collapsed": true
   },
   "outputs": [
    {
     "data": {
      "text/plain": [
       "{'id': 67491120,\n",
       " 'token_id': '22655',\n",
       " 'num_sales': 2,\n",
       " 'background_color': None,\n",
       " 'image_url': 'https://lh3.googleusercontent.com/nlVFhb7yVUDIXgl9SbV0bGQYpMBzvPccp6vasAky1Ltke9n-SJrhxKnsK94flUN_BL6ILm11XCMrgUIQSnKrICvzvZVN2wf2u3pRaw',\n",
       " 'image_preview_url': 'https://lh3.googleusercontent.com/nlVFhb7yVUDIXgl9SbV0bGQYpMBzvPccp6vasAky1Ltke9n-SJrhxKnsK94flUN_BL6ILm11XCMrgUIQSnKrICvzvZVN2wf2u3pRaw=s250',\n",
       " 'image_thumbnail_url': 'https://lh3.googleusercontent.com/nlVFhb7yVUDIXgl9SbV0bGQYpMBzvPccp6vasAky1Ltke9n-SJrhxKnsK94flUN_BL6ILm11XCMrgUIQSnKrICvzvZVN2wf2u3pRaw=s128',\n",
       " 'image_original_url': 'https://d1xxei964ioe0z.cloudfront.net/full/7e2f64d90eeac43d9cab7072db5cb11524c81a6c44e2cdaa5f2302ee01a873ce.png',\n",
       " 'animation_url': None,\n",
       " 'animation_original_url': None,\n",
       " 'name': 'Poet #22655',\n",
       " 'description': None,\n",
       " 'external_link': None,\n",
       " 'asset_contract': {'address': '0x4b3406a41399c7fd2ba65cbc93697ad9e7ea61e5',\n",
       "  'asset_contract_type': 'non-fungible',\n",
       "  'created_date': '2021-09-25T05:35:23.490231',\n",
       "  'name': 'Lost Poets',\n",
       "  'nft_version': '3.0',\n",
       "  'opensea_version': None,\n",
       "  'owner': 2504088,\n",
       "  'schema_name': 'ERC721',\n",
       "  'symbol': 'POETS',\n",
       "  'total_supply': None,\n",
       "  'description': '∴ AB AETERNO',\n",
       "  'external_link': 'https://lostpoets.xyz/',\n",
       "  'image_url': 'https://lh3.googleusercontent.com/cGKkMxKQ-7J0A4mZvcPqr2LKvGqIVsXjzGqpfxRNb4yVr-zTycPJ0kznkwKqDyUTg--A32oW8cI32BQBl6hrbM-frn1__o544ECpCg=s120',\n",
       "  'default_to_fiat': False,\n",
       "  'dev_buyer_fee_basis_points': 0,\n",
       "  'dev_seller_fee_basis_points': 1000,\n",
       "  'only_proxied_transfers': False,\n",
       "  'opensea_buyer_fee_basis_points': 0,\n",
       "  'opensea_seller_fee_basis_points': 250,\n",
       "  'buyer_fee_basis_points': 0,\n",
       "  'seller_fee_basis_points': 1250,\n",
       "  'payout_address': '0x8e8717dcd1687080757cb513d7d6702625973be8'},\n",
       " 'permalink': 'https://opensea.io/assets/0x4b3406a41399c7fd2ba65cbc93697ad9e7ea61e5/22655',\n",
       " 'collection': {'banner_image_url': 'https://lh3.googleusercontent.com/VNQfgH6h0cuiP6U-tTZ8qRUVivEtB1TdMsn6MWG_15wzr1899ehqrVZ_vrh5a3uNkseRmTfLyi0X8Q-WOq06e3IhMSiCyHV6XX97oxM=s2500',\n",
       "  'chat_url': None,\n",
       "  'created_date': '2021-09-03T04:50:03.338901',\n",
       "  'default_to_fiat': False,\n",
       "  'description': '∴ AB AETERNO',\n",
       "  'dev_buyer_fee_basis_points': '0',\n",
       "  'dev_seller_fee_basis_points': '1000',\n",
       "  'discord_url': None,\n",
       "  'display_data': {'card_display_style': 'cover'},\n",
       "  'external_url': 'https://lostpoets.xyz/',\n",
       "  'featured': False,\n",
       "  'featured_image_url': 'https://lh3.googleusercontent.com/VNQfgH6h0cuiP6U-tTZ8qRUVivEtB1TdMsn6MWG_15wzr1899ehqrVZ_vrh5a3uNkseRmTfLyi0X8Q-WOq06e3IhMSiCyHV6XX97oxM=s300',\n",
       "  'hidden': False,\n",
       "  'safelist_request_status': 'verified',\n",
       "  'image_url': 'https://lh3.googleusercontent.com/cGKkMxKQ-7J0A4mZvcPqr2LKvGqIVsXjzGqpfxRNb4yVr-zTycPJ0kznkwKqDyUTg--A32oW8cI32BQBl6hrbM-frn1__o544ECpCg=s120',\n",
       "  'is_subject_to_whitelist': False,\n",
       "  'large_image_url': 'https://lh3.googleusercontent.com/VNQfgH6h0cuiP6U-tTZ8qRUVivEtB1TdMsn6MWG_15wzr1899ehqrVZ_vrh5a3uNkseRmTfLyi0X8Q-WOq06e3IhMSiCyHV6XX97oxM=s300',\n",
       "  'medium_username': None,\n",
       "  'name': 'LOSTPOETS',\n",
       "  'only_proxied_transfers': False,\n",
       "  'opensea_buyer_fee_basis_points': '0',\n",
       "  'opensea_seller_fee_basis_points': '250',\n",
       "  'payout_address': '0x8e8717dcd1687080757cb513d7d6702625973be8',\n",
       "  'require_email': False,\n",
       "  'short_description': None,\n",
       "  'slug': 'lostpoets',\n",
       "  'telegram_url': None,\n",
       "  'twitter_username': 'poetslost',\n",
       "  'instagram_username': None,\n",
       "  'wiki_url': None},\n",
       " 'decimals': 0,\n",
       " 'token_metadata': 'https://lostpoets.api.manifoldxyz.dev/metadata/22655',\n",
       " 'owner': {'user': {'username': 'Iamchef'},\n",
       "  'profile_img_url': 'https://storage.googleapis.com/opensea-static/opensea-profile/32.png',\n",
       "  'address': '0xd7cd27993eae6c0e32657852305441e9e44360e9',\n",
       "  'config': ''}}"
      ]
     },
     "execution_count": 33,
     "metadata": {},
     "output_type": "execute_result"
    }
   ],
   "source": [
    "sales_df.asset.iloc[4]"
   ]
  },
  {
   "cell_type": "code",
   "execution_count": null,
   "id": "92e2c4ac",
   "metadata": {},
   "outputs": [],
   "source": []
  },
  {
   "cell_type": "code",
   "execution_count": 34,
   "id": "616b141f",
   "metadata": {},
   "outputs": [
    {
     "data": {
      "text/plain": [
       "'22655'"
      ]
     },
     "execution_count": 34,
     "metadata": {},
     "output_type": "execute_result"
    }
   ],
   "source": [
    "sales_df.asset.iloc[4]['token_id']"
   ]
  },
  {
   "cell_type": "code",
   "execution_count": 35,
   "id": "aa838203",
   "metadata": {},
   "outputs": [],
   "source": [
    "sales_df['asset_token_id'] = (sales_df.asset.apply(lambda x: '0'\n",
    "                              if (pd.isnull(x)) else x['token_id']))"
   ]
  },
  {
   "cell_type": "code",
   "execution_count": 36,
   "id": "daf93590",
   "metadata": {},
   "outputs": [
    {
     "data": {
      "text/plain": [
       "1        5125\n",
       "16030       4\n",
       "16422       4\n",
       "23407       4\n",
       "11052       4\n",
       "         ... \n",
       "1202        1\n",
       "7328        1\n",
       "1205        1\n",
       "22452       1\n",
       "15477       1\n",
       "Name: asset_token_id, Length: 4306, dtype: int64"
      ]
     },
     "execution_count": 36,
     "metadata": {},
     "output_type": "execute_result"
    }
   ],
   "source": [
    "sales_df['asset_token_id'].value_counts()"
   ]
  },
  {
   "cell_type": "code",
   "execution_count": null,
   "id": "a1e45d92",
   "metadata": {},
   "outputs": [],
   "source": []
  },
  {
   "cell_type": "code",
   "execution_count": 37,
   "id": "2c464801",
   "metadata": {},
   "outputs": [
    {
     "data": {
      "text/plain": [
       "2"
      ]
     },
     "execution_count": 37,
     "metadata": {},
     "output_type": "execute_result"
    }
   ],
   "source": [
    "sales_df.asset.iloc[4]['num_sales']"
   ]
  },
  {
   "cell_type": "code",
   "execution_count": 38,
   "id": "bbcf5d49",
   "metadata": {},
   "outputs": [],
   "source": [
    "sales_df['asset_num_sales'] = (sales_df.asset.apply(lambda x: 0\n",
    "                              if (pd.isnull(x)) else x['num_sales']))"
   ]
  },
  {
   "cell_type": "code",
   "execution_count": 39,
   "id": "f8cd3646",
   "metadata": {},
   "outputs": [
    {
     "data": {
      "text/plain": [
       "14807    5125\n",
       "1        3588\n",
       "2        1125\n",
       "3         187\n",
       "4          20\n",
       "0           3\n",
       "5           2\n",
       "Name: asset_num_sales, dtype: int64"
      ]
     },
     "execution_count": 39,
     "metadata": {},
     "output_type": "execute_result"
    }
   ],
   "source": [
    "sales_df['asset_num_sales'].value_counts()"
   ]
  },
  {
   "cell_type": "code",
   "execution_count": null,
   "id": "160aa304",
   "metadata": {},
   "outputs": [],
   "source": []
  },
  {
   "cell_type": "code",
   "execution_count": 40,
   "id": "f20452a0",
   "metadata": {},
   "outputs": [
    {
     "data": {
      "text/plain": [
       "67491120"
      ]
     },
     "execution_count": 40,
     "metadata": {},
     "output_type": "execute_result"
    }
   ],
   "source": [
    "sales_df.asset.iloc[4]['id']"
   ]
  },
  {
   "cell_type": "code",
   "execution_count": 41,
   "id": "daedf397",
   "metadata": {},
   "outputs": [],
   "source": [
    "sales_df['asset_id'] = (sales_df.asset.apply(lambda x: 0\n",
    "                              if (pd.isnull(x)) else x['id']))"
   ]
  },
  {
   "cell_type": "code",
   "execution_count": 42,
   "id": "5cd0e92c",
   "metadata": {},
   "outputs": [
    {
     "data": {
      "text/plain": [
       "44596334    5125\n",
       "60191059       4\n",
       "60405635       4\n",
       "67925902       4\n",
       "59398797       4\n",
       "            ... \n",
       "59268584       1\n",
       "59308876       1\n",
       "59268606       1\n",
       "67315009       1\n",
       "59985090       1\n",
       "Name: asset_id, Length: 4306, dtype: int64"
      ]
     },
     "execution_count": 42,
     "metadata": {},
     "output_type": "execute_result"
    }
   ],
   "source": [
    "sales_df['asset_id'].value_counts()"
   ]
  },
  {
   "cell_type": "code",
   "execution_count": null,
   "id": "c9ff8c6f",
   "metadata": {},
   "outputs": [],
   "source": []
  },
  {
   "cell_type": "code",
   "execution_count": 43,
   "id": "1556ecde",
   "metadata": {},
   "outputs": [
    {
     "data": {
      "text/plain": [
       "'https://lh3.googleusercontent.com/nlVFhb7yVUDIXgl9SbV0bGQYpMBzvPccp6vasAky1Ltke9n-SJrhxKnsK94flUN_BL6ILm11XCMrgUIQSnKrICvzvZVN2wf2u3pRaw'"
      ]
     },
     "execution_count": 43,
     "metadata": {},
     "output_type": "execute_result"
    }
   ],
   "source": [
    "sales_df.asset.iloc[4]['image_url']"
   ]
  },
  {
   "cell_type": "code",
   "execution_count": 44,
   "id": "85dc6f27",
   "metadata": {},
   "outputs": [],
   "source": [
    "sales_df['asset_image_url'] = (sales_df.asset.apply(lambda x: 'unknown'\n",
    "                              if (pd.isnull(x)) else x['image_url']))"
   ]
  },
  {
   "cell_type": "code",
   "execution_count": null,
   "id": "9dd43f1f",
   "metadata": {},
   "outputs": [],
   "source": []
  },
  {
   "cell_type": "code",
   "execution_count": 45,
   "id": "8fbe3016",
   "metadata": {},
   "outputs": [
    {
     "data": {
      "text/html": [
       "<div>\n",
       "<style scoped>\n",
       "    .dataframe tbody tr th:only-of-type {\n",
       "        vertical-align: middle;\n",
       "    }\n",
       "\n",
       "    .dataframe tbody tr th {\n",
       "        vertical-align: top;\n",
       "    }\n",
       "\n",
       "    .dataframe thead th {\n",
       "        text-align: right;\n",
       "    }\n",
       "</style>\n",
       "<table border=\"1\" class=\"dataframe\">\n",
       "  <thead>\n",
       "    <tr style=\"text-align: right;\">\n",
       "      <th></th>\n",
       "      <th>_id</th>\n",
       "      <th>asset</th>\n",
       "      <th>asset_bundle</th>\n",
       "      <th>created_date</th>\n",
       "      <th>dev_fee_payment_event</th>\n",
       "      <th>from_account</th>\n",
       "      <th>id</th>\n",
       "      <th>is_private</th>\n",
       "      <th>quantity</th>\n",
       "      <th>seller</th>\n",
       "      <th>to_account</th>\n",
       "      <th>total_price</th>\n",
       "      <th>transaction</th>\n",
       "      <th>winner_account</th>\n",
       "      <th>payment_token_symbol</th>\n",
       "      <th>payment_token_usd_price</th>\n",
       "      <th>asset_token_id</th>\n",
       "      <th>asset_num_sales</th>\n",
       "      <th>asset_id</th>\n",
       "      <th>asset_image_url</th>\n",
       "    </tr>\n",
       "  </thead>\n",
       "  <tbody>\n",
       "    <tr>\n",
       "      <th>0</th>\n",
       "      <td>61b41aebd6ab32dbd9a84ea0</td>\n",
       "      <td>{'id': 44596334, 'token_id': '1', 'num_sales':...</td>\n",
       "      <td>None</td>\n",
       "      <td>2021-12-11T03:27:23.942099</td>\n",
       "      <td>None</td>\n",
       "      <td>None</td>\n",
       "      <td>2427455930</td>\n",
       "      <td>False</td>\n",
       "      <td>1</td>\n",
       "      <td>{'user': {'username': '0xBub'}, 'profile_img_u...</td>\n",
       "      <td>None</td>\n",
       "      <td>365000000000000000</td>\n",
       "      <td>{'block_hash': '0x180bac5e21b88d73f73d41a27bed...</td>\n",
       "      <td>{'user': {'username': 'nikolas17'}, 'profile_i...</td>\n",
       "      <td>ETH</td>\n",
       "      <td>3983.769999999999982000</td>\n",
       "      <td>1</td>\n",
       "      <td>14807</td>\n",
       "      <td>44596334</td>\n",
       "      <td>https://lh3.googleusercontent.com/9GgkzN-7si-y...</td>\n",
       "    </tr>\n",
       "  </tbody>\n",
       "</table>\n",
       "</div>"
      ],
      "text/plain": [
       "                        _id  \\\n",
       "0  61b41aebd6ab32dbd9a84ea0   \n",
       "\n",
       "                                               asset asset_bundle  \\\n",
       "0  {'id': 44596334, 'token_id': '1', 'num_sales':...         None   \n",
       "\n",
       "                 created_date dev_fee_payment_event from_account          id  \\\n",
       "0  2021-12-11T03:27:23.942099                  None         None  2427455930   \n",
       "\n",
       "  is_private quantity                                             seller  \\\n",
       "0      False        1  {'user': {'username': '0xBub'}, 'profile_img_u...   \n",
       "\n",
       "  to_account         total_price  \\\n",
       "0       None  365000000000000000   \n",
       "\n",
       "                                         transaction  \\\n",
       "0  {'block_hash': '0x180bac5e21b88d73f73d41a27bed...   \n",
       "\n",
       "                                      winner_account payment_token_symbol  \\\n",
       "0  {'user': {'username': 'nikolas17'}, 'profile_i...                  ETH   \n",
       "\n",
       "   payment_token_usd_price asset_token_id  asset_num_sales  asset_id  \\\n",
       "0  3983.769999999999982000              1            14807  44596334   \n",
       "\n",
       "                                     asset_image_url  \n",
       "0  https://lh3.googleusercontent.com/9GgkzN-7si-y...  "
      ]
     },
     "execution_count": 45,
     "metadata": {},
     "output_type": "execute_result"
    }
   ],
   "source": [
    "sales_df.head(1)"
   ]
  },
  {
   "cell_type": "code",
   "execution_count": 46,
   "id": "c8d07628",
   "metadata": {},
   "outputs": [],
   "source": [
    "(sales_df.drop(['asset'], axis = 1, inplace = True))"
   ]
  },
  {
   "cell_type": "markdown",
   "id": "dfaae709",
   "metadata": {},
   "source": [
    "**c. transaction**"
   ]
  },
  {
   "cell_type": "code",
   "execution_count": 47,
   "id": "1ba35b6c",
   "metadata": {
    "scrolled": true
   },
   "outputs": [
    {
     "data": {
      "text/plain": [
       "{'block_hash': '0xf6bab2cf41a53489b2b8c456664f4654f72930cc6c902d00c5fee7e4be8fa176',\n",
       " 'block_number': '13781198',\n",
       " 'from_account': {'user': {'username': 'Iamchef'},\n",
       "  'profile_img_url': 'https://storage.googleapis.com/opensea-static/opensea-profile/32.png',\n",
       "  'address': '0xd7cd27993eae6c0e32657852305441e9e44360e9',\n",
       "  'config': ''},\n",
       " 'id': 220361608,\n",
       " 'timestamp': '2021-12-11T02:40:13',\n",
       " 'to_account': {'user': {'username': 'OpenSea-Orders'},\n",
       "  'profile_img_url': 'https://storage.googleapis.com/opensea-static/opensea-profile/22.png',\n",
       "  'address': '0x7be8076f4ea4a4ad08075c2508e481d6c946d12b',\n",
       "  'config': 'verified'},\n",
       " 'transaction_hash': '0x1dfbc7e2c2d2b108926808a5334961f73a4bdaba6c37116c43a36dd9de7b8920',\n",
       " 'transaction_index': '217'}"
      ]
     },
     "execution_count": 47,
     "metadata": {},
     "output_type": "execute_result"
    }
   ],
   "source": [
    "sales_df.transaction.iloc[4]"
   ]
  },
  {
   "cell_type": "code",
   "execution_count": 48,
   "id": "5247be92",
   "metadata": {},
   "outputs": [
    {
     "data": {
      "text/plain": [
       "'ram-che'"
      ]
     },
     "execution_count": 48,
     "metadata": {},
     "output_type": "execute_result"
    }
   ],
   "source": [
    "sales_df.transaction.iloc[12]['from_account']['user']['username']"
   ]
  },
  {
   "cell_type": "code",
   "execution_count": 49,
   "id": "82fd4d08",
   "metadata": {},
   "outputs": [],
   "source": [
    "sales_df['transaction_from_account'] = (sales_df.transaction.apply(lambda x: 'unknown'\n",
    "                              if (pd.isnull(x)) else x['from_account']))"
   ]
  },
  {
   "cell_type": "code",
   "execution_count": 50,
   "id": "37735c45",
   "metadata": {},
   "outputs": [],
   "source": [
    "sales_df['transaction_from_account_user'] = (sales_df.transaction_from_account.\n",
    "                                             apply(lambda x: 'unknown'\n",
    "                                                   if (pd.isnull(x)) else x['user']))"
   ]
  },
  {
   "cell_type": "code",
   "execution_count": 51,
   "id": "870ecd4c",
   "metadata": {},
   "outputs": [],
   "source": [
    "sales_df['transaction_from_account_username'] = (sales_df.transaction_from_account_user.apply\n",
    "                                                 (lambda x: 'unknown' \n",
    "                                                  if (pd.isnull(x)) else x['username']))"
   ]
  },
  {
   "cell_type": "code",
   "execution_count": 52,
   "id": "392468f6",
   "metadata": {},
   "outputs": [],
   "source": [
    "(sales_df.drop(['transaction_from_account_user', 'transaction_from_account'], axis = 1, inplace = True))"
   ]
  },
  {
   "cell_type": "code",
   "execution_count": null,
   "id": "c7b0ad85",
   "metadata": {},
   "outputs": [],
   "source": []
  },
  {
   "cell_type": "code",
   "execution_count": 53,
   "id": "ef143b39",
   "metadata": {},
   "outputs": [
    {
     "data": {
      "text/plain": [
       "'OpenSea-Orders'"
      ]
     },
     "execution_count": 53,
     "metadata": {},
     "output_type": "execute_result"
    }
   ],
   "source": [
    "sales_df.transaction.iloc[15]['to_account']['user']['username']"
   ]
  },
  {
   "cell_type": "code",
   "execution_count": 54,
   "id": "6c786af5",
   "metadata": {},
   "outputs": [],
   "source": [
    "sales_df['transaction_to_account'] = (sales_df.transaction.apply(lambda x: 'unknown'\n",
    "                              if (pd.isnull(x)) else x['to_account']))"
   ]
  },
  {
   "cell_type": "code",
   "execution_count": 55,
   "id": "c3a017a8",
   "metadata": {},
   "outputs": [],
   "source": [
    "sales_df['transaction_to_account_user'] = (sales_df.transaction_to_account.\n",
    "                                             apply(lambda x: 'unknown'\n",
    "                                                   if (pd.isnull(x)) else x['user']))"
   ]
  },
  {
   "cell_type": "code",
   "execution_count": 56,
   "id": "603e90af",
   "metadata": {},
   "outputs": [],
   "source": [
    "sales_df['transaction_to_account_username'] = (sales_df.transaction_to_account_user.apply\n",
    "                                                 (lambda x: 'unknown' \n",
    "                                                  if (pd.isnull(x)) else x['username']))"
   ]
  },
  {
   "cell_type": "code",
   "execution_count": 57,
   "id": "9d0bfbc0",
   "metadata": {},
   "outputs": [],
   "source": [
    "(sales_df.drop(['transaction_to_account_user', 'transaction_to_account', 'transaction'], \n",
    "               axis = 1, inplace = True))"
   ]
  },
  {
   "cell_type": "code",
   "execution_count": 58,
   "id": "3c5eda6a",
   "metadata": {},
   "outputs": [
    {
     "data": {
      "text/plain": [
       "OpenSea-Orders    10025\n",
       "unknown              25\n",
       "Name: transaction_to_account_username, dtype: int64"
      ]
     },
     "execution_count": 58,
     "metadata": {},
     "output_type": "execute_result"
    }
   ],
   "source": [
    "sales_df['transaction_to_account_username'] .value_counts()"
   ]
  },
  {
   "cell_type": "markdown",
   "id": "915893b5",
   "metadata": {},
   "source": [
    "We're going to drop this as well"
   ]
  },
  {
   "cell_type": "code",
   "execution_count": 59,
   "id": "007adedf",
   "metadata": {},
   "outputs": [],
   "source": [
    "(sales_df.drop(['transaction_to_account_username'], axis = 1, inplace = True))"
   ]
  },
  {
   "cell_type": "markdown",
   "id": "e8fdc2b3",
   "metadata": {},
   "source": [
    "**d. seller**"
   ]
  },
  {
   "cell_type": "code",
   "execution_count": 60,
   "id": "5dc3122d",
   "metadata": {
    "scrolled": true
   },
   "outputs": [
    {
     "data": {
      "text/plain": [
       "{'user': {'username': '666luckerr'},\n",
       " 'profile_img_url': 'https://storage.googleapis.com/opensea-static/opensea-profile/1.png',\n",
       " 'address': '0xfddda4259c41908dea4f3ec0a51f0e9bbb0893dd',\n",
       " 'config': ''}"
      ]
     },
     "execution_count": 60,
     "metadata": {},
     "output_type": "execute_result"
    }
   ],
   "source": [
    "sales_df.seller.iloc[97]"
   ]
  },
  {
   "cell_type": "code",
   "execution_count": 61,
   "id": "64423497",
   "metadata": {},
   "outputs": [],
   "source": [
    "sales_df['seller_user'] = (sales_df.seller.\n",
    "                            apply(lambda x: 'unknown'\n",
    "                            if (pd.isnull(x)) else x['user']))"
   ]
  },
  {
   "cell_type": "code",
   "execution_count": 62,
   "id": "9942a17b",
   "metadata": {},
   "outputs": [],
   "source": [
    "sales_df['seller_username'] = (sales_df.seller_user.apply\n",
    "                                            (lambda x: 'unknown' \n",
    "                                            if (pd.isnull(x)) else x['username']))"
   ]
  },
  {
   "cell_type": "code",
   "execution_count": 63,
   "id": "d2f17302",
   "metadata": {},
   "outputs": [],
   "source": [
    "(sales_df.drop(['seller_user', 'seller'], \n",
    "               axis = 1, inplace = True))"
   ]
  },
  {
   "cell_type": "markdown",
   "id": "d87101ee",
   "metadata": {},
   "source": [
    "**e.winner account**"
   ]
  },
  {
   "cell_type": "code",
   "execution_count": 64,
   "id": "07a4759e",
   "metadata": {},
   "outputs": [
    {
     "data": {
      "text/plain": [
       "{'user': {'username': 'Iamchef'},\n",
       " 'profile_img_url': 'https://storage.googleapis.com/opensea-static/opensea-profile/32.png',\n",
       " 'address': '0xd7cd27993eae6c0e32657852305441e9e44360e9',\n",
       " 'config': ''}"
      ]
     },
     "execution_count": 64,
     "metadata": {},
     "output_type": "execute_result"
    }
   ],
   "source": [
    "sales_df.winner_account.iloc[4]"
   ]
  },
  {
   "cell_type": "code",
   "execution_count": 65,
   "id": "fcaf7b39",
   "metadata": {},
   "outputs": [],
   "source": [
    "sales_df['winner_account_user'] = (sales_df.winner_account.\n",
    "                                apply(lambda x: 'unknown'\n",
    "                                if (pd.isnull(x)) else x['user']))"
   ]
  },
  {
   "cell_type": "code",
   "execution_count": 66,
   "id": "30753008",
   "metadata": {},
   "outputs": [],
   "source": [
    "sales_df['winner_account_username'] = (sales_df.winner_account_user.apply\n",
    "                                            (lambda x: 'unknown' \n",
    "                                            if (pd.isnull(x)) else x['username']))"
   ]
  },
  {
   "cell_type": "code",
   "execution_count": 67,
   "id": "77501c22",
   "metadata": {},
   "outputs": [],
   "source": [
    "(sales_df.drop(['winner_account_user', 'winner_account'], \n",
    "               axis = 1, inplace = True))"
   ]
  },
  {
   "cell_type": "code",
   "execution_count": 68,
   "id": "4b64146a",
   "metadata": {},
   "outputs": [
    {
     "data": {
      "text/html": [
       "<div>\n",
       "<style scoped>\n",
       "    .dataframe tbody tr th:only-of-type {\n",
       "        vertical-align: middle;\n",
       "    }\n",
       "\n",
       "    .dataframe tbody tr th {\n",
       "        vertical-align: top;\n",
       "    }\n",
       "\n",
       "    .dataframe thead th {\n",
       "        text-align: right;\n",
       "    }\n",
       "</style>\n",
       "<table border=\"1\" class=\"dataframe\">\n",
       "  <thead>\n",
       "    <tr style=\"text-align: right;\">\n",
       "      <th></th>\n",
       "      <th>_id</th>\n",
       "      <th>asset_bundle</th>\n",
       "      <th>created_date</th>\n",
       "      <th>dev_fee_payment_event</th>\n",
       "      <th>from_account</th>\n",
       "      <th>id</th>\n",
       "      <th>is_private</th>\n",
       "      <th>quantity</th>\n",
       "      <th>to_account</th>\n",
       "      <th>total_price</th>\n",
       "      <th>payment_token_symbol</th>\n",
       "      <th>payment_token_usd_price</th>\n",
       "      <th>asset_token_id</th>\n",
       "      <th>asset_num_sales</th>\n",
       "      <th>asset_id</th>\n",
       "      <th>asset_image_url</th>\n",
       "      <th>transaction_from_account_username</th>\n",
       "      <th>seller_username</th>\n",
       "      <th>winner_account_username</th>\n",
       "    </tr>\n",
       "  </thead>\n",
       "  <tbody>\n",
       "    <tr>\n",
       "      <th>0</th>\n",
       "      <td>61b41aebd6ab32dbd9a84ea0</td>\n",
       "      <td>None</td>\n",
       "      <td>2021-12-11T03:27:23.942099</td>\n",
       "      <td>None</td>\n",
       "      <td>None</td>\n",
       "      <td>2427455930</td>\n",
       "      <td>False</td>\n",
       "      <td>1</td>\n",
       "      <td>None</td>\n",
       "      <td>365000000000000000</td>\n",
       "      <td>ETH</td>\n",
       "      <td>3983.769999999999982000</td>\n",
       "      <td>1</td>\n",
       "      <td>14807</td>\n",
       "      <td>44596334</td>\n",
       "      <td>https://lh3.googleusercontent.com/9GgkzN-7si-y...</td>\n",
       "      <td>nikolas17</td>\n",
       "      <td>0xBub</td>\n",
       "      <td>nikolas17</td>\n",
       "    </tr>\n",
       "    <tr>\n",
       "      <th>1</th>\n",
       "      <td>61b41aebd6ab32dbd9a84ea1</td>\n",
       "      <td>None</td>\n",
       "      <td>2021-12-11T03:20:03.826890</td>\n",
       "      <td>None</td>\n",
       "      <td>None</td>\n",
       "      <td>2427391259</td>\n",
       "      <td>None</td>\n",
       "      <td>1</td>\n",
       "      <td>None</td>\n",
       "      <td>500000000000000000</td>\n",
       "      <td>WETH</td>\n",
       "      <td>3972.699999999999818000</td>\n",
       "      <td>5594</td>\n",
       "      <td>2</td>\n",
       "      <td>59286920</td>\n",
       "      <td>https://lh3.googleusercontent.com/ko_eY806byoe...</td>\n",
       "      <td>adamludwin</td>\n",
       "      <td>adamludwin</td>\n",
       "      <td>858</td>\n",
       "    </tr>\n",
       "    <tr>\n",
       "      <th>2</th>\n",
       "      <td>61b41aebd6ab32dbd9a84ea2</td>\n",
       "      <td>None</td>\n",
       "      <td>2021-12-11T02:47:15.343322</td>\n",
       "      <td>None</td>\n",
       "      <td>None</td>\n",
       "      <td>2427093401</td>\n",
       "      <td>False</td>\n",
       "      <td>1</td>\n",
       "      <td>None</td>\n",
       "      <td>1000000000000000000</td>\n",
       "      <td>ETH</td>\n",
       "      <td>3983.769999999999982000</td>\n",
       "      <td>8839</td>\n",
       "      <td>1</td>\n",
       "      <td>59336121</td>\n",
       "      <td>https://lh3.googleusercontent.com/yNssfCMygvRC...</td>\n",
       "      <td>Iamchef</td>\n",
       "      <td>DirtySderty</td>\n",
       "      <td>Iamchef</td>\n",
       "    </tr>\n",
       "  </tbody>\n",
       "</table>\n",
       "</div>"
      ],
      "text/plain": [
       "                        _id asset_bundle                created_date  \\\n",
       "0  61b41aebd6ab32dbd9a84ea0         None  2021-12-11T03:27:23.942099   \n",
       "1  61b41aebd6ab32dbd9a84ea1         None  2021-12-11T03:20:03.826890   \n",
       "2  61b41aebd6ab32dbd9a84ea2         None  2021-12-11T02:47:15.343322   \n",
       "\n",
       "  dev_fee_payment_event from_account          id is_private quantity  \\\n",
       "0                  None         None  2427455930      False        1   \n",
       "1                  None         None  2427391259       None        1   \n",
       "2                  None         None  2427093401      False        1   \n",
       "\n",
       "  to_account          total_price payment_token_symbol  \\\n",
       "0       None   365000000000000000                  ETH   \n",
       "1       None   500000000000000000                 WETH   \n",
       "2       None  1000000000000000000                  ETH   \n",
       "\n",
       "   payment_token_usd_price asset_token_id  asset_num_sales  asset_id  \\\n",
       "0  3983.769999999999982000              1            14807  44596334   \n",
       "1  3972.699999999999818000           5594                2  59286920   \n",
       "2  3983.769999999999982000           8839                1  59336121   \n",
       "\n",
       "                                     asset_image_url  \\\n",
       "0  https://lh3.googleusercontent.com/9GgkzN-7si-y...   \n",
       "1  https://lh3.googleusercontent.com/ko_eY806byoe...   \n",
       "2  https://lh3.googleusercontent.com/yNssfCMygvRC...   \n",
       "\n",
       "  transaction_from_account_username seller_username winner_account_username  \n",
       "0                         nikolas17           0xBub               nikolas17  \n",
       "1                        adamludwin      adamludwin                     858  \n",
       "2                           Iamchef     DirtySderty                 Iamchef  "
      ]
     },
     "execution_count": 68,
     "metadata": {},
     "output_type": "execute_result"
    }
   ],
   "source": [
    "sales_df.head(3)"
   ]
  },
  {
   "cell_type": "code",
   "execution_count": 69,
   "id": "e0491f0d",
   "metadata": {},
   "outputs": [
    {
     "data": {
      "text/plain": [
       "2453"
      ]
     },
     "execution_count": 69,
     "metadata": {},
     "output_type": "execute_result"
    }
   ],
   "source": [
    "sales_df.winner_account_username.nunique()"
   ]
  },
  {
   "cell_type": "markdown",
   "id": "969300cd",
   "metadata": {},
   "source": [
    "### 4. Columns with too many null values"
   ]
  },
  {
   "cell_type": "code",
   "execution_count": 70,
   "id": "48fd5ea7",
   "metadata": {},
   "outputs": [
    {
     "name": "stdout",
     "output_type": "stream",
     "text": [
      "<class 'pandas.core.frame.DataFrame'>\n",
      "RangeIndex: 10050 entries, 0 to 10049\n",
      "Data columns (total 19 columns):\n",
      " #   Column                             Non-Null Count  Dtype \n",
      "---  ------                             --------------  ----- \n",
      " 0   _id                                10050 non-null  object\n",
      " 1   asset_bundle                       3 non-null      object\n",
      " 2   created_date                       10050 non-null  object\n",
      " 3   dev_fee_payment_event              9637 non-null   object\n",
      " 4   from_account                       6 non-null      object\n",
      " 5   id                                 10050 non-null  int64 \n",
      " 6   is_private                         8423 non-null   object\n",
      " 7   quantity                           10050 non-null  object\n",
      " 8   to_account                         6 non-null      object\n",
      " 9   total_price                        10050 non-null  object\n",
      " 10  payment_token_symbol               10050 non-null  object\n",
      " 11  payment_token_usd_price            10050 non-null  object\n",
      " 12  asset_token_id                     10050 non-null  object\n",
      " 13  asset_num_sales                    10050 non-null  int64 \n",
      " 14  asset_id                           10050 non-null  int64 \n",
      " 15  asset_image_url                    10050 non-null  object\n",
      " 16  transaction_from_account_username  8595 non-null   object\n",
      " 17  seller_username                    9030 non-null   object\n",
      " 18  winner_account_username            8616 non-null   object\n",
      "dtypes: int64(3), object(16)\n",
      "memory usage: 1.5+ MB\n"
     ]
    }
   ],
   "source": [
    "sales_df.info()"
   ]
  },
  {
   "cell_type": "markdown",
   "id": "9dd5301a",
   "metadata": {},
   "source": [
    "**a. asset & asset_bundle**"
   ]
  },
  {
   "cell_type": "code",
   "execution_count": 71,
   "id": "8a37dfb5",
   "metadata": {},
   "outputs": [
    {
     "data": {
      "text/html": [
       "<div>\n",
       "<style scoped>\n",
       "    .dataframe tbody tr th:only-of-type {\n",
       "        vertical-align: middle;\n",
       "    }\n",
       "\n",
       "    .dataframe tbody tr th {\n",
       "        vertical-align: top;\n",
       "    }\n",
       "\n",
       "    .dataframe thead th {\n",
       "        text-align: right;\n",
       "    }\n",
       "</style>\n",
       "<table border=\"1\" class=\"dataframe\">\n",
       "  <thead>\n",
       "    <tr style=\"text-align: right;\">\n",
       "      <th></th>\n",
       "      <th>_id</th>\n",
       "      <th>asset_bundle</th>\n",
       "      <th>created_date</th>\n",
       "      <th>dev_fee_payment_event</th>\n",
       "      <th>from_account</th>\n",
       "      <th>id</th>\n",
       "      <th>is_private</th>\n",
       "      <th>quantity</th>\n",
       "      <th>to_account</th>\n",
       "      <th>total_price</th>\n",
       "      <th>payment_token_symbol</th>\n",
       "      <th>payment_token_usd_price</th>\n",
       "      <th>asset_token_id</th>\n",
       "      <th>asset_num_sales</th>\n",
       "      <th>asset_id</th>\n",
       "      <th>asset_image_url</th>\n",
       "      <th>transaction_from_account_username</th>\n",
       "      <th>seller_username</th>\n",
       "      <th>winner_account_username</th>\n",
       "    </tr>\n",
       "  </thead>\n",
       "  <tbody>\n",
       "    <tr>\n",
       "      <th>1649</th>\n",
       "      <td>61b41b06d6ab32dbd9a85511</td>\n",
       "      <td>{'maker': {'user': {'username': 'xxyzz'}, 'pro...</td>\n",
       "      <td>2021-11-20T17:26:25.504649</td>\n",
       "      <td>{'asset': None, 'asset_bundle': None, 'event_t...</td>\n",
       "      <td>None</td>\n",
       "      <td>2056727815</td>\n",
       "      <td>True</td>\n",
       "      <td>8</td>\n",
       "      <td>None</td>\n",
       "      <td>0</td>\n",
       "      <td>ETH</td>\n",
       "      <td>3983.769999999999982000</td>\n",
       "      <td>0</td>\n",
       "      <td>0</td>\n",
       "      <td>0</td>\n",
       "      <td>unknown</td>\n",
       "      <td>None</td>\n",
       "      <td>xxyzz</td>\n",
       "      <td>None</td>\n",
       "    </tr>\n",
       "    <tr>\n",
       "      <th>3635</th>\n",
       "      <td>61b41b2bd6ab32dbd9a85cd3</td>\n",
       "      <td>{'maker': {'user': {'username': 'Strongheart'}...</td>\n",
       "      <td>2021-11-02T05:55:26.503712</td>\n",
       "      <td>{'asset': None, 'asset_bundle': None, 'event_t...</td>\n",
       "      <td>None</td>\n",
       "      <td>1655102337</td>\n",
       "      <td>False</td>\n",
       "      <td>8</td>\n",
       "      <td>None</td>\n",
       "      <td>7000000000000000000</td>\n",
       "      <td>ETH</td>\n",
       "      <td>3983.769999999999982000</td>\n",
       "      <td>0</td>\n",
       "      <td>0</td>\n",
       "      <td>0</td>\n",
       "      <td>unknown</td>\n",
       "      <td>HalfLifeXxVault</td>\n",
       "      <td>Strongheart</td>\n",
       "      <td>HalfLifeXxVault</td>\n",
       "    </tr>\n",
       "    <tr>\n",
       "      <th>5955</th>\n",
       "      <td>61b41b55d6ab32dbd9a865e3</td>\n",
       "      <td>{'maker': {'user': {'username': 'Strongheart'}...</td>\n",
       "      <td>2021-10-13T21:20:58.732398</td>\n",
       "      <td>{'asset': None, 'asset_bundle': None, 'event_t...</td>\n",
       "      <td>None</td>\n",
       "      <td>1359212707</td>\n",
       "      <td>False</td>\n",
       "      <td>5</td>\n",
       "      <td>None</td>\n",
       "      <td>5750000000000000000</td>\n",
       "      <td>ETH</td>\n",
       "      <td>3983.769999999999982000</td>\n",
       "      <td>0</td>\n",
       "      <td>0</td>\n",
       "      <td>0</td>\n",
       "      <td>unknown</td>\n",
       "      <td>mexpex</td>\n",
       "      <td>Strongheart</td>\n",
       "      <td>mexpex</td>\n",
       "    </tr>\n",
       "  </tbody>\n",
       "</table>\n",
       "</div>"
      ],
      "text/plain": [
       "                           _id  \\\n",
       "1649  61b41b06d6ab32dbd9a85511   \n",
       "3635  61b41b2bd6ab32dbd9a85cd3   \n",
       "5955  61b41b55d6ab32dbd9a865e3   \n",
       "\n",
       "                                           asset_bundle  \\\n",
       "1649  {'maker': {'user': {'username': 'xxyzz'}, 'pro...   \n",
       "3635  {'maker': {'user': {'username': 'Strongheart'}...   \n",
       "5955  {'maker': {'user': {'username': 'Strongheart'}...   \n",
       "\n",
       "                    created_date  \\\n",
       "1649  2021-11-20T17:26:25.504649   \n",
       "3635  2021-11-02T05:55:26.503712   \n",
       "5955  2021-10-13T21:20:58.732398   \n",
       "\n",
       "                                  dev_fee_payment_event from_account  \\\n",
       "1649  {'asset': None, 'asset_bundle': None, 'event_t...         None   \n",
       "3635  {'asset': None, 'asset_bundle': None, 'event_t...         None   \n",
       "5955  {'asset': None, 'asset_bundle': None, 'event_t...         None   \n",
       "\n",
       "              id is_private quantity to_account          total_price  \\\n",
       "1649  2056727815       True        8       None                    0   \n",
       "3635  1655102337      False        8       None  7000000000000000000   \n",
       "5955  1359212707      False        5       None  5750000000000000000   \n",
       "\n",
       "     payment_token_symbol  payment_token_usd_price asset_token_id  \\\n",
       "1649                  ETH  3983.769999999999982000              0   \n",
       "3635                  ETH  3983.769999999999982000              0   \n",
       "5955                  ETH  3983.769999999999982000              0   \n",
       "\n",
       "      asset_num_sales  asset_id asset_image_url  \\\n",
       "1649                0         0         unknown   \n",
       "3635                0         0         unknown   \n",
       "5955                0         0         unknown   \n",
       "\n",
       "     transaction_from_account_username seller_username winner_account_username  \n",
       "1649                              None           xxyzz                    None  \n",
       "3635                   HalfLifeXxVault     Strongheart         HalfLifeXxVault  \n",
       "5955                            mexpex     Strongheart                  mexpex  "
      ]
     },
     "execution_count": 71,
     "metadata": {},
     "output_type": "execute_result"
    }
   ],
   "source": [
    "sales_df[pd.notnull(sales_df.asset_bundle)]"
   ]
  },
  {
   "cell_type": "code",
   "execution_count": 72,
   "id": "3515cad5",
   "metadata": {},
   "outputs": [
    {
     "data": {
      "text/plain": [
       "{'maker': {'user': {'username': 'xxyzz'},\n",
       "  'profile_img_url': 'https://storage.googleapis.com/opensea-static/opensea-profile/24.png',\n",
       "  'address': '0xdc5cdb19d6ab7dff6e6b155c6d27ebe349579524',\n",
       "  'config': ''},\n",
       " 'slug': 'd-exf',\n",
       " 'assets': [{'id': 59269612,\n",
       "   'token_id': '1777',\n",
       "   'num_sales': 0,\n",
       "   'background_color': None,\n",
       "   'image_url': 'https://lh3.googleusercontent.com/5mpIjvIP9ruMlySj4zlgTr5LeNJiw_Lzq3sMEXPUx-NECTebWFe3-VB8sgFgxlqUyujAo3TEU4Y4X71NQX8jfZERozPF3fWLsR7-',\n",
       "   'image_preview_url': 'https://lh3.googleusercontent.com/5mpIjvIP9ruMlySj4zlgTr5LeNJiw_Lzq3sMEXPUx-NECTebWFe3-VB8sgFgxlqUyujAo3TEU4Y4X71NQX8jfZERozPF3fWLsR7-=s250',\n",
       "   'image_thumbnail_url': 'https://lh3.googleusercontent.com/5mpIjvIP9ruMlySj4zlgTr5LeNJiw_Lzq3sMEXPUx-NECTebWFe3-VB8sgFgxlqUyujAo3TEU4Y4X71NQX8jfZERozPF3fWLsR7-=s128',\n",
       "   'image_original_url': 'https://d1xxei964ioe0z.cloudfront.net/full/b346580a37c08c6dc1ac5272e92bd1fb15ac68a8438fc71c0e95f66feb466669.png',\n",
       "   'animation_url': None,\n",
       "   'animation_original_url': None,\n",
       "   'name': 'Poet #1777',\n",
       "   'description': None,\n",
       "   'external_link': None,\n",
       "   'asset_contract': {'address': '0x4b3406a41399c7fd2ba65cbc93697ad9e7ea61e5',\n",
       "    'asset_contract_type': 'non-fungible',\n",
       "    'created_date': '2021-09-25T05:35:23.490231',\n",
       "    'name': 'Lost Poets',\n",
       "    'nft_version': '3.0',\n",
       "    'opensea_version': None,\n",
       "    'owner': 2504088,\n",
       "    'schema_name': 'ERC721',\n",
       "    'symbol': 'POETS',\n",
       "    'total_supply': None,\n",
       "    'description': '∴ AB AETERNO',\n",
       "    'external_link': 'https://lostpoets.xyz/',\n",
       "    'image_url': 'https://lh3.googleusercontent.com/cGKkMxKQ-7J0A4mZvcPqr2LKvGqIVsXjzGqpfxRNb4yVr-zTycPJ0kznkwKqDyUTg--A32oW8cI32BQBl6hrbM-frn1__o544ECpCg=s120',\n",
       "    'default_to_fiat': False,\n",
       "    'dev_buyer_fee_basis_points': 0,\n",
       "    'dev_seller_fee_basis_points': 1000,\n",
       "    'only_proxied_transfers': False,\n",
       "    'opensea_buyer_fee_basis_points': 0,\n",
       "    'opensea_seller_fee_basis_points': 250,\n",
       "    'buyer_fee_basis_points': 0,\n",
       "    'seller_fee_basis_points': 1250,\n",
       "    'payout_address': '0x8e8717dcd1687080757cb513d7d6702625973be8'},\n",
       "   'permalink': 'https://opensea.io/assets/0x4b3406a41399c7fd2ba65cbc93697ad9e7ea61e5/1777',\n",
       "   'collection': {'banner_image_url': 'https://lh3.googleusercontent.com/VNQfgH6h0cuiP6U-tTZ8qRUVivEtB1TdMsn6MWG_15wzr1899ehqrVZ_vrh5a3uNkseRmTfLyi0X8Q-WOq06e3IhMSiCyHV6XX97oxM=s2500',\n",
       "    'chat_url': None,\n",
       "    'created_date': '2021-09-03T04:50:03.338901',\n",
       "    'default_to_fiat': False,\n",
       "    'description': '∴ AB AETERNO',\n",
       "    'dev_buyer_fee_basis_points': '0',\n",
       "    'dev_seller_fee_basis_points': '1000',\n",
       "    'discord_url': None,\n",
       "    'display_data': {'card_display_style': 'cover'},\n",
       "    'external_url': 'https://lostpoets.xyz/',\n",
       "    'featured': False,\n",
       "    'featured_image_url': 'https://lh3.googleusercontent.com/VNQfgH6h0cuiP6U-tTZ8qRUVivEtB1TdMsn6MWG_15wzr1899ehqrVZ_vrh5a3uNkseRmTfLyi0X8Q-WOq06e3IhMSiCyHV6XX97oxM=s300',\n",
       "    'hidden': False,\n",
       "    'safelist_request_status': 'verified',\n",
       "    'image_url': 'https://lh3.googleusercontent.com/cGKkMxKQ-7J0A4mZvcPqr2LKvGqIVsXjzGqpfxRNb4yVr-zTycPJ0kznkwKqDyUTg--A32oW8cI32BQBl6hrbM-frn1__o544ECpCg=s120',\n",
       "    'is_subject_to_whitelist': False,\n",
       "    'large_image_url': 'https://lh3.googleusercontent.com/VNQfgH6h0cuiP6U-tTZ8qRUVivEtB1TdMsn6MWG_15wzr1899ehqrVZ_vrh5a3uNkseRmTfLyi0X8Q-WOq06e3IhMSiCyHV6XX97oxM=s300',\n",
       "    'medium_username': None,\n",
       "    'name': 'LOSTPOETS',\n",
       "    'only_proxied_transfers': False,\n",
       "    'opensea_buyer_fee_basis_points': '0',\n",
       "    'opensea_seller_fee_basis_points': '250',\n",
       "    'payout_address': '0x8e8717dcd1687080757cb513d7d6702625973be8',\n",
       "    'require_email': False,\n",
       "    'short_description': None,\n",
       "    'slug': 'lostpoets',\n",
       "    'telegram_url': None,\n",
       "    'twitter_username': 'poetslost',\n",
       "    'instagram_username': None,\n",
       "    'wiki_url': None},\n",
       "   'decimals': 0,\n",
       "   'token_metadata': 'https://lostpoets.api.manifoldxyz.dev/metadata/1777',\n",
       "   'owner': {'user': {'username': None},\n",
       "    'profile_img_url': 'https://storage.googleapis.com/opensea-static/opensea-profile/11.png',\n",
       "    'address': '0x6c27a1b3edaf67840fcf9f6d114c26415c8238ba',\n",
       "    'config': ''}},\n",
       "  {'id': 59269633,\n",
       "   'token_id': '1780',\n",
       "   'num_sales': 0,\n",
       "   'background_color': None,\n",
       "   'image_url': 'https://lh3.googleusercontent.com/9hPCWsr55ThOPgQASjczooN0mBe7aKutKJStFIpW-vo0Ccc8jJKCaZ9pwSi8SwKHFE8YvlyhHinkMkyFatHQkKJkq3h_TI7fcgAyAg',\n",
       "   'image_preview_url': 'https://lh3.googleusercontent.com/9hPCWsr55ThOPgQASjczooN0mBe7aKutKJStFIpW-vo0Ccc8jJKCaZ9pwSi8SwKHFE8YvlyhHinkMkyFatHQkKJkq3h_TI7fcgAyAg=s250',\n",
       "   'image_thumbnail_url': 'https://lh3.googleusercontent.com/9hPCWsr55ThOPgQASjczooN0mBe7aKutKJStFIpW-vo0Ccc8jJKCaZ9pwSi8SwKHFE8YvlyhHinkMkyFatHQkKJkq3h_TI7fcgAyAg=s128',\n",
       "   'image_original_url': 'https://d1xxei964ioe0z.cloudfront.net/full/1d4dea27f98c82b4d5374dd94b493e03adbdb8398dc5344403f78afa94e28e04.png',\n",
       "   'animation_url': None,\n",
       "   'animation_original_url': None,\n",
       "   'name': 'Poet #1780',\n",
       "   'description': None,\n",
       "   'external_link': None,\n",
       "   'asset_contract': {'address': '0x4b3406a41399c7fd2ba65cbc93697ad9e7ea61e5',\n",
       "    'asset_contract_type': 'non-fungible',\n",
       "    'created_date': '2021-09-25T05:35:23.490231',\n",
       "    'name': 'Lost Poets',\n",
       "    'nft_version': '3.0',\n",
       "    'opensea_version': None,\n",
       "    'owner': 2504088,\n",
       "    'schema_name': 'ERC721',\n",
       "    'symbol': 'POETS',\n",
       "    'total_supply': None,\n",
       "    'description': '∴ AB AETERNO',\n",
       "    'external_link': 'https://lostpoets.xyz/',\n",
       "    'image_url': 'https://lh3.googleusercontent.com/cGKkMxKQ-7J0A4mZvcPqr2LKvGqIVsXjzGqpfxRNb4yVr-zTycPJ0kznkwKqDyUTg--A32oW8cI32BQBl6hrbM-frn1__o544ECpCg=s120',\n",
       "    'default_to_fiat': False,\n",
       "    'dev_buyer_fee_basis_points': 0,\n",
       "    'dev_seller_fee_basis_points': 1000,\n",
       "    'only_proxied_transfers': False,\n",
       "    'opensea_buyer_fee_basis_points': 0,\n",
       "    'opensea_seller_fee_basis_points': 250,\n",
       "    'buyer_fee_basis_points': 0,\n",
       "    'seller_fee_basis_points': 1250,\n",
       "    'payout_address': '0x8e8717dcd1687080757cb513d7d6702625973be8'},\n",
       "   'permalink': 'https://opensea.io/assets/0x4b3406a41399c7fd2ba65cbc93697ad9e7ea61e5/1780',\n",
       "   'collection': {'banner_image_url': 'https://lh3.googleusercontent.com/VNQfgH6h0cuiP6U-tTZ8qRUVivEtB1TdMsn6MWG_15wzr1899ehqrVZ_vrh5a3uNkseRmTfLyi0X8Q-WOq06e3IhMSiCyHV6XX97oxM=s2500',\n",
       "    'chat_url': None,\n",
       "    'created_date': '2021-09-03T04:50:03.338901',\n",
       "    'default_to_fiat': False,\n",
       "    'description': '∴ AB AETERNO',\n",
       "    'dev_buyer_fee_basis_points': '0',\n",
       "    'dev_seller_fee_basis_points': '1000',\n",
       "    'discord_url': None,\n",
       "    'display_data': {'card_display_style': 'cover'},\n",
       "    'external_url': 'https://lostpoets.xyz/',\n",
       "    'featured': False,\n",
       "    'featured_image_url': 'https://lh3.googleusercontent.com/VNQfgH6h0cuiP6U-tTZ8qRUVivEtB1TdMsn6MWG_15wzr1899ehqrVZ_vrh5a3uNkseRmTfLyi0X8Q-WOq06e3IhMSiCyHV6XX97oxM=s300',\n",
       "    'hidden': False,\n",
       "    'safelist_request_status': 'verified',\n",
       "    'image_url': 'https://lh3.googleusercontent.com/cGKkMxKQ-7J0A4mZvcPqr2LKvGqIVsXjzGqpfxRNb4yVr-zTycPJ0kznkwKqDyUTg--A32oW8cI32BQBl6hrbM-frn1__o544ECpCg=s120',\n",
       "    'is_subject_to_whitelist': False,\n",
       "    'large_image_url': 'https://lh3.googleusercontent.com/VNQfgH6h0cuiP6U-tTZ8qRUVivEtB1TdMsn6MWG_15wzr1899ehqrVZ_vrh5a3uNkseRmTfLyi0X8Q-WOq06e3IhMSiCyHV6XX97oxM=s300',\n",
       "    'medium_username': None,\n",
       "    'name': 'LOSTPOETS',\n",
       "    'only_proxied_transfers': False,\n",
       "    'opensea_buyer_fee_basis_points': '0',\n",
       "    'opensea_seller_fee_basis_points': '250',\n",
       "    'payout_address': '0x8e8717dcd1687080757cb513d7d6702625973be8',\n",
       "    'require_email': False,\n",
       "    'short_description': None,\n",
       "    'slug': 'lostpoets',\n",
       "    'telegram_url': None,\n",
       "    'twitter_username': 'poetslost',\n",
       "    'instagram_username': None,\n",
       "    'wiki_url': None},\n",
       "   'decimals': 0,\n",
       "   'token_metadata': 'https://lostpoets.api.manifoldxyz.dev/metadata/1780',\n",
       "   'owner': {'user': {'username': None},\n",
       "    'profile_img_url': 'https://storage.googleapis.com/opensea-static/opensea-profile/11.png',\n",
       "    'address': '0x6c27a1b3edaf67840fcf9f6d114c26415c8238ba',\n",
       "    'config': ''}},\n",
       "  {'id': 59269682,\n",
       "   'token_id': '1811',\n",
       "   'num_sales': 1,\n",
       "   'background_color': None,\n",
       "   'image_url': 'https://lh3.googleusercontent.com/ek3ZsnVOLiBH4odkVUOtjnf8WlbLlcbrj2vg8ekZZhyiqsxMyBFebpZsflr7RBJnNORnjrJCtBxl2RtSf2s4O8Z7x_bmRf4yJCBZ9w',\n",
       "   'image_preview_url': 'https://lh3.googleusercontent.com/ek3ZsnVOLiBH4odkVUOtjnf8WlbLlcbrj2vg8ekZZhyiqsxMyBFebpZsflr7RBJnNORnjrJCtBxl2RtSf2s4O8Z7x_bmRf4yJCBZ9w=s250',\n",
       "   'image_thumbnail_url': 'https://lh3.googleusercontent.com/ek3ZsnVOLiBH4odkVUOtjnf8WlbLlcbrj2vg8ekZZhyiqsxMyBFebpZsflr7RBJnNORnjrJCtBxl2RtSf2s4O8Z7x_bmRf4yJCBZ9w=s128',\n",
       "   'image_original_url': 'https://d1xxei964ioe0z.cloudfront.net/full/828542d3d7c7a69ebb4acd3545f2c13ff6bc7341d607b2cb222ed8ad4bd43f90.png',\n",
       "   'animation_url': None,\n",
       "   'animation_original_url': None,\n",
       "   'name': 'Poet #1811',\n",
       "   'description': None,\n",
       "   'external_link': None,\n",
       "   'asset_contract': {'address': '0x4b3406a41399c7fd2ba65cbc93697ad9e7ea61e5',\n",
       "    'asset_contract_type': 'non-fungible',\n",
       "    'created_date': '2021-09-25T05:35:23.490231',\n",
       "    'name': 'Lost Poets',\n",
       "    'nft_version': '3.0',\n",
       "    'opensea_version': None,\n",
       "    'owner': 2504088,\n",
       "    'schema_name': 'ERC721',\n",
       "    'symbol': 'POETS',\n",
       "    'total_supply': None,\n",
       "    'description': '∴ AB AETERNO',\n",
       "    'external_link': 'https://lostpoets.xyz/',\n",
       "    'image_url': 'https://lh3.googleusercontent.com/cGKkMxKQ-7J0A4mZvcPqr2LKvGqIVsXjzGqpfxRNb4yVr-zTycPJ0kznkwKqDyUTg--A32oW8cI32BQBl6hrbM-frn1__o544ECpCg=s120',\n",
       "    'default_to_fiat': False,\n",
       "    'dev_buyer_fee_basis_points': 0,\n",
       "    'dev_seller_fee_basis_points': 1000,\n",
       "    'only_proxied_transfers': False,\n",
       "    'opensea_buyer_fee_basis_points': 0,\n",
       "    'opensea_seller_fee_basis_points': 250,\n",
       "    'buyer_fee_basis_points': 0,\n",
       "    'seller_fee_basis_points': 1250,\n",
       "    'payout_address': '0x8e8717dcd1687080757cb513d7d6702625973be8'},\n",
       "   'permalink': 'https://opensea.io/assets/0x4b3406a41399c7fd2ba65cbc93697ad9e7ea61e5/1811',\n",
       "   'collection': {'banner_image_url': 'https://lh3.googleusercontent.com/VNQfgH6h0cuiP6U-tTZ8qRUVivEtB1TdMsn6MWG_15wzr1899ehqrVZ_vrh5a3uNkseRmTfLyi0X8Q-WOq06e3IhMSiCyHV6XX97oxM=s2500',\n",
       "    'chat_url': None,\n",
       "    'created_date': '2021-09-03T04:50:03.338901',\n",
       "    'default_to_fiat': False,\n",
       "    'description': '∴ AB AETERNO',\n",
       "    'dev_buyer_fee_basis_points': '0',\n",
       "    'dev_seller_fee_basis_points': '1000',\n",
       "    'discord_url': None,\n",
       "    'display_data': {'card_display_style': 'cover'},\n",
       "    'external_url': 'https://lostpoets.xyz/',\n",
       "    'featured': False,\n",
       "    'featured_image_url': 'https://lh3.googleusercontent.com/VNQfgH6h0cuiP6U-tTZ8qRUVivEtB1TdMsn6MWG_15wzr1899ehqrVZ_vrh5a3uNkseRmTfLyi0X8Q-WOq06e3IhMSiCyHV6XX97oxM=s300',\n",
       "    'hidden': False,\n",
       "    'safelist_request_status': 'verified',\n",
       "    'image_url': 'https://lh3.googleusercontent.com/cGKkMxKQ-7J0A4mZvcPqr2LKvGqIVsXjzGqpfxRNb4yVr-zTycPJ0kznkwKqDyUTg--A32oW8cI32BQBl6hrbM-frn1__o544ECpCg=s120',\n",
       "    'is_subject_to_whitelist': False,\n",
       "    'large_image_url': 'https://lh3.googleusercontent.com/VNQfgH6h0cuiP6U-tTZ8qRUVivEtB1TdMsn6MWG_15wzr1899ehqrVZ_vrh5a3uNkseRmTfLyi0X8Q-WOq06e3IhMSiCyHV6XX97oxM=s300',\n",
       "    'medium_username': None,\n",
       "    'name': 'LOSTPOETS',\n",
       "    'only_proxied_transfers': False,\n",
       "    'opensea_buyer_fee_basis_points': '0',\n",
       "    'opensea_seller_fee_basis_points': '250',\n",
       "    'payout_address': '0x8e8717dcd1687080757cb513d7d6702625973be8',\n",
       "    'require_email': False,\n",
       "    'short_description': None,\n",
       "    'slug': 'lostpoets',\n",
       "    'telegram_url': None,\n",
       "    'twitter_username': 'poetslost',\n",
       "    'instagram_username': None,\n",
       "    'wiki_url': None},\n",
       "   'decimals': 0,\n",
       "   'token_metadata': 'https://lostpoets.api.manifoldxyz.dev/metadata/1811',\n",
       "   'owner': {'user': {'username': None},\n",
       "    'profile_img_url': 'https://storage.googleapis.com/opensea-static/opensea-profile/11.png',\n",
       "    'address': '0x6c27a1b3edaf67840fcf9f6d114c26415c8238ba',\n",
       "    'config': ''}},\n",
       "  {'id': 59271202,\n",
       "   'token_id': '2608',\n",
       "   'num_sales': 1,\n",
       "   'background_color': None,\n",
       "   'image_url': 'https://lh3.googleusercontent.com/_5lwYdwmDKjT0RqhGS8amfmwdZ8ACqCGSgPQpIqI08A9HSzCrit6oLW1plsWQQcUUiJPB5nOALtYaVZ92j9t1kok8OKGrQvg1YliUQ',\n",
       "   'image_preview_url': 'https://lh3.googleusercontent.com/_5lwYdwmDKjT0RqhGS8amfmwdZ8ACqCGSgPQpIqI08A9HSzCrit6oLW1plsWQQcUUiJPB5nOALtYaVZ92j9t1kok8OKGrQvg1YliUQ=s250',\n",
       "   'image_thumbnail_url': 'https://lh3.googleusercontent.com/_5lwYdwmDKjT0RqhGS8amfmwdZ8ACqCGSgPQpIqI08A9HSzCrit6oLW1plsWQQcUUiJPB5nOALtYaVZ92j9t1kok8OKGrQvg1YliUQ=s128',\n",
       "   'image_original_url': 'https://d1xxei964ioe0z.cloudfront.net/full/a2713ff2c84101b62d5f5028df25e4f92787ab33af357f93ed047da554b6ff57.png',\n",
       "   'animation_url': None,\n",
       "   'animation_original_url': None,\n",
       "   'name': 'Poet #2608',\n",
       "   'description': None,\n",
       "   'external_link': None,\n",
       "   'asset_contract': {'address': '0x4b3406a41399c7fd2ba65cbc93697ad9e7ea61e5',\n",
       "    'asset_contract_type': 'non-fungible',\n",
       "    'created_date': '2021-09-25T05:35:23.490231',\n",
       "    'name': 'Lost Poets',\n",
       "    'nft_version': '3.0',\n",
       "    'opensea_version': None,\n",
       "    'owner': 2504088,\n",
       "    'schema_name': 'ERC721',\n",
       "    'symbol': 'POETS',\n",
       "    'total_supply': None,\n",
       "    'description': '∴ AB AETERNO',\n",
       "    'external_link': 'https://lostpoets.xyz/',\n",
       "    'image_url': 'https://lh3.googleusercontent.com/cGKkMxKQ-7J0A4mZvcPqr2LKvGqIVsXjzGqpfxRNb4yVr-zTycPJ0kznkwKqDyUTg--A32oW8cI32BQBl6hrbM-frn1__o544ECpCg=s120',\n",
       "    'default_to_fiat': False,\n",
       "    'dev_buyer_fee_basis_points': 0,\n",
       "    'dev_seller_fee_basis_points': 1000,\n",
       "    'only_proxied_transfers': False,\n",
       "    'opensea_buyer_fee_basis_points': 0,\n",
       "    'opensea_seller_fee_basis_points': 250,\n",
       "    'buyer_fee_basis_points': 0,\n",
       "    'seller_fee_basis_points': 1250,\n",
       "    'payout_address': '0x8e8717dcd1687080757cb513d7d6702625973be8'},\n",
       "   'permalink': 'https://opensea.io/assets/0x4b3406a41399c7fd2ba65cbc93697ad9e7ea61e5/2608',\n",
       "   'collection': {'banner_image_url': 'https://lh3.googleusercontent.com/VNQfgH6h0cuiP6U-tTZ8qRUVivEtB1TdMsn6MWG_15wzr1899ehqrVZ_vrh5a3uNkseRmTfLyi0X8Q-WOq06e3IhMSiCyHV6XX97oxM=s2500',\n",
       "    'chat_url': None,\n",
       "    'created_date': '2021-09-03T04:50:03.338901',\n",
       "    'default_to_fiat': False,\n",
       "    'description': '∴ AB AETERNO',\n",
       "    'dev_buyer_fee_basis_points': '0',\n",
       "    'dev_seller_fee_basis_points': '1000',\n",
       "    'discord_url': None,\n",
       "    'display_data': {'card_display_style': 'cover'},\n",
       "    'external_url': 'https://lostpoets.xyz/',\n",
       "    'featured': False,\n",
       "    'featured_image_url': 'https://lh3.googleusercontent.com/VNQfgH6h0cuiP6U-tTZ8qRUVivEtB1TdMsn6MWG_15wzr1899ehqrVZ_vrh5a3uNkseRmTfLyi0X8Q-WOq06e3IhMSiCyHV6XX97oxM=s300',\n",
       "    'hidden': False,\n",
       "    'safelist_request_status': 'verified',\n",
       "    'image_url': 'https://lh3.googleusercontent.com/cGKkMxKQ-7J0A4mZvcPqr2LKvGqIVsXjzGqpfxRNb4yVr-zTycPJ0kznkwKqDyUTg--A32oW8cI32BQBl6hrbM-frn1__o544ECpCg=s120',\n",
       "    'is_subject_to_whitelist': False,\n",
       "    'large_image_url': 'https://lh3.googleusercontent.com/VNQfgH6h0cuiP6U-tTZ8qRUVivEtB1TdMsn6MWG_15wzr1899ehqrVZ_vrh5a3uNkseRmTfLyi0X8Q-WOq06e3IhMSiCyHV6XX97oxM=s300',\n",
       "    'medium_username': None,\n",
       "    'name': 'LOSTPOETS',\n",
       "    'only_proxied_transfers': False,\n",
       "    'opensea_buyer_fee_basis_points': '0',\n",
       "    'opensea_seller_fee_basis_points': '250',\n",
       "    'payout_address': '0x8e8717dcd1687080757cb513d7d6702625973be8',\n",
       "    'require_email': False,\n",
       "    'short_description': None,\n",
       "    'slug': 'lostpoets',\n",
       "    'telegram_url': None,\n",
       "    'twitter_username': 'poetslost',\n",
       "    'instagram_username': None,\n",
       "    'wiki_url': None},\n",
       "   'decimals': 0,\n",
       "   'token_metadata': 'https://lostpoets.api.manifoldxyz.dev/metadata/2608',\n",
       "   'owner': {'user': {'username': None},\n",
       "    'profile_img_url': 'https://storage.googleapis.com/opensea-static/opensea-profile/11.png',\n",
       "    'address': '0x6c27a1b3edaf67840fcf9f6d114c26415c8238ba',\n",
       "    'config': ''}},\n",
       "  {'id': 59286084,\n",
       "   'token_id': '5540',\n",
       "   'num_sales': 1,\n",
       "   'background_color': None,\n",
       "   'image_url': 'https://lh3.googleusercontent.com/NW7FkJAr6qHckGHtxGprwRTBWk-FTwAICLHXwIcsrSVDIvIaTvjXe2bOcfP_oyQXeNMNL497FdyVW28faJQNHviznebN4BLmTrp5j5c',\n",
       "   'image_preview_url': 'https://lh3.googleusercontent.com/NW7FkJAr6qHckGHtxGprwRTBWk-FTwAICLHXwIcsrSVDIvIaTvjXe2bOcfP_oyQXeNMNL497FdyVW28faJQNHviznebN4BLmTrp5j5c=s250',\n",
       "   'image_thumbnail_url': 'https://lh3.googleusercontent.com/NW7FkJAr6qHckGHtxGprwRTBWk-FTwAICLHXwIcsrSVDIvIaTvjXe2bOcfP_oyQXeNMNL497FdyVW28faJQNHviznebN4BLmTrp5j5c=s128',\n",
       "   'image_original_url': 'https://d1xxei964ioe0z.cloudfront.net/full/da7e58d1615d24273ccb9ee4b9b5ef9942d4d69bd20ea1a81f80f20932f8fe3f.png',\n",
       "   'animation_url': None,\n",
       "   'animation_original_url': None,\n",
       "   'name': 'Poet #5540',\n",
       "   'description': None,\n",
       "   'external_link': None,\n",
       "   'asset_contract': {'address': '0x4b3406a41399c7fd2ba65cbc93697ad9e7ea61e5',\n",
       "    'asset_contract_type': 'non-fungible',\n",
       "    'created_date': '2021-09-25T05:35:23.490231',\n",
       "    'name': 'Lost Poets',\n",
       "    'nft_version': '3.0',\n",
       "    'opensea_version': None,\n",
       "    'owner': 2504088,\n",
       "    'schema_name': 'ERC721',\n",
       "    'symbol': 'POETS',\n",
       "    'total_supply': None,\n",
       "    'description': '∴ AB AETERNO',\n",
       "    'external_link': 'https://lostpoets.xyz/',\n",
       "    'image_url': 'https://lh3.googleusercontent.com/cGKkMxKQ-7J0A4mZvcPqr2LKvGqIVsXjzGqpfxRNb4yVr-zTycPJ0kznkwKqDyUTg--A32oW8cI32BQBl6hrbM-frn1__o544ECpCg=s120',\n",
       "    'default_to_fiat': False,\n",
       "    'dev_buyer_fee_basis_points': 0,\n",
       "    'dev_seller_fee_basis_points': 1000,\n",
       "    'only_proxied_transfers': False,\n",
       "    'opensea_buyer_fee_basis_points': 0,\n",
       "    'opensea_seller_fee_basis_points': 250,\n",
       "    'buyer_fee_basis_points': 0,\n",
       "    'seller_fee_basis_points': 1250,\n",
       "    'payout_address': '0x8e8717dcd1687080757cb513d7d6702625973be8'},\n",
       "   'permalink': 'https://opensea.io/assets/0x4b3406a41399c7fd2ba65cbc93697ad9e7ea61e5/5540',\n",
       "   'collection': {'banner_image_url': 'https://lh3.googleusercontent.com/VNQfgH6h0cuiP6U-tTZ8qRUVivEtB1TdMsn6MWG_15wzr1899ehqrVZ_vrh5a3uNkseRmTfLyi0X8Q-WOq06e3IhMSiCyHV6XX97oxM=s2500',\n",
       "    'chat_url': None,\n",
       "    'created_date': '2021-09-03T04:50:03.338901',\n",
       "    'default_to_fiat': False,\n",
       "    'description': '∴ AB AETERNO',\n",
       "    'dev_buyer_fee_basis_points': '0',\n",
       "    'dev_seller_fee_basis_points': '1000',\n",
       "    'discord_url': None,\n",
       "    'display_data': {'card_display_style': 'cover'},\n",
       "    'external_url': 'https://lostpoets.xyz/',\n",
       "    'featured': False,\n",
       "    'featured_image_url': 'https://lh3.googleusercontent.com/VNQfgH6h0cuiP6U-tTZ8qRUVivEtB1TdMsn6MWG_15wzr1899ehqrVZ_vrh5a3uNkseRmTfLyi0X8Q-WOq06e3IhMSiCyHV6XX97oxM=s300',\n",
       "    'hidden': False,\n",
       "    'safelist_request_status': 'verified',\n",
       "    'image_url': 'https://lh3.googleusercontent.com/cGKkMxKQ-7J0A4mZvcPqr2LKvGqIVsXjzGqpfxRNb4yVr-zTycPJ0kznkwKqDyUTg--A32oW8cI32BQBl6hrbM-frn1__o544ECpCg=s120',\n",
       "    'is_subject_to_whitelist': False,\n",
       "    'large_image_url': 'https://lh3.googleusercontent.com/VNQfgH6h0cuiP6U-tTZ8qRUVivEtB1TdMsn6MWG_15wzr1899ehqrVZ_vrh5a3uNkseRmTfLyi0X8Q-WOq06e3IhMSiCyHV6XX97oxM=s300',\n",
       "    'medium_username': None,\n",
       "    'name': 'LOSTPOETS',\n",
       "    'only_proxied_transfers': False,\n",
       "    'opensea_buyer_fee_basis_points': '0',\n",
       "    'opensea_seller_fee_basis_points': '250',\n",
       "    'payout_address': '0x8e8717dcd1687080757cb513d7d6702625973be8',\n",
       "    'require_email': False,\n",
       "    'short_description': None,\n",
       "    'slug': 'lostpoets',\n",
       "    'telegram_url': None,\n",
       "    'twitter_username': 'poetslost',\n",
       "    'instagram_username': None,\n",
       "    'wiki_url': None},\n",
       "   'decimals': 0,\n",
       "   'token_metadata': 'https://lostpoets.api.manifoldxyz.dev/metadata/5540',\n",
       "   'owner': {'user': {'username': None},\n",
       "    'profile_img_url': 'https://storage.googleapis.com/opensea-static/opensea-profile/11.png',\n",
       "    'address': '0x6c27a1b3edaf67840fcf9f6d114c26415c8238ba',\n",
       "    'config': ''}},\n",
       "  {'id': 59306093,\n",
       "   'token_id': '7125',\n",
       "   'num_sales': 1,\n",
       "   'background_color': None,\n",
       "   'image_url': 'https://lh3.googleusercontent.com/N7IoSaEPE-Oajg8x-xg7LJSyxEl0f9ltvDWLZKVXamzu-Y5dDE8BV56oZO_C6wcc5iYLoJ9BLYOdjyOG0wYU3MO_PccPFtbkjmCyaA',\n",
       "   'image_preview_url': 'https://lh3.googleusercontent.com/N7IoSaEPE-Oajg8x-xg7LJSyxEl0f9ltvDWLZKVXamzu-Y5dDE8BV56oZO_C6wcc5iYLoJ9BLYOdjyOG0wYU3MO_PccPFtbkjmCyaA=s250',\n",
       "   'image_thumbnail_url': 'https://lh3.googleusercontent.com/N7IoSaEPE-Oajg8x-xg7LJSyxEl0f9ltvDWLZKVXamzu-Y5dDE8BV56oZO_C6wcc5iYLoJ9BLYOdjyOG0wYU3MO_PccPFtbkjmCyaA=s128',\n",
       "   'image_original_url': 'https://d1xxei964ioe0z.cloudfront.net/full/b5e456c346be5449ba0ab4af0a7809fcbceed3bd28b0eea48508dce92d3e5c6b.png',\n",
       "   'animation_url': None,\n",
       "   'animation_original_url': None,\n",
       "   'name': 'Poet #7125',\n",
       "   'description': None,\n",
       "   'external_link': None,\n",
       "   'asset_contract': {'address': '0x4b3406a41399c7fd2ba65cbc93697ad9e7ea61e5',\n",
       "    'asset_contract_type': 'non-fungible',\n",
       "    'created_date': '2021-09-25T05:35:23.490231',\n",
       "    'name': 'Lost Poets',\n",
       "    'nft_version': '3.0',\n",
       "    'opensea_version': None,\n",
       "    'owner': 2504088,\n",
       "    'schema_name': 'ERC721',\n",
       "    'symbol': 'POETS',\n",
       "    'total_supply': None,\n",
       "    'description': '∴ AB AETERNO',\n",
       "    'external_link': 'https://lostpoets.xyz/',\n",
       "    'image_url': 'https://lh3.googleusercontent.com/cGKkMxKQ-7J0A4mZvcPqr2LKvGqIVsXjzGqpfxRNb4yVr-zTycPJ0kznkwKqDyUTg--A32oW8cI32BQBl6hrbM-frn1__o544ECpCg=s120',\n",
       "    'default_to_fiat': False,\n",
       "    'dev_buyer_fee_basis_points': 0,\n",
       "    'dev_seller_fee_basis_points': 1000,\n",
       "    'only_proxied_transfers': False,\n",
       "    'opensea_buyer_fee_basis_points': 0,\n",
       "    'opensea_seller_fee_basis_points': 250,\n",
       "    'buyer_fee_basis_points': 0,\n",
       "    'seller_fee_basis_points': 1250,\n",
       "    'payout_address': '0x8e8717dcd1687080757cb513d7d6702625973be8'},\n",
       "   'permalink': 'https://opensea.io/assets/0x4b3406a41399c7fd2ba65cbc93697ad9e7ea61e5/7125',\n",
       "   'collection': {'banner_image_url': 'https://lh3.googleusercontent.com/VNQfgH6h0cuiP6U-tTZ8qRUVivEtB1TdMsn6MWG_15wzr1899ehqrVZ_vrh5a3uNkseRmTfLyi0X8Q-WOq06e3IhMSiCyHV6XX97oxM=s2500',\n",
       "    'chat_url': None,\n",
       "    'created_date': '2021-09-03T04:50:03.338901',\n",
       "    'default_to_fiat': False,\n",
       "    'description': '∴ AB AETERNO',\n",
       "    'dev_buyer_fee_basis_points': '0',\n",
       "    'dev_seller_fee_basis_points': '1000',\n",
       "    'discord_url': None,\n",
       "    'display_data': {'card_display_style': 'cover'},\n",
       "    'external_url': 'https://lostpoets.xyz/',\n",
       "    'featured': False,\n",
       "    'featured_image_url': 'https://lh3.googleusercontent.com/VNQfgH6h0cuiP6U-tTZ8qRUVivEtB1TdMsn6MWG_15wzr1899ehqrVZ_vrh5a3uNkseRmTfLyi0X8Q-WOq06e3IhMSiCyHV6XX97oxM=s300',\n",
       "    'hidden': False,\n",
       "    'safelist_request_status': 'verified',\n",
       "    'image_url': 'https://lh3.googleusercontent.com/cGKkMxKQ-7J0A4mZvcPqr2LKvGqIVsXjzGqpfxRNb4yVr-zTycPJ0kznkwKqDyUTg--A32oW8cI32BQBl6hrbM-frn1__o544ECpCg=s120',\n",
       "    'is_subject_to_whitelist': False,\n",
       "    'large_image_url': 'https://lh3.googleusercontent.com/VNQfgH6h0cuiP6U-tTZ8qRUVivEtB1TdMsn6MWG_15wzr1899ehqrVZ_vrh5a3uNkseRmTfLyi0X8Q-WOq06e3IhMSiCyHV6XX97oxM=s300',\n",
       "    'medium_username': None,\n",
       "    'name': 'LOSTPOETS',\n",
       "    'only_proxied_transfers': False,\n",
       "    'opensea_buyer_fee_basis_points': '0',\n",
       "    'opensea_seller_fee_basis_points': '250',\n",
       "    'payout_address': '0x8e8717dcd1687080757cb513d7d6702625973be8',\n",
       "    'require_email': False,\n",
       "    'short_description': None,\n",
       "    'slug': 'lostpoets',\n",
       "    'telegram_url': None,\n",
       "    'twitter_username': 'poetslost',\n",
       "    'instagram_username': None,\n",
       "    'wiki_url': None},\n",
       "   'decimals': 0,\n",
       "   'token_metadata': 'https://lostpoets.api.manifoldxyz.dev/metadata/7125',\n",
       "   'owner': {'user': {'username': None},\n",
       "    'profile_img_url': 'https://storage.googleapis.com/opensea-static/opensea-profile/11.png',\n",
       "    'address': '0x6c27a1b3edaf67840fcf9f6d114c26415c8238ba',\n",
       "    'config': ''}},\n",
       "  {'id': 59387093,\n",
       "   'token_id': '10812',\n",
       "   'num_sales': 1,\n",
       "   'background_color': None,\n",
       "   'image_url': 'https://lh3.googleusercontent.com/SinbhwWXUgnacZz6rczKFTE7oi3j8TGLzynXtCOCCm1KhQZhZt0rvO_6K1a2JqhCEzo-Dj9_NJwhfRjVLUi72apQ-_dE1fAvpSjs9Hc',\n",
       "   'image_preview_url': 'https://lh3.googleusercontent.com/SinbhwWXUgnacZz6rczKFTE7oi3j8TGLzynXtCOCCm1KhQZhZt0rvO_6K1a2JqhCEzo-Dj9_NJwhfRjVLUi72apQ-_dE1fAvpSjs9Hc=s250',\n",
       "   'image_thumbnail_url': 'https://lh3.googleusercontent.com/SinbhwWXUgnacZz6rczKFTE7oi3j8TGLzynXtCOCCm1KhQZhZt0rvO_6K1a2JqhCEzo-Dj9_NJwhfRjVLUi72apQ-_dE1fAvpSjs9Hc=s128',\n",
       "   'image_original_url': 'https://d1xxei964ioe0z.cloudfront.net/full/6cd2587247e2604032d0b416417bf4c0aff5d1d907ce72e601b214767eb66a11.png',\n",
       "   'animation_url': None,\n",
       "   'animation_original_url': None,\n",
       "   'name': 'Poet #10812',\n",
       "   'description': None,\n",
       "   'external_link': None,\n",
       "   'asset_contract': {'address': '0x4b3406a41399c7fd2ba65cbc93697ad9e7ea61e5',\n",
       "    'asset_contract_type': 'non-fungible',\n",
       "    'created_date': '2021-09-25T05:35:23.490231',\n",
       "    'name': 'Lost Poets',\n",
       "    'nft_version': '3.0',\n",
       "    'opensea_version': None,\n",
       "    'owner': 2504088,\n",
       "    'schema_name': 'ERC721',\n",
       "    'symbol': 'POETS',\n",
       "    'total_supply': None,\n",
       "    'description': '∴ AB AETERNO',\n",
       "    'external_link': 'https://lostpoets.xyz/',\n",
       "    'image_url': 'https://lh3.googleusercontent.com/cGKkMxKQ-7J0A4mZvcPqr2LKvGqIVsXjzGqpfxRNb4yVr-zTycPJ0kznkwKqDyUTg--A32oW8cI32BQBl6hrbM-frn1__o544ECpCg=s120',\n",
       "    'default_to_fiat': False,\n",
       "    'dev_buyer_fee_basis_points': 0,\n",
       "    'dev_seller_fee_basis_points': 1000,\n",
       "    'only_proxied_transfers': False,\n",
       "    'opensea_buyer_fee_basis_points': 0,\n",
       "    'opensea_seller_fee_basis_points': 250,\n",
       "    'buyer_fee_basis_points': 0,\n",
       "    'seller_fee_basis_points': 1250,\n",
       "    'payout_address': '0x8e8717dcd1687080757cb513d7d6702625973be8'},\n",
       "   'permalink': 'https://opensea.io/assets/0x4b3406a41399c7fd2ba65cbc93697ad9e7ea61e5/10812',\n",
       "   'collection': {'banner_image_url': 'https://lh3.googleusercontent.com/VNQfgH6h0cuiP6U-tTZ8qRUVivEtB1TdMsn6MWG_15wzr1899ehqrVZ_vrh5a3uNkseRmTfLyi0X8Q-WOq06e3IhMSiCyHV6XX97oxM=s2500',\n",
       "    'chat_url': None,\n",
       "    'created_date': '2021-09-03T04:50:03.338901',\n",
       "    'default_to_fiat': False,\n",
       "    'description': '∴ AB AETERNO',\n",
       "    'dev_buyer_fee_basis_points': '0',\n",
       "    'dev_seller_fee_basis_points': '1000',\n",
       "    'discord_url': None,\n",
       "    'display_data': {'card_display_style': 'cover'},\n",
       "    'external_url': 'https://lostpoets.xyz/',\n",
       "    'featured': False,\n",
       "    'featured_image_url': 'https://lh3.googleusercontent.com/VNQfgH6h0cuiP6U-tTZ8qRUVivEtB1TdMsn6MWG_15wzr1899ehqrVZ_vrh5a3uNkseRmTfLyi0X8Q-WOq06e3IhMSiCyHV6XX97oxM=s300',\n",
       "    'hidden': False,\n",
       "    'safelist_request_status': 'verified',\n",
       "    'image_url': 'https://lh3.googleusercontent.com/cGKkMxKQ-7J0A4mZvcPqr2LKvGqIVsXjzGqpfxRNb4yVr-zTycPJ0kznkwKqDyUTg--A32oW8cI32BQBl6hrbM-frn1__o544ECpCg=s120',\n",
       "    'is_subject_to_whitelist': False,\n",
       "    'large_image_url': 'https://lh3.googleusercontent.com/VNQfgH6h0cuiP6U-tTZ8qRUVivEtB1TdMsn6MWG_15wzr1899ehqrVZ_vrh5a3uNkseRmTfLyi0X8Q-WOq06e3IhMSiCyHV6XX97oxM=s300',\n",
       "    'medium_username': None,\n",
       "    'name': 'LOSTPOETS',\n",
       "    'only_proxied_transfers': False,\n",
       "    'opensea_buyer_fee_basis_points': '0',\n",
       "    'opensea_seller_fee_basis_points': '250',\n",
       "    'payout_address': '0x8e8717dcd1687080757cb513d7d6702625973be8',\n",
       "    'require_email': False,\n",
       "    'short_description': None,\n",
       "    'slug': 'lostpoets',\n",
       "    'telegram_url': None,\n",
       "    'twitter_username': 'poetslost',\n",
       "    'instagram_username': None,\n",
       "    'wiki_url': None},\n",
       "   'decimals': 0,\n",
       "   'token_metadata': 'https://lostpoets.api.manifoldxyz.dev/metadata/10812',\n",
       "   'owner': {'user': {'username': None},\n",
       "    'profile_img_url': 'https://storage.googleapis.com/opensea-static/opensea-profile/11.png',\n",
       "    'address': '0x6c27a1b3edaf67840fcf9f6d114c26415c8238ba',\n",
       "    'config': ''}},\n",
       "  {'id': 60146867,\n",
       "   'token_id': '15856',\n",
       "   'num_sales': 1,\n",
       "   'background_color': None,\n",
       "   'image_url': 'https://lh3.googleusercontent.com/030DsyITa1Z0IoQlc7t-CsOArQy2Jm38GH3cUMLMPoe9DbaGM9g-E0miYvPkeRVYbKsQmB3b5XKlf1kP1njecZBCxo5azUP7MT_F9g',\n",
       "   'image_preview_url': 'https://lh3.googleusercontent.com/030DsyITa1Z0IoQlc7t-CsOArQy2Jm38GH3cUMLMPoe9DbaGM9g-E0miYvPkeRVYbKsQmB3b5XKlf1kP1njecZBCxo5azUP7MT_F9g=s250',\n",
       "   'image_thumbnail_url': 'https://lh3.googleusercontent.com/030DsyITa1Z0IoQlc7t-CsOArQy2Jm38GH3cUMLMPoe9DbaGM9g-E0miYvPkeRVYbKsQmB3b5XKlf1kP1njecZBCxo5azUP7MT_F9g=s128',\n",
       "   'image_original_url': 'https://d1xxei964ioe0z.cloudfront.net/full/515b15483e095729cdad21838e1b5a949d9e25849ef7f2db9bdb000bd07b06fc.png',\n",
       "   'animation_url': None,\n",
       "   'animation_original_url': None,\n",
       "   'name': 'Poet #15856',\n",
       "   'description': None,\n",
       "   'external_link': None,\n",
       "   'asset_contract': {'address': '0x4b3406a41399c7fd2ba65cbc93697ad9e7ea61e5',\n",
       "    'asset_contract_type': 'non-fungible',\n",
       "    'created_date': '2021-09-25T05:35:23.490231',\n",
       "    'name': 'Lost Poets',\n",
       "    'nft_version': '3.0',\n",
       "    'opensea_version': None,\n",
       "    'owner': 2504088,\n",
       "    'schema_name': 'ERC721',\n",
       "    'symbol': 'POETS',\n",
       "    'total_supply': None,\n",
       "    'description': '∴ AB AETERNO',\n",
       "    'external_link': 'https://lostpoets.xyz/',\n",
       "    'image_url': 'https://lh3.googleusercontent.com/cGKkMxKQ-7J0A4mZvcPqr2LKvGqIVsXjzGqpfxRNb4yVr-zTycPJ0kznkwKqDyUTg--A32oW8cI32BQBl6hrbM-frn1__o544ECpCg=s120',\n",
       "    'default_to_fiat': False,\n",
       "    'dev_buyer_fee_basis_points': 0,\n",
       "    'dev_seller_fee_basis_points': 1000,\n",
       "    'only_proxied_transfers': False,\n",
       "    'opensea_buyer_fee_basis_points': 0,\n",
       "    'opensea_seller_fee_basis_points': 250,\n",
       "    'buyer_fee_basis_points': 0,\n",
       "    'seller_fee_basis_points': 1250,\n",
       "    'payout_address': '0x8e8717dcd1687080757cb513d7d6702625973be8'},\n",
       "   'permalink': 'https://opensea.io/assets/0x4b3406a41399c7fd2ba65cbc93697ad9e7ea61e5/15856',\n",
       "   'collection': {'banner_image_url': 'https://lh3.googleusercontent.com/VNQfgH6h0cuiP6U-tTZ8qRUVivEtB1TdMsn6MWG_15wzr1899ehqrVZ_vrh5a3uNkseRmTfLyi0X8Q-WOq06e3IhMSiCyHV6XX97oxM=s2500',\n",
       "    'chat_url': None,\n",
       "    'created_date': '2021-09-03T04:50:03.338901',\n",
       "    'default_to_fiat': False,\n",
       "    'description': '∴ AB AETERNO',\n",
       "    'dev_buyer_fee_basis_points': '0',\n",
       "    'dev_seller_fee_basis_points': '1000',\n",
       "    'discord_url': None,\n",
       "    'display_data': {'card_display_style': 'cover'},\n",
       "    'external_url': 'https://lostpoets.xyz/',\n",
       "    'featured': False,\n",
       "    'featured_image_url': 'https://lh3.googleusercontent.com/VNQfgH6h0cuiP6U-tTZ8qRUVivEtB1TdMsn6MWG_15wzr1899ehqrVZ_vrh5a3uNkseRmTfLyi0X8Q-WOq06e3IhMSiCyHV6XX97oxM=s300',\n",
       "    'hidden': False,\n",
       "    'safelist_request_status': 'verified',\n",
       "    'image_url': 'https://lh3.googleusercontent.com/cGKkMxKQ-7J0A4mZvcPqr2LKvGqIVsXjzGqpfxRNb4yVr-zTycPJ0kznkwKqDyUTg--A32oW8cI32BQBl6hrbM-frn1__o544ECpCg=s120',\n",
       "    'is_subject_to_whitelist': False,\n",
       "    'large_image_url': 'https://lh3.googleusercontent.com/VNQfgH6h0cuiP6U-tTZ8qRUVivEtB1TdMsn6MWG_15wzr1899ehqrVZ_vrh5a3uNkseRmTfLyi0X8Q-WOq06e3IhMSiCyHV6XX97oxM=s300',\n",
       "    'medium_username': None,\n",
       "    'name': 'LOSTPOETS',\n",
       "    'only_proxied_transfers': False,\n",
       "    'opensea_buyer_fee_basis_points': '0',\n",
       "    'opensea_seller_fee_basis_points': '250',\n",
       "    'payout_address': '0x8e8717dcd1687080757cb513d7d6702625973be8',\n",
       "    'require_email': False,\n",
       "    'short_description': None,\n",
       "    'slug': 'lostpoets',\n",
       "    'telegram_url': None,\n",
       "    'twitter_username': 'poetslost',\n",
       "    'instagram_username': None,\n",
       "    'wiki_url': None},\n",
       "   'decimals': 0,\n",
       "   'token_metadata': 'https://lostpoets.api.manifoldxyz.dev/metadata/15856',\n",
       "   'owner': {'user': {'username': None},\n",
       "    'profile_img_url': 'https://storage.googleapis.com/opensea-static/opensea-profile/11.png',\n",
       "    'address': '0x6c27a1b3edaf67840fcf9f6d114c26415c8238ba',\n",
       "    'config': ''}}],\n",
       " 'name': 'd',\n",
       " 'description': '',\n",
       " 'external_link': None,\n",
       " 'asset_contract': {'collection': {'banner_image_url': 'https://lh3.googleusercontent.com/VNQfgH6h0cuiP6U-tTZ8qRUVivEtB1TdMsn6MWG_15wzr1899ehqrVZ_vrh5a3uNkseRmTfLyi0X8Q-WOq06e3IhMSiCyHV6XX97oxM=s2500',\n",
       "   'chat_url': None,\n",
       "   'created_date': '2021-09-03T04:50:03.338901',\n",
       "   'default_to_fiat': False,\n",
       "   'description': '∴ AB AETERNO',\n",
       "   'dev_buyer_fee_basis_points': '0',\n",
       "   'dev_seller_fee_basis_points': '1000',\n",
       "   'discord_url': None,\n",
       "   'display_data': {'card_display_style': 'cover'},\n",
       "   'external_url': 'https://lostpoets.xyz/',\n",
       "   'featured': False,\n",
       "   'featured_image_url': 'https://lh3.googleusercontent.com/VNQfgH6h0cuiP6U-tTZ8qRUVivEtB1TdMsn6MWG_15wzr1899ehqrVZ_vrh5a3uNkseRmTfLyi0X8Q-WOq06e3IhMSiCyHV6XX97oxM=s300',\n",
       "   'hidden': False,\n",
       "   'safelist_request_status': 'verified',\n",
       "   'image_url': 'https://lh3.googleusercontent.com/cGKkMxKQ-7J0A4mZvcPqr2LKvGqIVsXjzGqpfxRNb4yVr-zTycPJ0kznkwKqDyUTg--A32oW8cI32BQBl6hrbM-frn1__o544ECpCg=s120',\n",
       "   'is_subject_to_whitelist': False,\n",
       "   'large_image_url': 'https://lh3.googleusercontent.com/VNQfgH6h0cuiP6U-tTZ8qRUVivEtB1TdMsn6MWG_15wzr1899ehqrVZ_vrh5a3uNkseRmTfLyi0X8Q-WOq06e3IhMSiCyHV6XX97oxM=s300',\n",
       "   'medium_username': None,\n",
       "   'name': 'LOSTPOETS',\n",
       "   'only_proxied_transfers': False,\n",
       "   'opensea_buyer_fee_basis_points': '0',\n",
       "   'opensea_seller_fee_basis_points': '250',\n",
       "   'payout_address': '0x8e8717dcd1687080757cb513d7d6702625973be8',\n",
       "   'require_email': False,\n",
       "   'short_description': None,\n",
       "   'slug': 'lostpoets',\n",
       "   'telegram_url': None,\n",
       "   'twitter_username': 'poetslost',\n",
       "   'instagram_username': None,\n",
       "   'wiki_url': None},\n",
       "  'address': '0x4b3406a41399c7fd2ba65cbc93697ad9e7ea61e5',\n",
       "  'asset_contract_type': 'non-fungible',\n",
       "  'created_date': '2021-09-25T05:35:23.490231',\n",
       "  'name': 'Lost Poets',\n",
       "  'nft_version': '3.0',\n",
       "  'opensea_version': None,\n",
       "  'owner': 2504088,\n",
       "  'schema_name': 'ERC721',\n",
       "  'symbol': 'POETS',\n",
       "  'total_supply': None,\n",
       "  'description': '∴ AB AETERNO',\n",
       "  'external_link': 'https://lostpoets.xyz/',\n",
       "  'image_url': 'https://lh3.googleusercontent.com/cGKkMxKQ-7J0A4mZvcPqr2LKvGqIVsXjzGqpfxRNb4yVr-zTycPJ0kznkwKqDyUTg--A32oW8cI32BQBl6hrbM-frn1__o544ECpCg=s120',\n",
       "  'default_to_fiat': False,\n",
       "  'dev_buyer_fee_basis_points': 0,\n",
       "  'dev_seller_fee_basis_points': 1000,\n",
       "  'only_proxied_transfers': False,\n",
       "  'opensea_buyer_fee_basis_points': 0,\n",
       "  'opensea_seller_fee_basis_points': 250,\n",
       "  'buyer_fee_basis_points': 0,\n",
       "  'seller_fee_basis_points': 1250,\n",
       "  'payout_address': '0x8e8717dcd1687080757cb513d7d6702625973be8'},\n",
       " 'permalink': 'https://opensea.io/bundles/d-exf',\n",
       " 'sell_orders': None}"
      ]
     },
     "execution_count": 72,
     "metadata": {},
     "output_type": "execute_result"
    }
   ],
   "source": [
    "sales_df.asset_bundle.iloc[1649]"
   ]
  },
  {
   "cell_type": "markdown",
   "id": "e9a4dcb0",
   "metadata": {},
   "source": [
    "There is not enough here to grant distribution so let's drop this column too. "
   ]
  },
  {
   "cell_type": "code",
   "execution_count": 73,
   "id": "fb97624f",
   "metadata": {},
   "outputs": [],
   "source": [
    "(sales_df.drop(['asset_bundle'], axis = 1, inplace = True))"
   ]
  },
  {
   "cell_type": "markdown",
   "id": "6d25bcd5",
   "metadata": {},
   "source": [
    "**b. from_account**"
   ]
  },
  {
   "cell_type": "code",
   "execution_count": 74,
   "id": "aaf080e9",
   "metadata": {},
   "outputs": [
    {
     "data": {
      "text/html": [
       "<div>\n",
       "<style scoped>\n",
       "    .dataframe tbody tr th:only-of-type {\n",
       "        vertical-align: middle;\n",
       "    }\n",
       "\n",
       "    .dataframe tbody tr th {\n",
       "        vertical-align: top;\n",
       "    }\n",
       "\n",
       "    .dataframe thead th {\n",
       "        text-align: right;\n",
       "    }\n",
       "</style>\n",
       "<table border=\"1\" class=\"dataframe\">\n",
       "  <thead>\n",
       "    <tr style=\"text-align: right;\">\n",
       "      <th></th>\n",
       "      <th>_id</th>\n",
       "      <th>created_date</th>\n",
       "      <th>dev_fee_payment_event</th>\n",
       "      <th>from_account</th>\n",
       "      <th>id</th>\n",
       "      <th>is_private</th>\n",
       "      <th>quantity</th>\n",
       "      <th>to_account</th>\n",
       "      <th>total_price</th>\n",
       "      <th>payment_token_symbol</th>\n",
       "      <th>payment_token_usd_price</th>\n",
       "      <th>asset_token_id</th>\n",
       "      <th>asset_num_sales</th>\n",
       "      <th>asset_id</th>\n",
       "      <th>asset_image_url</th>\n",
       "      <th>transaction_from_account_username</th>\n",
       "      <th>seller_username</th>\n",
       "      <th>winner_account_username</th>\n",
       "    </tr>\n",
       "  </thead>\n",
       "  <tbody>\n",
       "    <tr>\n",
       "      <th>3330</th>\n",
       "      <td>61b41b26d6ab32dbd9a85ba2</td>\n",
       "      <td>2021-11-05T06:29:14.639950</td>\n",
       "      <td>{'asset': None, 'asset_bundle': None, 'event_t...</td>\n",
       "      <td>{'user': {'username': 'FYeah'}, 'profile_img_u...</td>\n",
       "      <td>1701961702</td>\n",
       "      <td>False</td>\n",
       "      <td>1</td>\n",
       "      <td>{'user': {'username': None}, 'profile_img_url'...</td>\n",
       "      <td>441000000000000000</td>\n",
       "      <td>ETH</td>\n",
       "      <td>3983.769999999999982000</td>\n",
       "      <td>1</td>\n",
       "      <td>14807</td>\n",
       "      <td>44596334</td>\n",
       "      <td>https://lh3.googleusercontent.com/9GgkzN-7si-y...</td>\n",
       "      <td>None</td>\n",
       "      <td>FYeah</td>\n",
       "      <td>None</td>\n",
       "    </tr>\n",
       "    <tr>\n",
       "      <th>5091</th>\n",
       "      <td>61b41b45d6ab32dbd9a86283</td>\n",
       "      <td>2021-10-21T07:22:30.093491</td>\n",
       "      <td>{'asset': None, 'asset_bundle': None, 'event_t...</td>\n",
       "      <td>{'user': {'username': None}, 'profile_img_url'...</td>\n",
       "      <td>1469592134</td>\n",
       "      <td>False</td>\n",
       "      <td>1</td>\n",
       "      <td>{'user': {'username': 'DB'}, 'profile_img_url'...</td>\n",
       "      <td>670000000000000000</td>\n",
       "      <td>ETH</td>\n",
       "      <td>3983.769999999999982000</td>\n",
       "      <td>1</td>\n",
       "      <td>14807</td>\n",
       "      <td>44596334</td>\n",
       "      <td>https://lh3.googleusercontent.com/9GgkzN-7si-y...</td>\n",
       "      <td>DB</td>\n",
       "      <td>None</td>\n",
       "      <td>DB</td>\n",
       "    </tr>\n",
       "    <tr>\n",
       "      <th>5313</th>\n",
       "      <td>61b41b49d6ab32dbd9a86361</td>\n",
       "      <td>2021-10-19T07:00:00.657831</td>\n",
       "      <td>{'asset': None, 'asset_bundle': None, 'event_t...</td>\n",
       "      <td>{'user': {'username': 'gyro_vlt'}, 'profile_im...</td>\n",
       "      <td>1438774598</td>\n",
       "      <td>False</td>\n",
       "      <td>1</td>\n",
       "      <td>{'user': None, 'profile_img_url': 'https://sto...</td>\n",
       "      <td>719000000000000000</td>\n",
       "      <td>ETH</td>\n",
       "      <td>3983.769999999999982000</td>\n",
       "      <td>1</td>\n",
       "      <td>14807</td>\n",
       "      <td>44596334</td>\n",
       "      <td>https://lh3.googleusercontent.com/9GgkzN-7si-y...</td>\n",
       "      <td>unknown</td>\n",
       "      <td>gyro_vlt</td>\n",
       "      <td>unknown</td>\n",
       "    </tr>\n",
       "    <tr>\n",
       "      <th>7944</th>\n",
       "      <td>61b41b78d6ab32dbd9a86da8</td>\n",
       "      <td>2021-10-05T20:56:47.815319</td>\n",
       "      <td>{'asset': None, 'asset_bundle': None, 'event_t...</td>\n",
       "      <td>{'user': {'username': 'nate_nus'}, 'profile_im...</td>\n",
       "      <td>1254456301</td>\n",
       "      <td>False</td>\n",
       "      <td>1</td>\n",
       "      <td>{'user': {'username': 'KaldoLove'}, 'profile_i...</td>\n",
       "      <td>1000000000000000000</td>\n",
       "      <td>ETH</td>\n",
       "      <td>3983.769999999999982000</td>\n",
       "      <td>1</td>\n",
       "      <td>14807</td>\n",
       "      <td>44596334</td>\n",
       "      <td>https://lh3.googleusercontent.com/9GgkzN-7si-y...</td>\n",
       "      <td>KaldoLove</td>\n",
       "      <td>nate_nus</td>\n",
       "      <td>KaldoLove</td>\n",
       "    </tr>\n",
       "    <tr>\n",
       "      <th>8704</th>\n",
       "      <td>61b41b88d6ab32dbd9a870a0</td>\n",
       "      <td>2021-10-02T17:05:27.055131</td>\n",
       "      <td>{'asset': None, 'asset_bundle': None, 'event_t...</td>\n",
       "      <td>{'user': {'username': 'Blue_Kid'}, 'profile_im...</td>\n",
       "      <td>1207377365</td>\n",
       "      <td>False</td>\n",
       "      <td>1</td>\n",
       "      <td>{'user': {'username': 'mjt123'}, 'profile_img_...</td>\n",
       "      <td>989000000000000000</td>\n",
       "      <td>ETH</td>\n",
       "      <td>3983.769999999999982000</td>\n",
       "      <td>18811</td>\n",
       "      <td>1</td>\n",
       "      <td>62116764</td>\n",
       "      <td>https://lh3.googleusercontent.com/KiDza55cZ89q...</td>\n",
       "      <td>mjt123</td>\n",
       "      <td>Blue_Kid</td>\n",
       "      <td>mjt123</td>\n",
       "    </tr>\n",
       "    <tr>\n",
       "      <th>9049</th>\n",
       "      <td>61b41b8ed6ab32dbd9a871f9</td>\n",
       "      <td>2021-09-30T22:57:37.377598</td>\n",
       "      <td>{'asset': None, 'asset_bundle': None, 'event_t...</td>\n",
       "      <td>{'user': {'username': None}, 'profile_img_url'...</td>\n",
       "      <td>1183970011</td>\n",
       "      <td>False</td>\n",
       "      <td>1</td>\n",
       "      <td>{'user': {'username': 'Kulture_'}, 'profile_im...</td>\n",
       "      <td>1050000000000000000</td>\n",
       "      <td>ETH</td>\n",
       "      <td>3983.769999999999982000</td>\n",
       "      <td>1</td>\n",
       "      <td>14807</td>\n",
       "      <td>44596334</td>\n",
       "      <td>https://lh3.googleusercontent.com/9GgkzN-7si-y...</td>\n",
       "      <td>Kulture_</td>\n",
       "      <td>None</td>\n",
       "      <td>Kulture_</td>\n",
       "    </tr>\n",
       "  </tbody>\n",
       "</table>\n",
       "</div>"
      ],
      "text/plain": [
       "                           _id                created_date  \\\n",
       "3330  61b41b26d6ab32dbd9a85ba2  2021-11-05T06:29:14.639950   \n",
       "5091  61b41b45d6ab32dbd9a86283  2021-10-21T07:22:30.093491   \n",
       "5313  61b41b49d6ab32dbd9a86361  2021-10-19T07:00:00.657831   \n",
       "7944  61b41b78d6ab32dbd9a86da8  2021-10-05T20:56:47.815319   \n",
       "8704  61b41b88d6ab32dbd9a870a0  2021-10-02T17:05:27.055131   \n",
       "9049  61b41b8ed6ab32dbd9a871f9  2021-09-30T22:57:37.377598   \n",
       "\n",
       "                                  dev_fee_payment_event  \\\n",
       "3330  {'asset': None, 'asset_bundle': None, 'event_t...   \n",
       "5091  {'asset': None, 'asset_bundle': None, 'event_t...   \n",
       "5313  {'asset': None, 'asset_bundle': None, 'event_t...   \n",
       "7944  {'asset': None, 'asset_bundle': None, 'event_t...   \n",
       "8704  {'asset': None, 'asset_bundle': None, 'event_t...   \n",
       "9049  {'asset': None, 'asset_bundle': None, 'event_t...   \n",
       "\n",
       "                                           from_account          id  \\\n",
       "3330  {'user': {'username': 'FYeah'}, 'profile_img_u...  1701961702   \n",
       "5091  {'user': {'username': None}, 'profile_img_url'...  1469592134   \n",
       "5313  {'user': {'username': 'gyro_vlt'}, 'profile_im...  1438774598   \n",
       "7944  {'user': {'username': 'nate_nus'}, 'profile_im...  1254456301   \n",
       "8704  {'user': {'username': 'Blue_Kid'}, 'profile_im...  1207377365   \n",
       "9049  {'user': {'username': None}, 'profile_img_url'...  1183970011   \n",
       "\n",
       "     is_private quantity                                         to_account  \\\n",
       "3330      False        1  {'user': {'username': None}, 'profile_img_url'...   \n",
       "5091      False        1  {'user': {'username': 'DB'}, 'profile_img_url'...   \n",
       "5313      False        1  {'user': None, 'profile_img_url': 'https://sto...   \n",
       "7944      False        1  {'user': {'username': 'KaldoLove'}, 'profile_i...   \n",
       "8704      False        1  {'user': {'username': 'mjt123'}, 'profile_img_...   \n",
       "9049      False        1  {'user': {'username': 'Kulture_'}, 'profile_im...   \n",
       "\n",
       "              total_price payment_token_symbol  payment_token_usd_price  \\\n",
       "3330   441000000000000000                  ETH  3983.769999999999982000   \n",
       "5091   670000000000000000                  ETH  3983.769999999999982000   \n",
       "5313   719000000000000000                  ETH  3983.769999999999982000   \n",
       "7944  1000000000000000000                  ETH  3983.769999999999982000   \n",
       "8704   989000000000000000                  ETH  3983.769999999999982000   \n",
       "9049  1050000000000000000                  ETH  3983.769999999999982000   \n",
       "\n",
       "     asset_token_id  asset_num_sales  asset_id  \\\n",
       "3330              1            14807  44596334   \n",
       "5091              1            14807  44596334   \n",
       "5313              1            14807  44596334   \n",
       "7944              1            14807  44596334   \n",
       "8704          18811                1  62116764   \n",
       "9049              1            14807  44596334   \n",
       "\n",
       "                                        asset_image_url  \\\n",
       "3330  https://lh3.googleusercontent.com/9GgkzN-7si-y...   \n",
       "5091  https://lh3.googleusercontent.com/9GgkzN-7si-y...   \n",
       "5313  https://lh3.googleusercontent.com/9GgkzN-7si-y...   \n",
       "7944  https://lh3.googleusercontent.com/9GgkzN-7si-y...   \n",
       "8704  https://lh3.googleusercontent.com/KiDza55cZ89q...   \n",
       "9049  https://lh3.googleusercontent.com/9GgkzN-7si-y...   \n",
       "\n",
       "     transaction_from_account_username seller_username winner_account_username  \n",
       "3330                              None           FYeah                    None  \n",
       "5091                                DB            None                      DB  \n",
       "5313                           unknown        gyro_vlt                 unknown  \n",
       "7944                         KaldoLove        nate_nus               KaldoLove  \n",
       "8704                            mjt123        Blue_Kid                  mjt123  \n",
       "9049                          Kulture_            None                Kulture_  "
      ]
     },
     "execution_count": 74,
     "metadata": {},
     "output_type": "execute_result"
    }
   ],
   "source": [
    "sales_df[pd.notnull(sales_df.from_account)]"
   ]
  },
  {
   "cell_type": "markdown",
   "id": "b919e152",
   "metadata": {},
   "source": [
    "Not enough values to grant keeping"
   ]
  },
  {
   "cell_type": "code",
   "execution_count": 75,
   "id": "61a8e43f",
   "metadata": {},
   "outputs": [],
   "source": [
    "(sales_df.drop(['from_account'], axis = 1, inplace = True))"
   ]
  },
  {
   "cell_type": "markdown",
   "id": "ed7f77aa",
   "metadata": {},
   "source": [
    "**c. dev_fee_payment_event**"
   ]
  },
  {
   "cell_type": "code",
   "execution_count": 76,
   "id": "2f02057f",
   "metadata": {},
   "outputs": [
    {
     "data": {
      "text/html": [
       "<div>\n",
       "<style scoped>\n",
       "    .dataframe tbody tr th:only-of-type {\n",
       "        vertical-align: middle;\n",
       "    }\n",
       "\n",
       "    .dataframe tbody tr th {\n",
       "        vertical-align: top;\n",
       "    }\n",
       "\n",
       "    .dataframe thead th {\n",
       "        text-align: right;\n",
       "    }\n",
       "</style>\n",
       "<table border=\"1\" class=\"dataframe\">\n",
       "  <thead>\n",
       "    <tr style=\"text-align: right;\">\n",
       "      <th></th>\n",
       "      <th>_id</th>\n",
       "      <th>created_date</th>\n",
       "      <th>dev_fee_payment_event</th>\n",
       "      <th>id</th>\n",
       "      <th>is_private</th>\n",
       "      <th>quantity</th>\n",
       "      <th>to_account</th>\n",
       "      <th>total_price</th>\n",
       "      <th>payment_token_symbol</th>\n",
       "      <th>payment_token_usd_price</th>\n",
       "      <th>asset_token_id</th>\n",
       "      <th>asset_num_sales</th>\n",
       "      <th>asset_id</th>\n",
       "      <th>asset_image_url</th>\n",
       "      <th>transaction_from_account_username</th>\n",
       "      <th>seller_username</th>\n",
       "      <th>winner_account_username</th>\n",
       "    </tr>\n",
       "  </thead>\n",
       "  <tbody>\n",
       "    <tr>\n",
       "      <th>298</th>\n",
       "      <td>61b41aeed6ab32dbd9a84fca</td>\n",
       "      <td>2021-12-05T18:59:45.104653</td>\n",
       "      <td>{'asset': None, 'asset_bundle': None, 'event_t...</td>\n",
       "      <td>2354882018</td>\n",
       "      <td>False</td>\n",
       "      <td>1</td>\n",
       "      <td>None</td>\n",
       "      <td>400000000000000000</td>\n",
       "      <td>ETH</td>\n",
       "      <td>3983.769999999999982000</td>\n",
       "      <td>1</td>\n",
       "      <td>14807</td>\n",
       "      <td>44596334</td>\n",
       "      <td>https://lh3.googleusercontent.com/9GgkzN-7si-y...</td>\n",
       "      <td>larryp_eth</td>\n",
       "      <td>punk42069</td>\n",
       "      <td>larryp_eth</td>\n",
       "    </tr>\n",
       "    <tr>\n",
       "      <th>299</th>\n",
       "      <td>61b41aeed6ab32dbd9a84fcb</td>\n",
       "      <td>2021-12-05T17:31:42.954420</td>\n",
       "      <td>{'asset': None, 'asset_bundle': None, 'event_t...</td>\n",
       "      <td>2353544989</td>\n",
       "      <td>False</td>\n",
       "      <td>1</td>\n",
       "      <td>None</td>\n",
       "      <td>1020000000000000000</td>\n",
       "      <td>ETH</td>\n",
       "      <td>3983.769999999999982000</td>\n",
       "      <td>17774</td>\n",
       "      <td>1</td>\n",
       "      <td>61226810</td>\n",
       "      <td>https://lh3.googleusercontent.com/h-vSHcgf_qMn...</td>\n",
       "      <td>unknown</td>\n",
       "      <td>None</td>\n",
       "      <td>unknown</td>\n",
       "    </tr>\n",
       "    <tr>\n",
       "      <th>300</th>\n",
       "      <td>61b41aefd6ab32dbd9a84fcc</td>\n",
       "      <td>2021-12-05T17:27:12.853093</td>\n",
       "      <td>{'asset': None, 'asset_bundle': None, 'event_t...</td>\n",
       "      <td>2353479286</td>\n",
       "      <td>False</td>\n",
       "      <td>1</td>\n",
       "      <td>None</td>\n",
       "      <td>399000000000000000</td>\n",
       "      <td>ETH</td>\n",
       "      <td>3983.769999999999982000</td>\n",
       "      <td>1</td>\n",
       "      <td>14807</td>\n",
       "      <td>44596334</td>\n",
       "      <td>https://lh3.googleusercontent.com/9GgkzN-7si-y...</td>\n",
       "      <td>TaipeiBatman</td>\n",
       "      <td>loopx</td>\n",
       "      <td>TaipeiBatman</td>\n",
       "    </tr>\n",
       "    <tr>\n",
       "      <th>301</th>\n",
       "      <td>61b41aefd6ab32dbd9a84fcd</td>\n",
       "      <td>2021-12-05T17:25:44.415360</td>\n",
       "      <td>{'asset': None, 'asset_bundle': None, 'event_t...</td>\n",
       "      <td>2353458550</td>\n",
       "      <td>False</td>\n",
       "      <td>1</td>\n",
       "      <td>None</td>\n",
       "      <td>1100000000000000000</td>\n",
       "      <td>ETH</td>\n",
       "      <td>3983.769999999999982000</td>\n",
       "      <td>2226</td>\n",
       "      <td>1</td>\n",
       "      <td>59270141</td>\n",
       "      <td>https://lh3.googleusercontent.com/2UqDJoje13ys...</td>\n",
       "      <td>TaipeiBatman</td>\n",
       "      <td>A_V1</td>\n",
       "      <td>TaipeiBatman</td>\n",
       "    </tr>\n",
       "    <tr>\n",
       "      <th>302</th>\n",
       "      <td>61b41aefd6ab32dbd9a84fce</td>\n",
       "      <td>2021-12-05T17:21:11.210842</td>\n",
       "      <td>{'asset': None, 'asset_bundle': None, 'event_t...</td>\n",
       "      <td>2353393355</td>\n",
       "      <td>False</td>\n",
       "      <td>1</td>\n",
       "      <td>None</td>\n",
       "      <td>395000000000000000</td>\n",
       "      <td>ETH</td>\n",
       "      <td>3983.769999999999982000</td>\n",
       "      <td>1</td>\n",
       "      <td>14807</td>\n",
       "      <td>44596334</td>\n",
       "      <td>https://lh3.googleusercontent.com/9GgkzN-7si-y...</td>\n",
       "      <td>TaipeiBatman</td>\n",
       "      <td>JonnyB</td>\n",
       "      <td>TaipeiBatman</td>\n",
       "    </tr>\n",
       "    <tr>\n",
       "      <th>...</th>\n",
       "      <td>...</td>\n",
       "      <td>...</td>\n",
       "      <td>...</td>\n",
       "      <td>...</td>\n",
       "      <td>...</td>\n",
       "      <td>...</td>\n",
       "      <td>...</td>\n",
       "      <td>...</td>\n",
       "      <td>...</td>\n",
       "      <td>...</td>\n",
       "      <td>...</td>\n",
       "      <td>...</td>\n",
       "      <td>...</td>\n",
       "      <td>...</td>\n",
       "      <td>...</td>\n",
       "      <td>...</td>\n",
       "      <td>...</td>\n",
       "    </tr>\n",
       "    <tr>\n",
       "      <th>10045</th>\n",
       "      <td>61b41ba0d6ab32dbd9a875dd</td>\n",
       "      <td>2021-09-28T05:43:19.935340</td>\n",
       "      <td>{'asset': None, 'asset_bundle': None, 'event_t...</td>\n",
       "      <td>1140292383</td>\n",
       "      <td>False</td>\n",
       "      <td>1</td>\n",
       "      <td>None</td>\n",
       "      <td>2800000000000000000</td>\n",
       "      <td>ETH</td>\n",
       "      <td>3983.769999999999982000</td>\n",
       "      <td>17480</td>\n",
       "      <td>1</td>\n",
       "      <td>61049557</td>\n",
       "      <td>https://lh3.googleusercontent.com/1RP4PasyvmF3...</td>\n",
       "      <td>ModeratsArt</td>\n",
       "      <td>Winniee</td>\n",
       "      <td>ModeratsArt</td>\n",
       "    </tr>\n",
       "    <tr>\n",
       "      <th>10046</th>\n",
       "      <td>61b41ba0d6ab32dbd9a875de</td>\n",
       "      <td>2021-09-28T05:38:25.800408</td>\n",
       "      <td>{'asset': None, 'asset_bundle': None, 'event_t...</td>\n",
       "      <td>1140224886</td>\n",
       "      <td>False</td>\n",
       "      <td>1</td>\n",
       "      <td>None</td>\n",
       "      <td>1199000000000000000</td>\n",
       "      <td>ETH</td>\n",
       "      <td>3983.769999999999982000</td>\n",
       "      <td>1</td>\n",
       "      <td>14807</td>\n",
       "      <td>44596334</td>\n",
       "      <td>https://lh3.googleusercontent.com/9GgkzN-7si-y...</td>\n",
       "      <td>youaintmyfry</td>\n",
       "      <td>head-trip</td>\n",
       "      <td>youaintmyfry</td>\n",
       "    </tr>\n",
       "    <tr>\n",
       "      <th>10047</th>\n",
       "      <td>61b41ba0d6ab32dbd9a875df</td>\n",
       "      <td>2021-09-28T05:34:39.947798</td>\n",
       "      <td>{'asset': None, 'asset_bundle': None, 'event_t...</td>\n",
       "      <td>1140172188</td>\n",
       "      <td>False</td>\n",
       "      <td>1</td>\n",
       "      <td>None</td>\n",
       "      <td>2000000000000000000</td>\n",
       "      <td>ETH</td>\n",
       "      <td>3983.769999999999982000</td>\n",
       "      <td>16379</td>\n",
       "      <td>1</td>\n",
       "      <td>60380137</td>\n",
       "      <td>https://lh3.googleusercontent.com/ZILAvYcwulP9...</td>\n",
       "      <td>head-trip</td>\n",
       "      <td>MANDYxTHEJUNGLE</td>\n",
       "      <td>head-trip</td>\n",
       "    </tr>\n",
       "    <tr>\n",
       "      <th>10048</th>\n",
       "      <td>61b41ba0d6ab32dbd9a875e0</td>\n",
       "      <td>2021-09-28T05:33:37.656539</td>\n",
       "      <td>{'asset': None, 'asset_bundle': None, 'event_t...</td>\n",
       "      <td>1140157076</td>\n",
       "      <td>False</td>\n",
       "      <td>1</td>\n",
       "      <td>None</td>\n",
       "      <td>1000000000000000000</td>\n",
       "      <td>ETH</td>\n",
       "      <td>3983.769999999999982000</td>\n",
       "      <td>10542</td>\n",
       "      <td>1</td>\n",
       "      <td>59374117</td>\n",
       "      <td>https://lh3.googleusercontent.com/3K2T9Yp_UdO9...</td>\n",
       "      <td>totvault</td>\n",
       "      <td>chiggun</td>\n",
       "      <td>totvault</td>\n",
       "    </tr>\n",
       "    <tr>\n",
       "      <th>10049</th>\n",
       "      <td>61b41ba0d6ab32dbd9a875e1</td>\n",
       "      <td>2021-09-28T05:33:16.386547</td>\n",
       "      <td>{'asset': None, 'asset_bundle': None, 'event_t...</td>\n",
       "      <td>1140151631</td>\n",
       "      <td>False</td>\n",
       "      <td>1</td>\n",
       "      <td>None</td>\n",
       "      <td>1400000000000000000</td>\n",
       "      <td>ETH</td>\n",
       "      <td>3983.769999999999982000</td>\n",
       "      <td>15477</td>\n",
       "      <td>1</td>\n",
       "      <td>59985090</td>\n",
       "      <td>https://lh3.googleusercontent.com/YCbc64dHSp42...</td>\n",
       "      <td>ModeratsArt</td>\n",
       "      <td>MYSTERIO-NFT</td>\n",
       "      <td>ModeratsArt</td>\n",
       "    </tr>\n",
       "  </tbody>\n",
       "</table>\n",
       "<p>9637 rows × 17 columns</p>\n",
       "</div>"
      ],
      "text/plain": [
       "                            _id                created_date  \\\n",
       "298    61b41aeed6ab32dbd9a84fca  2021-12-05T18:59:45.104653   \n",
       "299    61b41aeed6ab32dbd9a84fcb  2021-12-05T17:31:42.954420   \n",
       "300    61b41aefd6ab32dbd9a84fcc  2021-12-05T17:27:12.853093   \n",
       "301    61b41aefd6ab32dbd9a84fcd  2021-12-05T17:25:44.415360   \n",
       "302    61b41aefd6ab32dbd9a84fce  2021-12-05T17:21:11.210842   \n",
       "...                         ...                         ...   \n",
       "10045  61b41ba0d6ab32dbd9a875dd  2021-09-28T05:43:19.935340   \n",
       "10046  61b41ba0d6ab32dbd9a875de  2021-09-28T05:38:25.800408   \n",
       "10047  61b41ba0d6ab32dbd9a875df  2021-09-28T05:34:39.947798   \n",
       "10048  61b41ba0d6ab32dbd9a875e0  2021-09-28T05:33:37.656539   \n",
       "10049  61b41ba0d6ab32dbd9a875e1  2021-09-28T05:33:16.386547   \n",
       "\n",
       "                                   dev_fee_payment_event          id  \\\n",
       "298    {'asset': None, 'asset_bundle': None, 'event_t...  2354882018   \n",
       "299    {'asset': None, 'asset_bundle': None, 'event_t...  2353544989   \n",
       "300    {'asset': None, 'asset_bundle': None, 'event_t...  2353479286   \n",
       "301    {'asset': None, 'asset_bundle': None, 'event_t...  2353458550   \n",
       "302    {'asset': None, 'asset_bundle': None, 'event_t...  2353393355   \n",
       "...                                                  ...         ...   \n",
       "10045  {'asset': None, 'asset_bundle': None, 'event_t...  1140292383   \n",
       "10046  {'asset': None, 'asset_bundle': None, 'event_t...  1140224886   \n",
       "10047  {'asset': None, 'asset_bundle': None, 'event_t...  1140172188   \n",
       "10048  {'asset': None, 'asset_bundle': None, 'event_t...  1140157076   \n",
       "10049  {'asset': None, 'asset_bundle': None, 'event_t...  1140151631   \n",
       "\n",
       "      is_private quantity to_account          total_price  \\\n",
       "298        False        1       None   400000000000000000   \n",
       "299        False        1       None  1020000000000000000   \n",
       "300        False        1       None   399000000000000000   \n",
       "301        False        1       None  1100000000000000000   \n",
       "302        False        1       None   395000000000000000   \n",
       "...          ...      ...        ...                  ...   \n",
       "10045      False        1       None  2800000000000000000   \n",
       "10046      False        1       None  1199000000000000000   \n",
       "10047      False        1       None  2000000000000000000   \n",
       "10048      False        1       None  1000000000000000000   \n",
       "10049      False        1       None  1400000000000000000   \n",
       "\n",
       "      payment_token_symbol  payment_token_usd_price asset_token_id  \\\n",
       "298                    ETH  3983.769999999999982000              1   \n",
       "299                    ETH  3983.769999999999982000          17774   \n",
       "300                    ETH  3983.769999999999982000              1   \n",
       "301                    ETH  3983.769999999999982000           2226   \n",
       "302                    ETH  3983.769999999999982000              1   \n",
       "...                    ...                      ...            ...   \n",
       "10045                  ETH  3983.769999999999982000          17480   \n",
       "10046                  ETH  3983.769999999999982000              1   \n",
       "10047                  ETH  3983.769999999999982000          16379   \n",
       "10048                  ETH  3983.769999999999982000          10542   \n",
       "10049                  ETH  3983.769999999999982000          15477   \n",
       "\n",
       "       asset_num_sales  asset_id  \\\n",
       "298              14807  44596334   \n",
       "299                  1  61226810   \n",
       "300              14807  44596334   \n",
       "301                  1  59270141   \n",
       "302              14807  44596334   \n",
       "...                ...       ...   \n",
       "10045                1  61049557   \n",
       "10046            14807  44596334   \n",
       "10047                1  60380137   \n",
       "10048                1  59374117   \n",
       "10049                1  59985090   \n",
       "\n",
       "                                         asset_image_url  \\\n",
       "298    https://lh3.googleusercontent.com/9GgkzN-7si-y...   \n",
       "299    https://lh3.googleusercontent.com/h-vSHcgf_qMn...   \n",
       "300    https://lh3.googleusercontent.com/9GgkzN-7si-y...   \n",
       "301    https://lh3.googleusercontent.com/2UqDJoje13ys...   \n",
       "302    https://lh3.googleusercontent.com/9GgkzN-7si-y...   \n",
       "...                                                  ...   \n",
       "10045  https://lh3.googleusercontent.com/1RP4PasyvmF3...   \n",
       "10046  https://lh3.googleusercontent.com/9GgkzN-7si-y...   \n",
       "10047  https://lh3.googleusercontent.com/ZILAvYcwulP9...   \n",
       "10048  https://lh3.googleusercontent.com/3K2T9Yp_UdO9...   \n",
       "10049  https://lh3.googleusercontent.com/YCbc64dHSp42...   \n",
       "\n",
       "      transaction_from_account_username  seller_username  \\\n",
       "298                          larryp_eth        punk42069   \n",
       "299                             unknown             None   \n",
       "300                        TaipeiBatman            loopx   \n",
       "301                        TaipeiBatman             A_V1   \n",
       "302                        TaipeiBatman           JonnyB   \n",
       "...                                 ...              ...   \n",
       "10045                       ModeratsArt          Winniee   \n",
       "10046                      youaintmyfry        head-trip   \n",
       "10047                         head-trip  MANDYxTHEJUNGLE   \n",
       "10048                          totvault          chiggun   \n",
       "10049                       ModeratsArt     MYSTERIO-NFT   \n",
       "\n",
       "      winner_account_username  \n",
       "298                larryp_eth  \n",
       "299                   unknown  \n",
       "300              TaipeiBatman  \n",
       "301              TaipeiBatman  \n",
       "302              TaipeiBatman  \n",
       "...                       ...  \n",
       "10045             ModeratsArt  \n",
       "10046            youaintmyfry  \n",
       "10047               head-trip  \n",
       "10048                totvault  \n",
       "10049             ModeratsArt  \n",
       "\n",
       "[9637 rows x 17 columns]"
      ]
     },
     "execution_count": 76,
     "metadata": {},
     "output_type": "execute_result"
    }
   ],
   "source": [
    "sales_df[pd.notnull(sales_df.dev_fee_payment_event)]"
   ]
  },
  {
   "cell_type": "code",
   "execution_count": 77,
   "id": "d255f59e",
   "metadata": {},
   "outputs": [
    {
     "data": {
      "text/plain": [
       "{'asset': None,\n",
       " 'asset_bundle': None,\n",
       " 'event_type': 'payout',\n",
       " 'event_timestamp': '2021-12-06T01:48:24',\n",
       " 'auction_type': None,\n",
       " 'total_price': None,\n",
       " 'payment_token': {'id': 1,\n",
       "  'symbol': 'ETH',\n",
       "  'address': '0x0000000000000000000000000000000000000000',\n",
       "  'image_url': 'https://storage.opensea.io/files/6f8e2979d428180222796ff4a33ab929.svg',\n",
       "  'name': 'Ether',\n",
       "  'decimals': 18,\n",
       "  'eth_price': '1.000000000000000',\n",
       "  'usd_price': '3983.769999999999982000'},\n",
       " 'transaction': {'block_hash': '0x0c965c24be97864a0dc43265daab5b7a4c246826b9fe725a43756e5f8e1f4a94',\n",
       "  'block_number': '13749472',\n",
       "  'from_account': None,\n",
       "  'id': 216441852,\n",
       "  'timestamp': None,\n",
       "  'to_account': None,\n",
       "  'transaction_hash': '0x8f894aeacea2206207d8afae89889760788182ad31eaa99361407aa0c0a90127',\n",
       "  'transaction_index': '68'},\n",
       " 'created_date': '2021-12-06T01:49:19.460184',\n",
       " 'quantity': None}"
      ]
     },
     "execution_count": 77,
     "metadata": {},
     "output_type": "execute_result"
    }
   ],
   "source": [
    "sales_df.dev_fee_payment_event.iloc[298]"
   ]
  },
  {
   "cell_type": "markdown",
   "id": "f2f63eae",
   "metadata": {},
   "source": [
    "Again, not enough info here to keep."
   ]
  },
  {
   "cell_type": "code",
   "execution_count": 78,
   "id": "aa97cb5c",
   "metadata": {},
   "outputs": [],
   "source": [
    "(sales_df.drop(['dev_fee_payment_event'], axis = 1, inplace = True))"
   ]
  },
  {
   "cell_type": "markdown",
   "id": "fd073dd4",
   "metadata": {},
   "source": [
    "**d. to_account**"
   ]
  },
  {
   "cell_type": "code",
   "execution_count": 79,
   "id": "19cc1a30",
   "metadata": {},
   "outputs": [
    {
     "name": "stdout",
     "output_type": "stream",
     "text": [
      "<class 'pandas.core.frame.DataFrame'>\n",
      "RangeIndex: 10050 entries, 0 to 10049\n",
      "Data columns (total 16 columns):\n",
      " #   Column                             Non-Null Count  Dtype \n",
      "---  ------                             --------------  ----- \n",
      " 0   _id                                10050 non-null  object\n",
      " 1   created_date                       10050 non-null  object\n",
      " 2   id                                 10050 non-null  int64 \n",
      " 3   is_private                         8423 non-null   object\n",
      " 4   quantity                           10050 non-null  object\n",
      " 5   to_account                         6 non-null      object\n",
      " 6   total_price                        10050 non-null  object\n",
      " 7   payment_token_symbol               10050 non-null  object\n",
      " 8   payment_token_usd_price            10050 non-null  object\n",
      " 9   asset_token_id                     10050 non-null  object\n",
      " 10  asset_num_sales                    10050 non-null  int64 \n",
      " 11  asset_id                           10050 non-null  int64 \n",
      " 12  asset_image_url                    10050 non-null  object\n",
      " 13  transaction_from_account_username  8595 non-null   object\n",
      " 14  seller_username                    9030 non-null   object\n",
      " 15  winner_account_username            8616 non-null   object\n",
      "dtypes: int64(3), object(13)\n",
      "memory usage: 1.2+ MB\n"
     ]
    }
   ],
   "source": [
    "sales_df.info()"
   ]
  },
  {
   "cell_type": "code",
   "execution_count": 80,
   "id": "e48f26db",
   "metadata": {},
   "outputs": [
    {
     "data": {
      "text/html": [
       "<div>\n",
       "<style scoped>\n",
       "    .dataframe tbody tr th:only-of-type {\n",
       "        vertical-align: middle;\n",
       "    }\n",
       "\n",
       "    .dataframe tbody tr th {\n",
       "        vertical-align: top;\n",
       "    }\n",
       "\n",
       "    .dataframe thead th {\n",
       "        text-align: right;\n",
       "    }\n",
       "</style>\n",
       "<table border=\"1\" class=\"dataframe\">\n",
       "  <thead>\n",
       "    <tr style=\"text-align: right;\">\n",
       "      <th></th>\n",
       "      <th>_id</th>\n",
       "      <th>created_date</th>\n",
       "      <th>id</th>\n",
       "      <th>is_private</th>\n",
       "      <th>quantity</th>\n",
       "      <th>to_account</th>\n",
       "      <th>total_price</th>\n",
       "      <th>payment_token_symbol</th>\n",
       "      <th>payment_token_usd_price</th>\n",
       "      <th>asset_token_id</th>\n",
       "      <th>asset_num_sales</th>\n",
       "      <th>asset_id</th>\n",
       "      <th>asset_image_url</th>\n",
       "      <th>transaction_from_account_username</th>\n",
       "      <th>seller_username</th>\n",
       "      <th>winner_account_username</th>\n",
       "    </tr>\n",
       "  </thead>\n",
       "  <tbody>\n",
       "    <tr>\n",
       "      <th>3330</th>\n",
       "      <td>61b41b26d6ab32dbd9a85ba2</td>\n",
       "      <td>2021-11-05T06:29:14.639950</td>\n",
       "      <td>1701961702</td>\n",
       "      <td>False</td>\n",
       "      <td>1</td>\n",
       "      <td>{'user': {'username': None}, 'profile_img_url'...</td>\n",
       "      <td>441000000000000000</td>\n",
       "      <td>ETH</td>\n",
       "      <td>3983.769999999999982000</td>\n",
       "      <td>1</td>\n",
       "      <td>14807</td>\n",
       "      <td>44596334</td>\n",
       "      <td>https://lh3.googleusercontent.com/9GgkzN-7si-y...</td>\n",
       "      <td>None</td>\n",
       "      <td>FYeah</td>\n",
       "      <td>None</td>\n",
       "    </tr>\n",
       "    <tr>\n",
       "      <th>5091</th>\n",
       "      <td>61b41b45d6ab32dbd9a86283</td>\n",
       "      <td>2021-10-21T07:22:30.093491</td>\n",
       "      <td>1469592134</td>\n",
       "      <td>False</td>\n",
       "      <td>1</td>\n",
       "      <td>{'user': {'username': 'DB'}, 'profile_img_url'...</td>\n",
       "      <td>670000000000000000</td>\n",
       "      <td>ETH</td>\n",
       "      <td>3983.769999999999982000</td>\n",
       "      <td>1</td>\n",
       "      <td>14807</td>\n",
       "      <td>44596334</td>\n",
       "      <td>https://lh3.googleusercontent.com/9GgkzN-7si-y...</td>\n",
       "      <td>DB</td>\n",
       "      <td>None</td>\n",
       "      <td>DB</td>\n",
       "    </tr>\n",
       "    <tr>\n",
       "      <th>5313</th>\n",
       "      <td>61b41b49d6ab32dbd9a86361</td>\n",
       "      <td>2021-10-19T07:00:00.657831</td>\n",
       "      <td>1438774598</td>\n",
       "      <td>False</td>\n",
       "      <td>1</td>\n",
       "      <td>{'user': None, 'profile_img_url': 'https://sto...</td>\n",
       "      <td>719000000000000000</td>\n",
       "      <td>ETH</td>\n",
       "      <td>3983.769999999999982000</td>\n",
       "      <td>1</td>\n",
       "      <td>14807</td>\n",
       "      <td>44596334</td>\n",
       "      <td>https://lh3.googleusercontent.com/9GgkzN-7si-y...</td>\n",
       "      <td>unknown</td>\n",
       "      <td>gyro_vlt</td>\n",
       "      <td>unknown</td>\n",
       "    </tr>\n",
       "    <tr>\n",
       "      <th>7944</th>\n",
       "      <td>61b41b78d6ab32dbd9a86da8</td>\n",
       "      <td>2021-10-05T20:56:47.815319</td>\n",
       "      <td>1254456301</td>\n",
       "      <td>False</td>\n",
       "      <td>1</td>\n",
       "      <td>{'user': {'username': 'KaldoLove'}, 'profile_i...</td>\n",
       "      <td>1000000000000000000</td>\n",
       "      <td>ETH</td>\n",
       "      <td>3983.769999999999982000</td>\n",
       "      <td>1</td>\n",
       "      <td>14807</td>\n",
       "      <td>44596334</td>\n",
       "      <td>https://lh3.googleusercontent.com/9GgkzN-7si-y...</td>\n",
       "      <td>KaldoLove</td>\n",
       "      <td>nate_nus</td>\n",
       "      <td>KaldoLove</td>\n",
       "    </tr>\n",
       "    <tr>\n",
       "      <th>8704</th>\n",
       "      <td>61b41b88d6ab32dbd9a870a0</td>\n",
       "      <td>2021-10-02T17:05:27.055131</td>\n",
       "      <td>1207377365</td>\n",
       "      <td>False</td>\n",
       "      <td>1</td>\n",
       "      <td>{'user': {'username': 'mjt123'}, 'profile_img_...</td>\n",
       "      <td>989000000000000000</td>\n",
       "      <td>ETH</td>\n",
       "      <td>3983.769999999999982000</td>\n",
       "      <td>18811</td>\n",
       "      <td>1</td>\n",
       "      <td>62116764</td>\n",
       "      <td>https://lh3.googleusercontent.com/KiDza55cZ89q...</td>\n",
       "      <td>mjt123</td>\n",
       "      <td>Blue_Kid</td>\n",
       "      <td>mjt123</td>\n",
       "    </tr>\n",
       "    <tr>\n",
       "      <th>9049</th>\n",
       "      <td>61b41b8ed6ab32dbd9a871f9</td>\n",
       "      <td>2021-09-30T22:57:37.377598</td>\n",
       "      <td>1183970011</td>\n",
       "      <td>False</td>\n",
       "      <td>1</td>\n",
       "      <td>{'user': {'username': 'Kulture_'}, 'profile_im...</td>\n",
       "      <td>1050000000000000000</td>\n",
       "      <td>ETH</td>\n",
       "      <td>3983.769999999999982000</td>\n",
       "      <td>1</td>\n",
       "      <td>14807</td>\n",
       "      <td>44596334</td>\n",
       "      <td>https://lh3.googleusercontent.com/9GgkzN-7si-y...</td>\n",
       "      <td>Kulture_</td>\n",
       "      <td>None</td>\n",
       "      <td>Kulture_</td>\n",
       "    </tr>\n",
       "  </tbody>\n",
       "</table>\n",
       "</div>"
      ],
      "text/plain": [
       "                           _id                created_date          id  \\\n",
       "3330  61b41b26d6ab32dbd9a85ba2  2021-11-05T06:29:14.639950  1701961702   \n",
       "5091  61b41b45d6ab32dbd9a86283  2021-10-21T07:22:30.093491  1469592134   \n",
       "5313  61b41b49d6ab32dbd9a86361  2021-10-19T07:00:00.657831  1438774598   \n",
       "7944  61b41b78d6ab32dbd9a86da8  2021-10-05T20:56:47.815319  1254456301   \n",
       "8704  61b41b88d6ab32dbd9a870a0  2021-10-02T17:05:27.055131  1207377365   \n",
       "9049  61b41b8ed6ab32dbd9a871f9  2021-09-30T22:57:37.377598  1183970011   \n",
       "\n",
       "     is_private quantity                                         to_account  \\\n",
       "3330      False        1  {'user': {'username': None}, 'profile_img_url'...   \n",
       "5091      False        1  {'user': {'username': 'DB'}, 'profile_img_url'...   \n",
       "5313      False        1  {'user': None, 'profile_img_url': 'https://sto...   \n",
       "7944      False        1  {'user': {'username': 'KaldoLove'}, 'profile_i...   \n",
       "8704      False        1  {'user': {'username': 'mjt123'}, 'profile_img_...   \n",
       "9049      False        1  {'user': {'username': 'Kulture_'}, 'profile_im...   \n",
       "\n",
       "              total_price payment_token_symbol  payment_token_usd_price  \\\n",
       "3330   441000000000000000                  ETH  3983.769999999999982000   \n",
       "5091   670000000000000000                  ETH  3983.769999999999982000   \n",
       "5313   719000000000000000                  ETH  3983.769999999999982000   \n",
       "7944  1000000000000000000                  ETH  3983.769999999999982000   \n",
       "8704   989000000000000000                  ETH  3983.769999999999982000   \n",
       "9049  1050000000000000000                  ETH  3983.769999999999982000   \n",
       "\n",
       "     asset_token_id  asset_num_sales  asset_id  \\\n",
       "3330              1            14807  44596334   \n",
       "5091              1            14807  44596334   \n",
       "5313              1            14807  44596334   \n",
       "7944              1            14807  44596334   \n",
       "8704          18811                1  62116764   \n",
       "9049              1            14807  44596334   \n",
       "\n",
       "                                        asset_image_url  \\\n",
       "3330  https://lh3.googleusercontent.com/9GgkzN-7si-y...   \n",
       "5091  https://lh3.googleusercontent.com/9GgkzN-7si-y...   \n",
       "5313  https://lh3.googleusercontent.com/9GgkzN-7si-y...   \n",
       "7944  https://lh3.googleusercontent.com/9GgkzN-7si-y...   \n",
       "8704  https://lh3.googleusercontent.com/KiDza55cZ89q...   \n",
       "9049  https://lh3.googleusercontent.com/9GgkzN-7si-y...   \n",
       "\n",
       "     transaction_from_account_username seller_username winner_account_username  \n",
       "3330                              None           FYeah                    None  \n",
       "5091                                DB            None                      DB  \n",
       "5313                           unknown        gyro_vlt                 unknown  \n",
       "7944                         KaldoLove        nate_nus               KaldoLove  \n",
       "8704                            mjt123        Blue_Kid                  mjt123  \n",
       "9049                          Kulture_            None                Kulture_  "
      ]
     },
     "execution_count": 80,
     "metadata": {},
     "output_type": "execute_result"
    }
   ],
   "source": [
    "sales_df[pd.notnull(sales_df.to_account)]"
   ]
  },
  {
   "cell_type": "markdown",
   "id": "09961ce6",
   "metadata": {},
   "source": [
    "Again, not enough info here to keep."
   ]
  },
  {
   "cell_type": "code",
   "execution_count": 81,
   "id": "0b01763c",
   "metadata": {},
   "outputs": [],
   "source": [
    "(sales_df.drop(['to_account'], axis = 1, inplace = True))"
   ]
  },
  {
   "cell_type": "markdown",
   "id": "0ae24a38",
   "metadata": {},
   "source": [
    "**e. is_private**"
   ]
  },
  {
   "cell_type": "code",
   "execution_count": 82,
   "id": "48910e04",
   "metadata": {},
   "outputs": [
    {
     "data": {
      "text/plain": [
       "False    8396\n",
       "True       27\n",
       "Name: is_private, dtype: int64"
      ]
     },
     "execution_count": 82,
     "metadata": {},
     "output_type": "execute_result"
    }
   ],
   "source": [
    "sales_df.is_private.value_counts()"
   ]
  },
  {
   "cell_type": "code",
   "execution_count": 83,
   "id": "d411792d",
   "metadata": {},
   "outputs": [],
   "source": [
    "sales_df.is_private = sales_df.is_private.fillna(value='unknown')"
   ]
  },
  {
   "cell_type": "markdown",
   "id": "d957240e",
   "metadata": {},
   "source": [
    "**f. transaction_from_account_username**"
   ]
  },
  {
   "cell_type": "code",
   "execution_count": 84,
   "id": "d8e2bda8",
   "metadata": {},
   "outputs": [],
   "source": [
    "sales_df.transaction_from_account_username = (sales_df.\n",
    "                                              transaction_from_account_username.\n",
    "                                              fillna(value='unknown'))"
   ]
  },
  {
   "cell_type": "markdown",
   "id": "cef55875",
   "metadata": {},
   "source": [
    "**g. seller_username**"
   ]
  },
  {
   "cell_type": "code",
   "execution_count": 85,
   "id": "44d427ce",
   "metadata": {},
   "outputs": [],
   "source": [
    "sales_df.seller_username = (sales_df.seller_username.fillna(value='unknown'))"
   ]
  },
  {
   "cell_type": "markdown",
   "id": "5513c933",
   "metadata": {},
   "source": [
    "**h. winner_account_username**"
   ]
  },
  {
   "cell_type": "code",
   "execution_count": 86,
   "id": "4717ac55",
   "metadata": {},
   "outputs": [
    {
     "data": {
      "text/plain": [
       "0    nikolas17\n",
       "1          858\n",
       "2      Iamchef\n",
       "3      Iamchef\n",
       "4      Iamchef\n",
       "Name: winner_account_username, dtype: object"
      ]
     },
     "execution_count": 86,
     "metadata": {},
     "output_type": "execute_result"
    }
   ],
   "source": [
    "sales_df.winner_account_username.iloc[0:5]"
   ]
  },
  {
   "cell_type": "code",
   "execution_count": 87,
   "id": "5438f765",
   "metadata": {},
   "outputs": [],
   "source": [
    "sales_df.winner_account_username = (sales_df.winner_account_username.\n",
    "                                              fillna(value='unknown'))"
   ]
  },
  {
   "cell_type": "markdown",
   "id": "4a24fa99",
   "metadata": {},
   "source": [
    "## Saving File"
   ]
  },
  {
   "cell_type": "markdown",
   "id": "c269bb36",
   "metadata": {},
   "source": [
    "Finally, let's save this to a CSV so that we can model it and EDA in the next notebook"
   ]
  },
  {
   "cell_type": "code",
   "execution_count": 88,
   "id": "4798e382",
   "metadata": {},
   "outputs": [],
   "source": [
    "sales_df.to_csv('sales.csv', index= False)"
   ]
  }
 ],
 "metadata": {
  "kernelspec": {
   "display_name": "Python 3 (ipykernel)",
   "language": "python",
   "name": "python3"
  },
  "language_info": {
   "codemirror_mode": {
    "name": "ipython",
    "version": 3
   },
   "file_extension": ".py",
   "mimetype": "text/x-python",
   "name": "python",
   "nbconvert_exporter": "python",
   "pygments_lexer": "ipython3",
   "version": "3.8.5"
  }
 },
 "nbformat": 4,
 "nbformat_minor": 5
}
