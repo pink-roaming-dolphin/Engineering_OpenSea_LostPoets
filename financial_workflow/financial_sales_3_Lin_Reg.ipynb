{
 "cells": [
  {
   "cell_type": "code",
   "execution_count": 4,
   "id": "0293d0a3",
   "metadata": {},
   "outputs": [
    {
     "name": "stdout",
     "output_type": "stream",
     "text": [
      "Populating the interactive namespace from numpy and matplotlib\n"
     ]
    }
   ],
   "source": [
    "%matplotlib inline\n",
    "%pylab inline\n",
    "%config InlineBackend.figure_formats = ['retina']\n",
    "\n",
    "# Basics + EDA\n",
    "import pandas as pd\n",
    "import matplotlib.pyplot as plt\n",
    "import seaborn as sns\n",
    "sns.set(context='notebook', style='whitegrid', font_scale=1.2)\n",
    "\n",
    "# Modeling\n",
    "from sklearn.linear_model import LinearRegression\n",
    "from sklearn.model_selection import train_test_split"
   ]
  },
  {
   "cell_type": "markdown",
   "id": "e6da17e4",
   "metadata": {},
   "source": [
    "We read in the file and do a sanity check everything is working. Then we go on with our modeling.\n",
    "\n",
    "Unfortunately, the model at most gives us an R2 score of 0.11 so we won't use it downstream in our process."
   ]
  },
  {
   "cell_type": "markdown",
   "id": "baaaecf5",
   "metadata": {},
   "source": [
    "### 1. Read Data in"
   ]
  },
  {
   "cell_type": "code",
   "execution_count": 5,
   "id": "0e943fbd",
   "metadata": {},
   "outputs": [],
   "source": [
    "sales_df = pd.read_csv('sales.csv')"
   ]
  },
  {
   "cell_type": "code",
   "execution_count": 6,
   "id": "2a15b281",
   "metadata": {},
   "outputs": [
    {
     "data": {
      "text/html": [
       "<div>\n",
       "<style scoped>\n",
       "    .dataframe tbody tr th:only-of-type {\n",
       "        vertical-align: middle;\n",
       "    }\n",
       "\n",
       "    .dataframe tbody tr th {\n",
       "        vertical-align: top;\n",
       "    }\n",
       "\n",
       "    .dataframe thead th {\n",
       "        text-align: right;\n",
       "    }\n",
       "</style>\n",
       "<table border=\"1\" class=\"dataframe\">\n",
       "  <thead>\n",
       "    <tr style=\"text-align: right;\">\n",
       "      <th></th>\n",
       "      <th>_id</th>\n",
       "      <th>created_date</th>\n",
       "      <th>id</th>\n",
       "      <th>is_private</th>\n",
       "      <th>quantity</th>\n",
       "      <th>total_price</th>\n",
       "      <th>payment_token_symbol</th>\n",
       "      <th>payment_token_usd_price</th>\n",
       "      <th>asset_token_id</th>\n",
       "      <th>asset_num_sales</th>\n",
       "      <th>asset_id</th>\n",
       "      <th>asset_image_url</th>\n",
       "      <th>transaction_from_account_username</th>\n",
       "      <th>seller_username</th>\n",
       "      <th>winner_account_username</th>\n",
       "    </tr>\n",
       "  </thead>\n",
       "  <tbody>\n",
       "    <tr>\n",
       "      <th>0</th>\n",
       "      <td>61b41aebd6ab32dbd9a84ea0</td>\n",
       "      <td>2021-12-11T03:27:23.942099</td>\n",
       "      <td>2427455930</td>\n",
       "      <td>False</td>\n",
       "      <td>1</td>\n",
       "      <td>365000000000000000</td>\n",
       "      <td>ETH</td>\n",
       "      <td>3983.77</td>\n",
       "      <td>1</td>\n",
       "      <td>14807</td>\n",
       "      <td>44596334</td>\n",
       "      <td>https://lh3.googleusercontent.com/9GgkzN-7si-y...</td>\n",
       "      <td>nikolas17</td>\n",
       "      <td>0xBub</td>\n",
       "      <td>nikolas17</td>\n",
       "    </tr>\n",
       "    <tr>\n",
       "      <th>1</th>\n",
       "      <td>61b41aebd6ab32dbd9a84ea1</td>\n",
       "      <td>2021-12-11T03:20:03.826890</td>\n",
       "      <td>2427391259</td>\n",
       "      <td>unknown</td>\n",
       "      <td>1</td>\n",
       "      <td>500000000000000000</td>\n",
       "      <td>WETH</td>\n",
       "      <td>3972.70</td>\n",
       "      <td>5594</td>\n",
       "      <td>2</td>\n",
       "      <td>59286920</td>\n",
       "      <td>https://lh3.googleusercontent.com/ko_eY806byoe...</td>\n",
       "      <td>adamludwin</td>\n",
       "      <td>adamludwin</td>\n",
       "      <td>858</td>\n",
       "    </tr>\n",
       "    <tr>\n",
       "      <th>2</th>\n",
       "      <td>61b41aebd6ab32dbd9a84ea2</td>\n",
       "      <td>2021-12-11T02:47:15.343322</td>\n",
       "      <td>2427093401</td>\n",
       "      <td>False</td>\n",
       "      <td>1</td>\n",
       "      <td>1000000000000000000</td>\n",
       "      <td>ETH</td>\n",
       "      <td>3983.77</td>\n",
       "      <td>8839</td>\n",
       "      <td>1</td>\n",
       "      <td>59336121</td>\n",
       "      <td>https://lh3.googleusercontent.com/yNssfCMygvRC...</td>\n",
       "      <td>Iamchef</td>\n",
       "      <td>DirtySderty</td>\n",
       "      <td>Iamchef</td>\n",
       "    </tr>\n",
       "  </tbody>\n",
       "</table>\n",
       "</div>"
      ],
      "text/plain": [
       "                        _id                created_date          id  \\\n",
       "0  61b41aebd6ab32dbd9a84ea0  2021-12-11T03:27:23.942099  2427455930   \n",
       "1  61b41aebd6ab32dbd9a84ea1  2021-12-11T03:20:03.826890  2427391259   \n",
       "2  61b41aebd6ab32dbd9a84ea2  2021-12-11T02:47:15.343322  2427093401   \n",
       "\n",
       "  is_private  quantity          total_price payment_token_symbol  \\\n",
       "0      False         1   365000000000000000                  ETH   \n",
       "1    unknown         1   500000000000000000                 WETH   \n",
       "2      False         1  1000000000000000000                  ETH   \n",
       "\n",
       "   payment_token_usd_price  asset_token_id  asset_num_sales  asset_id  \\\n",
       "0                  3983.77               1            14807  44596334   \n",
       "1                  3972.70            5594                2  59286920   \n",
       "2                  3983.77            8839                1  59336121   \n",
       "\n",
       "                                     asset_image_url  \\\n",
       "0  https://lh3.googleusercontent.com/9GgkzN-7si-y...   \n",
       "1  https://lh3.googleusercontent.com/ko_eY806byoe...   \n",
       "2  https://lh3.googleusercontent.com/yNssfCMygvRC...   \n",
       "\n",
       "  transaction_from_account_username seller_username winner_account_username  \n",
       "0                         nikolas17           0xBub               nikolas17  \n",
       "1                        adamludwin      adamludwin                     858  \n",
       "2                           Iamchef     DirtySderty                 Iamchef  "
      ]
     },
     "execution_count": 6,
     "metadata": {},
     "output_type": "execute_result"
    }
   ],
   "source": [
    "sales_df.head(3)"
   ]
  },
  {
   "cell_type": "code",
   "execution_count": 7,
   "id": "912e5fb6",
   "metadata": {},
   "outputs": [
    {
     "name": "stdout",
     "output_type": "stream",
     "text": [
      "<class 'pandas.core.frame.DataFrame'>\n",
      "RangeIndex: 10050 entries, 0 to 10049\n",
      "Data columns (total 15 columns):\n",
      " #   Column                             Non-Null Count  Dtype  \n",
      "---  ------                             --------------  -----  \n",
      " 0   _id                                10050 non-null  object \n",
      " 1   created_date                       10050 non-null  object \n",
      " 2   id                                 10050 non-null  int64  \n",
      " 3   is_private                         10050 non-null  object \n",
      " 4   quantity                           10050 non-null  int64  \n",
      " 5   total_price                        10050 non-null  object \n",
      " 6   payment_token_symbol               10050 non-null  object \n",
      " 7   payment_token_usd_price            10050 non-null  float64\n",
      " 8   asset_token_id                     10050 non-null  int64  \n",
      " 9   asset_num_sales                    10050 non-null  int64  \n",
      " 10  asset_id                           10050 non-null  int64  \n",
      " 11  asset_image_url                    10050 non-null  object \n",
      " 12  transaction_from_account_username  10050 non-null  object \n",
      " 13  seller_username                    10050 non-null  object \n",
      " 14  winner_account_username            10050 non-null  object \n",
      "dtypes: float64(1), int64(5), object(9)\n",
      "memory usage: 1.2+ MB\n"
     ]
    }
   ],
   "source": [
    "sales_df.info()"
   ]
  },
  {
   "cell_type": "code",
   "execution_count": 8,
   "id": "67eb7b80",
   "metadata": {},
   "outputs": [
    {
     "data": {
      "text/plain": [
       "Index(['_id', 'created_date', 'id', 'is_private', 'quantity', 'total_price',\n",
       "       'payment_token_symbol', 'payment_token_usd_price', 'asset_token_id',\n",
       "       'asset_num_sales', 'asset_id', 'asset_image_url',\n",
       "       'transaction_from_account_username', 'seller_username',\n",
       "       'winner_account_username'],\n",
       "      dtype='object')"
      ]
     },
     "execution_count": 8,
     "metadata": {},
     "output_type": "execute_result"
    }
   ],
   "source": [
    "sales_df.columns"
   ]
  },
  {
   "cell_type": "markdown",
   "id": "965521f1",
   "metadata": {},
   "source": [
    "### 2. Target "
   ]
  },
  {
   "cell_type": "code",
   "execution_count": 9,
   "id": "f724b5b4",
   "metadata": {},
   "outputs": [],
   "source": [
    "sales_df.total_price = sales_df.total_price.astype(float) "
   ]
  },
  {
   "cell_type": "code",
   "execution_count": 10,
   "id": "292c5922",
   "metadata": {},
   "outputs": [],
   "source": [
    "# convert prices from wei to eth\n",
    "sales_df.total_price = sales_df.total_price/10.**18"
   ]
  },
  {
   "cell_type": "code",
   "execution_count": 11,
   "id": "25c9d5a3",
   "metadata": {},
   "outputs": [],
   "source": [
    "sales_df.total_price = sales_df.total_price * sales_df.payment_token_usd_price"
   ]
  },
  {
   "cell_type": "code",
   "execution_count": 12,
   "id": "200527fa",
   "metadata": {},
   "outputs": [
    {
     "data": {
      "text/plain": [
       "<bound method NDFrame._add_numeric_operations.<locals>.mean of 0         1454.07605\n",
       "1         1986.35000\n",
       "2         3983.77000\n",
       "3         1454.07605\n",
       "4         3943.93230\n",
       "            ...     \n",
       "10045    11154.55600\n",
       "10046     4776.54023\n",
       "10047     7967.54000\n",
       "10048     3983.77000\n",
       "10049     5577.27800\n",
       "Name: total_price, Length: 10050, dtype: float64>"
      ]
     },
     "execution_count": 12,
     "metadata": {},
     "output_type": "execute_result"
    }
   ],
   "source": [
    "sales_df.total_price.mean"
   ]
  },
  {
   "cell_type": "markdown",
   "id": "1658f3f4",
   "metadata": {},
   "source": [
    "### 3. Select Features"
   ]
  },
  {
   "cell_type": "code",
   "execution_count": 13,
   "id": "9588d9e7",
   "metadata": {},
   "outputs": [],
   "source": [
    "df = sales_df.loc[:,['created_date', 'is_private', 'quantity', \n",
    "       'payment_token_symbol', 'asset_token_id',\n",
    "       'asset_num_sales','seller_username',\n",
    "       'winner_account_username', 'total_price']]"
   ]
  },
  {
   "cell_type": "code",
   "execution_count": 14,
   "id": "bbc140f1",
   "metadata": {},
   "outputs": [
    {
     "data": {
      "text/html": [
       "<div>\n",
       "<style scoped>\n",
       "    .dataframe tbody tr th:only-of-type {\n",
       "        vertical-align: middle;\n",
       "    }\n",
       "\n",
       "    .dataframe tbody tr th {\n",
       "        vertical-align: top;\n",
       "    }\n",
       "\n",
       "    .dataframe thead th {\n",
       "        text-align: right;\n",
       "    }\n",
       "</style>\n",
       "<table border=\"1\" class=\"dataframe\">\n",
       "  <thead>\n",
       "    <tr style=\"text-align: right;\">\n",
       "      <th></th>\n",
       "      <th>quantity</th>\n",
       "      <th>asset_token_id</th>\n",
       "      <th>asset_num_sales</th>\n",
       "      <th>total_price</th>\n",
       "    </tr>\n",
       "  </thead>\n",
       "  <tbody>\n",
       "    <tr>\n",
       "      <th>count</th>\n",
       "      <td>10050.000000</td>\n",
       "      <td>10050.000000</td>\n",
       "      <td>10050.000000</td>\n",
       "      <td>10050.000000</td>\n",
       "    </tr>\n",
       "    <tr>\n",
       "      <th>mean</th>\n",
       "      <td>1.139801</td>\n",
       "      <td>6831.110846</td>\n",
       "      <td>7551.479005</td>\n",
       "      <td>4296.236805</td>\n",
       "    </tr>\n",
       "    <tr>\n",
       "      <th>std</th>\n",
       "      <td>1.095617</td>\n",
       "      <td>8427.326090</td>\n",
       "      <td>7401.743466</td>\n",
       "      <td>5392.354980</td>\n",
       "    </tr>\n",
       "    <tr>\n",
       "      <th>min</th>\n",
       "      <td>1.000000</td>\n",
       "      <td>0.000000</td>\n",
       "      <td>0.000000</td>\n",
       "      <td>0.000000</td>\n",
       "    </tr>\n",
       "    <tr>\n",
       "      <th>25%</th>\n",
       "      <td>1.000000</td>\n",
       "      <td>1.000000</td>\n",
       "      <td>1.000000</td>\n",
       "      <td>2788.639000</td>\n",
       "    </tr>\n",
       "    <tr>\n",
       "      <th>50%</th>\n",
       "      <td>1.000000</td>\n",
       "      <td>1.000000</td>\n",
       "      <td>14807.000000</td>\n",
       "      <td>3943.932300</td>\n",
       "    </tr>\n",
       "    <tr>\n",
       "      <th>75%</th>\n",
       "      <td>1.000000</td>\n",
       "      <td>14455.000000</td>\n",
       "      <td>14807.000000</td>\n",
       "      <td>4461.822400</td>\n",
       "    </tr>\n",
       "    <tr>\n",
       "      <th>max</th>\n",
       "      <td>50.000000</td>\n",
       "      <td>28160.000000</td>\n",
       "      <td>14807.000000</td>\n",
       "      <td>167318.340000</td>\n",
       "    </tr>\n",
       "  </tbody>\n",
       "</table>\n",
       "</div>"
      ],
      "text/plain": [
       "           quantity  asset_token_id  asset_num_sales    total_price\n",
       "count  10050.000000    10050.000000     10050.000000   10050.000000\n",
       "mean       1.139801     6831.110846      7551.479005    4296.236805\n",
       "std        1.095617     8427.326090      7401.743466    5392.354980\n",
       "min        1.000000        0.000000         0.000000       0.000000\n",
       "25%        1.000000        1.000000         1.000000    2788.639000\n",
       "50%        1.000000        1.000000     14807.000000    3943.932300\n",
       "75%        1.000000    14455.000000     14807.000000    4461.822400\n",
       "max       50.000000    28160.000000     14807.000000  167318.340000"
      ]
     },
     "execution_count": 14,
     "metadata": {},
     "output_type": "execute_result"
    }
   ],
   "source": [
    "df.describe()"
   ]
  },
  {
   "cell_type": "code",
   "execution_count": 15,
   "id": "ca3ad571",
   "metadata": {},
   "outputs": [
    {
     "data": {
      "text/plain": [
       "(10050, 9)"
      ]
     },
     "execution_count": 15,
     "metadata": {},
     "output_type": "execute_result"
    }
   ],
   "source": [
    "df.shape"
   ]
  },
  {
   "cell_type": "code",
   "execution_count": 16,
   "id": "fe28a4dc",
   "metadata": {},
   "outputs": [
    {
     "name": "stdout",
     "output_type": "stream",
     "text": [
      "<class 'pandas.core.frame.DataFrame'>\n",
      "RangeIndex: 10050 entries, 0 to 10049\n",
      "Data columns (total 9 columns):\n",
      " #   Column                   Non-Null Count  Dtype  \n",
      "---  ------                   --------------  -----  \n",
      " 0   created_date             10050 non-null  object \n",
      " 1   is_private               10050 non-null  object \n",
      " 2   quantity                 10050 non-null  int64  \n",
      " 3   payment_token_symbol     10050 non-null  object \n",
      " 4   asset_token_id           10050 non-null  int64  \n",
      " 5   asset_num_sales          10050 non-null  int64  \n",
      " 6   seller_username          10050 non-null  object \n",
      " 7   winner_account_username  10050 non-null  object \n",
      " 8   total_price              10050 non-null  float64\n",
      "dtypes: float64(1), int64(3), object(5)\n",
      "memory usage: 706.8+ KB\n"
     ]
    }
   ],
   "source": [
    "df.info()"
   ]
  },
  {
   "cell_type": "code",
   "execution_count": 17,
   "id": "6b7dcd70",
   "metadata": {},
   "outputs": [
    {
     "data": {
      "text/html": [
       "<div>\n",
       "<style scoped>\n",
       "    .dataframe tbody tr th:only-of-type {\n",
       "        vertical-align: middle;\n",
       "    }\n",
       "\n",
       "    .dataframe tbody tr th {\n",
       "        vertical-align: top;\n",
       "    }\n",
       "\n",
       "    .dataframe thead th {\n",
       "        text-align: right;\n",
       "    }\n",
       "</style>\n",
       "<table border=\"1\" class=\"dataframe\">\n",
       "  <thead>\n",
       "    <tr style=\"text-align: right;\">\n",
       "      <th></th>\n",
       "      <th>quantity</th>\n",
       "      <th>asset_token_id</th>\n",
       "      <th>asset_num_sales</th>\n",
       "      <th>total_price</th>\n",
       "    </tr>\n",
       "  </thead>\n",
       "  <tbody>\n",
       "    <tr>\n",
       "      <th>quantity</th>\n",
       "      <td>1.000000</td>\n",
       "      <td>-0.103427</td>\n",
       "      <td>0.121821</td>\n",
       "      <td>0.589215</td>\n",
       "    </tr>\n",
       "    <tr>\n",
       "      <th>asset_token_id</th>\n",
       "      <td>-0.103427</td>\n",
       "      <td>1.000000</td>\n",
       "      <td>-0.826807</td>\n",
       "      <td>0.013486</td>\n",
       "    </tr>\n",
       "    <tr>\n",
       "      <th>asset_num_sales</th>\n",
       "      <td>0.121821</td>\n",
       "      <td>-0.826807</td>\n",
       "      <td>1.000000</td>\n",
       "      <td>-0.084546</td>\n",
       "    </tr>\n",
       "    <tr>\n",
       "      <th>total_price</th>\n",
       "      <td>0.589215</td>\n",
       "      <td>0.013486</td>\n",
       "      <td>-0.084546</td>\n",
       "      <td>1.000000</td>\n",
       "    </tr>\n",
       "  </tbody>\n",
       "</table>\n",
       "</div>"
      ],
      "text/plain": [
       "                 quantity  asset_token_id  asset_num_sales  total_price\n",
       "quantity         1.000000       -0.103427         0.121821     0.589215\n",
       "asset_token_id  -0.103427        1.000000        -0.826807     0.013486\n",
       "asset_num_sales  0.121821       -0.826807         1.000000    -0.084546\n",
       "total_price      0.589215        0.013486        -0.084546     1.000000"
      ]
     },
     "execution_count": 17,
     "metadata": {},
     "output_type": "execute_result"
    }
   ],
   "source": [
    "df.corr()"
   ]
  },
  {
   "cell_type": "markdown",
   "id": "267b9015",
   "metadata": {},
   "source": [
    "### 3.Baseline Model"
   ]
  },
  {
   "cell_type": "code",
   "execution_count": 19,
   "id": "ac26bbd8",
   "metadata": {},
   "outputs": [],
   "source": [
    "X = df.loc[:,['quantity', 'asset_token_id', 'asset_num_sales']]\n",
    "\n",
    "y = df['total_price']"
   ]
  },
  {
   "cell_type": "code",
   "execution_count": 20,
   "id": "8adcc105",
   "metadata": {},
   "outputs": [
    {
     "name": "stdout",
     "output_type": "stream",
     "text": [
      "Validation R^2 score: 0.10681497136676577\n",
      "\n",
      "Feature coefficient results: \n",
      "quantity : 3417.49\n",
      "asset_token_id : -0.09\n",
      "asset_num_sales : -0.21\n"
     ]
    }
   ],
   "source": [
    "X_train, X_val, y_train, y_val = train_test_split(X, y, test_size=0.2, random_state=42)\n",
    "\n",
    "lr_model = LinearRegression()\n",
    "lr_model.fit(X_train, y_train)\n",
    "\n",
    "val_score = lr_model.score(X_val, y_val)\n",
    "\n",
    "print('Validation R^2 score:', val_score)\n",
    "print('\\nFeature coefficient results: ')\n",
    "for feature, coef in zip(X.columns, lr_model.coef_):\n",
    "    print(feature, ':', f'{coef:.2f}') "
   ]
  },
  {
   "cell_type": "markdown",
   "id": "23fc8912",
   "metadata": {},
   "source": [
    "### 4. Get data ready"
   ]
  },
  {
   "cell_type": "markdown",
   "id": "a8cb21a1",
   "metadata": {},
   "source": [
    "#### a. Changing data types"
   ]
  },
  {
   "cell_type": "code",
   "execution_count": 21,
   "id": "5b53e9a6",
   "metadata": {},
   "outputs": [],
   "source": [
    "df.asset_token_id = df.asset_token_id.astype(float) "
   ]
  },
  {
   "cell_type": "code",
   "execution_count": 22,
   "id": "7a95cbec",
   "metadata": {},
   "outputs": [],
   "source": [
    "df['created_date'] = pd.to_datetime(df['created_date'])"
   ]
  },
  {
   "cell_type": "code",
   "execution_count": 23,
   "id": "791e9383",
   "metadata": {},
   "outputs": [
    {
     "data": {
      "text/html": [
       "<div>\n",
       "<style scoped>\n",
       "    .dataframe tbody tr th:only-of-type {\n",
       "        vertical-align: middle;\n",
       "    }\n",
       "\n",
       "    .dataframe tbody tr th {\n",
       "        vertical-align: top;\n",
       "    }\n",
       "\n",
       "    .dataframe thead th {\n",
       "        text-align: right;\n",
       "    }\n",
       "</style>\n",
       "<table border=\"1\" class=\"dataframe\">\n",
       "  <thead>\n",
       "    <tr style=\"text-align: right;\">\n",
       "      <th></th>\n",
       "      <th>quantity</th>\n",
       "      <th>asset_token_id</th>\n",
       "      <th>asset_num_sales</th>\n",
       "      <th>total_price</th>\n",
       "    </tr>\n",
       "  </thead>\n",
       "  <tbody>\n",
       "    <tr>\n",
       "      <th>count</th>\n",
       "      <td>10050.000000</td>\n",
       "      <td>10050.000000</td>\n",
       "      <td>10050.000000</td>\n",
       "      <td>10050.000000</td>\n",
       "    </tr>\n",
       "    <tr>\n",
       "      <th>mean</th>\n",
       "      <td>1.139801</td>\n",
       "      <td>6831.110846</td>\n",
       "      <td>7551.479005</td>\n",
       "      <td>4296.236805</td>\n",
       "    </tr>\n",
       "    <tr>\n",
       "      <th>std</th>\n",
       "      <td>1.095617</td>\n",
       "      <td>8427.326090</td>\n",
       "      <td>7401.743466</td>\n",
       "      <td>5392.354980</td>\n",
       "    </tr>\n",
       "    <tr>\n",
       "      <th>min</th>\n",
       "      <td>1.000000</td>\n",
       "      <td>0.000000</td>\n",
       "      <td>0.000000</td>\n",
       "      <td>0.000000</td>\n",
       "    </tr>\n",
       "    <tr>\n",
       "      <th>25%</th>\n",
       "      <td>1.000000</td>\n",
       "      <td>1.000000</td>\n",
       "      <td>1.000000</td>\n",
       "      <td>2788.639000</td>\n",
       "    </tr>\n",
       "    <tr>\n",
       "      <th>50%</th>\n",
       "      <td>1.000000</td>\n",
       "      <td>1.000000</td>\n",
       "      <td>14807.000000</td>\n",
       "      <td>3943.932300</td>\n",
       "    </tr>\n",
       "    <tr>\n",
       "      <th>75%</th>\n",
       "      <td>1.000000</td>\n",
       "      <td>14455.000000</td>\n",
       "      <td>14807.000000</td>\n",
       "      <td>4461.822400</td>\n",
       "    </tr>\n",
       "    <tr>\n",
       "      <th>max</th>\n",
       "      <td>50.000000</td>\n",
       "      <td>28160.000000</td>\n",
       "      <td>14807.000000</td>\n",
       "      <td>167318.340000</td>\n",
       "    </tr>\n",
       "  </tbody>\n",
       "</table>\n",
       "</div>"
      ],
      "text/plain": [
       "           quantity  asset_token_id  asset_num_sales    total_price\n",
       "count  10050.000000    10050.000000     10050.000000   10050.000000\n",
       "mean       1.139801     6831.110846      7551.479005    4296.236805\n",
       "std        1.095617     8427.326090      7401.743466    5392.354980\n",
       "min        1.000000        0.000000         0.000000       0.000000\n",
       "25%        1.000000        1.000000         1.000000    2788.639000\n",
       "50%        1.000000        1.000000     14807.000000    3943.932300\n",
       "75%        1.000000    14455.000000     14807.000000    4461.822400\n",
       "max       50.000000    28160.000000     14807.000000  167318.340000"
      ]
     },
     "execution_count": 23,
     "metadata": {},
     "output_type": "execute_result"
    }
   ],
   "source": [
    "df.describe()"
   ]
  },
  {
   "cell_type": "code",
   "execution_count": 24,
   "id": "f2997659",
   "metadata": {},
   "outputs": [
    {
     "name": "stdout",
     "output_type": "stream",
     "text": [
      "<class 'pandas.core.frame.DataFrame'>\n",
      "RangeIndex: 10050 entries, 0 to 10049\n",
      "Data columns (total 9 columns):\n",
      " #   Column                   Non-Null Count  Dtype         \n",
      "---  ------                   --------------  -----         \n",
      " 0   created_date             10050 non-null  datetime64[ns]\n",
      " 1   is_private               10050 non-null  object        \n",
      " 2   quantity                 10050 non-null  int64         \n",
      " 3   payment_token_symbol     10050 non-null  object        \n",
      " 4   asset_token_id           10050 non-null  float64       \n",
      " 5   asset_num_sales          10050 non-null  int64         \n",
      " 6   seller_username          10050 non-null  object        \n",
      " 7   winner_account_username  10050 non-null  object        \n",
      " 8   total_price              10050 non-null  float64       \n",
      "dtypes: datetime64[ns](1), float64(2), int64(2), object(4)\n",
      "memory usage: 706.8+ KB\n"
     ]
    }
   ],
   "source": [
    "df.info()"
   ]
  },
  {
   "cell_type": "markdown",
   "id": "7b4c72f8",
   "metadata": {},
   "source": [
    "#### b. One hot encoding"
   ]
  },
  {
   "cell_type": "markdown",
   "id": "2f571fda",
   "metadata": {},
   "source": [
    "*is_private*"
   ]
  },
  {
   "cell_type": "code",
   "execution_count": 25,
   "id": "bd3e1d52",
   "metadata": {},
   "outputs": [
    {
     "data": {
      "text/plain": [
       "False      8396\n",
       "unknown    1627\n",
       "True         27\n",
       "Name: is_private, dtype: int64"
      ]
     },
     "execution_count": 25,
     "metadata": {},
     "output_type": "execute_result"
    }
   ],
   "source": [
    "df.is_private.value_counts()"
   ]
  },
  {
   "cell_type": "code",
   "execution_count": 26,
   "id": "f40998b8",
   "metadata": {},
   "outputs": [],
   "source": [
    "X2 = X.copy()\n",
    "X2['is_private'] = df.is_private\n",
    "\n",
    "X2 = pd.get_dummies(X2['is_private'] )"
   ]
  },
  {
   "cell_type": "code",
   "execution_count": 27,
   "id": "bc4ad852",
   "metadata": {},
   "outputs": [
    {
     "name": "stdout",
     "output_type": "stream",
     "text": [
      "Validation R^2 score: -0.0015218928913569574\n",
      "\n",
      "Feature coefficient results: \n",
      "quantity : -3271216709141014.00\n",
      "asset_token_id : -3271216709141479.00\n",
      "asset_num_sales : -3271216709141004.50\n"
     ]
    }
   ],
   "source": [
    "X2_train, X2_val, y_train, y_val = train_test_split(X2, y, test_size=0.2, random_state=42)\n",
    "\n",
    "lr_model = LinearRegression()\n",
    "lr_model.fit(X2_train, y_train)\n",
    "\n",
    "val_score = lr_model.score(X2_val, y_val)\n",
    "\n",
    "print('Validation R^2 score:', val_score)\n",
    "print('\\nFeature coefficient results: ')\n",
    "for feature, coef in zip(X.columns, lr_model.coef_):\n",
    "    print(feature, ':', f'{coef:.2f}') "
   ]
  },
  {
   "cell_type": "markdown",
   "id": "67117d87",
   "metadata": {},
   "source": [
    "*seller_username*"
   ]
  },
  {
   "cell_type": "code",
   "execution_count": 28,
   "id": "7dcc1f1f",
   "metadata": {},
   "outputs": [
    {
     "data": {
      "text/plain": [
       "unknown         1296\n",
       "avarice          227\n",
       "k_               105\n",
       "770UR410N         79\n",
       "VirtualBacon      73\n",
       "                ... \n",
       "NFTcultureRS       1\n",
       "SubtlyFuego        1\n",
       "hellowelcome       1\n",
       "adamsmoot          1\n",
       "chiggun            1\n",
       "Name: seller_username, Length: 3031, dtype: int64"
      ]
     },
     "execution_count": 28,
     "metadata": {},
     "output_type": "execute_result"
    }
   ],
   "source": [
    "seller_counts = df.seller_username.value_counts()\n",
    "seller_counts"
   ]
  },
  {
   "cell_type": "code",
   "execution_count": 29,
   "id": "8ae09835",
   "metadata": {},
   "outputs": [],
   "source": [
    "seller_counts = list(seller_counts[seller_counts <= 5].index)\n",
    "X3 = X.copy()\n",
    "\n",
    "X3['seller_username'] = df['seller_username'].replace(seller_counts, 'other')"
   ]
  },
  {
   "cell_type": "code",
   "execution_count": 30,
   "id": "ab49097c",
   "metadata": {},
   "outputs": [],
   "source": [
    "X3 = pd.get_dummies(X3['seller_username'] )"
   ]
  },
  {
   "cell_type": "code",
   "execution_count": 31,
   "id": "69f7b9b2",
   "metadata": {},
   "outputs": [
    {
     "name": "stdout",
     "output_type": "stream",
     "text": [
      "Validation R^2 score: -0.01114716980204844\n",
      "\n",
      "Feature coefficient results: \n",
      "quantity : 1064037311085858.50\n",
      "asset_token_id : 1064037311085874.00\n",
      "asset_num_sales : 1064037311085885.00\n"
     ]
    }
   ],
   "source": [
    "X3_train, X3_val, y_train, y_val = train_test_split(X3, y, test_size=0.2, random_state=42)\n",
    "\n",
    "lr_model = LinearRegression()\n",
    "lr_model.fit(X3_train, y_train)\n",
    "\n",
    "val_score = lr_model.score(X3_val, y_val)\n",
    "\n",
    "print('Validation R^2 score:', val_score)\n",
    "print('\\nFeature coefficient results: ')\n",
    "for feature, coef in zip(X.columns, lr_model.coef_):\n",
    "    print(feature, ':', f'{coef:.2f}') "
   ]
  },
  {
   "cell_type": "markdown",
   "id": "414d2a9e",
   "metadata": {},
   "source": [
    "*winner_account_username*"
   ]
  },
  {
   "cell_type": "code",
   "execution_count": 32,
   "id": "6febb58c",
   "metadata": {},
   "outputs": [
    {
     "data": {
      "text/plain": [
       "unknown             2047\n",
       "oxgbed               269\n",
       "randaartcollect1     217\n",
       "mexpex               210\n",
       "HalfLifeXxVault      144\n",
       "                    ... \n",
       "mcnutsmcnuts           1\n",
       "HindsightCapita1       1\n",
       "X404                   1\n",
       "Edenarc                1\n",
       "youaintmyfry           1\n",
       "Name: winner_account_username, Length: 2453, dtype: int64"
      ]
     },
     "execution_count": 32,
     "metadata": {},
     "output_type": "execute_result"
    }
   ],
   "source": [
    "winner_counts = df.winner_account_username.value_counts()\n",
    "winner_counts"
   ]
  },
  {
   "cell_type": "code",
   "execution_count": 33,
   "id": "92df7ec2",
   "metadata": {},
   "outputs": [],
   "source": [
    "winner_counts = list(winner_counts[winner_counts <= 20].index)\n",
    "X4 = X.copy()\n",
    "\n",
    "X4['winner_account_username'] = df['winner_account_username'].replace(winner_counts, 'other')"
   ]
  },
  {
   "cell_type": "code",
   "execution_count": 34,
   "id": "ef9afb78",
   "metadata": {},
   "outputs": [],
   "source": [
    "X4 = pd.get_dummies(X4['winner_account_username'])"
   ]
  },
  {
   "cell_type": "code",
   "execution_count": 35,
   "id": "d73aae5a",
   "metadata": {},
   "outputs": [
    {
     "name": "stdout",
     "output_type": "stream",
     "text": [
      "Validation R^2 score: 0.016378569993678482\n",
      "\n",
      "Feature coefficient results: \n",
      "quantity : 19107782053627700.00\n",
      "asset_token_id : 19107782053628024.00\n",
      "asset_num_sales : 19107782053627372.00\n"
     ]
    }
   ],
   "source": [
    "X4_train, X4_val, y_train, y_val = train_test_split(X4, y, test_size=0.2, random_state=42)\n",
    "\n",
    "lr_model = LinearRegression()\n",
    "lr_model.fit(X4_train, y_train)\n",
    "\n",
    "val_score = lr_model.score(X4_val, y_val)\n",
    "\n",
    "print('Validation R^2 score:', val_score)\n",
    "print('\\nFeature coefficient results: ')\n",
    "for feature, coef in zip(X.columns, lr_model.coef_):\n",
    "    print(feature, ':', f'{coef:.2f}') "
   ]
  },
  {
   "cell_type": "markdown",
   "id": "9259dfa1",
   "metadata": {},
   "source": [
    "None of that is bringing our score up.\n",
    "\n",
    "One last thing before we go. "
   ]
  },
  {
   "cell_type": "code",
   "execution_count": 45,
   "id": "5aa77cac",
   "metadata": {},
   "outputs": [],
   "source": [
    "X5 = X.copy()\n",
    "X5['num_sales2']= df['asset_num_sales']**2 \n",
    "\n",
    "#As a reminder:\n",
    "#X = df.loc[:,['quantity', 'payment_token_usd_price', 'asset_token_id', 'asset_num_sales']]"
   ]
  },
  {
   "cell_type": "code",
   "execution_count": 46,
   "id": "6cd3b94c",
   "metadata": {},
   "outputs": [
    {
     "name": "stdout",
     "output_type": "stream",
     "text": [
      "Validation R^2 score: 0.10980127344055857\n",
      "\n",
      "Feature coefficient results: \n",
      "quantity : 3416.97\n",
      "asset_token_id : -0.10\n",
      "asset_num_sales : -466.93\n"
     ]
    }
   ],
   "source": [
    "X5_train, X5_val, y_train, y_val = train_test_split(X5, y, test_size=0.2, random_state=42)\n",
    "\n",
    "lr_model = LinearRegression()\n",
    "lr_model.fit(X5_train, y_train)\n",
    "\n",
    "val_score = lr_model.score(X5_val, y_val)\n",
    "\n",
    "print('Validation R^2 score:', val_score)\n",
    "print('\\nFeature coefficient results: ')\n",
    "for feature, coef in zip(X.columns, lr_model.coef_):\n",
    "    print(feature, ':', f'{coef:.2f}') "
   ]
  }
 ],
 "metadata": {
  "kernelspec": {
   "display_name": "Python 3 (ipykernel)",
   "language": "python",
   "name": "python3"
  },
  "language_info": {
   "codemirror_mode": {
    "name": "ipython",
    "version": 3
   },
   "file_extension": ".py",
   "mimetype": "text/x-python",
   "name": "python",
   "nbconvert_exporter": "python",
   "pygments_lexer": "ipython3",
   "version": "3.8.5"
  }
 },
 "nbformat": 4,
 "nbformat_minor": 5
}
