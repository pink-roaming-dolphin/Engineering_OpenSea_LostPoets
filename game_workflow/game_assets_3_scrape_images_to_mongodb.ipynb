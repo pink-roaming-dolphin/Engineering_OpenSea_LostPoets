{
 "cells": [
  {
   "cell_type": "code",
   "execution_count": 26,
   "id": "1d798c3f",
   "metadata": {},
   "outputs": [],
   "source": [
    "## regular/scraping imports\n",
    "import pandas as pd\n",
    "import requests\n",
    "import time\n",
    "\n",
    "## MongoDB imports\n",
    "from pymongo import MongoClient\n",
    "import gridfs"
   ]
  },
  {
   "cell_type": "markdown",
   "id": "580d75b4",
   "metadata": {},
   "source": [
    "This notebook connects to the MongoDB and creates a GridFS to store the images that we scrape from the LostPoets image URL's obtained from OpenSea data. "
   ]
  },
  {
   "cell_type": "code",
   "execution_count": 2,
   "id": "9d799ab2",
   "metadata": {},
   "outputs": [],
   "source": [
    "client = MongoClient()"
   ]
  },
  {
   "cell_type": "code",
   "execution_count": 3,
   "id": "63d30954",
   "metadata": {},
   "outputs": [
    {
     "data": {
      "text/plain": [
       "['admin', 'books', 'config', 'events', 'local', 'outings', 'pak']"
      ]
     },
     "execution_count": 3,
     "metadata": {},
     "output_type": "execute_result"
    }
   ],
   "source": [
    "client.list_database_names()"
   ]
  },
  {
   "cell_type": "code",
   "execution_count": 4,
   "id": "e7c13917",
   "metadata": {},
   "outputs": [],
   "source": [
    "db = client.pak"
   ]
  },
  {
   "cell_type": "markdown",
   "id": "6a4e8134",
   "metadata": {},
   "source": [
    "**Let's load the data in, get the image_url's.**"
   ]
  },
  {
   "cell_type": "code",
   "execution_count": 14,
   "id": "3d769345",
   "metadata": {},
   "outputs": [
    {
     "data": {
      "text/html": [
       "<div>\n",
       "<style scoped>\n",
       "    .dataframe tbody tr th:only-of-type {\n",
       "        vertical-align: middle;\n",
       "    }\n",
       "\n",
       "    .dataframe tbody tr th {\n",
       "        vertical-align: top;\n",
       "    }\n",
       "\n",
       "    .dataframe thead th {\n",
       "        text-align: right;\n",
       "    }\n",
       "</style>\n",
       "<table border=\"1\" class=\"dataframe\">\n",
       "  <thead>\n",
       "    <tr style=\"text-align: right;\">\n",
       "      <th></th>\n",
       "      <th>token_id</th>\n",
       "      <th>num_sales</th>\n",
       "      <th>image_url</th>\n",
       "      <th>image_original_url</th>\n",
       "      <th>name</th>\n",
       "      <th>description</th>\n",
       "      <th>permalink</th>\n",
       "      <th>creator</th>\n",
       "      <th>traits</th>\n",
       "      <th>owner_username</th>\n",
       "      <th>owner_address</th>\n",
       "    </tr>\n",
       "  </thead>\n",
       "  <tbody>\n",
       "    <tr>\n",
       "      <th>0</th>\n",
       "      <td>1</td>\n",
       "      <td>0</td>\n",
       "      <td>https://lh3.googleusercontent.com/ulT6Iu_7798l...</td>\n",
       "      <td>https://d1xxei964ioe0z.cloudfront.net/full/a16...</td>\n",
       "      <td>I</td>\n",
       "      <td>No Description Yet</td>\n",
       "      <td>https://opensea.io/assets/0x4b3406a41399c7fd2b...</td>\n",
       "      <td>NaN</td>\n",
       "      <td>[{'trait_type': 'Named', 'value': 'True', 'dis...</td>\n",
       "      <td>pak</td>\n",
       "      <td>0x2ce780d7c743a57791b835a9d6f998b15bbba5a4</td>\n",
       "    </tr>\n",
       "    <tr>\n",
       "      <th>1</th>\n",
       "      <td>2</td>\n",
       "      <td>0</td>\n",
       "      <td>https://lh3.googleusercontent.com/gtvCMMER8xEL...</td>\n",
       "      <td>https://d1xxei964ioe0z.cloudfront.net/full/622...</td>\n",
       "      <td>Origin #7THK</td>\n",
       "      <td>No Description Yet</td>\n",
       "      <td>https://opensea.io/assets/0x4b3406a41399c7fd2b...</td>\n",
       "      <td>NaN</td>\n",
       "      <td>[{'trait_type': 'Origin', 'value': '7THK', 'di...</td>\n",
       "      <td>NaN</td>\n",
       "      <td>0x984de65b9f9499dfb166889f0e9e15f6d779a1a7</td>\n",
       "    </tr>\n",
       "    <tr>\n",
       "      <th>2</th>\n",
       "      <td>3</td>\n",
       "      <td>0</td>\n",
       "      <td>https://lh3.googleusercontent.com/xgxBi9sL8ZOT...</td>\n",
       "      <td>https://d1xxei964ioe0z.cloudfront.net/full/304...</td>\n",
       "      <td>Origin #6AF2</td>\n",
       "      <td>No Description Yet</td>\n",
       "      <td>https://opensea.io/assets/0x4b3406a41399c7fd2b...</td>\n",
       "      <td>NaN</td>\n",
       "      <td>[{'trait_type': 'Origin', 'value': '6AF2', 'di...</td>\n",
       "      <td>LordTruffington_Vault</td>\n",
       "      <td>0x247c87f0705a82fc75811d04d01a5a22f736bbb3</td>\n",
       "    </tr>\n",
       "  </tbody>\n",
       "</table>\n",
       "</div>"
      ],
      "text/plain": [
       "   token_id  num_sales                                          image_url  \\\n",
       "0         1          0  https://lh3.googleusercontent.com/ulT6Iu_7798l...   \n",
       "1         2          0  https://lh3.googleusercontent.com/gtvCMMER8xEL...   \n",
       "2         3          0  https://lh3.googleusercontent.com/xgxBi9sL8ZOT...   \n",
       "\n",
       "                                  image_original_url          name  \\\n",
       "0  https://d1xxei964ioe0z.cloudfront.net/full/a16...             I   \n",
       "1  https://d1xxei964ioe0z.cloudfront.net/full/622...  Origin #7THK   \n",
       "2  https://d1xxei964ioe0z.cloudfront.net/full/304...  Origin #6AF2   \n",
       "\n",
       "          description                                          permalink  \\\n",
       "0  No Description Yet  https://opensea.io/assets/0x4b3406a41399c7fd2b...   \n",
       "1  No Description Yet  https://opensea.io/assets/0x4b3406a41399c7fd2b...   \n",
       "2  No Description Yet  https://opensea.io/assets/0x4b3406a41399c7fd2b...   \n",
       "\n",
       "  creator                                             traits  \\\n",
       "0     NaN  [{'trait_type': 'Named', 'value': 'True', 'dis...   \n",
       "1     NaN  [{'trait_type': 'Origin', 'value': '7THK', 'di...   \n",
       "2     NaN  [{'trait_type': 'Origin', 'value': '6AF2', 'di...   \n",
       "\n",
       "          owner_username                               owner_address  \n",
       "0                    pak  0x2ce780d7c743a57791b835a9d6f998b15bbba5a4  \n",
       "1                    NaN  0x984de65b9f9499dfb166889f0e9e15f6d779a1a7  \n",
       "2  LordTruffington_Vault  0x247c87f0705a82fc75811d04d01a5a22f736bbb3  "
      ]
     },
     "execution_count": 14,
     "metadata": {},
     "output_type": "execute_result"
    }
   ],
   "source": [
    "poets_df = pd.read_csv('poets_clean.csv')\n",
    "poets_df.head(3)"
   ]
  },
  {
   "cell_type": "code",
   "execution_count": 30,
   "id": "f42d34ab",
   "metadata": {},
   "outputs": [
    {
     "data": {
      "text/plain": [
       "['https://lh3.googleusercontent.com/ulT6Iu_7798lvdulT253Ubtgoi3JYYnn5fo_tQ4A5l2NFFIkLAfqjRm5o8W9UMffMg8a6CMDmU7IZ9rFnPbSPnZ7YPdKBM8AnWMJ',\n",
       " 'https://lh3.googleusercontent.com/gtvCMMER8xELDeXX66KBnT8Wt-o8Bwee36FJxiLvcAQSJAe-qdd-BQ8si11hlAQYNRsjoSkzvV3a_LItK6YBPjPhWOQytIJUIC1g7R8',\n",
       " 'https://lh3.googleusercontent.com/xgxBi9sL8ZOTkImbTf13DZCr-8GdLOYe_W0wYnwZt6X6Q3LQ59xwtlezmsA4mbicElf7M_HOrBwHXArkD6c5qdojO-4unGvB9AtD']"
      ]
     },
     "execution_count": 30,
     "metadata": {},
     "output_type": "execute_result"
    }
   ],
   "source": [
    "url_list = poets_df.image_url.to_list()\n",
    "url_list[:3]"
   ]
  },
  {
   "cell_type": "markdown",
   "id": "37c3f203",
   "metadata": {},
   "source": [
    "**Scraping images: Try one**"
   ]
  },
  {
   "cell_type": "code",
   "execution_count": 31,
   "id": "5404ba8a",
   "metadata": {},
   "outputs": [],
   "source": [
    "# fs = gridfs.GridFS(db)"
   ]
  },
  {
   "cell_type": "code",
   "execution_count": 32,
   "id": "83a5b640",
   "metadata": {},
   "outputs": [],
   "source": [
    "# response = requests.get(url_list[1])\n",
    "# contents = response.content"
   ]
  },
  {
   "cell_type": "code",
   "execution_count": 33,
   "id": "a3c4ed54",
   "metadata": {
    "scrolled": true
   },
   "outputs": [
    {
     "data": {
      "text/plain": [
       "ObjectId('61cbb23a343f97fadd2baa8d')"
      ]
     },
     "execution_count": 33,
     "metadata": {},
     "output_type": "execute_result"
    }
   ],
   "source": [
    "# fs.put(contents, filename=f\"{poets_df.token_id.iloc[1]}.png\")"
   ]
  },
  {
   "cell_type": "markdown",
   "id": "682ef433",
   "metadata": {},
   "source": [
    "**Scrape all: Now, scrape the whole to the DB.** "
   ]
  },
  {
   "cell_type": "code",
   "execution_count": 34,
   "id": "172edc7e",
   "metadata": {},
   "outputs": [],
   "source": [
    "fs = gridfs.GridFS(db)"
   ]
  },
  {
   "cell_type": "code",
   "execution_count": 35,
   "id": "f2cc6056",
   "metadata": {},
   "outputs": [],
   "source": [
    "index = 0 \n",
    "\n",
    "for url in url_list: \n",
    "    \n",
    "    response = requests.get(url)\n",
    "    contents = response.content\n",
    "    fs.put(contents, filename=f\"{poets_df.token_id.iloc[1]}.png\")\n",
    "\n",
    "    index +=1\n",
    "    if (index %10 == 0): \n",
    "        time.sleep(2)"
   ]
  }
 ],
 "metadata": {
  "kernelspec": {
   "display_name": "Python 3 (ipykernel)",
   "language": "python",
   "name": "python3"
  },
  "language_info": {
   "codemirror_mode": {
    "name": "ipython",
    "version": 3
   },
   "file_extension": ".py",
   "mimetype": "text/x-python",
   "name": "python",
   "nbconvert_exporter": "python",
   "pygments_lexer": "ipython3",
   "version": "3.8.5"
  }
 },
 "nbformat": 4,
 "nbformat_minor": 5
}
