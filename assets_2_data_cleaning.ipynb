{
 "cells": [
  {
   "cell_type": "code",
   "execution_count": 2,
   "id": "c7d350d8",
   "metadata": {},
   "outputs": [
    {
     "name": "stdout",
     "output_type": "stream",
     "text": [
      "Populating the interactive namespace from numpy and matplotlib\n"
     ]
    }
   ],
   "source": [
    "%matplotlib inline\n",
    "%pylab inline\n",
    "%config InlineBackend.figure_formats = ['retina']\n",
    "\n",
    "# Connect to MongoDB\n",
    "from pymongo import MongoClient\n",
    "\n",
    "# Basics + EDA\n",
    "import pandas as pd\n",
    "# import matplotlib.pyplot as plt\n",
    "# import seaborn as sns\n",
    "# sns.set(context='notebook', style='whitegrid', font_scale=1.2)\n",
    "\n",
    "\n",
    "# plt.rcParams[\"figure.figsize\"] = (8, 4)\n",
    "# plt.rcParams[\"xtick.labelsize\"] = 8"
   ]
  },
  {
   "cell_type": "markdown",
   "id": "f2140b68",
   "metadata": {},
   "source": [
    "In this notebook, we will: \n",
    "- a. Get the data from MongoDB and put it into a dataframe. \n",
    "- b. Do data cleaning: \n",
    "        1. Clean up null values: drop columns with all null values & fill na's with appropriate values. \n",
    "        2. Analyze data types and change according to what we will be using downstream. We will also extract information from the dictionaries if needed. Lastly we will identify the columns with repeat same values (eg. since this is one collection by one artist, the creator & collection columns have the same 1 value throughout) and not carry them downstream. \n",
    "        3. Save the processed data into a csv to be used downstream. "
   ]
  },
  {
   "cell_type": "markdown",
   "id": "5af46e0d",
   "metadata": {},
   "source": [
    "## Get Data from MongoDB and Initial Look"
   ]
  },
  {
   "cell_type": "code",
   "execution_count": 3,
   "id": "81654650",
   "metadata": {},
   "outputs": [],
   "source": [
    "client = MongoClient()"
   ]
  },
  {
   "cell_type": "code",
   "execution_count": 4,
   "id": "8009ecf5",
   "metadata": {},
   "outputs": [
    {
     "data": {
      "text/plain": [
       "['admin', 'books', 'config', 'events', 'local', 'outings', 'pak']"
      ]
     },
     "execution_count": 4,
     "metadata": {},
     "output_type": "execute_result"
    }
   ],
   "source": [
    "client.list_database_names()"
   ]
  },
  {
   "cell_type": "code",
   "execution_count": 91,
   "id": "44a33e9f",
   "metadata": {},
   "outputs": [],
   "source": [
    "db = client.pak\n",
    "lostPoets = db.lostPoets"
   ]
  },
  {
   "cell_type": "code",
   "execution_count": 92,
   "id": "0f3a4cc4",
   "metadata": {},
   "outputs": [
    {
     "data": {
      "text/plain": [
       "10020"
      ]
     },
     "execution_count": 92,
     "metadata": {},
     "output_type": "execute_result"
    }
   ],
   "source": [
    "cursor = db.lostPoets.find({})\n",
    "len(list(cursor))"
   ]
  },
  {
   "cell_type": "code",
   "execution_count": 93,
   "id": "eecdee9e",
   "metadata": {},
   "outputs": [
    {
     "data": {
      "text/html": [
       "<div>\n",
       "<style scoped>\n",
       "    .dataframe tbody tr th:only-of-type {\n",
       "        vertical-align: middle;\n",
       "    }\n",
       "\n",
       "    .dataframe tbody tr th {\n",
       "        vertical-align: top;\n",
       "    }\n",
       "\n",
       "    .dataframe thead th {\n",
       "        text-align: right;\n",
       "    }\n",
       "</style>\n",
       "<table border=\"1\" class=\"dataframe\">\n",
       "  <thead>\n",
       "    <tr style=\"text-align: right;\">\n",
       "      <th></th>\n",
       "      <th>_id</th>\n",
       "      <th>id</th>\n",
       "      <th>token_id</th>\n",
       "      <th>num_sales</th>\n",
       "      <th>background_color</th>\n",
       "      <th>image_url</th>\n",
       "      <th>image_preview_url</th>\n",
       "      <th>image_thumbnail_url</th>\n",
       "      <th>image_original_url</th>\n",
       "      <th>animation_url</th>\n",
       "      <th>...</th>\n",
       "      <th>owner</th>\n",
       "      <th>sell_orders</th>\n",
       "      <th>creator</th>\n",
       "      <th>traits</th>\n",
       "      <th>last_sale</th>\n",
       "      <th>top_bid</th>\n",
       "      <th>listing_date</th>\n",
       "      <th>is_presale</th>\n",
       "      <th>transfer_fee_payment_token</th>\n",
       "      <th>transfer_fee</th>\n",
       "    </tr>\n",
       "  </thead>\n",
       "  <tbody>\n",
       "    <tr>\n",
       "      <th>0</th>\n",
       "      <td>61b6bdd216629c8ab9d260d4</td>\n",
       "      <td>59080697</td>\n",
       "      <td>1</td>\n",
       "      <td>0</td>\n",
       "      <td>None</td>\n",
       "      <td>https://lh3.googleusercontent.com/ulT6Iu_7798l...</td>\n",
       "      <td>https://lh3.googleusercontent.com/ulT6Iu_7798l...</td>\n",
       "      <td>https://lh3.googleusercontent.com/ulT6Iu_7798l...</td>\n",
       "      <td>https://d1xxei964ioe0z.cloudfront.net/full/a16...</td>\n",
       "      <td>None</td>\n",
       "      <td>...</td>\n",
       "      <td>{'user': {'username': 'pak'}, 'profile_img_url...</td>\n",
       "      <td>None</td>\n",
       "      <td>{'user': {'username': 'pak'}, 'profile_img_url...</td>\n",
       "      <td>[{'trait_type': 'Named', 'value': 'True', 'dis...</td>\n",
       "      <td>None</td>\n",
       "      <td>None</td>\n",
       "      <td>None</td>\n",
       "      <td>False</td>\n",
       "      <td>None</td>\n",
       "      <td>None</td>\n",
       "    </tr>\n",
       "    <tr>\n",
       "      <th>1</th>\n",
       "      <td>61b6bdd216629c8ab9d260d5</td>\n",
       "      <td>59350999</td>\n",
       "      <td>2</td>\n",
       "      <td>0</td>\n",
       "      <td>None</td>\n",
       "      <td>https://lh3.googleusercontent.com/gtvCMMER8xEL...</td>\n",
       "      <td>https://lh3.googleusercontent.com/gtvCMMER8xEL...</td>\n",
       "      <td>https://lh3.googleusercontent.com/gtvCMMER8xEL...</td>\n",
       "      <td>https://d1xxei964ioe0z.cloudfront.net/full/622...</td>\n",
       "      <td>None</td>\n",
       "      <td>...</td>\n",
       "      <td>{'user': {'username': None}, 'profile_img_url'...</td>\n",
       "      <td>None</td>\n",
       "      <td>{'user': {'username': 'pak'}, 'profile_img_url...</td>\n",
       "      <td>[{'trait_type': 'Origin', 'value': '7THK', 'di...</td>\n",
       "      <td>None</td>\n",
       "      <td>None</td>\n",
       "      <td>None</td>\n",
       "      <td>False</td>\n",
       "      <td>None</td>\n",
       "      <td>None</td>\n",
       "    </tr>\n",
       "    <tr>\n",
       "      <th>2</th>\n",
       "      <td>61b6bdd216629c8ab9d260d6</td>\n",
       "      <td>59351004</td>\n",
       "      <td>3</td>\n",
       "      <td>0</td>\n",
       "      <td>None</td>\n",
       "      <td>https://lh3.googleusercontent.com/xgxBi9sL8ZOT...</td>\n",
       "      <td>https://lh3.googleusercontent.com/xgxBi9sL8ZOT...</td>\n",
       "      <td>https://lh3.googleusercontent.com/xgxBi9sL8ZOT...</td>\n",
       "      <td>https://d1xxei964ioe0z.cloudfront.net/full/304...</td>\n",
       "      <td>None</td>\n",
       "      <td>...</td>\n",
       "      <td>{'user': {'username': 'LordTruffington_Vault'}...</td>\n",
       "      <td>None</td>\n",
       "      <td>{'user': {'username': 'pak'}, 'profile_img_url...</td>\n",
       "      <td>[{'trait_type': 'Origin', 'value': '6AF2', 'di...</td>\n",
       "      <td>None</td>\n",
       "      <td>None</td>\n",
       "      <td>None</td>\n",
       "      <td>False</td>\n",
       "      <td>None</td>\n",
       "      <td>None</td>\n",
       "    </tr>\n",
       "  </tbody>\n",
       "</table>\n",
       "<p>3 rows × 29 columns</p>\n",
       "</div>"
      ],
      "text/plain": [
       "                        _id        id token_id  num_sales background_color  \\\n",
       "0  61b6bdd216629c8ab9d260d4  59080697        1          0             None   \n",
       "1  61b6bdd216629c8ab9d260d5  59350999        2          0             None   \n",
       "2  61b6bdd216629c8ab9d260d6  59351004        3          0             None   \n",
       "\n",
       "                                           image_url  \\\n",
       "0  https://lh3.googleusercontent.com/ulT6Iu_7798l...   \n",
       "1  https://lh3.googleusercontent.com/gtvCMMER8xEL...   \n",
       "2  https://lh3.googleusercontent.com/xgxBi9sL8ZOT...   \n",
       "\n",
       "                                   image_preview_url  \\\n",
       "0  https://lh3.googleusercontent.com/ulT6Iu_7798l...   \n",
       "1  https://lh3.googleusercontent.com/gtvCMMER8xEL...   \n",
       "2  https://lh3.googleusercontent.com/xgxBi9sL8ZOT...   \n",
       "\n",
       "                                 image_thumbnail_url  \\\n",
       "0  https://lh3.googleusercontent.com/ulT6Iu_7798l...   \n",
       "1  https://lh3.googleusercontent.com/gtvCMMER8xEL...   \n",
       "2  https://lh3.googleusercontent.com/xgxBi9sL8ZOT...   \n",
       "\n",
       "                                  image_original_url animation_url  ...  \\\n",
       "0  https://d1xxei964ioe0z.cloudfront.net/full/a16...          None  ...   \n",
       "1  https://d1xxei964ioe0z.cloudfront.net/full/622...          None  ...   \n",
       "2  https://d1xxei964ioe0z.cloudfront.net/full/304...          None  ...   \n",
       "\n",
       "                                               owner sell_orders  \\\n",
       "0  {'user': {'username': 'pak'}, 'profile_img_url...        None   \n",
       "1  {'user': {'username': None}, 'profile_img_url'...        None   \n",
       "2  {'user': {'username': 'LordTruffington_Vault'}...        None   \n",
       "\n",
       "                                             creator  \\\n",
       "0  {'user': {'username': 'pak'}, 'profile_img_url...   \n",
       "1  {'user': {'username': 'pak'}, 'profile_img_url...   \n",
       "2  {'user': {'username': 'pak'}, 'profile_img_url...   \n",
       "\n",
       "                                              traits last_sale top_bid  \\\n",
       "0  [{'trait_type': 'Named', 'value': 'True', 'dis...      None    None   \n",
       "1  [{'trait_type': 'Origin', 'value': '7THK', 'di...      None    None   \n",
       "2  [{'trait_type': 'Origin', 'value': '6AF2', 'di...      None    None   \n",
       "\n",
       "  listing_date  is_presale transfer_fee_payment_token transfer_fee  \n",
       "0         None       False                       None         None  \n",
       "1         None       False                       None         None  \n",
       "2         None       False                       None         None  \n",
       "\n",
       "[3 rows x 29 columns]"
      ]
     },
     "execution_count": 93,
     "metadata": {},
     "output_type": "execute_result"
    }
   ],
   "source": [
    "lostPoets_data = lostPoets.find()\n",
    "poets = pd.DataFrame(lostPoets_data)\n",
    "poets.head(3)"
   ]
  },
  {
   "cell_type": "markdown",
   "id": "dfc9040b",
   "metadata": {},
   "source": [
    "**Initial look**"
   ]
  },
  {
   "cell_type": "code",
   "execution_count": 94,
   "id": "b73f366e",
   "metadata": {},
   "outputs": [
    {
     "data": {
      "text/plain": [
       "Index(['_id', 'id', 'token_id', 'num_sales', 'background_color', 'image_url',\n",
       "       'image_preview_url', 'image_thumbnail_url', 'image_original_url',\n",
       "       'animation_url', 'animation_original_url', 'name', 'description',\n",
       "       'external_link', 'asset_contract', 'permalink', 'collection',\n",
       "       'decimals', 'token_metadata', 'owner', 'sell_orders', 'creator',\n",
       "       'traits', 'last_sale', 'top_bid', 'listing_date', 'is_presale',\n",
       "       'transfer_fee_payment_token', 'transfer_fee'],\n",
       "      dtype='object')"
      ]
     },
     "execution_count": 94,
     "metadata": {},
     "output_type": "execute_result"
    }
   ],
   "source": [
    "poets.columns"
   ]
  },
  {
   "cell_type": "code",
   "execution_count": 95,
   "id": "f5bd4f90",
   "metadata": {
    "scrolled": true
   },
   "outputs": [
    {
     "name": "stdout",
     "output_type": "stream",
     "text": [
      "<class 'pandas.core.frame.DataFrame'>\n",
      "RangeIndex: 10020 entries, 0 to 10019\n",
      "Data columns (total 29 columns):\n",
      " #   Column                      Non-Null Count  Dtype \n",
      "---  ------                      --------------  ----- \n",
      " 0   _id                         10020 non-null  object\n",
      " 1   id                          10020 non-null  int64 \n",
      " 2   token_id                    10020 non-null  object\n",
      " 3   num_sales                   10020 non-null  int64 \n",
      " 4   background_color            0 non-null      object\n",
      " 5   image_url                   10020 non-null  object\n",
      " 6   image_preview_url           10020 non-null  object\n",
      " 7   image_thumbnail_url         10020 non-null  object\n",
      " 8   image_original_url          10020 non-null  object\n",
      " 9   animation_url               0 non-null      object\n",
      " 10  animation_original_url      0 non-null      object\n",
      " 11  name                        10020 non-null  object\n",
      " 12  description                 829 non-null    object\n",
      " 13  external_link               0 non-null      object\n",
      " 14  asset_contract              10020 non-null  object\n",
      " 15  permalink                   10020 non-null  object\n",
      " 16  collection                  10020 non-null  object\n",
      " 17  decimals                    10020 non-null  int64 \n",
      " 18  token_metadata              10020 non-null  object\n",
      " 19  owner                       10020 non-null  object\n",
      " 20  sell_orders                 1011 non-null   object\n",
      " 21  creator                     10017 non-null  object\n",
      " 22  traits                      10020 non-null  object\n",
      " 23  last_sale                   1964 non-null   object\n",
      " 24  top_bid                     0 non-null      object\n",
      " 25  listing_date                0 non-null      object\n",
      " 26  is_presale                  10020 non-null  bool  \n",
      " 27  transfer_fee_payment_token  0 non-null      object\n",
      " 28  transfer_fee                0 non-null      object\n",
      "dtypes: bool(1), int64(3), object(25)\n",
      "memory usage: 2.2+ MB\n"
     ]
    }
   ],
   "source": [
    "poets.info()"
   ]
  },
  {
   "cell_type": "markdown",
   "id": "f33f4874",
   "metadata": {},
   "source": [
    "## Data Cleaning"
   ]
  },
  {
   "cell_type": "markdown",
   "id": "27751915",
   "metadata": {},
   "source": [
    "### 1. Null values"
   ]
  },
  {
   "cell_type": "code",
   "execution_count": 96,
   "id": "a3f3ba29",
   "metadata": {},
   "outputs": [],
   "source": [
    "poets.dropna(axis = 1, how='all', inplace = True)"
   ]
  },
  {
   "cell_type": "code",
   "execution_count": 97,
   "id": "58e99e7e",
   "metadata": {},
   "outputs": [
    {
     "name": "stdout",
     "output_type": "stream",
     "text": [
      "<class 'pandas.core.frame.DataFrame'>\n",
      "RangeIndex: 10020 entries, 0 to 10019\n",
      "Data columns (total 21 columns):\n",
      " #   Column               Non-Null Count  Dtype \n",
      "---  ------               --------------  ----- \n",
      " 0   _id                  10020 non-null  object\n",
      " 1   id                   10020 non-null  int64 \n",
      " 2   token_id             10020 non-null  object\n",
      " 3   num_sales            10020 non-null  int64 \n",
      " 4   image_url            10020 non-null  object\n",
      " 5   image_preview_url    10020 non-null  object\n",
      " 6   image_thumbnail_url  10020 non-null  object\n",
      " 7   image_original_url   10020 non-null  object\n",
      " 8   name                 10020 non-null  object\n",
      " 9   description          829 non-null    object\n",
      " 10  asset_contract       10020 non-null  object\n",
      " 11  permalink            10020 non-null  object\n",
      " 12  collection           10020 non-null  object\n",
      " 13  decimals             10020 non-null  int64 \n",
      " 14  token_metadata       10020 non-null  object\n",
      " 15  owner                10020 non-null  object\n",
      " 16  sell_orders          1011 non-null   object\n",
      " 17  creator              10017 non-null  object\n",
      " 18  traits               10020 non-null  object\n",
      " 19  last_sale            1964 non-null   object\n",
      " 20  is_presale           10020 non-null  bool  \n",
      "dtypes: bool(1), int64(3), object(17)\n",
      "memory usage: 1.5+ MB\n"
     ]
    }
   ],
   "source": [
    "poets.info()"
   ]
  },
  {
   "cell_type": "markdown",
   "id": "5697a27b",
   "metadata": {},
   "source": [
    "**description** "
   ]
  },
  {
   "cell_type": "code",
   "execution_count": 98,
   "id": "1b5d9cbe",
   "metadata": {
    "collapsed": true
   },
   "outputs": [
    {
     "data": {
      "text/plain": [
       "0    None\n",
       "1    None\n",
       "2    None\n",
       "3    None\n",
       "4    None\n",
       "Name: description, dtype: object"
      ]
     },
     "execution_count": 98,
     "metadata": {},
     "output_type": "execute_result"
    }
   ],
   "source": [
    "poets.description[:5]"
   ]
  },
  {
   "cell_type": "code",
   "execution_count": 99,
   "id": "93dc5de1",
   "metadata": {
    "collapsed": true
   },
   "outputs": [
    {
     "data": {
      "text/html": [
       "<div>\n",
       "<style scoped>\n",
       "    .dataframe tbody tr th:only-of-type {\n",
       "        vertical-align: middle;\n",
       "    }\n",
       "\n",
       "    .dataframe tbody tr th {\n",
       "        vertical-align: top;\n",
       "    }\n",
       "\n",
       "    .dataframe thead th {\n",
       "        text-align: right;\n",
       "    }\n",
       "</style>\n",
       "<table border=\"1\" class=\"dataframe\">\n",
       "  <thead>\n",
       "    <tr style=\"text-align: right;\">\n",
       "      <th></th>\n",
       "      <th>_id</th>\n",
       "      <th>id</th>\n",
       "      <th>token_id</th>\n",
       "      <th>num_sales</th>\n",
       "      <th>image_url</th>\n",
       "      <th>image_preview_url</th>\n",
       "      <th>image_thumbnail_url</th>\n",
       "      <th>image_original_url</th>\n",
       "      <th>name</th>\n",
       "      <th>description</th>\n",
       "      <th>...</th>\n",
       "      <th>permalink</th>\n",
       "      <th>collection</th>\n",
       "      <th>decimals</th>\n",
       "      <th>token_metadata</th>\n",
       "      <th>owner</th>\n",
       "      <th>sell_orders</th>\n",
       "      <th>creator</th>\n",
       "      <th>traits</th>\n",
       "      <th>last_sale</th>\n",
       "      <th>is_presale</th>\n",
       "    </tr>\n",
       "  </thead>\n",
       "  <tbody>\n",
       "    <tr>\n",
       "      <th>18</th>\n",
       "      <td>61b6bdd216629c8ab9d260e6</td>\n",
       "      <td>59351062</td>\n",
       "      <td>19</td>\n",
       "      <td>0</td>\n",
       "      <td>https://lh3.googleusercontent.com/9jyoC4n8xE-d...</td>\n",
       "      <td>https://lh3.googleusercontent.com/9jyoC4n8xE-d...</td>\n",
       "      <td>https://lh3.googleusercontent.com/9jyoC4n8xE-d...</td>\n",
       "      <td>https://d1xxei964ioe0z.cloudfront.net/full/b33...</td>\n",
       "      <td>ROBERTFROST</td>\n",
       "      <td>the road not taken\\n\\nby robert frost\\n\\ntwo r...</td>\n",
       "      <td>...</td>\n",
       "      <td>https://opensea.io/assets/0x4b3406a41399c7fd2b...</td>\n",
       "      <td>{'banner_image_url': 'https://lh3.googleuserco...</td>\n",
       "      <td>0</td>\n",
       "      <td>https://lostpoets.api.manifoldxyz.dev/metadata/19</td>\n",
       "      <td>{'user': {'username': 'billsfan86'}, 'profile_...</td>\n",
       "      <td>None</td>\n",
       "      <td>{'user': {'username': 'pak'}, 'profile_img_url...</td>\n",
       "      <td>[{'trait_type': 'Class', 'value': 'Origin', 'd...</td>\n",
       "      <td>None</td>\n",
       "      <td>False</td>\n",
       "    </tr>\n",
       "    <tr>\n",
       "      <th>30</th>\n",
       "      <td>61b6bdd216629c8ab9d260f2</td>\n",
       "      <td>59351097</td>\n",
       "      <td>31</td>\n",
       "      <td>1</td>\n",
       "      <td>https://lh3.googleusercontent.com/Tj44Eh9grNW-...</td>\n",
       "      <td>https://lh3.googleusercontent.com/Tj44Eh9grNW-...</td>\n",
       "      <td>https://lh3.googleusercontent.com/Tj44Eh9grNW-...</td>\n",
       "      <td>https://d1xxei964ioe0z.cloudfront.net/full/1e7...</td>\n",
       "      <td>Origin #8WI4</td>\n",
       "      <td>origin born into happiness\\n\\npatiently waitin...</td>\n",
       "      <td>...</td>\n",
       "      <td>https://opensea.io/assets/0x4b3406a41399c7fd2b...</td>\n",
       "      <td>{'banner_image_url': 'https://lh3.googleuserco...</td>\n",
       "      <td>0</td>\n",
       "      <td>https://lostpoets.api.manifoldxyz.dev/metadata/31</td>\n",
       "      <td>{'user': {'username': 'GAMT'}, 'profile_img_ur...</td>\n",
       "      <td>None</td>\n",
       "      <td>{'user': {'username': 'pak'}, 'profile_img_url...</td>\n",
       "      <td>[{'trait_type': 'Word', 'value': 'can', 'displ...</td>\n",
       "      <td>{'asset': {'token_id': '31', 'decimals': 0}, '...</td>\n",
       "      <td>False</td>\n",
       "    </tr>\n",
       "    <tr>\n",
       "      <th>48</th>\n",
       "      <td>61b6bdd316629c8ab9d26104</td>\n",
       "      <td>59351153</td>\n",
       "      <td>49</td>\n",
       "      <td>1</td>\n",
       "      <td>https://lh3.googleusercontent.com/owHio9tnblmG...</td>\n",
       "      <td>https://lh3.googleusercontent.com/owHio9tnblmG...</td>\n",
       "      <td>https://lh3.googleusercontent.com/owHio9tnblmG...</td>\n",
       "      <td>https://d1xxei964ioe0z.cloudfront.net/full/6fc...</td>\n",
       "      <td>TURING</td>\n",
       "      <td>we have lost even this twilight\\n\\nno one saw ...</td>\n",
       "      <td>...</td>\n",
       "      <td>https://opensea.io/assets/0x4b3406a41399c7fd2b...</td>\n",
       "      <td>{'banner_image_url': 'https://lh3.googleuserco...</td>\n",
       "      <td>0</td>\n",
       "      <td>https://lostpoets.api.manifoldxyz.dev/metadata/49</td>\n",
       "      <td>{'user': None, 'profile_img_url': 'https://sto...</td>\n",
       "      <td>None</td>\n",
       "      <td>{'user': {'username': 'pak'}, 'profile_img_url...</td>\n",
       "      <td>[{'trait_type': 'Class', 'value': 'Origin', 'd...</td>\n",
       "      <td>{'asset': {'token_id': '49', 'decimals': 0}, '...</td>\n",
       "      <td>False</td>\n",
       "    </tr>\n",
       "  </tbody>\n",
       "</table>\n",
       "<p>3 rows × 21 columns</p>\n",
       "</div>"
      ],
      "text/plain": [
       "                         _id        id token_id  num_sales  \\\n",
       "18  61b6bdd216629c8ab9d260e6  59351062       19          0   \n",
       "30  61b6bdd216629c8ab9d260f2  59351097       31          1   \n",
       "48  61b6bdd316629c8ab9d26104  59351153       49          1   \n",
       "\n",
       "                                            image_url  \\\n",
       "18  https://lh3.googleusercontent.com/9jyoC4n8xE-d...   \n",
       "30  https://lh3.googleusercontent.com/Tj44Eh9grNW-...   \n",
       "48  https://lh3.googleusercontent.com/owHio9tnblmG...   \n",
       "\n",
       "                                    image_preview_url  \\\n",
       "18  https://lh3.googleusercontent.com/9jyoC4n8xE-d...   \n",
       "30  https://lh3.googleusercontent.com/Tj44Eh9grNW-...   \n",
       "48  https://lh3.googleusercontent.com/owHio9tnblmG...   \n",
       "\n",
       "                                  image_thumbnail_url  \\\n",
       "18  https://lh3.googleusercontent.com/9jyoC4n8xE-d...   \n",
       "30  https://lh3.googleusercontent.com/Tj44Eh9grNW-...   \n",
       "48  https://lh3.googleusercontent.com/owHio9tnblmG...   \n",
       "\n",
       "                                   image_original_url          name  \\\n",
       "18  https://d1xxei964ioe0z.cloudfront.net/full/b33...   ROBERTFROST   \n",
       "30  https://d1xxei964ioe0z.cloudfront.net/full/1e7...  Origin #8WI4   \n",
       "48  https://d1xxei964ioe0z.cloudfront.net/full/6fc...        TURING   \n",
       "\n",
       "                                          description  ...  \\\n",
       "18  the road not taken\\n\\nby robert frost\\n\\ntwo r...  ...   \n",
       "30  origin born into happiness\\n\\npatiently waitin...  ...   \n",
       "48  we have lost even this twilight\\n\\nno one saw ...  ...   \n",
       "\n",
       "                                            permalink  \\\n",
       "18  https://opensea.io/assets/0x4b3406a41399c7fd2b...   \n",
       "30  https://opensea.io/assets/0x4b3406a41399c7fd2b...   \n",
       "48  https://opensea.io/assets/0x4b3406a41399c7fd2b...   \n",
       "\n",
       "                                           collection decimals  \\\n",
       "18  {'banner_image_url': 'https://lh3.googleuserco...        0   \n",
       "30  {'banner_image_url': 'https://lh3.googleuserco...        0   \n",
       "48  {'banner_image_url': 'https://lh3.googleuserco...        0   \n",
       "\n",
       "                                       token_metadata  \\\n",
       "18  https://lostpoets.api.manifoldxyz.dev/metadata/19   \n",
       "30  https://lostpoets.api.manifoldxyz.dev/metadata/31   \n",
       "48  https://lostpoets.api.manifoldxyz.dev/metadata/49   \n",
       "\n",
       "                                                owner sell_orders  \\\n",
       "18  {'user': {'username': 'billsfan86'}, 'profile_...        None   \n",
       "30  {'user': {'username': 'GAMT'}, 'profile_img_ur...        None   \n",
       "48  {'user': None, 'profile_img_url': 'https://sto...        None   \n",
       "\n",
       "                                              creator  \\\n",
       "18  {'user': {'username': 'pak'}, 'profile_img_url...   \n",
       "30  {'user': {'username': 'pak'}, 'profile_img_url...   \n",
       "48  {'user': {'username': 'pak'}, 'profile_img_url...   \n",
       "\n",
       "                                               traits  \\\n",
       "18  [{'trait_type': 'Class', 'value': 'Origin', 'd...   \n",
       "30  [{'trait_type': 'Word', 'value': 'can', 'displ...   \n",
       "48  [{'trait_type': 'Class', 'value': 'Origin', 'd...   \n",
       "\n",
       "                                            last_sale is_presale  \n",
       "18                                               None      False  \n",
       "30  {'asset': {'token_id': '31', 'decimals': 0}, '...      False  \n",
       "48  {'asset': {'token_id': '49', 'decimals': 0}, '...      False  \n",
       "\n",
       "[3 rows x 21 columns]"
      ]
     },
     "execution_count": 99,
     "metadata": {},
     "output_type": "execute_result"
    }
   ],
   "source": [
    "poets[poets.description.notnull() == True].head(3)"
   ]
  },
  {
   "cell_type": "code",
   "execution_count": 101,
   "id": "43b4ccd9",
   "metadata": {
    "collapsed": true
   },
   "outputs": [
    {
     "data": {
      "text/plain": [
       "'the road not taken\\n\\nby robert frost\\n\\ntwo roads diverged in a yellow wood\\n\\nand sorry i could not travel both\\n\\nand be one traveler long i stood\\n\\nand looked down one as far as i could\\n\\nto where it bent in the undergrowth\\n\\nthen took the other as just as fair\\n\\nand having perhaps the better claim\\n\\nbecause it was grassy and wanted wear\\n\\nthough as for that the passing there\\n\\nhad worn them really about the same\\n\\nand both that morning equally lay\\n\\nin leaves no step had trodden black\\n\\noh i kept the first for another day\\n\\nyet knowing how way leads on to way\\n\\ni doubted if i should ever come back\\n\\ni shall be telling this with a sigh\\n\\nsomewhere ages and ages hence\\n\\ntwo roads diverged in a wood and i\\n\\ni took the one less traveled by\\n\\nand that has made all the difference'"
      ]
     },
     "execution_count": 101,
     "metadata": {},
     "output_type": "execute_result"
    }
   ],
   "source": [
    "poets.description.iloc[18]"
   ]
  },
  {
   "cell_type": "markdown",
   "id": "c053c17e",
   "metadata": {},
   "source": [
    "Good data for NLP purposes. Not this project but great to have let's keep it for now. "
   ]
  },
  {
   "cell_type": "code",
   "execution_count": 102,
   "id": "13900ffb",
   "metadata": {},
   "outputs": [],
   "source": [
    "poets.description = poets.description.fillna(value='No Description Yet')"
   ]
  },
  {
   "cell_type": "markdown",
   "id": "b742ded5",
   "metadata": {},
   "source": [
    "**sell_orders** "
   ]
  },
  {
   "cell_type": "code",
   "execution_count": 103,
   "id": "24e7d879",
   "metadata": {
    "collapsed": true
   },
   "outputs": [
    {
     "data": {
      "text/plain": [
       "0    None\n",
       "1    None\n",
       "2    None\n",
       "3    None\n",
       "4    None\n",
       "Name: sell_orders, dtype: object"
      ]
     },
     "execution_count": 103,
     "metadata": {},
     "output_type": "execute_result"
    }
   ],
   "source": [
    "poets.sell_orders[:5]"
   ]
  },
  {
   "cell_type": "code",
   "execution_count": 104,
   "id": "7c40ccb0",
   "metadata": {
    "collapsed": true
   },
   "outputs": [
    {
     "data": {
      "text/html": [
       "<div>\n",
       "<style scoped>\n",
       "    .dataframe tbody tr th:only-of-type {\n",
       "        vertical-align: middle;\n",
       "    }\n",
       "\n",
       "    .dataframe tbody tr th {\n",
       "        vertical-align: top;\n",
       "    }\n",
       "\n",
       "    .dataframe thead th {\n",
       "        text-align: right;\n",
       "    }\n",
       "</style>\n",
       "<table border=\"1\" class=\"dataframe\">\n",
       "  <thead>\n",
       "    <tr style=\"text-align: right;\">\n",
       "      <th></th>\n",
       "      <th>_id</th>\n",
       "      <th>id</th>\n",
       "      <th>token_id</th>\n",
       "      <th>num_sales</th>\n",
       "      <th>image_url</th>\n",
       "      <th>image_preview_url</th>\n",
       "      <th>image_thumbnail_url</th>\n",
       "      <th>image_original_url</th>\n",
       "      <th>name</th>\n",
       "      <th>description</th>\n",
       "      <th>...</th>\n",
       "      <th>permalink</th>\n",
       "      <th>collection</th>\n",
       "      <th>decimals</th>\n",
       "      <th>token_metadata</th>\n",
       "      <th>owner</th>\n",
       "      <th>sell_orders</th>\n",
       "      <th>creator</th>\n",
       "      <th>traits</th>\n",
       "      <th>last_sale</th>\n",
       "      <th>is_presale</th>\n",
       "    </tr>\n",
       "  </thead>\n",
       "  <tbody>\n",
       "    <tr>\n",
       "      <th>11</th>\n",
       "      <td>61b6bdd216629c8ab9d260df</td>\n",
       "      <td>59351041</td>\n",
       "      <td>12</td>\n",
       "      <td>0</td>\n",
       "      <td>https://lh3.googleusercontent.com/2Eurj_xFsb12...</td>\n",
       "      <td>https://lh3.googleusercontent.com/2Eurj_xFsb12...</td>\n",
       "      <td>https://lh3.googleusercontent.com/2Eurj_xFsb12...</td>\n",
       "      <td>https://d1xxei964ioe0z.cloudfront.net/full/6ac...</td>\n",
       "      <td>LEGEND</td>\n",
       "      <td>No Description Yet</td>\n",
       "      <td>...</td>\n",
       "      <td>https://opensea.io/assets/0x4b3406a41399c7fd2b...</td>\n",
       "      <td>{'banner_image_url': 'https://lh3.googleuserco...</td>\n",
       "      <td>0</td>\n",
       "      <td>https://lostpoets.api.manifoldxyz.dev/metadata/12</td>\n",
       "      <td>{'user': {'username': 'snow_glacier'}, 'profil...</td>\n",
       "      <td>[{'created_date': '2021-09-25T19:17:23.314185'...</td>\n",
       "      <td>{'user': {'username': 'pak'}, 'profile_img_url...</td>\n",
       "      <td>[{'trait_type': 'Class', 'value': 'Origin', 'd...</td>\n",
       "      <td>None</td>\n",
       "      <td>False</td>\n",
       "    </tr>\n",
       "    <tr>\n",
       "      <th>17</th>\n",
       "      <td>61b6bdd216629c8ab9d260e5</td>\n",
       "      <td>59351060</td>\n",
       "      <td>18</td>\n",
       "      <td>0</td>\n",
       "      <td>https://lh3.googleusercontent.com/LXrXttMs0rP8...</td>\n",
       "      <td>https://lh3.googleusercontent.com/LXrXttMs0rP8...</td>\n",
       "      <td>https://lh3.googleusercontent.com/LXrXttMs0rP8...</td>\n",
       "      <td>https://d1xxei964ioe0z.cloudfront.net/full/a32...</td>\n",
       "      <td>Origin #I5D1</td>\n",
       "      <td>No Description Yet</td>\n",
       "      <td>...</td>\n",
       "      <td>https://opensea.io/assets/0x4b3406a41399c7fd2b...</td>\n",
       "      <td>{'banner_image_url': 'https://lh3.googleuserco...</td>\n",
       "      <td>0</td>\n",
       "      <td>https://lostpoets.api.manifoldxyz.dev/metadata/18</td>\n",
       "      <td>{'user': {'username': 'ultraparadise'}, 'profi...</td>\n",
       "      <td>[{'created_date': '2021-10-09T19:48:12.127717'...</td>\n",
       "      <td>{'user': {'username': 'pak'}, 'profile_img_url...</td>\n",
       "      <td>[{'trait_type': 'Origin', 'value': 'I5D1', 'di...</td>\n",
       "      <td>None</td>\n",
       "      <td>False</td>\n",
       "    </tr>\n",
       "    <tr>\n",
       "      <th>19</th>\n",
       "      <td>61b6bdd216629c8ab9d260e7</td>\n",
       "      <td>59351063</td>\n",
       "      <td>20</td>\n",
       "      <td>0</td>\n",
       "      <td>https://lh3.googleusercontent.com/BaSB-kq94BQ3...</td>\n",
       "      <td>https://lh3.googleusercontent.com/BaSB-kq94BQ3...</td>\n",
       "      <td>https://lh3.googleusercontent.com/BaSB-kq94BQ3...</td>\n",
       "      <td>https://d1xxei964ioe0z.cloudfront.net/full/775...</td>\n",
       "      <td>Origin #VIAK</td>\n",
       "      <td>No Description Yet</td>\n",
       "      <td>...</td>\n",
       "      <td>https://opensea.io/assets/0x4b3406a41399c7fd2b...</td>\n",
       "      <td>{'banner_image_url': 'https://lh3.googleuserco...</td>\n",
       "      <td>0</td>\n",
       "      <td>https://lostpoets.api.manifoldxyz.dev/metadata/20</td>\n",
       "      <td>{'user': {'username': '333666999'}, 'profile_i...</td>\n",
       "      <td>[{'created_date': '2021-10-01T15:23:31.267293'...</td>\n",
       "      <td>{'user': {'username': 'pak'}, 'profile_img_url...</td>\n",
       "      <td>[{'trait_type': 'Origin', 'value': 'VIAK', 'di...</td>\n",
       "      <td>None</td>\n",
       "      <td>False</td>\n",
       "    </tr>\n",
       "  </tbody>\n",
       "</table>\n",
       "<p>3 rows × 21 columns</p>\n",
       "</div>"
      ],
      "text/plain": [
       "                         _id        id token_id  num_sales  \\\n",
       "11  61b6bdd216629c8ab9d260df  59351041       12          0   \n",
       "17  61b6bdd216629c8ab9d260e5  59351060       18          0   \n",
       "19  61b6bdd216629c8ab9d260e7  59351063       20          0   \n",
       "\n",
       "                                            image_url  \\\n",
       "11  https://lh3.googleusercontent.com/2Eurj_xFsb12...   \n",
       "17  https://lh3.googleusercontent.com/LXrXttMs0rP8...   \n",
       "19  https://lh3.googleusercontent.com/BaSB-kq94BQ3...   \n",
       "\n",
       "                                    image_preview_url  \\\n",
       "11  https://lh3.googleusercontent.com/2Eurj_xFsb12...   \n",
       "17  https://lh3.googleusercontent.com/LXrXttMs0rP8...   \n",
       "19  https://lh3.googleusercontent.com/BaSB-kq94BQ3...   \n",
       "\n",
       "                                  image_thumbnail_url  \\\n",
       "11  https://lh3.googleusercontent.com/2Eurj_xFsb12...   \n",
       "17  https://lh3.googleusercontent.com/LXrXttMs0rP8...   \n",
       "19  https://lh3.googleusercontent.com/BaSB-kq94BQ3...   \n",
       "\n",
       "                                   image_original_url          name  \\\n",
       "11  https://d1xxei964ioe0z.cloudfront.net/full/6ac...        LEGEND   \n",
       "17  https://d1xxei964ioe0z.cloudfront.net/full/a32...  Origin #I5D1   \n",
       "19  https://d1xxei964ioe0z.cloudfront.net/full/775...  Origin #VIAK   \n",
       "\n",
       "           description  ...  \\\n",
       "11  No Description Yet  ...   \n",
       "17  No Description Yet  ...   \n",
       "19  No Description Yet  ...   \n",
       "\n",
       "                                            permalink  \\\n",
       "11  https://opensea.io/assets/0x4b3406a41399c7fd2b...   \n",
       "17  https://opensea.io/assets/0x4b3406a41399c7fd2b...   \n",
       "19  https://opensea.io/assets/0x4b3406a41399c7fd2b...   \n",
       "\n",
       "                                           collection decimals  \\\n",
       "11  {'banner_image_url': 'https://lh3.googleuserco...        0   \n",
       "17  {'banner_image_url': 'https://lh3.googleuserco...        0   \n",
       "19  {'banner_image_url': 'https://lh3.googleuserco...        0   \n",
       "\n",
       "                                       token_metadata  \\\n",
       "11  https://lostpoets.api.manifoldxyz.dev/metadata/12   \n",
       "17  https://lostpoets.api.manifoldxyz.dev/metadata/18   \n",
       "19  https://lostpoets.api.manifoldxyz.dev/metadata/20   \n",
       "\n",
       "                                                owner  \\\n",
       "11  {'user': {'username': 'snow_glacier'}, 'profil...   \n",
       "17  {'user': {'username': 'ultraparadise'}, 'profi...   \n",
       "19  {'user': {'username': '333666999'}, 'profile_i...   \n",
       "\n",
       "                                          sell_orders  \\\n",
       "11  [{'created_date': '2021-09-25T19:17:23.314185'...   \n",
       "17  [{'created_date': '2021-10-09T19:48:12.127717'...   \n",
       "19  [{'created_date': '2021-10-01T15:23:31.267293'...   \n",
       "\n",
       "                                              creator  \\\n",
       "11  {'user': {'username': 'pak'}, 'profile_img_url...   \n",
       "17  {'user': {'username': 'pak'}, 'profile_img_url...   \n",
       "19  {'user': {'username': 'pak'}, 'profile_img_url...   \n",
       "\n",
       "                                               traits last_sale is_presale  \n",
       "11  [{'trait_type': 'Class', 'value': 'Origin', 'd...      None      False  \n",
       "17  [{'trait_type': 'Origin', 'value': 'I5D1', 'di...      None      False  \n",
       "19  [{'trait_type': 'Origin', 'value': 'VIAK', 'di...      None      False  \n",
       "\n",
       "[3 rows x 21 columns]"
      ]
     },
     "execution_count": 104,
     "metadata": {},
     "output_type": "execute_result"
    }
   ],
   "source": [
    "poets[poets.sell_orders.notnull() == True].head(3)"
   ]
  },
  {
   "cell_type": "code",
   "execution_count": 105,
   "id": "5e43c863",
   "metadata": {},
   "outputs": [
    {
     "data": {
      "text/plain": [
       "list"
      ]
     },
     "execution_count": 105,
     "metadata": {},
     "output_type": "execute_result"
    }
   ],
   "source": [
    "type(poets.sell_orders.iloc[11])"
   ]
  },
  {
   "cell_type": "code",
   "execution_count": 106,
   "id": "5ae8c27d",
   "metadata": {
    "collapsed": true
   },
   "outputs": [
    {
     "data": {
      "text/plain": [
       "[{'created_date': '2021-09-25T19:17:23.314185',\n",
       "  'closing_date': None,\n",
       "  'closing_extendable': False,\n",
       "  'expiration_time': 0,\n",
       "  'listing_time': 1632597325,\n",
       "  'order_hash': '0x27e5cec922e350cc73aa221929c49d5d7cdcfcbe9f903130363b7c88fe18b5c7',\n",
       "  'metadata': {'asset': {'id': '12',\n",
       "    'address': '0x4b3406a41399c7fd2ba65cbc93697ad9e7ea61e5'},\n",
       "   'schema': 'ERC721'},\n",
       "  'exchange': '0x7be8076f4ea4a4ad08075c2508e481d6c946d12b',\n",
       "  'maker': {'user': 60074,\n",
       "   'profile_img_url': 'https://storage.googleapis.com/opensea-static/opensea-profile/12.png',\n",
       "   'address': '0xa362a9676db12606d339d10433c1af3618bca1d4',\n",
       "   'config': ''},\n",
       "  'taker': {'user': 1766,\n",
       "   'profile_img_url': 'https://storage.googleapis.com/opensea-static/opensea-profile/1.png',\n",
       "   'address': '0x0000000000000000000000000000000000000000',\n",
       "   'config': ''},\n",
       "  'current_price': '3690000000000000000000',\n",
       "  'current_bounty': '36900000000000000000',\n",
       "  'bounty_multiple': '0.01',\n",
       "  'maker_relayer_fee': '1250',\n",
       "  'taker_relayer_fee': '0',\n",
       "  'maker_protocol_fee': '0',\n",
       "  'taker_protocol_fee': '0',\n",
       "  'maker_referrer_fee': '0',\n",
       "  'fee_recipient': {'user': 3585,\n",
       "   'profile_img_url': 'https://storage.googleapis.com/opensea-static/opensea-profile/28.png',\n",
       "   'address': '0x5b3256965e7c3cf26e11fcaf296dfc8807c01073',\n",
       "   'config': 'verified'},\n",
       "  'fee_method': 1,\n",
       "  'side': 1,\n",
       "  'sale_kind': 0,\n",
       "  'target': '0x4b3406a41399c7fd2ba65cbc93697ad9e7ea61e5',\n",
       "  'how_to_call': 0,\n",
       "  'calldata': '0x23b872dd000000000000000000000000a362a9676db12606d339d10433c1af3618bca1d40000000000000000000000000000000000000000000000000000000000000000000000000000000000000000000000000000000000000000000000000000000c',\n",
       "  'replacement_pattern': '0x000000000000000000000000000000000000000000000000000000000000000000000000ffffffffffffffffffffffffffffffffffffffffffffffffffffffffffffffff0000000000000000000000000000000000000000000000000000000000000000',\n",
       "  'static_target': '0x0000000000000000000000000000000000000000',\n",
       "  'static_extradata': '0x',\n",
       "  'payment_token': '0x0000000000000000000000000000000000000000',\n",
       "  'payment_token_contract': {'id': 1,\n",
       "   'symbol': 'ETH',\n",
       "   'address': '0x0000000000000000000000000000000000000000',\n",
       "   'image_url': 'https://storage.opensea.io/files/6f8e2979d428180222796ff4a33ab929.svg',\n",
       "   'name': 'Ether',\n",
       "   'decimals': 18,\n",
       "   'eth_price': '1.000000000000000',\n",
       "   'usd_price': '3979.219999999999800000'},\n",
       "  'base_price': '3690000000000000000000',\n",
       "  'extra': '0',\n",
       "  'quantity': '1',\n",
       "  'salt': '69782018437952472300504257803622247320370286028409593680842690005709603025729',\n",
       "  'v': 27,\n",
       "  'r': '0x5b7293aa5f1414b6e07e986c3e2ac3f1243534a1b4af6a48c335cf2c5b12456c',\n",
       "  's': '0x785ed21c71a42ba6ab507fe2eafe34d164df56d44d4e1544ea98528fb3bffd60',\n",
       "  'approved_on_chain': False,\n",
       "  'cancelled': False,\n",
       "  'finalized': False,\n",
       "  'marked_invalid': False,\n",
       "  'prefixed_hash': '0x884bdc350200d24003898487011e3ed67c2ed52f27709921c906c510de8eb5fb'}]"
      ]
     },
     "execution_count": 106,
     "metadata": {},
     "output_type": "execute_result"
    }
   ],
   "source": [
    "poets.sell_orders.iloc[11]"
   ]
  },
  {
   "cell_type": "code",
   "execution_count": 108,
   "id": "ae5b581e",
   "metadata": {},
   "outputs": [],
   "source": [
    "poets.sell_orders = poets.sell_orders.fillna(value={})"
   ]
  },
  {
   "cell_type": "markdown",
   "id": "c25a52e9",
   "metadata": {},
   "source": [
    "**creator** "
   ]
  },
  {
   "cell_type": "code",
   "execution_count": 109,
   "id": "1ffe11b2",
   "metadata": {
    "collapsed": true
   },
   "outputs": [
    {
     "data": {
      "text/plain": [
       "0    {'user': {'username': 'pak'}, 'profile_img_url...\n",
       "1    {'user': {'username': 'pak'}, 'profile_img_url...\n",
       "2    {'user': {'username': 'pak'}, 'profile_img_url...\n",
       "3    {'user': {'username': 'pak'}, 'profile_img_url...\n",
       "4    {'user': {'username': 'pak'}, 'profile_img_url...\n",
       "Name: creator, dtype: object"
      ]
     },
     "execution_count": 109,
     "metadata": {},
     "output_type": "execute_result"
    }
   ],
   "source": [
    "poets.creator[:5]"
   ]
  },
  {
   "cell_type": "code",
   "execution_count": 113,
   "id": "36d3c6e5",
   "metadata": {
    "collapsed": true
   },
   "outputs": [
    {
     "data": {
      "text/html": [
       "<div>\n",
       "<style scoped>\n",
       "    .dataframe tbody tr th:only-of-type {\n",
       "        vertical-align: middle;\n",
       "    }\n",
       "\n",
       "    .dataframe tbody tr th {\n",
       "        vertical-align: top;\n",
       "    }\n",
       "\n",
       "    .dataframe thead th {\n",
       "        text-align: right;\n",
       "    }\n",
       "</style>\n",
       "<table border=\"1\" class=\"dataframe\">\n",
       "  <thead>\n",
       "    <tr style=\"text-align: right;\">\n",
       "      <th></th>\n",
       "      <th>_id</th>\n",
       "      <th>id</th>\n",
       "      <th>token_id</th>\n",
       "      <th>num_sales</th>\n",
       "      <th>image_url</th>\n",
       "      <th>image_preview_url</th>\n",
       "      <th>image_thumbnail_url</th>\n",
       "      <th>image_original_url</th>\n",
       "      <th>name</th>\n",
       "      <th>description</th>\n",
       "      <th>...</th>\n",
       "      <th>permalink</th>\n",
       "      <th>collection</th>\n",
       "      <th>decimals</th>\n",
       "      <th>token_metadata</th>\n",
       "      <th>owner</th>\n",
       "      <th>sell_orders</th>\n",
       "      <th>creator</th>\n",
       "      <th>traits</th>\n",
       "      <th>last_sale</th>\n",
       "      <th>is_presale</th>\n",
       "    </tr>\n",
       "  </thead>\n",
       "  <tbody>\n",
       "    <tr>\n",
       "      <th>4579</th>\n",
       "      <td>61b6be3616629c8ab9d272b7</td>\n",
       "      <td>59283406</td>\n",
       "      <td>5198</td>\n",
       "      <td>0</td>\n",
       "      <td>https://lh3.googleusercontent.com/8diNIW7nLWYM...</td>\n",
       "      <td>https://lh3.googleusercontent.com/8diNIW7nLWYM...</td>\n",
       "      <td>https://lh3.googleusercontent.com/8diNIW7nLWYM...</td>\n",
       "      <td>https://d1xxei964ioe0z.cloudfront.net/full/2a9...</td>\n",
       "      <td>Sky</td>\n",
       "      <td>as above so below</td>\n",
       "      <td>...</td>\n",
       "      <td>https://opensea.io/assets/0x4b3406a41399c7fd2b...</td>\n",
       "      <td>{'banner_image_url': 'https://lh3.googleuserco...</td>\n",
       "      <td>0</td>\n",
       "      <td>https://lostpoets.api.manifoldxyz.dev/metadata...</td>\n",
       "      <td>{'user': {'username': 'devboi'}, 'profile_img_...</td>\n",
       "      <td>NaN</td>\n",
       "      <td>None</td>\n",
       "      <td>[{'trait_type': 'Class', 'value': 'Poet', 'dis...</td>\n",
       "      <td>None</td>\n",
       "      <td>False</td>\n",
       "    </tr>\n",
       "    <tr>\n",
       "      <th>4580</th>\n",
       "      <td>61b6be3616629c8ab9d272b8</td>\n",
       "      <td>59283408</td>\n",
       "      <td>5199</td>\n",
       "      <td>0</td>\n",
       "      <td>https://lh3.googleusercontent.com/_uPGSYx4D3V6...</td>\n",
       "      <td>https://lh3.googleusercontent.com/_uPGSYx4D3V6...</td>\n",
       "      <td>https://lh3.googleusercontent.com/_uPGSYx4D3V6...</td>\n",
       "      <td>https://d1xxei964ioe0z.cloudfront.net/full/716...</td>\n",
       "      <td>Poet #5199</td>\n",
       "      <td>No Description Yet</td>\n",
       "      <td>...</td>\n",
       "      <td>https://opensea.io/assets/0x4b3406a41399c7fd2b...</td>\n",
       "      <td>{'banner_image_url': 'https://lh3.googleuserco...</td>\n",
       "      <td>0</td>\n",
       "      <td>https://lostpoets.api.manifoldxyz.dev/metadata...</td>\n",
       "      <td>{'user': {'username': 'kilrizzy'}, 'profile_im...</td>\n",
       "      <td>[{'created_date': '2021-12-10T18:29:58.884449'...</td>\n",
       "      <td>None</td>\n",
       "      <td>[{'trait_type': 'Genre', 'value': 'ioh', 'disp...</td>\n",
       "      <td>None</td>\n",
       "      <td>False</td>\n",
       "    </tr>\n",
       "  </tbody>\n",
       "</table>\n",
       "<p>2 rows × 21 columns</p>\n",
       "</div>"
      ],
      "text/plain": [
       "                           _id        id token_id  num_sales  \\\n",
       "4579  61b6be3616629c8ab9d272b7  59283406     5198          0   \n",
       "4580  61b6be3616629c8ab9d272b8  59283408     5199          0   \n",
       "\n",
       "                                              image_url  \\\n",
       "4579  https://lh3.googleusercontent.com/8diNIW7nLWYM...   \n",
       "4580  https://lh3.googleusercontent.com/_uPGSYx4D3V6...   \n",
       "\n",
       "                                      image_preview_url  \\\n",
       "4579  https://lh3.googleusercontent.com/8diNIW7nLWYM...   \n",
       "4580  https://lh3.googleusercontent.com/_uPGSYx4D3V6...   \n",
       "\n",
       "                                    image_thumbnail_url  \\\n",
       "4579  https://lh3.googleusercontent.com/8diNIW7nLWYM...   \n",
       "4580  https://lh3.googleusercontent.com/_uPGSYx4D3V6...   \n",
       "\n",
       "                                     image_original_url        name  \\\n",
       "4579  https://d1xxei964ioe0z.cloudfront.net/full/2a9...         Sky   \n",
       "4580  https://d1xxei964ioe0z.cloudfront.net/full/716...  Poet #5199   \n",
       "\n",
       "             description  ...  \\\n",
       "4579   as above so below  ...   \n",
       "4580  No Description Yet  ...   \n",
       "\n",
       "                                              permalink  \\\n",
       "4579  https://opensea.io/assets/0x4b3406a41399c7fd2b...   \n",
       "4580  https://opensea.io/assets/0x4b3406a41399c7fd2b...   \n",
       "\n",
       "                                             collection decimals  \\\n",
       "4579  {'banner_image_url': 'https://lh3.googleuserco...        0   \n",
       "4580  {'banner_image_url': 'https://lh3.googleuserco...        0   \n",
       "\n",
       "                                         token_metadata  \\\n",
       "4579  https://lostpoets.api.manifoldxyz.dev/metadata...   \n",
       "4580  https://lostpoets.api.manifoldxyz.dev/metadata...   \n",
       "\n",
       "                                                  owner  \\\n",
       "4579  {'user': {'username': 'devboi'}, 'profile_img_...   \n",
       "4580  {'user': {'username': 'kilrizzy'}, 'profile_im...   \n",
       "\n",
       "                                            sell_orders creator  \\\n",
       "4579                                                NaN    None   \n",
       "4580  [{'created_date': '2021-12-10T18:29:58.884449'...    None   \n",
       "\n",
       "                                                 traits last_sale is_presale  \n",
       "4579  [{'trait_type': 'Class', 'value': 'Poet', 'dis...      None      False  \n",
       "4580  [{'trait_type': 'Genre', 'value': 'ioh', 'disp...      None      False  \n",
       "\n",
       "[2 rows x 21 columns]"
      ]
     },
     "execution_count": 113,
     "metadata": {},
     "output_type": "execute_result"
    }
   ],
   "source": [
    "poets[poets.creator.isnull() == True].head(2)"
   ]
  },
  {
   "cell_type": "code",
   "execution_count": 115,
   "id": "26d42d5a",
   "metadata": {},
   "outputs": [
    {
     "data": {
      "text/plain": [
       "dict"
      ]
     },
     "execution_count": 115,
     "metadata": {},
     "output_type": "execute_result"
    }
   ],
   "source": [
    "type(poets.creator.iloc[0])"
   ]
  },
  {
   "cell_type": "code",
   "execution_count": 117,
   "id": "34864669",
   "metadata": {},
   "outputs": [
    {
     "data": {
      "text/plain": [
       "{'user': {'username': 'pak'},\n",
       " 'profile_img_url': 'https://storage.googleapis.com/opensea-static/opensea-profile/23.png',\n",
       " 'address': '0x2ce780d7c743a57791b835a9d6f998b15bbba5a4',\n",
       " 'config': 'verified'}"
      ]
     },
     "execution_count": 117,
     "metadata": {},
     "output_type": "execute_result"
    }
   ],
   "source": [
    "poets.creator.iloc[0]"
   ]
  },
  {
   "cell_type": "markdown",
   "id": "f9cca694",
   "metadata": {},
   "source": [
    "Since this is a one artist project, this column is not going to help us much but let's assign the same value to each column."
   ]
  },
  {
   "cell_type": "code",
   "execution_count": 118,
   "id": "458e00ec",
   "metadata": {},
   "outputs": [],
   "source": [
    "poets.creator = poets.sell_orders.fillna(value=poets.creator.iloc[0])"
   ]
  },
  {
   "cell_type": "markdown",
   "id": "a6cab884",
   "metadata": {},
   "source": [
    "**last_sale** "
   ]
  },
  {
   "cell_type": "code",
   "execution_count": 119,
   "id": "a19f04ce",
   "metadata": {
    "collapsed": true
   },
   "outputs": [
    {
     "data": {
      "text/plain": [
       "0                                                 None\n",
       "1                                                 None\n",
       "2                                                 None\n",
       "3    {'asset': {'token_id': '4', 'decimals': 0}, 'a...\n",
       "4                                                 None\n",
       "Name: last_sale, dtype: object"
      ]
     },
     "execution_count": 119,
     "metadata": {},
     "output_type": "execute_result"
    }
   ],
   "source": [
    "poets.last_sale[:5]"
   ]
  },
  {
   "cell_type": "code",
   "execution_count": 120,
   "id": "b6f09afd",
   "metadata": {
    "collapsed": true
   },
   "outputs": [
    {
     "data": {
      "text/html": [
       "<div>\n",
       "<style scoped>\n",
       "    .dataframe tbody tr th:only-of-type {\n",
       "        vertical-align: middle;\n",
       "    }\n",
       "\n",
       "    .dataframe tbody tr th {\n",
       "        vertical-align: top;\n",
       "    }\n",
       "\n",
       "    .dataframe thead th {\n",
       "        text-align: right;\n",
       "    }\n",
       "</style>\n",
       "<table border=\"1\" class=\"dataframe\">\n",
       "  <thead>\n",
       "    <tr style=\"text-align: right;\">\n",
       "      <th></th>\n",
       "      <th>_id</th>\n",
       "      <th>id</th>\n",
       "      <th>token_id</th>\n",
       "      <th>num_sales</th>\n",
       "      <th>image_url</th>\n",
       "      <th>image_preview_url</th>\n",
       "      <th>image_thumbnail_url</th>\n",
       "      <th>image_original_url</th>\n",
       "      <th>name</th>\n",
       "      <th>description</th>\n",
       "      <th>...</th>\n",
       "      <th>permalink</th>\n",
       "      <th>collection</th>\n",
       "      <th>decimals</th>\n",
       "      <th>token_metadata</th>\n",
       "      <th>owner</th>\n",
       "      <th>sell_orders</th>\n",
       "      <th>creator</th>\n",
       "      <th>traits</th>\n",
       "      <th>last_sale</th>\n",
       "      <th>is_presale</th>\n",
       "    </tr>\n",
       "  </thead>\n",
       "  <tbody>\n",
       "    <tr>\n",
       "      <th>3</th>\n",
       "      <td>61b6bdd216629c8ab9d260d7</td>\n",
       "      <td>59351008</td>\n",
       "      <td>4</td>\n",
       "      <td>1</td>\n",
       "      <td>https://lh3.googleusercontent.com/KHWZ4GF4GOIU...</td>\n",
       "      <td>https://lh3.googleusercontent.com/KHWZ4GF4GOIU...</td>\n",
       "      <td>https://lh3.googleusercontent.com/KHWZ4GF4GOIU...</td>\n",
       "      <td>https://d1xxei964ioe0z.cloudfront.net/full/073...</td>\n",
       "      <td>BOND</td>\n",
       "      <td>No Description Yet</td>\n",
       "      <td>...</td>\n",
       "      <td>https://opensea.io/assets/0x4b3406a41399c7fd2b...</td>\n",
       "      <td>{'banner_image_url': 'https://lh3.googleuserco...</td>\n",
       "      <td>0</td>\n",
       "      <td>https://lostpoets.api.manifoldxyz.dev/metadata/4</td>\n",
       "      <td>{'user': {'username': 'TopHand'}, 'profile_img...</td>\n",
       "      <td>NaN</td>\n",
       "      <td>NaN</td>\n",
       "      <td>[{'trait_type': 'Class', 'value': 'Origin', 'd...</td>\n",
       "      <td>{'asset': {'token_id': '4', 'decimals': 0}, 'a...</td>\n",
       "      <td>False</td>\n",
       "    </tr>\n",
       "    <tr>\n",
       "      <th>30</th>\n",
       "      <td>61b6bdd216629c8ab9d260f2</td>\n",
       "      <td>59351097</td>\n",
       "      <td>31</td>\n",
       "      <td>1</td>\n",
       "      <td>https://lh3.googleusercontent.com/Tj44Eh9grNW-...</td>\n",
       "      <td>https://lh3.googleusercontent.com/Tj44Eh9grNW-...</td>\n",
       "      <td>https://lh3.googleusercontent.com/Tj44Eh9grNW-...</td>\n",
       "      <td>https://d1xxei964ioe0z.cloudfront.net/full/1e7...</td>\n",
       "      <td>Origin #8WI4</td>\n",
       "      <td>origin born into happiness\\n\\npatiently waitin...</td>\n",
       "      <td>...</td>\n",
       "      <td>https://opensea.io/assets/0x4b3406a41399c7fd2b...</td>\n",
       "      <td>{'banner_image_url': 'https://lh3.googleuserco...</td>\n",
       "      <td>0</td>\n",
       "      <td>https://lostpoets.api.manifoldxyz.dev/metadata/31</td>\n",
       "      <td>{'user': {'username': 'GAMT'}, 'profile_img_ur...</td>\n",
       "      <td>NaN</td>\n",
       "      <td>NaN</td>\n",
       "      <td>[{'trait_type': 'Word', 'value': 'can', 'displ...</td>\n",
       "      <td>{'asset': {'token_id': '31', 'decimals': 0}, '...</td>\n",
       "      <td>False</td>\n",
       "    </tr>\n",
       "    <tr>\n",
       "      <th>37</th>\n",
       "      <td>61b6bdd216629c8ab9d260f9</td>\n",
       "      <td>59351122</td>\n",
       "      <td>38</td>\n",
       "      <td>1</td>\n",
       "      <td>https://lh3.googleusercontent.com/SSiWWa0qau1V...</td>\n",
       "      <td>https://lh3.googleusercontent.com/SSiWWa0qau1V...</td>\n",
       "      <td>https://lh3.googleusercontent.com/SSiWWa0qau1V...</td>\n",
       "      <td>https://d1xxei964ioe0z.cloudfront.net/full/0c9...</td>\n",
       "      <td>Origin #G31Y</td>\n",
       "      <td>No Description Yet</td>\n",
       "      <td>...</td>\n",
       "      <td>https://opensea.io/assets/0x4b3406a41399c7fd2b...</td>\n",
       "      <td>{'banner_image_url': 'https://lh3.googleuserco...</td>\n",
       "      <td>0</td>\n",
       "      <td>https://lostpoets.api.manifoldxyz.dev/metadata/38</td>\n",
       "      <td>{'user': {'username': 'mexpex'}, 'profile_img_...</td>\n",
       "      <td>NaN</td>\n",
       "      <td>NaN</td>\n",
       "      <td>[{'trait_type': 'Origin', 'value': 'G31Y', 'di...</td>\n",
       "      <td>{'asset': {'token_id': '38', 'decimals': 0}, '...</td>\n",
       "      <td>False</td>\n",
       "    </tr>\n",
       "  </tbody>\n",
       "</table>\n",
       "<p>3 rows × 21 columns</p>\n",
       "</div>"
      ],
      "text/plain": [
       "                         _id        id token_id  num_sales  \\\n",
       "3   61b6bdd216629c8ab9d260d7  59351008        4          1   \n",
       "30  61b6bdd216629c8ab9d260f2  59351097       31          1   \n",
       "37  61b6bdd216629c8ab9d260f9  59351122       38          1   \n",
       "\n",
       "                                            image_url  \\\n",
       "3   https://lh3.googleusercontent.com/KHWZ4GF4GOIU...   \n",
       "30  https://lh3.googleusercontent.com/Tj44Eh9grNW-...   \n",
       "37  https://lh3.googleusercontent.com/SSiWWa0qau1V...   \n",
       "\n",
       "                                    image_preview_url  \\\n",
       "3   https://lh3.googleusercontent.com/KHWZ4GF4GOIU...   \n",
       "30  https://lh3.googleusercontent.com/Tj44Eh9grNW-...   \n",
       "37  https://lh3.googleusercontent.com/SSiWWa0qau1V...   \n",
       "\n",
       "                                  image_thumbnail_url  \\\n",
       "3   https://lh3.googleusercontent.com/KHWZ4GF4GOIU...   \n",
       "30  https://lh3.googleusercontent.com/Tj44Eh9grNW-...   \n",
       "37  https://lh3.googleusercontent.com/SSiWWa0qau1V...   \n",
       "\n",
       "                                   image_original_url          name  \\\n",
       "3   https://d1xxei964ioe0z.cloudfront.net/full/073...          BOND   \n",
       "30  https://d1xxei964ioe0z.cloudfront.net/full/1e7...  Origin #8WI4   \n",
       "37  https://d1xxei964ioe0z.cloudfront.net/full/0c9...  Origin #G31Y   \n",
       "\n",
       "                                          description  ...  \\\n",
       "3                                  No Description Yet  ...   \n",
       "30  origin born into happiness\\n\\npatiently waitin...  ...   \n",
       "37                                 No Description Yet  ...   \n",
       "\n",
       "                                            permalink  \\\n",
       "3   https://opensea.io/assets/0x4b3406a41399c7fd2b...   \n",
       "30  https://opensea.io/assets/0x4b3406a41399c7fd2b...   \n",
       "37  https://opensea.io/assets/0x4b3406a41399c7fd2b...   \n",
       "\n",
       "                                           collection decimals  \\\n",
       "3   {'banner_image_url': 'https://lh3.googleuserco...        0   \n",
       "30  {'banner_image_url': 'https://lh3.googleuserco...        0   \n",
       "37  {'banner_image_url': 'https://lh3.googleuserco...        0   \n",
       "\n",
       "                                       token_metadata  \\\n",
       "3    https://lostpoets.api.manifoldxyz.dev/metadata/4   \n",
       "30  https://lostpoets.api.manifoldxyz.dev/metadata/31   \n",
       "37  https://lostpoets.api.manifoldxyz.dev/metadata/38   \n",
       "\n",
       "                                                owner sell_orders creator  \\\n",
       "3   {'user': {'username': 'TopHand'}, 'profile_img...         NaN     NaN   \n",
       "30  {'user': {'username': 'GAMT'}, 'profile_img_ur...         NaN     NaN   \n",
       "37  {'user': {'username': 'mexpex'}, 'profile_img_...         NaN     NaN   \n",
       "\n",
       "                                               traits  \\\n",
       "3   [{'trait_type': 'Class', 'value': 'Origin', 'd...   \n",
       "30  [{'trait_type': 'Word', 'value': 'can', 'displ...   \n",
       "37  [{'trait_type': 'Origin', 'value': 'G31Y', 'di...   \n",
       "\n",
       "                                            last_sale is_presale  \n",
       "3   {'asset': {'token_id': '4', 'decimals': 0}, 'a...      False  \n",
       "30  {'asset': {'token_id': '31', 'decimals': 0}, '...      False  \n",
       "37  {'asset': {'token_id': '38', 'decimals': 0}, '...      False  \n",
       "\n",
       "[3 rows x 21 columns]"
      ]
     },
     "execution_count": 120,
     "metadata": {},
     "output_type": "execute_result"
    }
   ],
   "source": [
    "poets[poets.last_sale.notnull() == True].head(3)"
   ]
  },
  {
   "cell_type": "markdown",
   "id": "080760d4",
   "metadata": {},
   "source": [
    "Let's look at the information in this last_sale column."
   ]
  },
  {
   "cell_type": "code",
   "execution_count": 122,
   "id": "8df160d3",
   "metadata": {},
   "outputs": [
    {
     "data": {
      "text/plain": [
       "dict"
      ]
     },
     "execution_count": 122,
     "metadata": {},
     "output_type": "execute_result"
    }
   ],
   "source": [
    "type(poets.last_sale.iloc[3])"
   ]
  },
  {
   "cell_type": "code",
   "execution_count": 123,
   "id": "6c3944ad",
   "metadata": {
    "collapsed": true
   },
   "outputs": [
    {
     "data": {
      "text/plain": [
       "{'asset': {'token_id': '4', 'decimals': 0},\n",
       " 'asset_bundle': None,\n",
       " 'event_type': 'successful',\n",
       " 'event_timestamp': '2021-09-26T23:27:53',\n",
       " 'auction_type': None,\n",
       " 'total_price': '37000000000000000000',\n",
       " 'payment_token': {'id': 1,\n",
       "  'symbol': 'ETH',\n",
       "  'address': '0x0000000000000000000000000000000000000000',\n",
       "  'image_url': 'https://storage.opensea.io/files/6f8e2979d428180222796ff4a33ab929.svg',\n",
       "  'name': 'Ether',\n",
       "  'decimals': 18,\n",
       "  'eth_price': '1.000000000000000',\n",
       "  'usd_price': '3979.219999999999800000'},\n",
       " 'transaction': {'block_hash': '0x277517c12baa4d5889182fa726bad7345a72d4faa9eb7003cdd5d6cb8419fbf1',\n",
       "  'block_number': '13304385',\n",
       "  'from_account': {'user': {'username': 'TOPHANDS'},\n",
       "   'profile_img_url': 'https://storage.googleapis.com/opensea-static/opensea-profile/32.png',\n",
       "   'address': '0xfed751d3f6f122555c34c1726ff67eacdc500bfa',\n",
       "   'config': ''},\n",
       "  'id': 171368158,\n",
       "  'timestamp': '2021-09-26T23:27:53',\n",
       "  'to_account': {'user': {'username': 'OpenSea-Orders'},\n",
       "   'profile_img_url': 'https://storage.googleapis.com/opensea-static/opensea-profile/22.png',\n",
       "   'address': '0x7be8076f4ea4a4ad08075c2508e481d6c946d12b',\n",
       "   'config': 'verified'},\n",
       "  'transaction_hash': '0x3443068887ba58396c1d4d49f4091477b05aa050e0e06970c6f7ce93ecaa8ea6',\n",
       "  'transaction_index': '239'},\n",
       " 'created_date': '2021-09-26T23:28:34.089664',\n",
       " 'quantity': '1'}"
      ]
     },
     "execution_count": 123,
     "metadata": {},
     "output_type": "execute_result"
    }
   ],
   "source": [
    "poets.last_sale.iloc[3]"
   ]
  },
  {
   "cell_type": "markdown",
   "id": "ead14fc5",
   "metadata": {},
   "source": [
    "If the event type is successful, it shows that this item was at least once sold. But we have our events/ sales analysis to tell us this so essentially this will not be a column that we can use. But let's keep it and assign all the null values an indicator that it hasn't been sold."
   ]
  },
  {
   "cell_type": "code",
   "execution_count": 124,
   "id": "ae641db0",
   "metadata": {},
   "outputs": [],
   "source": [
    "poets.last_sale = poets.last_sale.fillna(value= {'asset': {'event_type': 'unsuccessful'}})"
   ]
  },
  {
   "cell_type": "markdown",
   "id": "72493572",
   "metadata": {},
   "source": [
    "### 2. Column Types Analysis & Identifying Repeat-Value Columns"
   ]
  },
  {
   "cell_type": "markdown",
   "id": "98e854f5",
   "metadata": {},
   "source": [
    "Let's make sure/change the datatypes in columns are the right ones for our use case. Also let's identify columns with repeat values & not enough/ valuable info. "
   ]
  },
  {
   "cell_type": "code",
   "execution_count": 128,
   "id": "47233ad3",
   "metadata": {},
   "outputs": [
    {
     "name": "stdout",
     "output_type": "stream",
     "text": [
      "<class 'pandas.core.frame.DataFrame'>\n",
      "RangeIndex: 10020 entries, 0 to 10019\n",
      "Data columns (total 21 columns):\n",
      " #   Column               Non-Null Count  Dtype \n",
      "---  ------               --------------  ----- \n",
      " 0   _id                  10020 non-null  object\n",
      " 1   id                   10020 non-null  int64 \n",
      " 2   token_id             10020 non-null  int64 \n",
      " 3   num_sales            10020 non-null  int64 \n",
      " 4   image_url            10020 non-null  object\n",
      " 5   image_preview_url    10020 non-null  object\n",
      " 6   image_thumbnail_url  10020 non-null  object\n",
      " 7   image_original_url   10020 non-null  object\n",
      " 8   name                 10020 non-null  object\n",
      " 9   description          10020 non-null  object\n",
      " 10  asset_contract       10020 non-null  object\n",
      " 11  permalink            10020 non-null  object\n",
      " 12  collection           10020 non-null  object\n",
      " 13  decimals             10020 non-null  int64 \n",
      " 14  token_metadata       10020 non-null  object\n",
      " 15  owner                10020 non-null  object\n",
      " 16  sell_orders          1011 non-null   object\n",
      " 17  creator              1011 non-null   object\n",
      " 18  traits               10020 non-null  object\n",
      " 19  last_sale            1964 non-null   object\n",
      " 20  is_presale           10020 non-null  bool  \n",
      "dtypes: bool(1), int64(4), object(16)\n",
      "memory usage: 1.5+ MB\n"
     ]
    }
   ],
   "source": [
    "poets.info()"
   ]
  },
  {
   "cell_type": "markdown",
   "id": "6fc9cf5f",
   "metadata": {},
   "source": [
    "**token_id** "
   ]
  },
  {
   "cell_type": "code",
   "execution_count": 125,
   "id": "00d4cbfd",
   "metadata": {},
   "outputs": [
    {
     "data": {
      "text/plain": [
       "10020"
      ]
     },
     "execution_count": 125,
     "metadata": {},
     "output_type": "execute_result"
    }
   ],
   "source": [
    "poets.token_id.nunique()"
   ]
  },
  {
   "cell_type": "code",
   "execution_count": 126,
   "id": "655c4048",
   "metadata": {},
   "outputs": [
    {
     "data": {
      "text/plain": [
       "str"
      ]
     },
     "execution_count": 126,
     "metadata": {},
     "output_type": "execute_result"
    }
   ],
   "source": [
    "type(poets.token_id[0])"
   ]
  },
  {
   "cell_type": "code",
   "execution_count": 127,
   "id": "30ddb4d7",
   "metadata": {},
   "outputs": [],
   "source": [
    "poets.token_id = poets.token_id.astype(int) "
   ]
  },
  {
   "cell_type": "markdown",
   "id": "5981a01d",
   "metadata": {},
   "source": [
    "**num_sales** "
   ]
  },
  {
   "cell_type": "code",
   "execution_count": 133,
   "id": "2bbdc843",
   "metadata": {},
   "outputs": [
    {
     "data": {
      "text/plain": [
       "array([0, 1, 2, 3, 4])"
      ]
     },
     "execution_count": 133,
     "metadata": {},
     "output_type": "execute_result"
    }
   ],
   "source": [
    "poets.num_sales.unique()"
   ]
  },
  {
   "cell_type": "code",
   "execution_count": 136,
   "id": "06844859",
   "metadata": {},
   "outputs": [
    {
     "data": {
      "text/plain": [
       "3     1\n",
       "30    1\n",
       "37    1\n",
       "Name: num_sales, dtype: int64"
      ]
     },
     "execution_count": 136,
     "metadata": {},
     "output_type": "execute_result"
    }
   ],
   "source": [
    "poets.num_sales[poets.num_sales != 0].head(3)"
   ]
  },
  {
   "cell_type": "markdown",
   "id": "69e3fbe1",
   "metadata": {},
   "source": [
    "**URL's** "
   ]
  },
  {
   "cell_type": "code",
   "execution_count": 138,
   "id": "2a82d7ea",
   "metadata": {},
   "outputs": [
    {
     "data": {
      "text/plain": [
       "10020"
      ]
     },
     "execution_count": 138,
     "metadata": {},
     "output_type": "execute_result"
    }
   ],
   "source": [
    "poets.image_url.nunique()"
   ]
  },
  {
   "cell_type": "code",
   "execution_count": 139,
   "id": "11249e9c",
   "metadata": {},
   "outputs": [
    {
     "data": {
      "text/plain": [
       "10020"
      ]
     },
     "execution_count": 139,
     "metadata": {},
     "output_type": "execute_result"
    }
   ],
   "source": [
    "poets.image_preview_url.nunique()"
   ]
  },
  {
   "cell_type": "code",
   "execution_count": 141,
   "id": "a4ca5887",
   "metadata": {},
   "outputs": [
    {
     "data": {
      "text/plain": [
       "'https://lh3.googleusercontent.com/ulT6Iu_7798lvdulT253Ubtgoi3JYYnn5fo_tQ4A5l2NFFIkLAfqjRm5o8W9UMffMg8a6CMDmU7IZ9rFnPbSPnZ7YPdKBM8AnWMJ'"
      ]
     },
     "execution_count": 141,
     "metadata": {},
     "output_type": "execute_result"
    }
   ],
   "source": [
    "poets.image_url.iloc[0]"
   ]
  },
  {
   "cell_type": "code",
   "execution_count": 140,
   "id": "3b28ba9b",
   "metadata": {},
   "outputs": [
    {
     "data": {
      "text/plain": [
       "'https://lh3.googleusercontent.com/ulT6Iu_7798lvdulT253Ubtgoi3JYYnn5fo_tQ4A5l2NFFIkLAfqjRm5o8W9UMffMg8a6CMDmU7IZ9rFnPbSPnZ7YPdKBM8AnWMJ=s250'"
      ]
     },
     "execution_count": 140,
     "metadata": {},
     "output_type": "execute_result"
    }
   ],
   "source": [
    "poets.image_preview_url.iloc[0]"
   ]
  },
  {
   "cell_type": "code",
   "execution_count": 142,
   "id": "f46e44b9",
   "metadata": {},
   "outputs": [
    {
     "data": {
      "text/plain": [
       "'https://lh3.googleusercontent.com/ulT6Iu_7798lvdulT253Ubtgoi3JYYnn5fo_tQ4A5l2NFFIkLAfqjRm5o8W9UMffMg8a6CMDmU7IZ9rFnPbSPnZ7YPdKBM8AnWMJ=s128'"
      ]
     },
     "execution_count": 142,
     "metadata": {},
     "output_type": "execute_result"
    }
   ],
   "source": [
    "poets.image_thumbnail_url.iloc[0]"
   ]
  },
  {
   "cell_type": "code",
   "execution_count": 143,
   "id": "b41b2b3a",
   "metadata": {},
   "outputs": [
    {
     "data": {
      "text/plain": [
       "'https://d1xxei964ioe0z.cloudfront.net/full/a161f1a5f415f4e14c76105c15b190e15071c89be025845aad5bab3b25ebaccd.png'"
      ]
     },
     "execution_count": 143,
     "metadata": {},
     "output_type": "execute_result"
    }
   ],
   "source": [
    "poets.image_original_url.iloc[0]"
   ]
  },
  {
   "cell_type": "markdown",
   "id": "94df25e9",
   "metadata": {},
   "source": [
    "Perfect, these are the columns we will use for scraping the images. We will keep the image_url & image_original_url column and decide which one we will use when we are scraping. "
   ]
  },
  {
   "cell_type": "markdown",
   "id": "b9d1818e",
   "metadata": {},
   "source": [
    "**name** "
   ]
  },
  {
   "cell_type": "code",
   "execution_count": 146,
   "id": "c9b7ab52",
   "metadata": {},
   "outputs": [
    {
     "data": {
      "text/plain": [
       "0               I\n",
       "1    Origin #7THK\n",
       "2    Origin #6AF2\n",
       "3            BOND\n",
       "4    Origin #E0FR\n",
       "Name: name, dtype: object"
      ]
     },
     "execution_count": 146,
     "metadata": {},
     "output_type": "execute_result"
    }
   ],
   "source": [
    "poets.name[:5]"
   ]
  },
  {
   "cell_type": "markdown",
   "id": "969b6209",
   "metadata": {},
   "source": [
    "**asset_contract** "
   ]
  },
  {
   "cell_type": "code",
   "execution_count": 148,
   "id": "ae915d75",
   "metadata": {
    "collapsed": true
   },
   "outputs": [
    {
     "data": {
      "text/plain": [
       "0    {'address': '0x4b3406a41399c7fd2ba65cbc93697ad...\n",
       "1    {'address': '0x4b3406a41399c7fd2ba65cbc93697ad...\n",
       "2    {'address': '0x4b3406a41399c7fd2ba65cbc93697ad...\n",
       "3    {'address': '0x4b3406a41399c7fd2ba65cbc93697ad...\n",
       "4    {'address': '0x4b3406a41399c7fd2ba65cbc93697ad...\n",
       "Name: asset_contract, dtype: object"
      ]
     },
     "execution_count": 148,
     "metadata": {},
     "output_type": "execute_result"
    }
   ],
   "source": [
    "poets.asset_contract[:5]"
   ]
  },
  {
   "cell_type": "code",
   "execution_count": 153,
   "id": "96a93e0b",
   "metadata": {
    "collapsed": true
   },
   "outputs": [
    {
     "data": {
      "text/plain": [
       "{'address': '0x4b3406a41399c7fd2ba65cbc93697ad9e7ea61e5',\n",
       " 'asset_contract_type': 'non-fungible',\n",
       " 'created_date': '2021-09-25T05:35:23.490231',\n",
       " 'name': 'Lost Poets',\n",
       " 'nft_version': '3.0',\n",
       " 'opensea_version': None,\n",
       " 'owner': 2504088,\n",
       " 'schema_name': 'ERC721',\n",
       " 'symbol': 'POETS',\n",
       " 'total_supply': None,\n",
       " 'description': '∴ AB AETERNO',\n",
       " 'external_link': 'https://lostpoets.xyz/',\n",
       " 'image_url': 'https://lh3.googleusercontent.com/cGKkMxKQ-7J0A4mZvcPqr2LKvGqIVsXjzGqpfxRNb4yVr-zTycPJ0kznkwKqDyUTg--A32oW8cI32BQBl6hrbM-frn1__o544ECpCg=s120',\n",
       " 'default_to_fiat': False,\n",
       " 'dev_buyer_fee_basis_points': 0,\n",
       " 'dev_seller_fee_basis_points': 1000,\n",
       " 'only_proxied_transfers': False,\n",
       " 'opensea_buyer_fee_basis_points': 0,\n",
       " 'opensea_seller_fee_basis_points': 250,\n",
       " 'buyer_fee_basis_points': 0,\n",
       " 'seller_fee_basis_points': 1250,\n",
       " 'payout_address': '0x8e8717dcd1687080757cb513d7d6702625973be8'}"
      ]
     },
     "execution_count": 153,
     "metadata": {},
     "output_type": "execute_result"
    }
   ],
   "source": [
    "poets.asset_contract.iloc[100]"
   ]
  },
  {
   "cell_type": "markdown",
   "id": "96425776",
   "metadata": {},
   "source": [
    "Valuable information but it is the same for each observation. Also we have this in our events/sales database; so not necessary to carry this info downstream. "
   ]
  },
  {
   "cell_type": "markdown",
   "id": "ed2cacd1",
   "metadata": {},
   "source": [
    "**permalink** "
   ]
  },
  {
   "cell_type": "code",
   "execution_count": 154,
   "id": "b1326edb",
   "metadata": {
    "collapsed": true
   },
   "outputs": [
    {
     "data": {
      "text/plain": [
       "0    https://opensea.io/assets/0x4b3406a41399c7fd2b...\n",
       "1    https://opensea.io/assets/0x4b3406a41399c7fd2b...\n",
       "2    https://opensea.io/assets/0x4b3406a41399c7fd2b...\n",
       "3    https://opensea.io/assets/0x4b3406a41399c7fd2b...\n",
       "4    https://opensea.io/assets/0x4b3406a41399c7fd2b...\n",
       "Name: permalink, dtype: object"
      ]
     },
     "execution_count": 154,
     "metadata": {},
     "output_type": "execute_result"
    }
   ],
   "source": [
    "poets.permalink[:5]"
   ]
  },
  {
   "cell_type": "code",
   "execution_count": 158,
   "id": "21af3438",
   "metadata": {},
   "outputs": [
    {
     "data": {
      "text/plain": [
       "'https://opensea.io/assets/0x4b3406a41399c7fd2ba65cbc93697ad9e7ea61e5/3'"
      ]
     },
     "execution_count": 158,
     "metadata": {},
     "output_type": "execute_result"
    }
   ],
   "source": [
    "poets.permalink.iloc[2]"
   ]
  },
  {
   "cell_type": "markdown",
   "id": "7d464fbf",
   "metadata": {},
   "source": [
    "This is the link that shows us the link in the Opensea website. Let's keep it with us for now. "
   ]
  },
  {
   "cell_type": "markdown",
   "id": "281016ee",
   "metadata": {},
   "source": [
    "**collection** "
   ]
  },
  {
   "cell_type": "code",
   "execution_count": 159,
   "id": "fc85a0c3",
   "metadata": {
    "collapsed": true
   },
   "outputs": [
    {
     "data": {
      "text/plain": [
       "0    {'banner_image_url': 'https://lh3.googleuserco...\n",
       "1    {'banner_image_url': 'https://lh3.googleuserco...\n",
       "2    {'banner_image_url': 'https://lh3.googleuserco...\n",
       "3    {'banner_image_url': 'https://lh3.googleuserco...\n",
       "4    {'banner_image_url': 'https://lh3.googleuserco...\n",
       "Name: collection, dtype: object"
      ]
     },
     "execution_count": 159,
     "metadata": {},
     "output_type": "execute_result"
    }
   ],
   "source": [
    "poets.collection[:5]"
   ]
  },
  {
   "cell_type": "code",
   "execution_count": 165,
   "id": "96127b1f",
   "metadata": {
    "collapsed": true
   },
   "outputs": [
    {
     "data": {
      "text/plain": [
       "{'banner_image_url': 'https://lh3.googleusercontent.com/VNQfgH6h0cuiP6U-tTZ8qRUVivEtB1TdMsn6MWG_15wzr1899ehqrVZ_vrh5a3uNkseRmTfLyi0X8Q-WOq06e3IhMSiCyHV6XX97oxM=s2500',\n",
       " 'chat_url': None,\n",
       " 'created_date': '2021-09-03T04:50:03.338901',\n",
       " 'default_to_fiat': False,\n",
       " 'description': '∴ AB AETERNO',\n",
       " 'dev_buyer_fee_basis_points': '0',\n",
       " 'dev_seller_fee_basis_points': '1000',\n",
       " 'discord_url': None,\n",
       " 'display_data': {'card_display_style': 'cover'},\n",
       " 'external_url': 'https://lostpoets.xyz/',\n",
       " 'featured': False,\n",
       " 'featured_image_url': 'https://lh3.googleusercontent.com/VNQfgH6h0cuiP6U-tTZ8qRUVivEtB1TdMsn6MWG_15wzr1899ehqrVZ_vrh5a3uNkseRmTfLyi0X8Q-WOq06e3IhMSiCyHV6XX97oxM=s300',\n",
       " 'hidden': False,\n",
       " 'safelist_request_status': 'verified',\n",
       " 'image_url': 'https://lh3.googleusercontent.com/cGKkMxKQ-7J0A4mZvcPqr2LKvGqIVsXjzGqpfxRNb4yVr-zTycPJ0kznkwKqDyUTg--A32oW8cI32BQBl6hrbM-frn1__o544ECpCg=s120',\n",
       " 'is_subject_to_whitelist': False,\n",
       " 'large_image_url': 'https://lh3.googleusercontent.com/VNQfgH6h0cuiP6U-tTZ8qRUVivEtB1TdMsn6MWG_15wzr1899ehqrVZ_vrh5a3uNkseRmTfLyi0X8Q-WOq06e3IhMSiCyHV6XX97oxM=s300',\n",
       " 'medium_username': None,\n",
       " 'name': 'LOSTPOETS',\n",
       " 'only_proxied_transfers': False,\n",
       " 'opensea_buyer_fee_basis_points': '0',\n",
       " 'opensea_seller_fee_basis_points': '250',\n",
       " 'payout_address': '0x8e8717dcd1687080757cb513d7d6702625973be8',\n",
       " 'require_email': False,\n",
       " 'short_description': None,\n",
       " 'slug': 'lostpoets',\n",
       " 'telegram_url': None,\n",
       " 'twitter_username': 'poetslost',\n",
       " 'instagram_username': None,\n",
       " 'wiki_url': None}"
      ]
     },
     "execution_count": 165,
     "metadata": {},
     "output_type": "execute_result"
    }
   ],
   "source": [
    "poets.collection.iloc[2]"
   ]
  },
  {
   "cell_type": "markdown",
   "id": "972d501f",
   "metadata": {},
   "source": [
    "This is general information about the collection. Great info in general, but since we are working on 1 collection only and hence the value is the same for each observation, we will not be using this data downstream. "
   ]
  },
  {
   "cell_type": "markdown",
   "id": "dbcc5e8b",
   "metadata": {},
   "source": [
    "**decimals** "
   ]
  },
  {
   "cell_type": "code",
   "execution_count": 167,
   "id": "61559df3",
   "metadata": {},
   "outputs": [
    {
     "data": {
      "text/plain": [
       "0    0\n",
       "1    0\n",
       "2    0\n",
       "3    0\n",
       "4    0\n",
       "Name: decimals, dtype: int64"
      ]
     },
     "execution_count": 167,
     "metadata": {},
     "output_type": "execute_result"
    }
   ],
   "source": [
    "poets.decimals[:5]"
   ]
  },
  {
   "cell_type": "code",
   "execution_count": 168,
   "id": "06191db4",
   "metadata": {},
   "outputs": [
    {
     "data": {
      "text/plain": [
       "1"
      ]
     },
     "execution_count": 168,
     "metadata": {},
     "output_type": "execute_result"
    }
   ],
   "source": [
    "poets.decimals.nunique()"
   ]
  },
  {
   "cell_type": "markdown",
   "id": "602f18e1",
   "metadata": {},
   "source": [
    "Another column that won't be needed downstream. "
   ]
  },
  {
   "cell_type": "markdown",
   "id": "562c6171",
   "metadata": {},
   "source": [
    "**token_metadata** "
   ]
  },
  {
   "cell_type": "code",
   "execution_count": 169,
   "id": "3b313d40",
   "metadata": {},
   "outputs": [
    {
     "data": {
      "text/plain": [
       "0    https://lostpoets.api.manifoldxyz.dev/metadata/1\n",
       "1    https://lostpoets.api.manifoldxyz.dev/metadata/2\n",
       "2    https://lostpoets.api.manifoldxyz.dev/metadata/3\n",
       "3    https://lostpoets.api.manifoldxyz.dev/metadata/4\n",
       "4    https://lostpoets.api.manifoldxyz.dev/metadata/5\n",
       "Name: token_metadata, dtype: object"
      ]
     },
     "execution_count": 169,
     "metadata": {},
     "output_type": "execute_result"
    }
   ],
   "source": [
    "poets.token_metadata[:5]"
   ]
  },
  {
   "cell_type": "code",
   "execution_count": 171,
   "id": "a85205ed",
   "metadata": {},
   "outputs": [
    {
     "data": {
      "text/plain": [
       "10020"
      ]
     },
     "execution_count": 171,
     "metadata": {},
     "output_type": "execute_result"
    }
   ],
   "source": [
    "poets.token_metadata.nunique()"
   ]
  },
  {
   "cell_type": "code",
   "execution_count": 173,
   "id": "e82e60d6",
   "metadata": {},
   "outputs": [
    {
     "data": {
      "text/plain": [
       "'https://lostpoets.api.manifoldxyz.dev/metadata/1'"
      ]
     },
     "execution_count": 173,
     "metadata": {},
     "output_type": "execute_result"
    }
   ],
   "source": [
    "poets.token_metadata.iloc[0]"
   ]
  },
  {
   "cell_type": "markdown",
   "id": "be6c57d6",
   "metadata": {},
   "source": [
    "The metadata has important information but we would need to do further scraping to get this info. We'll leave it behind for now but note its usefullness if we want to work with this data in the future. "
   ]
  },
  {
   "cell_type": "markdown",
   "id": "1752c37e",
   "metadata": {},
   "source": [
    "**owner** "
   ]
  },
  {
   "cell_type": "code",
   "execution_count": 174,
   "id": "d6e5e065",
   "metadata": {},
   "outputs": [
    {
     "data": {
      "text/plain": [
       "0    {'user': {'username': 'pak'}, 'profile_img_url...\n",
       "1    {'user': {'username': None}, 'profile_img_url'...\n",
       "2    {'user': {'username': 'LordTruffington_Vault'}...\n",
       "3    {'user': {'username': 'TopHand'}, 'profile_img...\n",
       "4    {'user': {'username': 'FVCKRENDER'}, 'profile_...\n",
       "Name: owner, dtype: object"
      ]
     },
     "execution_count": 174,
     "metadata": {},
     "output_type": "execute_result"
    }
   ],
   "source": [
    "poets.owner[:5]"
   ]
  },
  {
   "cell_type": "code",
   "execution_count": 178,
   "id": "f441a634",
   "metadata": {},
   "outputs": [
    {
     "data": {
      "text/plain": [
       "{'user': {'username': 'LordTruffington_Vault'},\n",
       " 'profile_img_url': 'https://storage.googleapis.com/opensea-static/opensea-profile/24.png',\n",
       " 'address': '0x247c87f0705a82fc75811d04d01a5a22f736bbb3',\n",
       " 'config': ''}"
      ]
     },
     "execution_count": 178,
     "metadata": {},
     "output_type": "execute_result"
    }
   ],
   "source": [
    "poets.owner.iloc[2]"
   ]
  },
  {
   "cell_type": "markdown",
   "id": "3231bf16",
   "metadata": {},
   "source": [
    "This is great data if we want to combine with the sales data. It shows the latest owner of each item as of now. Let's extract the info from the dictionary. "
   ]
  },
  {
   "cell_type": "markdown",
   "id": "f6d10a62",
   "metadata": {},
   "source": [
    "**owner_username**"
   ]
  },
  {
   "cell_type": "code",
   "execution_count": 179,
   "id": "0c188c75",
   "metadata": {},
   "outputs": [
    {
     "data": {
      "text/plain": [
       "'LordTruffington_Vault'"
      ]
     },
     "execution_count": 179,
     "metadata": {},
     "output_type": "execute_result"
    }
   ],
   "source": [
    "poets.owner.iloc[2]['user']['username']"
   ]
  },
  {
   "cell_type": "code",
   "execution_count": 188,
   "id": "a41b728a",
   "metadata": {},
   "outputs": [],
   "source": [
    "poets['owner_username_extra'] = (poets.owner.apply(lambda x:x['user']))\n",
    "# poets['owner_username'] = (poets.owner.apply(lambda x: 'unknown'\n",
    "#                               if (pd.isnull(x)) else x['symbol']))"
   ]
  },
  {
   "cell_type": "code",
   "execution_count": 189,
   "id": "b5766bba",
   "metadata": {},
   "outputs": [
    {
     "data": {
      "text/plain": [
       "{'username': 'LordTruffington_Vault'}"
      ]
     },
     "execution_count": 189,
     "metadata": {},
     "output_type": "execute_result"
    }
   ],
   "source": [
    "poets.owner_username_extra.iloc[2]"
   ]
  },
  {
   "cell_type": "code",
   "execution_count": 191,
   "id": "a48dab09",
   "metadata": {},
   "outputs": [],
   "source": [
    "poets['owner_username'] = (poets.owner_username_extra.apply(lambda x:'unknown owner' \n",
    "                                                            if (pd.isnull(x)) \n",
    "                                                            else x['username']))"
   ]
  },
  {
   "cell_type": "code",
   "execution_count": 194,
   "id": "6119d8c6",
   "metadata": {},
   "outputs": [
    {
     "data": {
      "text/plain": [
       "nifty-gateway-omnibus    930\n",
       "unknown owner            864\n",
       "mexpex                   472\n",
       "ELCAPITAN                119\n",
       "Siblings                 102\n",
       "                        ... \n",
       "cuicui                     1\n",
       "_Ski                       1\n",
       "shiomu                     1\n",
       "taco                       1\n",
       "oddref                     1\n",
       "Name: owner_username, Length: 1978, dtype: int64"
      ]
     },
     "execution_count": 194,
     "metadata": {},
     "output_type": "execute_result"
    }
   ],
   "source": [
    "poets['owner_username'].value_counts()"
   ]
  },
  {
   "cell_type": "code",
   "execution_count": 200,
   "id": "679ff133",
   "metadata": {},
   "outputs": [],
   "source": [
    "poets.drop(['owner_username_extra'], axis = 1, inplace = True)"
   ]
  },
  {
   "cell_type": "markdown",
   "id": "f7508e8c",
   "metadata": {},
   "source": [
    "**owner_address**"
   ]
  },
  {
   "cell_type": "code",
   "execution_count": 235,
   "id": "562eec70",
   "metadata": {},
   "outputs": [
    {
     "data": {
      "text/plain": [
       "'0x247c87f0705a82fc75811d04d01a5a22f736bbb3'"
      ]
     },
     "execution_count": 235,
     "metadata": {},
     "output_type": "execute_result"
    }
   ],
   "source": [
    "poets.owner.iloc[2]['address']"
   ]
  },
  {
   "cell_type": "code",
   "execution_count": 236,
   "id": "4cf71d9d",
   "metadata": {},
   "outputs": [],
   "source": [
    "poets['owner_address'] = (poets.owner.apply(lambda x:x['address']))"
   ]
  },
  {
   "cell_type": "code",
   "execution_count": 237,
   "id": "797032e8",
   "metadata": {},
   "outputs": [
    {
     "data": {
      "text/plain": [
       "'0x247c87f0705a82fc75811d04d01a5a22f736bbb3'"
      ]
     },
     "execution_count": 237,
     "metadata": {},
     "output_type": "execute_result"
    }
   ],
   "source": [
    "poets.owner_address.iloc[2]"
   ]
  },
  {
   "cell_type": "code",
   "execution_count": 238,
   "id": "f412aaa7",
   "metadata": {},
   "outputs": [
    {
     "data": {
      "text/plain": [
       "2601"
      ]
     },
     "execution_count": 238,
     "metadata": {},
     "output_type": "execute_result"
    }
   ],
   "source": [
    "poets.owner_address.nunique()"
   ]
  },
  {
   "cell_type": "markdown",
   "id": "13c346ca",
   "metadata": {},
   "source": [
    "**sell_orders**"
   ]
  },
  {
   "cell_type": "code",
   "execution_count": 203,
   "id": "6ef5f575",
   "metadata": {},
   "outputs": [
    {
     "data": {
      "text/html": [
       "<div>\n",
       "<style scoped>\n",
       "    .dataframe tbody tr th:only-of-type {\n",
       "        vertical-align: middle;\n",
       "    }\n",
       "\n",
       "    .dataframe tbody tr th {\n",
       "        vertical-align: top;\n",
       "    }\n",
       "\n",
       "    .dataframe thead th {\n",
       "        text-align: right;\n",
       "    }\n",
       "</style>\n",
       "<table border=\"1\" class=\"dataframe\">\n",
       "  <thead>\n",
       "    <tr style=\"text-align: right;\">\n",
       "      <th></th>\n",
       "      <th>_id</th>\n",
       "      <th>id</th>\n",
       "      <th>token_id</th>\n",
       "      <th>num_sales</th>\n",
       "      <th>image_url</th>\n",
       "      <th>image_preview_url</th>\n",
       "      <th>image_thumbnail_url</th>\n",
       "      <th>image_original_url</th>\n",
       "      <th>name</th>\n",
       "      <th>description</th>\n",
       "      <th>...</th>\n",
       "      <th>collection</th>\n",
       "      <th>decimals</th>\n",
       "      <th>token_metadata</th>\n",
       "      <th>owner</th>\n",
       "      <th>sell_orders</th>\n",
       "      <th>creator</th>\n",
       "      <th>traits</th>\n",
       "      <th>last_sale</th>\n",
       "      <th>is_presale</th>\n",
       "      <th>owner_username</th>\n",
       "    </tr>\n",
       "  </thead>\n",
       "  <tbody>\n",
       "    <tr>\n",
       "      <th>11</th>\n",
       "      <td>61b6bdd216629c8ab9d260df</td>\n",
       "      <td>59351041</td>\n",
       "      <td>12</td>\n",
       "      <td>0</td>\n",
       "      <td>https://lh3.googleusercontent.com/2Eurj_xFsb12...</td>\n",
       "      <td>https://lh3.googleusercontent.com/2Eurj_xFsb12...</td>\n",
       "      <td>https://lh3.googleusercontent.com/2Eurj_xFsb12...</td>\n",
       "      <td>https://d1xxei964ioe0z.cloudfront.net/full/6ac...</td>\n",
       "      <td>LEGEND</td>\n",
       "      <td>No Description Yet</td>\n",
       "      <td>...</td>\n",
       "      <td>{'banner_image_url': 'https://lh3.googleuserco...</td>\n",
       "      <td>0</td>\n",
       "      <td>https://lostpoets.api.manifoldxyz.dev/metadata/12</td>\n",
       "      <td>{'user': {'username': 'snow_glacier'}, 'profil...</td>\n",
       "      <td>[{'created_date': '2021-09-25T19:17:23.314185'...</td>\n",
       "      <td>[{'created_date': '2021-09-25T19:17:23.314185'...</td>\n",
       "      <td>[{'trait_type': 'Class', 'value': 'Origin', 'd...</td>\n",
       "      <td>NaN</td>\n",
       "      <td>False</td>\n",
       "      <td>snow_glacier</td>\n",
       "    </tr>\n",
       "    <tr>\n",
       "      <th>17</th>\n",
       "      <td>61b6bdd216629c8ab9d260e5</td>\n",
       "      <td>59351060</td>\n",
       "      <td>18</td>\n",
       "      <td>0</td>\n",
       "      <td>https://lh3.googleusercontent.com/LXrXttMs0rP8...</td>\n",
       "      <td>https://lh3.googleusercontent.com/LXrXttMs0rP8...</td>\n",
       "      <td>https://lh3.googleusercontent.com/LXrXttMs0rP8...</td>\n",
       "      <td>https://d1xxei964ioe0z.cloudfront.net/full/a32...</td>\n",
       "      <td>Origin #I5D1</td>\n",
       "      <td>No Description Yet</td>\n",
       "      <td>...</td>\n",
       "      <td>{'banner_image_url': 'https://lh3.googleuserco...</td>\n",
       "      <td>0</td>\n",
       "      <td>https://lostpoets.api.manifoldxyz.dev/metadata/18</td>\n",
       "      <td>{'user': {'username': 'ultraparadise'}, 'profi...</td>\n",
       "      <td>[{'created_date': '2021-10-09T19:48:12.127717'...</td>\n",
       "      <td>[{'created_date': '2021-10-09T19:48:12.127717'...</td>\n",
       "      <td>[{'trait_type': 'Origin', 'value': 'I5D1', 'di...</td>\n",
       "      <td>NaN</td>\n",
       "      <td>False</td>\n",
       "      <td>ultraparadise</td>\n",
       "    </tr>\n",
       "  </tbody>\n",
       "</table>\n",
       "<p>2 rows × 22 columns</p>\n",
       "</div>"
      ],
      "text/plain": [
       "                         _id        id  token_id  num_sales  \\\n",
       "11  61b6bdd216629c8ab9d260df  59351041        12          0   \n",
       "17  61b6bdd216629c8ab9d260e5  59351060        18          0   \n",
       "\n",
       "                                            image_url  \\\n",
       "11  https://lh3.googleusercontent.com/2Eurj_xFsb12...   \n",
       "17  https://lh3.googleusercontent.com/LXrXttMs0rP8...   \n",
       "\n",
       "                                    image_preview_url  \\\n",
       "11  https://lh3.googleusercontent.com/2Eurj_xFsb12...   \n",
       "17  https://lh3.googleusercontent.com/LXrXttMs0rP8...   \n",
       "\n",
       "                                  image_thumbnail_url  \\\n",
       "11  https://lh3.googleusercontent.com/2Eurj_xFsb12...   \n",
       "17  https://lh3.googleusercontent.com/LXrXttMs0rP8...   \n",
       "\n",
       "                                   image_original_url          name  \\\n",
       "11  https://d1xxei964ioe0z.cloudfront.net/full/6ac...        LEGEND   \n",
       "17  https://d1xxei964ioe0z.cloudfront.net/full/a32...  Origin #I5D1   \n",
       "\n",
       "           description  ...  \\\n",
       "11  No Description Yet  ...   \n",
       "17  No Description Yet  ...   \n",
       "\n",
       "                                           collection decimals  \\\n",
       "11  {'banner_image_url': 'https://lh3.googleuserco...        0   \n",
       "17  {'banner_image_url': 'https://lh3.googleuserco...        0   \n",
       "\n",
       "                                       token_metadata  \\\n",
       "11  https://lostpoets.api.manifoldxyz.dev/metadata/12   \n",
       "17  https://lostpoets.api.manifoldxyz.dev/metadata/18   \n",
       "\n",
       "                                                owner  \\\n",
       "11  {'user': {'username': 'snow_glacier'}, 'profil...   \n",
       "17  {'user': {'username': 'ultraparadise'}, 'profi...   \n",
       "\n",
       "                                          sell_orders  \\\n",
       "11  [{'created_date': '2021-09-25T19:17:23.314185'...   \n",
       "17  [{'created_date': '2021-10-09T19:48:12.127717'...   \n",
       "\n",
       "                                              creator  \\\n",
       "11  [{'created_date': '2021-09-25T19:17:23.314185'...   \n",
       "17  [{'created_date': '2021-10-09T19:48:12.127717'...   \n",
       "\n",
       "                                               traits last_sale is_presale  \\\n",
       "11  [{'trait_type': 'Class', 'value': 'Origin', 'd...       NaN      False   \n",
       "17  [{'trait_type': 'Origin', 'value': 'I5D1', 'di...       NaN      False   \n",
       "\n",
       "   owner_username  \n",
       "11   snow_glacier  \n",
       "17  ultraparadise  \n",
       "\n",
       "[2 rows x 22 columns]"
      ]
     },
     "execution_count": 203,
     "metadata": {},
     "output_type": "execute_result"
    }
   ],
   "source": [
    "poets[poets.sell_orders.notnull() == True].head(2)"
   ]
  },
  {
   "cell_type": "code",
   "execution_count": 204,
   "id": "6075ad26",
   "metadata": {
    "scrolled": true
   },
   "outputs": [
    {
     "data": {
      "text/plain": [
       "[{'created_date': '2021-09-25T19:17:23.314185',\n",
       "  'closing_date': None,\n",
       "  'closing_extendable': False,\n",
       "  'expiration_time': 0,\n",
       "  'listing_time': 1632597325,\n",
       "  'order_hash': '0x27e5cec922e350cc73aa221929c49d5d7cdcfcbe9f903130363b7c88fe18b5c7',\n",
       "  'metadata': {'asset': {'id': '12',\n",
       "    'address': '0x4b3406a41399c7fd2ba65cbc93697ad9e7ea61e5'},\n",
       "   'schema': 'ERC721'},\n",
       "  'exchange': '0x7be8076f4ea4a4ad08075c2508e481d6c946d12b',\n",
       "  'maker': {'user': 60074,\n",
       "   'profile_img_url': 'https://storage.googleapis.com/opensea-static/opensea-profile/12.png',\n",
       "   'address': '0xa362a9676db12606d339d10433c1af3618bca1d4',\n",
       "   'config': ''},\n",
       "  'taker': {'user': 1766,\n",
       "   'profile_img_url': 'https://storage.googleapis.com/opensea-static/opensea-profile/1.png',\n",
       "   'address': '0x0000000000000000000000000000000000000000',\n",
       "   'config': ''},\n",
       "  'current_price': '3690000000000000000000',\n",
       "  'current_bounty': '36900000000000000000',\n",
       "  'bounty_multiple': '0.01',\n",
       "  'maker_relayer_fee': '1250',\n",
       "  'taker_relayer_fee': '0',\n",
       "  'maker_protocol_fee': '0',\n",
       "  'taker_protocol_fee': '0',\n",
       "  'maker_referrer_fee': '0',\n",
       "  'fee_recipient': {'user': 3585,\n",
       "   'profile_img_url': 'https://storage.googleapis.com/opensea-static/opensea-profile/28.png',\n",
       "   'address': '0x5b3256965e7c3cf26e11fcaf296dfc8807c01073',\n",
       "   'config': 'verified'},\n",
       "  'fee_method': 1,\n",
       "  'side': 1,\n",
       "  'sale_kind': 0,\n",
       "  'target': '0x4b3406a41399c7fd2ba65cbc93697ad9e7ea61e5',\n",
       "  'how_to_call': 0,\n",
       "  'calldata': '0x23b872dd000000000000000000000000a362a9676db12606d339d10433c1af3618bca1d40000000000000000000000000000000000000000000000000000000000000000000000000000000000000000000000000000000000000000000000000000000c',\n",
       "  'replacement_pattern': '0x000000000000000000000000000000000000000000000000000000000000000000000000ffffffffffffffffffffffffffffffffffffffffffffffffffffffffffffffff0000000000000000000000000000000000000000000000000000000000000000',\n",
       "  'static_target': '0x0000000000000000000000000000000000000000',\n",
       "  'static_extradata': '0x',\n",
       "  'payment_token': '0x0000000000000000000000000000000000000000',\n",
       "  'payment_token_contract': {'id': 1,\n",
       "   'symbol': 'ETH',\n",
       "   'address': '0x0000000000000000000000000000000000000000',\n",
       "   'image_url': 'https://storage.opensea.io/files/6f8e2979d428180222796ff4a33ab929.svg',\n",
       "   'name': 'Ether',\n",
       "   'decimals': 18,\n",
       "   'eth_price': '1.000000000000000',\n",
       "   'usd_price': '3979.219999999999800000'},\n",
       "  'base_price': '3690000000000000000000',\n",
       "  'extra': '0',\n",
       "  'quantity': '1',\n",
       "  'salt': '69782018437952472300504257803622247320370286028409593680842690005709603025729',\n",
       "  'v': 27,\n",
       "  'r': '0x5b7293aa5f1414b6e07e986c3e2ac3f1243534a1b4af6a48c335cf2c5b12456c',\n",
       "  's': '0x785ed21c71a42ba6ab507fe2eafe34d164df56d44d4e1544ea98528fb3bffd60',\n",
       "  'approved_on_chain': False,\n",
       "  'cancelled': False,\n",
       "  'finalized': False,\n",
       "  'marked_invalid': False,\n",
       "  'prefixed_hash': '0x884bdc350200d24003898487011e3ed67c2ed52f27709921c906c510de8eb5fb'}]"
      ]
     },
     "execution_count": 204,
     "metadata": {},
     "output_type": "execute_result"
    }
   ],
   "source": [
    "poets.sell_orders.iloc[11]"
   ]
  },
  {
   "cell_type": "markdown",
   "id": "1a87888f",
   "metadata": {},
   "source": [
    "Great info but mostly covered by our sales analysis so let's skip this as well. "
   ]
  },
  {
   "cell_type": "markdown",
   "id": "c8e9ab5d",
   "metadata": {},
   "source": [
    "**traits**"
   ]
  },
  {
   "cell_type": "code",
   "execution_count": 222,
   "id": "2b1fc4da",
   "metadata": {},
   "outputs": [
    {
     "data": {
      "text/plain": [
       "'Origin'"
      ]
     },
     "execution_count": 222,
     "metadata": {},
     "output_type": "execute_result"
    }
   ],
   "source": [
    "poets.traits.iloc[0][5]['trait_type']"
   ]
  },
  {
   "cell_type": "markdown",
   "id": "5cfd68c4",
   "metadata": {},
   "source": [
    "We have a lot of traits in there. Let's come back to this feature if we decide to use it as a feature downstream. "
   ]
  },
  {
   "cell_type": "markdown",
   "id": "102db4db",
   "metadata": {},
   "source": [
    "**last_sale**"
   ]
  },
  {
   "cell_type": "code",
   "execution_count": 224,
   "id": "5fca8903",
   "metadata": {
    "collapsed": true
   },
   "outputs": [
    {
     "data": {
      "text/html": [
       "<div>\n",
       "<style scoped>\n",
       "    .dataframe tbody tr th:only-of-type {\n",
       "        vertical-align: middle;\n",
       "    }\n",
       "\n",
       "    .dataframe tbody tr th {\n",
       "        vertical-align: top;\n",
       "    }\n",
       "\n",
       "    .dataframe thead th {\n",
       "        text-align: right;\n",
       "    }\n",
       "</style>\n",
       "<table border=\"1\" class=\"dataframe\">\n",
       "  <thead>\n",
       "    <tr style=\"text-align: right;\">\n",
       "      <th></th>\n",
       "      <th>_id</th>\n",
       "      <th>id</th>\n",
       "      <th>token_id</th>\n",
       "      <th>num_sales</th>\n",
       "      <th>image_url</th>\n",
       "      <th>image_preview_url</th>\n",
       "      <th>image_thumbnail_url</th>\n",
       "      <th>image_original_url</th>\n",
       "      <th>name</th>\n",
       "      <th>description</th>\n",
       "      <th>...</th>\n",
       "      <th>collection</th>\n",
       "      <th>decimals</th>\n",
       "      <th>token_metadata</th>\n",
       "      <th>owner</th>\n",
       "      <th>sell_orders</th>\n",
       "      <th>creator</th>\n",
       "      <th>traits</th>\n",
       "      <th>last_sale</th>\n",
       "      <th>is_presale</th>\n",
       "      <th>owner_username</th>\n",
       "    </tr>\n",
       "  </thead>\n",
       "  <tbody>\n",
       "    <tr>\n",
       "      <th>3</th>\n",
       "      <td>61b6bdd216629c8ab9d260d7</td>\n",
       "      <td>59351008</td>\n",
       "      <td>4</td>\n",
       "      <td>1</td>\n",
       "      <td>https://lh3.googleusercontent.com/KHWZ4GF4GOIU...</td>\n",
       "      <td>https://lh3.googleusercontent.com/KHWZ4GF4GOIU...</td>\n",
       "      <td>https://lh3.googleusercontent.com/KHWZ4GF4GOIU...</td>\n",
       "      <td>https://d1xxei964ioe0z.cloudfront.net/full/073...</td>\n",
       "      <td>BOND</td>\n",
       "      <td>No Description Yet</td>\n",
       "      <td>...</td>\n",
       "      <td>{'banner_image_url': 'https://lh3.googleuserco...</td>\n",
       "      <td>0</td>\n",
       "      <td>https://lostpoets.api.manifoldxyz.dev/metadata/4</td>\n",
       "      <td>{'user': {'username': 'TopHand'}, 'profile_img...</td>\n",
       "      <td>NaN</td>\n",
       "      <td>NaN</td>\n",
       "      <td>[{'trait_type': 'Class', 'value': 'Origin', 'd...</td>\n",
       "      <td>{'asset': {'token_id': '4', 'decimals': 0}, 'a...</td>\n",
       "      <td>False</td>\n",
       "      <td>TopHand</td>\n",
       "    </tr>\n",
       "    <tr>\n",
       "      <th>30</th>\n",
       "      <td>61b6bdd216629c8ab9d260f2</td>\n",
       "      <td>59351097</td>\n",
       "      <td>31</td>\n",
       "      <td>1</td>\n",
       "      <td>https://lh3.googleusercontent.com/Tj44Eh9grNW-...</td>\n",
       "      <td>https://lh3.googleusercontent.com/Tj44Eh9grNW-...</td>\n",
       "      <td>https://lh3.googleusercontent.com/Tj44Eh9grNW-...</td>\n",
       "      <td>https://d1xxei964ioe0z.cloudfront.net/full/1e7...</td>\n",
       "      <td>Origin #8WI4</td>\n",
       "      <td>origin born into happiness\\n\\npatiently waitin...</td>\n",
       "      <td>...</td>\n",
       "      <td>{'banner_image_url': 'https://lh3.googleuserco...</td>\n",
       "      <td>0</td>\n",
       "      <td>https://lostpoets.api.manifoldxyz.dev/metadata/31</td>\n",
       "      <td>{'user': {'username': 'GAMT'}, 'profile_img_ur...</td>\n",
       "      <td>NaN</td>\n",
       "      <td>NaN</td>\n",
       "      <td>[{'trait_type': 'Word', 'value': 'can', 'displ...</td>\n",
       "      <td>{'asset': {'token_id': '31', 'decimals': 0}, '...</td>\n",
       "      <td>False</td>\n",
       "      <td>GAMT</td>\n",
       "    </tr>\n",
       "    <tr>\n",
       "      <th>37</th>\n",
       "      <td>61b6bdd216629c8ab9d260f9</td>\n",
       "      <td>59351122</td>\n",
       "      <td>38</td>\n",
       "      <td>1</td>\n",
       "      <td>https://lh3.googleusercontent.com/SSiWWa0qau1V...</td>\n",
       "      <td>https://lh3.googleusercontent.com/SSiWWa0qau1V...</td>\n",
       "      <td>https://lh3.googleusercontent.com/SSiWWa0qau1V...</td>\n",
       "      <td>https://d1xxei964ioe0z.cloudfront.net/full/0c9...</td>\n",
       "      <td>Origin #G31Y</td>\n",
       "      <td>No Description Yet</td>\n",
       "      <td>...</td>\n",
       "      <td>{'banner_image_url': 'https://lh3.googleuserco...</td>\n",
       "      <td>0</td>\n",
       "      <td>https://lostpoets.api.manifoldxyz.dev/metadata/38</td>\n",
       "      <td>{'user': {'username': 'mexpex'}, 'profile_img_...</td>\n",
       "      <td>NaN</td>\n",
       "      <td>NaN</td>\n",
       "      <td>[{'trait_type': 'Origin', 'value': 'G31Y', 'di...</td>\n",
       "      <td>{'asset': {'token_id': '38', 'decimals': 0}, '...</td>\n",
       "      <td>False</td>\n",
       "      <td>mexpex</td>\n",
       "    </tr>\n",
       "    <tr>\n",
       "      <th>38</th>\n",
       "      <td>61b6bdd216629c8ab9d260fa</td>\n",
       "      <td>59351130</td>\n",
       "      <td>39</td>\n",
       "      <td>1</td>\n",
       "      <td>https://lh3.googleusercontent.com/rtM20MYymWSG...</td>\n",
       "      <td>https://lh3.googleusercontent.com/rtM20MYymWSG...</td>\n",
       "      <td>https://lh3.googleusercontent.com/rtM20MYymWSG...</td>\n",
       "      <td>https://d1xxei964ioe0z.cloudfront.net/full/936...</td>\n",
       "      <td>Origin #VBIC</td>\n",
       "      <td>No Description Yet</td>\n",
       "      <td>...</td>\n",
       "      <td>{'banner_image_url': 'https://lh3.googleuserco...</td>\n",
       "      <td>0</td>\n",
       "      <td>https://lostpoets.api.manifoldxyz.dev/metadata/39</td>\n",
       "      <td>{'user': {'username': 'mexpex'}, 'profile_img_...</td>\n",
       "      <td>NaN</td>\n",
       "      <td>NaN</td>\n",
       "      <td>[{'trait_type': 'Origin', 'value': 'VBIC', 'di...</td>\n",
       "      <td>{'asset': {'token_id': '39', 'decimals': 0}, '...</td>\n",
       "      <td>False</td>\n",
       "      <td>mexpex</td>\n",
       "    </tr>\n",
       "    <tr>\n",
       "      <th>44</th>\n",
       "      <td>61b6bdd316629c8ab9d26100</td>\n",
       "      <td>59351142</td>\n",
       "      <td>45</td>\n",
       "      <td>1</td>\n",
       "      <td>https://lh3.googleusercontent.com/6EdftsYnkULj...</td>\n",
       "      <td>https://lh3.googleusercontent.com/6EdftsYnkULj...</td>\n",
       "      <td>https://lh3.googleusercontent.com/6EdftsYnkULj...</td>\n",
       "      <td>https://d1xxei964ioe0z.cloudfront.net/full/2d2...</td>\n",
       "      <td>Origin #THRF</td>\n",
       "      <td>No Description Yet</td>\n",
       "      <td>...</td>\n",
       "      <td>{'banner_image_url': 'https://lh3.googleuserco...</td>\n",
       "      <td>0</td>\n",
       "      <td>https://lostpoets.api.manifoldxyz.dev/metadata/45</td>\n",
       "      <td>{'user': {'username': 'mexpex'}, 'profile_img_...</td>\n",
       "      <td>NaN</td>\n",
       "      <td>NaN</td>\n",
       "      <td>[{'trait_type': 'Origin', 'value': 'THRF', 'di...</td>\n",
       "      <td>{'asset': {'token_id': '45', 'decimals': 0}, '...</td>\n",
       "      <td>False</td>\n",
       "      <td>mexpex</td>\n",
       "    </tr>\n",
       "    <tr>\n",
       "      <th>...</th>\n",
       "      <td>...</td>\n",
       "      <td>...</td>\n",
       "      <td>...</td>\n",
       "      <td>...</td>\n",
       "      <td>...</td>\n",
       "      <td>...</td>\n",
       "      <td>...</td>\n",
       "      <td>...</td>\n",
       "      <td>...</td>\n",
       "      <td>...</td>\n",
       "      <td>...</td>\n",
       "      <td>...</td>\n",
       "      <td>...</td>\n",
       "      <td>...</td>\n",
       "      <td>...</td>\n",
       "      <td>...</td>\n",
       "      <td>...</td>\n",
       "      <td>...</td>\n",
       "      <td>...</td>\n",
       "      <td>...</td>\n",
       "      <td>...</td>\n",
       "    </tr>\n",
       "    <tr>\n",
       "      <th>10007</th>\n",
       "      <td>61b6bec716629c8ab9d287eb</td>\n",
       "      <td>59378572</td>\n",
       "      <td>10626</td>\n",
       "      <td>1</td>\n",
       "      <td>https://lh3.googleusercontent.com/YWOkRFcNQCor...</td>\n",
       "      <td>https://lh3.googleusercontent.com/YWOkRFcNQCor...</td>\n",
       "      <td>https://lh3.googleusercontent.com/YWOkRFcNQCor...</td>\n",
       "      <td>https://d1xxei964ioe0z.cloudfront.net/full/653...</td>\n",
       "      <td>Poet #10626</td>\n",
       "      <td>No Description Yet</td>\n",
       "      <td>...</td>\n",
       "      <td>{'banner_image_url': 'https://lh3.googleuserco...</td>\n",
       "      <td>0</td>\n",
       "      <td>https://lostpoets.api.manifoldxyz.dev/metadata...</td>\n",
       "      <td>{'user': {'username': 'nifty-gateway-omnibus'}...</td>\n",
       "      <td>NaN</td>\n",
       "      <td>NaN</td>\n",
       "      <td>[{'trait_type': 'Rewrites', 'value': 0, 'displ...</td>\n",
       "      <td>{'asset': {'token_id': '10626', 'decimals': 0}...</td>\n",
       "      <td>False</td>\n",
       "      <td>nifty-gateway-omnibus</td>\n",
       "    </tr>\n",
       "    <tr>\n",
       "      <th>10011</th>\n",
       "      <td>61b6bec716629c8ab9d287ef</td>\n",
       "      <td>59378948</td>\n",
       "      <td>10630</td>\n",
       "      <td>2</td>\n",
       "      <td>https://lh3.googleusercontent.com/mu6SeyeccQtk...</td>\n",
       "      <td>https://lh3.googleusercontent.com/mu6SeyeccQtk...</td>\n",
       "      <td>https://lh3.googleusercontent.com/mu6SeyeccQtk...</td>\n",
       "      <td>https://d1xxei964ioe0z.cloudfront.net/full/179...</td>\n",
       "      <td>Poet #10630</td>\n",
       "      <td>No Description Yet</td>\n",
       "      <td>...</td>\n",
       "      <td>{'banner_image_url': 'https://lh3.googleuserco...</td>\n",
       "      <td>0</td>\n",
       "      <td>https://lostpoets.api.manifoldxyz.dev/metadata...</td>\n",
       "      <td>{'user': {'username': None}, 'profile_img_url'...</td>\n",
       "      <td>NaN</td>\n",
       "      <td>NaN</td>\n",
       "      <td>[{'trait_type': 'Rewrites', 'value': 0, 'displ...</td>\n",
       "      <td>{'asset': {'token_id': '10630', 'decimals': 0}...</td>\n",
       "      <td>False</td>\n",
       "      <td>None</td>\n",
       "    </tr>\n",
       "    <tr>\n",
       "      <th>10015</th>\n",
       "      <td>61b6bec716629c8ab9d287f3</td>\n",
       "      <td>59378973</td>\n",
       "      <td>10634</td>\n",
       "      <td>1</td>\n",
       "      <td>https://lh3.googleusercontent.com/ZOSTPQOSUXEi...</td>\n",
       "      <td>https://lh3.googleusercontent.com/ZOSTPQOSUXEi...</td>\n",
       "      <td>https://lh3.googleusercontent.com/ZOSTPQOSUXEi...</td>\n",
       "      <td>https://d1xxei964ioe0z.cloudfront.net/full/7f3...</td>\n",
       "      <td>Trump</td>\n",
       "      <td>No Description Yet</td>\n",
       "      <td>...</td>\n",
       "      <td>{'banner_image_url': 'https://lh3.googleuserco...</td>\n",
       "      <td>0</td>\n",
       "      <td>https://lostpoets.api.manifoldxyz.dev/metadata...</td>\n",
       "      <td>{'user': None, 'profile_img_url': 'https://sto...</td>\n",
       "      <td>NaN</td>\n",
       "      <td>NaN</td>\n",
       "      <td>[{'trait_type': 'Genre', 'value': 'ioh', 'disp...</td>\n",
       "      <td>{'asset': {'token_id': '10634', 'decimals': 0}...</td>\n",
       "      <td>False</td>\n",
       "      <td>unknown owner</td>\n",
       "    </tr>\n",
       "    <tr>\n",
       "      <th>10016</th>\n",
       "      <td>61b6bec716629c8ab9d287f4</td>\n",
       "      <td>59378980</td>\n",
       "      <td>10635</td>\n",
       "      <td>1</td>\n",
       "      <td>https://lh3.googleusercontent.com/gx6Bx84NHrMw...</td>\n",
       "      <td>https://lh3.googleusercontent.com/gx6Bx84NHrMw...</td>\n",
       "      <td>https://lh3.googleusercontent.com/gx6Bx84NHrMw...</td>\n",
       "      <td>https://d1xxei964ioe0z.cloudfront.net/full/42f...</td>\n",
       "      <td>Poet #10635</td>\n",
       "      <td>No Description Yet</td>\n",
       "      <td>...</td>\n",
       "      <td>{'banner_image_url': 'https://lh3.googleuserco...</td>\n",
       "      <td>0</td>\n",
       "      <td>https://lostpoets.api.manifoldxyz.dev/metadata...</td>\n",
       "      <td>{'user': {'username': 'nifty-gateway-omnibus'}...</td>\n",
       "      <td>NaN</td>\n",
       "      <td>NaN</td>\n",
       "      <td>[{'trait_type': 'Latent', 'value': '88Y0', 'di...</td>\n",
       "      <td>{'asset': {'token_id': '10635', 'decimals': 0}...</td>\n",
       "      <td>False</td>\n",
       "      <td>nifty-gateway-omnibus</td>\n",
       "    </tr>\n",
       "    <tr>\n",
       "      <th>10019</th>\n",
       "      <td>61b6bec716629c8ab9d287f7</td>\n",
       "      <td>59379161</td>\n",
       "      <td>10638</td>\n",
       "      <td>2</td>\n",
       "      <td>https://lh3.googleusercontent.com/8jLG4mSKAO5R...</td>\n",
       "      <td>https://lh3.googleusercontent.com/8jLG4mSKAO5R...</td>\n",
       "      <td>https://lh3.googleusercontent.com/8jLG4mSKAO5R...</td>\n",
       "      <td>https://d1xxei964ioe0z.cloudfront.net/full/d1c...</td>\n",
       "      <td>Poet #10638</td>\n",
       "      <td>No Description Yet</td>\n",
       "      <td>...</td>\n",
       "      <td>{'banner_image_url': 'https://lh3.googleuserco...</td>\n",
       "      <td>0</td>\n",
       "      <td>https://lostpoets.api.manifoldxyz.dev/metadata...</td>\n",
       "      <td>{'user': {'username': 'gummy77'}, 'profile_img...</td>\n",
       "      <td>NaN</td>\n",
       "      <td>NaN</td>\n",
       "      <td>[{'trait_type': 'Latent', 'value': '2WOO', 'di...</td>\n",
       "      <td>{'asset': {'token_id': '10638', 'decimals': 0}...</td>\n",
       "      <td>False</td>\n",
       "      <td>gummy77</td>\n",
       "    </tr>\n",
       "  </tbody>\n",
       "</table>\n",
       "<p>1964 rows × 22 columns</p>\n",
       "</div>"
      ],
      "text/plain": [
       "                            _id        id  token_id  num_sales  \\\n",
       "3      61b6bdd216629c8ab9d260d7  59351008         4          1   \n",
       "30     61b6bdd216629c8ab9d260f2  59351097        31          1   \n",
       "37     61b6bdd216629c8ab9d260f9  59351122        38          1   \n",
       "38     61b6bdd216629c8ab9d260fa  59351130        39          1   \n",
       "44     61b6bdd316629c8ab9d26100  59351142        45          1   \n",
       "...                         ...       ...       ...        ...   \n",
       "10007  61b6bec716629c8ab9d287eb  59378572     10626          1   \n",
       "10011  61b6bec716629c8ab9d287ef  59378948     10630          2   \n",
       "10015  61b6bec716629c8ab9d287f3  59378973     10634          1   \n",
       "10016  61b6bec716629c8ab9d287f4  59378980     10635          1   \n",
       "10019  61b6bec716629c8ab9d287f7  59379161     10638          2   \n",
       "\n",
       "                                               image_url  \\\n",
       "3      https://lh3.googleusercontent.com/KHWZ4GF4GOIU...   \n",
       "30     https://lh3.googleusercontent.com/Tj44Eh9grNW-...   \n",
       "37     https://lh3.googleusercontent.com/SSiWWa0qau1V...   \n",
       "38     https://lh3.googleusercontent.com/rtM20MYymWSG...   \n",
       "44     https://lh3.googleusercontent.com/6EdftsYnkULj...   \n",
       "...                                                  ...   \n",
       "10007  https://lh3.googleusercontent.com/YWOkRFcNQCor...   \n",
       "10011  https://lh3.googleusercontent.com/mu6SeyeccQtk...   \n",
       "10015  https://lh3.googleusercontent.com/ZOSTPQOSUXEi...   \n",
       "10016  https://lh3.googleusercontent.com/gx6Bx84NHrMw...   \n",
       "10019  https://lh3.googleusercontent.com/8jLG4mSKAO5R...   \n",
       "\n",
       "                                       image_preview_url  \\\n",
       "3      https://lh3.googleusercontent.com/KHWZ4GF4GOIU...   \n",
       "30     https://lh3.googleusercontent.com/Tj44Eh9grNW-...   \n",
       "37     https://lh3.googleusercontent.com/SSiWWa0qau1V...   \n",
       "38     https://lh3.googleusercontent.com/rtM20MYymWSG...   \n",
       "44     https://lh3.googleusercontent.com/6EdftsYnkULj...   \n",
       "...                                                  ...   \n",
       "10007  https://lh3.googleusercontent.com/YWOkRFcNQCor...   \n",
       "10011  https://lh3.googleusercontent.com/mu6SeyeccQtk...   \n",
       "10015  https://lh3.googleusercontent.com/ZOSTPQOSUXEi...   \n",
       "10016  https://lh3.googleusercontent.com/gx6Bx84NHrMw...   \n",
       "10019  https://lh3.googleusercontent.com/8jLG4mSKAO5R...   \n",
       "\n",
       "                                     image_thumbnail_url  \\\n",
       "3      https://lh3.googleusercontent.com/KHWZ4GF4GOIU...   \n",
       "30     https://lh3.googleusercontent.com/Tj44Eh9grNW-...   \n",
       "37     https://lh3.googleusercontent.com/SSiWWa0qau1V...   \n",
       "38     https://lh3.googleusercontent.com/rtM20MYymWSG...   \n",
       "44     https://lh3.googleusercontent.com/6EdftsYnkULj...   \n",
       "...                                                  ...   \n",
       "10007  https://lh3.googleusercontent.com/YWOkRFcNQCor...   \n",
       "10011  https://lh3.googleusercontent.com/mu6SeyeccQtk...   \n",
       "10015  https://lh3.googleusercontent.com/ZOSTPQOSUXEi...   \n",
       "10016  https://lh3.googleusercontent.com/gx6Bx84NHrMw...   \n",
       "10019  https://lh3.googleusercontent.com/8jLG4mSKAO5R...   \n",
       "\n",
       "                                      image_original_url          name  \\\n",
       "3      https://d1xxei964ioe0z.cloudfront.net/full/073...          BOND   \n",
       "30     https://d1xxei964ioe0z.cloudfront.net/full/1e7...  Origin #8WI4   \n",
       "37     https://d1xxei964ioe0z.cloudfront.net/full/0c9...  Origin #G31Y   \n",
       "38     https://d1xxei964ioe0z.cloudfront.net/full/936...  Origin #VBIC   \n",
       "44     https://d1xxei964ioe0z.cloudfront.net/full/2d2...  Origin #THRF   \n",
       "...                                                  ...           ...   \n",
       "10007  https://d1xxei964ioe0z.cloudfront.net/full/653...   Poet #10626   \n",
       "10011  https://d1xxei964ioe0z.cloudfront.net/full/179...   Poet #10630   \n",
       "10015  https://d1xxei964ioe0z.cloudfront.net/full/7f3...         Trump   \n",
       "10016  https://d1xxei964ioe0z.cloudfront.net/full/42f...   Poet #10635   \n",
       "10019  https://d1xxei964ioe0z.cloudfront.net/full/d1c...   Poet #10638   \n",
       "\n",
       "                                             description  ...  \\\n",
       "3                                     No Description Yet  ...   \n",
       "30     origin born into happiness\\n\\npatiently waitin...  ...   \n",
       "37                                    No Description Yet  ...   \n",
       "38                                    No Description Yet  ...   \n",
       "44                                    No Description Yet  ...   \n",
       "...                                                  ...  ...   \n",
       "10007                                 No Description Yet  ...   \n",
       "10011                                 No Description Yet  ...   \n",
       "10015                                 No Description Yet  ...   \n",
       "10016                                 No Description Yet  ...   \n",
       "10019                                 No Description Yet  ...   \n",
       "\n",
       "                                              collection decimals  \\\n",
       "3      {'banner_image_url': 'https://lh3.googleuserco...        0   \n",
       "30     {'banner_image_url': 'https://lh3.googleuserco...        0   \n",
       "37     {'banner_image_url': 'https://lh3.googleuserco...        0   \n",
       "38     {'banner_image_url': 'https://lh3.googleuserco...        0   \n",
       "44     {'banner_image_url': 'https://lh3.googleuserco...        0   \n",
       "...                                                  ...      ...   \n",
       "10007  {'banner_image_url': 'https://lh3.googleuserco...        0   \n",
       "10011  {'banner_image_url': 'https://lh3.googleuserco...        0   \n",
       "10015  {'banner_image_url': 'https://lh3.googleuserco...        0   \n",
       "10016  {'banner_image_url': 'https://lh3.googleuserco...        0   \n",
       "10019  {'banner_image_url': 'https://lh3.googleuserco...        0   \n",
       "\n",
       "                                          token_metadata  \\\n",
       "3       https://lostpoets.api.manifoldxyz.dev/metadata/4   \n",
       "30     https://lostpoets.api.manifoldxyz.dev/metadata/31   \n",
       "37     https://lostpoets.api.manifoldxyz.dev/metadata/38   \n",
       "38     https://lostpoets.api.manifoldxyz.dev/metadata/39   \n",
       "44     https://lostpoets.api.manifoldxyz.dev/metadata/45   \n",
       "...                                                  ...   \n",
       "10007  https://lostpoets.api.manifoldxyz.dev/metadata...   \n",
       "10011  https://lostpoets.api.manifoldxyz.dev/metadata...   \n",
       "10015  https://lostpoets.api.manifoldxyz.dev/metadata...   \n",
       "10016  https://lostpoets.api.manifoldxyz.dev/metadata...   \n",
       "10019  https://lostpoets.api.manifoldxyz.dev/metadata...   \n",
       "\n",
       "                                                   owner sell_orders creator  \\\n",
       "3      {'user': {'username': 'TopHand'}, 'profile_img...         NaN     NaN   \n",
       "30     {'user': {'username': 'GAMT'}, 'profile_img_ur...         NaN     NaN   \n",
       "37     {'user': {'username': 'mexpex'}, 'profile_img_...         NaN     NaN   \n",
       "38     {'user': {'username': 'mexpex'}, 'profile_img_...         NaN     NaN   \n",
       "44     {'user': {'username': 'mexpex'}, 'profile_img_...         NaN     NaN   \n",
       "...                                                  ...         ...     ...   \n",
       "10007  {'user': {'username': 'nifty-gateway-omnibus'}...         NaN     NaN   \n",
       "10011  {'user': {'username': None}, 'profile_img_url'...         NaN     NaN   \n",
       "10015  {'user': None, 'profile_img_url': 'https://sto...         NaN     NaN   \n",
       "10016  {'user': {'username': 'nifty-gateway-omnibus'}...         NaN     NaN   \n",
       "10019  {'user': {'username': 'gummy77'}, 'profile_img...         NaN     NaN   \n",
       "\n",
       "                                                  traits  \\\n",
       "3      [{'trait_type': 'Class', 'value': 'Origin', 'd...   \n",
       "30     [{'trait_type': 'Word', 'value': 'can', 'displ...   \n",
       "37     [{'trait_type': 'Origin', 'value': 'G31Y', 'di...   \n",
       "38     [{'trait_type': 'Origin', 'value': 'VBIC', 'di...   \n",
       "44     [{'trait_type': 'Origin', 'value': 'THRF', 'di...   \n",
       "...                                                  ...   \n",
       "10007  [{'trait_type': 'Rewrites', 'value': 0, 'displ...   \n",
       "10011  [{'trait_type': 'Rewrites', 'value': 0, 'displ...   \n",
       "10015  [{'trait_type': 'Genre', 'value': 'ioh', 'disp...   \n",
       "10016  [{'trait_type': 'Latent', 'value': '88Y0', 'di...   \n",
       "10019  [{'trait_type': 'Latent', 'value': '2WOO', 'di...   \n",
       "\n",
       "                                               last_sale is_presale  \\\n",
       "3      {'asset': {'token_id': '4', 'decimals': 0}, 'a...      False   \n",
       "30     {'asset': {'token_id': '31', 'decimals': 0}, '...      False   \n",
       "37     {'asset': {'token_id': '38', 'decimals': 0}, '...      False   \n",
       "38     {'asset': {'token_id': '39', 'decimals': 0}, '...      False   \n",
       "44     {'asset': {'token_id': '45', 'decimals': 0}, '...      False   \n",
       "...                                                  ...        ...   \n",
       "10007  {'asset': {'token_id': '10626', 'decimals': 0}...      False   \n",
       "10011  {'asset': {'token_id': '10630', 'decimals': 0}...      False   \n",
       "10015  {'asset': {'token_id': '10634', 'decimals': 0}...      False   \n",
       "10016  {'asset': {'token_id': '10635', 'decimals': 0}...      False   \n",
       "10019  {'asset': {'token_id': '10638', 'decimals': 0}...      False   \n",
       "\n",
       "              owner_username  \n",
       "3                    TopHand  \n",
       "30                      GAMT  \n",
       "37                    mexpex  \n",
       "38                    mexpex  \n",
       "44                    mexpex  \n",
       "...                      ...  \n",
       "10007  nifty-gateway-omnibus  \n",
       "10011                   None  \n",
       "10015          unknown owner  \n",
       "10016  nifty-gateway-omnibus  \n",
       "10019                gummy77  \n",
       "\n",
       "[1964 rows x 22 columns]"
      ]
     },
     "execution_count": 224,
     "metadata": {},
     "output_type": "execute_result"
    }
   ],
   "source": [
    "poets[poets.last_sale.notnull() == True]"
   ]
  },
  {
   "cell_type": "code",
   "execution_count": 225,
   "id": "c67bc8da",
   "metadata": {},
   "outputs": [
    {
     "data": {
      "text/plain": [
       "{'asset': {'token_id': '4', 'decimals': 0},\n",
       " 'asset_bundle': None,\n",
       " 'event_type': 'successful',\n",
       " 'event_timestamp': '2021-09-26T23:27:53',\n",
       " 'auction_type': None,\n",
       " 'total_price': '37000000000000000000',\n",
       " 'payment_token': {'id': 1,\n",
       "  'symbol': 'ETH',\n",
       "  'address': '0x0000000000000000000000000000000000000000',\n",
       "  'image_url': 'https://storage.opensea.io/files/6f8e2979d428180222796ff4a33ab929.svg',\n",
       "  'name': 'Ether',\n",
       "  'decimals': 18,\n",
       "  'eth_price': '1.000000000000000',\n",
       "  'usd_price': '3979.219999999999800000'},\n",
       " 'transaction': {'block_hash': '0x277517c12baa4d5889182fa726bad7345a72d4faa9eb7003cdd5d6cb8419fbf1',\n",
       "  'block_number': '13304385',\n",
       "  'from_account': {'user': {'username': 'TOPHANDS'},\n",
       "   'profile_img_url': 'https://storage.googleapis.com/opensea-static/opensea-profile/32.png',\n",
       "   'address': '0xfed751d3f6f122555c34c1726ff67eacdc500bfa',\n",
       "   'config': ''},\n",
       "  'id': 171368158,\n",
       "  'timestamp': '2021-09-26T23:27:53',\n",
       "  'to_account': {'user': {'username': 'OpenSea-Orders'},\n",
       "   'profile_img_url': 'https://storage.googleapis.com/opensea-static/opensea-profile/22.png',\n",
       "   'address': '0x7be8076f4ea4a4ad08075c2508e481d6c946d12b',\n",
       "   'config': 'verified'},\n",
       "  'transaction_hash': '0x3443068887ba58396c1d4d49f4091477b05aa050e0e06970c6f7ce93ecaa8ea6',\n",
       "  'transaction_index': '239'},\n",
       " 'created_date': '2021-09-26T23:28:34.089664',\n",
       " 'quantity': '1'}"
      ]
     },
     "execution_count": 225,
     "metadata": {},
     "output_type": "execute_result"
    }
   ],
   "source": [
    "poets.last_sale.iloc[3]"
   ]
  },
  {
   "cell_type": "markdown",
   "id": "f6c3b2c0",
   "metadata": {},
   "source": [
    "Less than 20% have this value, so might also not carry downstream. "
   ]
  },
  {
   "cell_type": "markdown",
   "id": "4b342917",
   "metadata": {},
   "source": [
    "**is_presale**"
   ]
  },
  {
   "cell_type": "code",
   "execution_count": 230,
   "id": "3491ece7",
   "metadata": {},
   "outputs": [
    {
     "data": {
      "text/plain": [
       "False    10020\n",
       "Name: is_presale, dtype: int64"
      ]
     },
     "execution_count": 230,
     "metadata": {},
     "output_type": "execute_result"
    }
   ],
   "source": [
    "poets.is_presale.value_counts()"
   ]
  },
  {
   "cell_type": "markdown",
   "id": "56f2b304",
   "metadata": {},
   "source": [
    "### 3. Save processed data"
   ]
  },
  {
   "cell_type": "code",
   "execution_count": 239,
   "id": "2dca09d5",
   "metadata": {},
   "outputs": [
    {
     "data": {
      "text/plain": [
       "Index(['_id', 'id', 'token_id', 'num_sales', 'image_url', 'image_preview_url',\n",
       "       'image_thumbnail_url', 'image_original_url', 'name', 'description',\n",
       "       'asset_contract', 'permalink', 'collection', 'decimals',\n",
       "       'token_metadata', 'owner', 'sell_orders', 'creator', 'traits',\n",
       "       'last_sale', 'is_presale', 'owner_username', 'owner_address'],\n",
       "      dtype='object')"
      ]
     },
     "execution_count": 239,
     "metadata": {},
     "output_type": "execute_result"
    }
   ],
   "source": [
    "poets.columns"
   ]
  },
  {
   "cell_type": "markdown",
   "id": "e046e894",
   "metadata": {},
   "source": [
    "Now let's pick the columns we cleaned and decided to take with us and save them into a new DF. "
   ]
  },
  {
   "cell_type": "code",
   "execution_count": 240,
   "id": "d17d718b",
   "metadata": {},
   "outputs": [],
   "source": [
    "poets_clean = poets[['token_id', 'num_sales', 'image_url',\n",
    "                     'image_original_url', 'name', 'description',\n",
    "                     'permalink', 'creator', 'traits',\n",
    "                     'owner_username', 'owner_address']]"
   ]
  },
  {
   "cell_type": "markdown",
   "id": "bccd4443",
   "metadata": {},
   "source": [
    "This is all great information. So let's pack all our data into a CSV file. "
   ]
  },
  {
   "cell_type": "code",
   "execution_count": 241,
   "id": "00818fc3",
   "metadata": {},
   "outputs": [],
   "source": [
    "poets_clean.to_csv('poets_clean.csv', index= False)"
   ]
  },
  {
   "cell_type": "code",
   "execution_count": null,
   "id": "c7aba9dd",
   "metadata": {},
   "outputs": [],
   "source": []
  }
 ],
 "metadata": {
  "kernelspec": {
   "display_name": "Python 3 (ipykernel)",
   "language": "python",
   "name": "python3"
  },
  "language_info": {
   "codemirror_mode": {
    "name": "ipython",
    "version": 3
   },
   "file_extension": ".py",
   "mimetype": "text/x-python",
   "name": "python",
   "nbconvert_exporter": "python",
   "pygments_lexer": "ipython3",
   "version": "3.8.5"
  }
 },
 "nbformat": 4,
 "nbformat_minor": 5
}
