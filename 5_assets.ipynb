{
  "nbformat": 4,
  "nbformat_minor": 0,
  "metadata": {
    "colab": {
      "name": "5_assets.ipynb",
      "provenance": [],
      "collapsed_sections": [],
      "machine_shape": "hm",
      "authorship_tag": "ABX9TyPIJGBbOOKhrlic7Ntu7RH6",
      "include_colab_link": true
    },
    "kernelspec": {
      "name": "python3",
      "display_name": "Python 3"
    },
    "language_info": {
      "name": "python"
    },
    "accelerator": "GPU"
  },
  "cells": [
    {
      "cell_type": "markdown",
      "metadata": {
        "id": "view-in-github",
        "colab_type": "text"
      },
      "source": [
        "<a href=\"https://colab.research.google.com/github/zey-o/Engineering_OpenSea_LostPoets/blob/main/5_assets.ipynb\" target=\"_parent\"><img src=\"https://colab.research.google.com/assets/colab-badge.svg\" alt=\"Open In Colab\"/></a>"
      ]
    },
    {
      "cell_type": "code",
      "source": [
        "from google.colab import drive\n",
        "drive.mount('/content/drive')"
      ],
      "metadata": {
        "id": "SmZHKlQfwZSk",
        "colab": {
          "base_uri": "https://localhost:8080/"
        },
        "outputId": "1c8ffedc-4fd0-4c8f-877f-033b000c9872"
      },
      "execution_count": 2,
      "outputs": [
        {
          "output_type": "stream",
          "name": "stdout",
          "text": [
            "Mounted at /content/drive\n"
          ]
        }
      ]
    },
    {
      "cell_type": "markdown",
      "source": [
        "This notebook first loads the origin images as scraped from the URL's provided on the the OpenSea website. It then adapts  TensorFlow's DCGAN's tutorial in order to produce 25 new poet images. The new poet images are then used in the game application. \n",
        "\n",
        "In order of operation: \n",
        "1. The NB first loads the images \n",
        "2. Makes generator/discriminator models \n",
        "3. Defines loss functions & optimizers \n",
        "4. Trains the model "
      ],
      "metadata": {
        "id": "WFsRx6NydQHh"
      }
    },
    {
      "cell_type": "code",
      "source": [
        "## import necessary & image libraries \n",
        "import pandas as pd\n",
        "import numpy as np\n",
        "\n",
        "import pathlib\n",
        "import matplotlib.pyplot as plt\n",
        "\n",
        "from glob import glob\n",
        "import os \n",
        "import PIL\n",
        "import cv2\n",
        "\n",
        "import time\n",
        "from IPython import display "
      ],
      "metadata": {
        "id": "6_F23xiRwu2C"
      },
      "execution_count": 3,
      "outputs": []
    },
    {
      "cell_type": "code",
      "execution_count": 4,
      "metadata": {
        "id": "8nSlNvppwHdV"
      },
      "outputs": [],
      "source": [
        "# import libraries for modeling \n",
        "import tensorflow as tf\n",
        "from tensorflow.keras.layers import (Dense, \n",
        "                                     BatchNormalization, \n",
        "                                     LeakyReLU, \n",
        "                                     Reshape, \n",
        "                                     Conv2DTranspose,\n",
        "                                     Conv2D,\n",
        "                                     Dropout,\n",
        "                                     Flatten)\n",
        "\n",
        "from tensorflow.keras.preprocessing.image import ImageDataGenerator"
      ]
    },
    {
      "cell_type": "markdown",
      "source": [
        "## Load & reshape images"
      ],
      "metadata": {
        "id": "2nA_93CHKP7l"
      }
    },
    {
      "cell_type": "markdown",
      "source": [
        "Load images and then resize them to the right input size that will be put into the GAN models."
      ],
      "metadata": {
        "id": "Or5Fg61_Kihb"
      }
    },
    {
      "cell_type": "code",
      "source": [
        "data_dir = pathlib.Path(\"drive/MyDrive/LostPoets/origin_images\")"
      ],
      "metadata": {
        "id": "GgfpUxsGwYXJ"
      },
      "execution_count": 5,
      "outputs": []
    },
    {
      "cell_type": "code",
      "source": [
        "image_count = len(list(data_dir.glob('**/*.png')))\n",
        "print(image_count)"
      ],
      "metadata": {
        "colab": {
          "base_uri": "https://localhost:8080/"
        },
        "id": "vAXQCkqy1PJ2",
        "outputId": "8ee12586-f1c1-45c4-8955-1e56a18e7ad2"
      },
      "execution_count": 6,
      "outputs": [
        {
          "output_type": "stream",
          "name": "stdout",
          "text": [
            "402\n"
          ]
        }
      ]
    },
    {
      "cell_type": "code",
      "source": [
        "def load_images_from_folder(folder):\n",
        "    images = []\n",
        "    for filename in os.listdir(folder):\n",
        "        img = PIL.Image.open(os.path.join(folder,filename))\n",
        "        img1 = img.convert('L')\n",
        "        img2 = np.expand_dims(img1, axis=-1)\n",
        "        if img2 is not None:\n",
        "            images.append(img2)\n",
        "    return images\n"
      ],
      "metadata": {
        "id": "pF6JAP3H1y1d"
      },
      "execution_count": 7,
      "outputs": []
    },
    {
      "cell_type": "code",
      "source": [
        "train_images = load_images_from_folder(data_dir)"
      ],
      "metadata": {
        "id": "SxsRvpsS14qI"
      },
      "execution_count": 8,
      "outputs": []
    },
    {
      "cell_type": "code",
      "source": [
        "# check out the size of a single image\n",
        "train_images[0].size"
      ],
      "metadata": {
        "colab": {
          "base_uri": "https://localhost:8080/"
        },
        "id": "EzQ0XYx4Fyo-",
        "outputId": "3c708462-2029-43be-e6f7-dd51aabd5c21"
      },
      "execution_count": 9,
      "outputs": [
        {
          "output_type": "execute_result",
          "data": {
            "text/plain": [
              "262144"
            ]
          },
          "metadata": {},
          "execution_count": 9
        }
      ]
    },
    {
      "cell_type": "code",
      "source": [
        "train_images = np.array(train_images)\n",
        "train_images.shape"
      ],
      "metadata": {
        "colab": {
          "base_uri": "https://localhost:8080/"
        },
        "id": "TWj_PImR2l0H",
        "outputId": "11f3d22c-b2da-4e63-abef-610ddc4768a8"
      },
      "execution_count": 10,
      "outputs": [
        {
          "output_type": "execute_result",
          "data": {
            "text/plain": [
              "(402, 512, 512, 1)"
            ]
          },
          "metadata": {},
          "execution_count": 10
        }
      ]
    },
    {
      "cell_type": "code",
      "source": [
        "# resize them so that they are 28x28\n",
        "train_images = tf.image.resize(train_images, [28, 28])\n",
        "train_images = train_images.numpy()\n",
        "train_images.shape"
      ],
      "metadata": {
        "id": "Q5vTJyCLB0Id",
        "colab": {
          "base_uri": "https://localhost:8080/"
        },
        "outputId": "171c5902-9b7b-4feb-ce4e-9d9d9fdbcf91"
      },
      "execution_count": 11,
      "outputs": [
        {
          "output_type": "execute_result",
          "data": {
            "text/plain": [
              "(402, 28, 28, 1)"
            ]
          },
          "metadata": {},
          "execution_count": 11
        }
      ]
    },
    {
      "cell_type": "code",
      "source": [
        "# Normalize images to [-1, 1]\n",
        "train_images = (train_images - 127.5) / 127.5"
      ],
      "metadata": {
        "id": "_V434spE-PNu"
      },
      "execution_count": 12,
      "outputs": []
    },
    {
      "cell_type": "code",
      "source": [
        "BUFFER_SIZE = 60000\n",
        "BATCH_SIZE = 28"
      ],
      "metadata": {
        "id": "05Ng1eg43LxZ"
      },
      "execution_count": 13,
      "outputs": []
    },
    {
      "cell_type": "code",
      "source": [
        "train_dataset = tf.data.Dataset.from_tensor_slices(train_images).shuffle(BUFFER_SIZE).batch(BATCH_SIZE)"
      ],
      "metadata": {
        "id": "V9mU_f3i2ltx"
      },
      "execution_count": 14,
      "outputs": []
    },
    {
      "cell_type": "markdown",
      "source": [
        "## Make the Generator / Discriminator Models"
      ],
      "metadata": {
        "id": "ul1__x09LJx5"
      }
    },
    {
      "cell_type": "code",
      "source": [
        "def make_generator_model():\n",
        "    model = tf.keras.Sequential()\n",
        "    model.add(Dense(7*7*256, use_bias=False, input_shape=(10000,)))\n",
        "    model.add(BatchNormalization())\n",
        "    model.add(LeakyReLU())\n",
        "\n",
        "    model.add(Reshape((7, 7, 256)))\n",
        "    assert model.output_shape == (None, 7, 7, 256) # Note: None is the batch size\n",
        "\n",
        "    model.add(Conv2DTranspose(128, (5, 5), strides=(1, 1), padding='same', use_bias=False))\n",
        "    assert model.output_shape == (None, 7, 7, 128)\n",
        "    model.add(BatchNormalization())\n",
        "    model.add(LeakyReLU())\n",
        "\n",
        "    model.add(Conv2DTranspose(64, (5, 5), strides=(2, 2), padding='same', use_bias=False))\n",
        "    assert model.output_shape == (None, 14, 14, 64)\n",
        "    model.add(BatchNormalization())\n",
        "    model.add(LeakyReLU())\n",
        "\n",
        "    model.add(Conv2DTranspose(1, (5, 5), strides=(2, 2), padding='same', use_bias=False, activation='tanh'))\n",
        "    assert model.output_shape == (None, 28, 28, 1)\n",
        "\n",
        "    return model"
      ],
      "metadata": {
        "id": "4lFwk1AI2loB"
      },
      "execution_count": 15,
      "outputs": []
    },
    {
      "cell_type": "code",
      "source": [
        "generator = make_generator_model()"
      ],
      "metadata": {
        "id": "TgE4IGv-2lk4"
      },
      "execution_count": 16,
      "outputs": []
    },
    {
      "cell_type": "code",
      "source": [
        "noise = tf.random.normal([1, 10000])\n",
        "generated_image = generator(noise, training=False)\n",
        "plt.imshow(generated_image[0, :, :, 0], cmap='gray')"
      ],
      "metadata": {
        "id": "egZ6-ib_5pRU",
        "colab": {
          "base_uri": "https://localhost:8080/",
          "height": 282
        },
        "outputId": "09e41deb-bcdc-49d2-98e8-12b607e00def"
      },
      "execution_count": 17,
      "outputs": [
        {
          "output_type": "execute_result",
          "data": {
            "text/plain": [
              "<matplotlib.image.AxesImage at 0x7f3ad01d4250>"
            ]
          },
          "metadata": {},
          "execution_count": 17
        },
        {
          "output_type": "display_data",
          "data": {
            "image/png": "[encoded data removed]",
            "text/plain": [
              "<Figure size 432x288 with 1 Axes>"
            ]
          },
          "metadata": {
            "needs_background": "light"
          }
        }
      ]
    },
    {
      "cell_type": "code",
      "source": [
        "def make_discriminator_model():\n",
        "    model = tf.keras.Sequential()\n",
        "    \n",
        "    model.add(Conv2D(64, (5, 5), strides=(2, 2), padding='same', input_shape=[28, 28, 1]))\n",
        "    model.add(LeakyReLU())\n",
        "    model.add(Dropout(0.3))\n",
        "\n",
        "    model.add(Conv2D(128, (5, 5), strides=(2, 2), padding='same'))\n",
        "    model.add(LeakyReLU())\n",
        "    model.add(Dropout(0.3))\n",
        "\n",
        "    model.add(Flatten())\n",
        "    model.add(Dense(1))\n",
        "\n",
        "    return model"
      ],
      "metadata": {
        "id": "_TNIS8hC5o6U"
      },
      "execution_count": 18,
      "outputs": []
    },
    {
      "cell_type": "code",
      "source": [
        "discriminator = make_discriminator_model()"
      ],
      "metadata": {
        "id": "mfqThndd5o2o"
      },
      "execution_count": 19,
      "outputs": []
    },
    {
      "cell_type": "code",
      "source": [
        "decision = discriminator(generated_image)\n",
        "print (decision)"
      ],
      "metadata": {
        "colab": {
          "base_uri": "https://localhost:8080/"
        },
        "id": "chIWMzdF5ozR",
        "outputId": "732df4dc-03fb-4526-a935-368b95518064"
      },
      "execution_count": 20,
      "outputs": [
        {
          "output_type": "stream",
          "name": "stdout",
          "text": [
            "tf.Tensor([[-0.00221204]], shape=(1, 1), dtype=float32)\n"
          ]
        }
      ]
    },
    {
      "cell_type": "markdown",
      "source": [
        "## Loss Functions & Optimizers"
      ],
      "metadata": {
        "id": "ibNmPM7TLqGk"
      }
    },
    {
      "cell_type": "code",
      "source": [
        "cross_entropy = tf.keras.losses.BinaryCrossentropy(from_logits=True)\n",
        "\n",
        "def discriminator_loss(real_output, fake_output):\n",
        "    real_loss = cross_entropy(tf.ones_like(real_output), real_output)\n",
        "    fake_loss = cross_entropy(tf.zeros_like(fake_output), fake_output)\n",
        "    total_loss = real_loss + fake_loss\n",
        "    return total_loss\n",
        "\n",
        "def generator_loss(fake_output):\n",
        "    return cross_entropy(tf.ones_like(fake_output), fake_output)\n",
        "\n",
        "generator_optimizer = tf.keras.optimizers.Adam(1e-4)\n",
        "discriminator_optimizer = tf.keras.optimizers.Adam(1e-4)"
      ],
      "metadata": {
        "id": "0OXmLwjw5owL"
      },
      "execution_count": 21,
      "outputs": []
    },
    {
      "cell_type": "code",
      "source": [
        "# this is for saving checkpoints since there will be quite a few epochs \n",
        "checkpoint_dir = 'drive/MyDrive/LostPoets/training_checkpoints'\n",
        "checkpoint_prefix = os.path.join(checkpoint_dir, \"ckpt\")\n",
        "checkpoint = tf.train.Checkpoint(generator_optimizer=generator_optimizer,\n",
        "                                 discriminator_optimizer=discriminator_optimizer,\n",
        "                                 generator=generator,\n",
        "                                 discriminator=discriminator)"
      ],
      "metadata": {
        "id": "Vgqn0aGQ5osw"
      },
      "execution_count": null,
      "outputs": []
    },
    {
      "cell_type": "markdown",
      "source": [
        "## Training "
      ],
      "metadata": {
        "id": "2zY_3pRONUtD"
      }
    },
    {
      "cell_type": "code",
      "source": [
        "num_examples_to_generate = 24\n",
        "noise_dim = 10000\n",
        "seed = tf.random.normal([num_examples_to_generate, noise_dim])"
      ],
      "metadata": {
        "id": "Mk4sL8a35opt"
      },
      "execution_count": null,
      "outputs": []
    },
    {
      "cell_type": "code",
      "source": [
        "@tf.function\n",
        "def train_step(images):\n",
        "  \n",
        "    noise = tf.random.normal([BATCH_SIZE, noise_dim])\n",
        "    \n",
        "    with tf.GradientTape() as gen_tape, tf.GradientTape() as disc_tape:\n",
        "      generated_images = generator(noise, training=True)\n",
        "\n",
        "      real_output = discriminator(images, training=True)\n",
        "      fake_output = discriminator(generated_images, training=True)\n",
        "\n",
        "      gen_loss = generator_loss(fake_output)\n",
        "      disc_loss = discriminator_loss(real_output, fake_output)\n",
        "\n",
        "\n",
        "    gradients_of_generator = gen_tape.gradient(gen_loss, \n",
        "                                               generator.trainable_variables)\n",
        "    gradients_of_discriminator = disc_tape.gradient(disc_loss, \n",
        "                                                discriminator.trainable_variables)\n",
        "    \n",
        "    generator_optimizer.apply_gradients(zip(gradients_of_generator, generator.trainable_variables))\n",
        "    discriminator_optimizer.apply_gradients(zip(gradients_of_discriminator, discriminator.trainable_variables))\n"
      ],
      "metadata": {
        "id": "z3Dq1Ij-2lbb"
      },
      "execution_count": null,
      "outputs": []
    },
    {
      "cell_type": "code",
      "source": [
        "EPOCHS = 1000000"
      ],
      "metadata": {
        "id": "mSwgeA4i7z8w"
      },
      "execution_count": null,
      "outputs": []
    },
    {
      "cell_type": "code",
      "source": [
        "def train(dataset, epochs):\n",
        "\n",
        "  for epoch in range(epochs):\n",
        "    \n",
        "    for image_batch in dataset:\n",
        "      train_step(image_batch)\n",
        "\n",
        "    if (epoch +1) % 10000 ==0: \n",
        "      start = time.time()\n",
        "      generate_and_save_images(generator, \n",
        "                               epoch+1, \n",
        "                               seed)\n",
        "      print('Time for epoch {} is {} sec'.format(epoch + 1, time.time()-start))\n",
        "\n",
        "      # checkpoint.save(file_prefix = checkpoint_prefix)\n",
        "      \n",
        "      \n",
        "  generate_and_save_images(generator,\n",
        "                           epochs,\n",
        "                           seed)\n"
      ],
      "metadata": {
        "id": "xu3a5cJF8JQ9"
      },
      "execution_count": null,
      "outputs": []
    },
    {
      "cell_type": "code",
      "source": [
        "def generate_and_save_images(model, epoch, test_input):\n",
        "\n",
        "  predictions = model(test_input, training=False)\n",
        "  \n",
        "  images_dir = \"drive/MyDrive/LostPoets/generated_images_abc\"\n",
        "  \n",
        "  for i in range(predictions.shape[0]):\n",
        "      plt.imshow(predictions[i, :, :, 0] * 127.5 + 127.5, cmap='gray')\n",
        "      plt.axis('off')\n",
        "      plt.savefig(f'{images_dir}/{i}.png', dpi = 200)\n"
      ],
      "metadata": {
        "id": "oKGcaTSljvL4"
      },
      "execution_count": null,
      "outputs": []
    },
    {
      "cell_type": "code",
      "source": [
        "train(train_dataset, EPOCHS)"
      ],
      "metadata": {
        "id": "9FxkJcX6XONt",
        "colab": {
          "base_uri": "https://localhost:8080/"
        },
        "outputId": "bafa52c0-ec6a-4768-e53c-4dd85cc84d87"
      },
      "execution_count": null,
      "outputs": [
        {
          "output_type": "stream",
          "name": "stdout",
          "text": [
            "Time for epoch 10000 is 9.82117247581482 sec\n",
            "Time for epoch 20000 is 19.82572293281555 sec\n",
            "Time for epoch 30000 is 35.043621301651 sec\n",
            "Time for epoch 40000 is 47.76874876022339 sec\n",
            "Time for epoch 50000 is 59.50942873954773 sec\n",
            "Time for epoch 60000 is 72.79707050323486 sec\n",
            "Time for epoch 70000 is 89.09254336357117 sec\n",
            "Time for epoch 80000 is 88.24789547920227 sec\n",
            "Time for epoch 90000 is 98.116943359375 sec\n",
            "Time for epoch 100000 is 109.62735748291016 sec\n",
            "Time for epoch 110000 is 134.8569097518921 sec\n",
            "Time for epoch 120000 is 147.5819594860077 sec\n",
            "Time for epoch 130000 is 162.15283012390137 sec\n",
            "Time for epoch 140000 is 180.89732241630554 sec\n",
            "Time for epoch 150000 is 193.94235253334045 sec\n",
            "Time for epoch 160000 is 202.99684834480286 sec\n",
            "Time for epoch 170000 is 177.44988179206848 sec\n",
            "Time for epoch 180000 is 193.65848183631897 sec\n",
            "Time for epoch 190000 is 206.0128321647644 sec\n",
            "Time for epoch 200000 is 208.7032253742218 sec\n",
            "Time for epoch 210000 is 220.47586727142334 sec\n",
            "Time for epoch 220000 is 229.58279657363892 sec\n",
            "Time for epoch 230000 is 253.00633478164673 sec\n",
            "Time for epoch 240000 is 271.3346314430237 sec\n",
            "Time for epoch 250000 is 308.1279618740082 sec\n",
            "Time for epoch 260000 is 325.22304821014404 sec\n",
            "Time for epoch 270000 is 339.5024800300598 sec\n",
            "Time for epoch 280000 is 352.3096835613251 sec\n",
            "Time for epoch 290000 is 350.32137799263 sec\n",
            "Time for epoch 300000 is 377.60914182662964 sec\n",
            "Time for epoch 310000 is 337.2112412452698 sec\n",
            "Time for epoch 320000 is 361.48440742492676 sec\n",
            "Time for epoch 330000 is 414.3000900745392 sec\n",
            "Time for epoch 340000 is 427.39358282089233 sec\n",
            "Time for epoch 350000 is 365.5341033935547 sec\n",
            "Time for epoch 360000 is 392.31337118148804 sec\n",
            "Time for epoch 370000 is 448.42327189445496 sec\n",
            "Time for epoch 380000 is 475.0327744483948 sec\n",
            "Time for epoch 390000 is 488.39628410339355 sec\n",
            "Time for epoch 400000 is 487.68127274513245 sec\n",
            "Time for epoch 410000 is 526.0051295757294 sec\n",
            "Time for epoch 420000 is 543.7019777297974 sec\n",
            "Time for epoch 430000 is 551.3033699989319 sec\n",
            "Time for epoch 440000 is 460.75308418273926 sec\n",
            "Time for epoch 450000 is 497.4631042480469 sec\n",
            "Time for epoch 460000 is 541.1893579959869 sec\n",
            "Time for epoch 470000 is 584.2207317352295 sec\n",
            "Time for epoch 480000 is 610.5743067264557 sec\n",
            "Time for epoch 490000 is 611.2417047023773 sec\n",
            "Time for epoch 500000 is 613.1482982635498 sec\n",
            "Time for epoch 510000 is 625.2218906879425 sec\n",
            "Time for epoch 520000 is 564.5478177070618 sec\n"
          ]
        }
      ]
    }
  ]
}